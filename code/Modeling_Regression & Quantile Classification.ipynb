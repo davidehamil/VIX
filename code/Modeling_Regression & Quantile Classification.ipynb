{
 "cells": [
  {
   "cell_type": "code",
   "execution_count": 111,
   "metadata": {},
   "outputs": [],
   "source": [
    "import pickle\n",
    "import os\n",
    "import time\n",
    "\n",
    "import numpy as np\n",
    "import pandas as pd\n",
    "from datetime import datetime\n",
    "import matplotlib.pyplot as plt\n",
    "from statsmodels.tsa.arima_model import ARIMA\n",
    "from statsmodels.tsa.stattools import pacf, acf\n",
    "from statsmodels.stats.diagnostic import acorr_ljungbox\n",
    "from pandas.plotting import autocorrelation_plot\n",
    "from sklearn.metrics import r2_score, confusion_matrix\n",
    "from sklearn import linear_model\n",
    "from sklearn.model_selection import train_test_split, GridSearchCV, StratifiedKFold, cross_val_score\n",
    "from sklearn.preprocessing import StandardScaler\n",
    "from sklearn.neighbors import KNeighborsClassifier\n",
    "from sklearn.ensemble import RandomForestRegressor, GradientBoostingRegressor\n",
    "from sklearn.ensemble import RandomForestClassifier, AdaBoostClassifier, GradientBoostingClassifier\n",
    "from mlxtend.classifier import StackingClassifier, EnsembleVoteClassifier\n",
    "\n",
    "\n",
    "%matplotlib inline"
   ]
  },
  {
   "cell_type": "code",
   "execution_count": 112,
   "metadata": {},
   "outputs": [],
   "source": [
    "master = pd.read_pickle(os.getcwd() + r'\\Data\\Intraday\\Pickle\\master.pkl')"
   ]
  },
  {
   "cell_type": "code",
   "execution_count": 113,
   "metadata": {},
   "outputs": [
    {
     "data": {
      "text/html": [
       "<div>\n",
       "<style scoped>\n",
       "    .dataframe tbody tr th:only-of-type {\n",
       "        vertical-align: middle;\n",
       "    }\n",
       "\n",
       "    .dataframe tbody tr th {\n",
       "        vertical-align: top;\n",
       "    }\n",
       "\n",
       "    .dataframe thead th {\n",
       "        text-align: right;\n",
       "    }\n",
       "</style>\n",
       "<table border=\"1\" class=\"dataframe\">\n",
       "  <thead>\n",
       "    <tr style=\"text-align: right;\">\n",
       "      <th></th>\n",
       "      <th>SPX_k1</th>\n",
       "      <th>SPX_k2</th>\n",
       "      <th>SPX_ImpVol1</th>\n",
       "      <th>SPX_ImpVol2</th>\n",
       "      <th>DaysTo_VX1_Expiry</th>\n",
       "      <th>DaysTo_VX2_Expiry</th>\n",
       "      <th>VX1_Future</th>\n",
       "      <th>OPT</th>\n",
       "      <th>VX1-OPT_Spread</th>\n",
       "      <th>VIX_ImpVol</th>\n",
       "      <th>SPX_Index(fwd)</th>\n",
       "    </tr>\n",
       "  </thead>\n",
       "  <tbody>\n",
       "    <tr>\n",
       "      <th>2015-01-02 09:40:00</th>\n",
       "      <td>2070.0</td>\n",
       "      <td>2070.0</td>\n",
       "      <td>0.1326</td>\n",
       "      <td>0.1370</td>\n",
       "      <td>11.9931</td>\n",
       "      <td>32.9931</td>\n",
       "      <td>17.175</td>\n",
       "      <td>13.9409</td>\n",
       "      <td>3.2341</td>\n",
       "      <td>1.1445</td>\n",
       "      <td>2072.15</td>\n",
       "    </tr>\n",
       "    <tr>\n",
       "      <th>2015-01-02 09:50:00</th>\n",
       "      <td>2070.0</td>\n",
       "      <td>2070.0</td>\n",
       "      <td>0.1325</td>\n",
       "      <td>0.1362</td>\n",
       "      <td>11.9861</td>\n",
       "      <td>32.9861</td>\n",
       "      <td>17.275</td>\n",
       "      <td>13.8315</td>\n",
       "      <td>3.4435</td>\n",
       "      <td>1.1405</td>\n",
       "      <td>2068.86</td>\n",
       "    </tr>\n",
       "    <tr>\n",
       "      <th>2015-01-02 10:00:00</th>\n",
       "      <td>2070.0</td>\n",
       "      <td>2065.0</td>\n",
       "      <td>0.1343</td>\n",
       "      <td>0.1386</td>\n",
       "      <td>11.9792</td>\n",
       "      <td>32.9792</td>\n",
       "      <td>17.375</td>\n",
       "      <td>14.0993</td>\n",
       "      <td>3.2757</td>\n",
       "      <td>1.1428</td>\n",
       "      <td>2068.50</td>\n",
       "    </tr>\n",
       "    <tr>\n",
       "      <th>2015-01-02 10:10:00</th>\n",
       "      <td>2065.0</td>\n",
       "      <td>2060.0</td>\n",
       "      <td>0.1397</td>\n",
       "      <td>0.1440</td>\n",
       "      <td>11.9722</td>\n",
       "      <td>32.9722</td>\n",
       "      <td>17.725</td>\n",
       "      <td>14.6378</td>\n",
       "      <td>3.0872</td>\n",
       "      <td>1.1837</td>\n",
       "      <td>2063.32</td>\n",
       "    </tr>\n",
       "    <tr>\n",
       "      <th>2015-01-02 10:20:00</th>\n",
       "      <td>2065.0</td>\n",
       "      <td>2060.0</td>\n",
       "      <td>0.1407</td>\n",
       "      <td>0.1449</td>\n",
       "      <td>11.9653</td>\n",
       "      <td>32.9653</td>\n",
       "      <td>17.725</td>\n",
       "      <td>14.7280</td>\n",
       "      <td>2.9970</td>\n",
       "      <td>1.1836</td>\n",
       "      <td>2063.04</td>\n",
       "    </tr>\n",
       "  </tbody>\n",
       "</table>\n",
       "</div>"
      ],
      "text/plain": [
       "                     SPX_k1  SPX_k2  SPX_ImpVol1  SPX_ImpVol2  \\\n",
       "2015-01-02 09:40:00  2070.0  2070.0       0.1326       0.1370   \n",
       "2015-01-02 09:50:00  2070.0  2070.0       0.1325       0.1362   \n",
       "2015-01-02 10:00:00  2070.0  2065.0       0.1343       0.1386   \n",
       "2015-01-02 10:10:00  2065.0  2060.0       0.1397       0.1440   \n",
       "2015-01-02 10:20:00  2065.0  2060.0       0.1407       0.1449   \n",
       "\n",
       "                     DaysTo_VX1_Expiry  DaysTo_VX2_Expiry  VX1_Future  \\\n",
       "2015-01-02 09:40:00            11.9931            32.9931      17.175   \n",
       "2015-01-02 09:50:00            11.9861            32.9861      17.275   \n",
       "2015-01-02 10:00:00            11.9792            32.9792      17.375   \n",
       "2015-01-02 10:10:00            11.9722            32.9722      17.725   \n",
       "2015-01-02 10:20:00            11.9653            32.9653      17.725   \n",
       "\n",
       "                         OPT  VX1-OPT_Spread  VIX_ImpVol  SPX_Index(fwd)  \n",
       "2015-01-02 09:40:00  13.9409          3.2341      1.1445         2072.15  \n",
       "2015-01-02 09:50:00  13.8315          3.4435      1.1405         2068.86  \n",
       "2015-01-02 10:00:00  14.0993          3.2757      1.1428         2068.50  \n",
       "2015-01-02 10:10:00  14.6378          3.0872      1.1837         2063.32  \n",
       "2015-01-02 10:20:00  14.7280          2.9970      1.1836         2063.04  "
      ]
     },
     "execution_count": 113,
     "metadata": {},
     "output_type": "execute_result"
    }
   ],
   "source": [
    "master.head()"
   ]
  },
  {
   "cell_type": "code",
   "execution_count": 114,
   "metadata": {},
   "outputs": [
    {
     "data": {
      "text/plain": [
       "<matplotlib.axes._subplots.AxesSubplot at 0x1a7e392b0f0>"
      ]
     },
     "execution_count": 114,
     "metadata": {},
     "output_type": "execute_result"
    },
    {
     "data": {
      "image/png": "[encoded data removed]",
      "text/plain": [
       "<matplotlib.figure.Figure at 0x1a7e3922630>"
      ]
     },
     "metadata": {},
     "output_type": "display_data"
    }
   ],
   "source": [
    "#master.corr().iloc[:,6].plot(kind='bar')\n",
    "master.iloc[:,6:15].corr().iloc[:,0].plot(kind='bar')"
   ]
  },
  {
   "cell_type": "markdown",
   "metadata": {},
   "source": [
    "#### Take log returns for every feature EXCEPT $VX1-OPT$ Spread "
   ]
  },
  {
   "cell_type": "code",
   "execution_count": 116,
   "metadata": {},
   "outputs": [],
   "source": [
    "master[['Ratio', 'OPT_Ratio','VIX_ImpVol_Ratio', 'SPX_Index(fwd)_Ratio']] = \\\n",
    "        np.log(master[['VX1_Future', 'OPT','VIX_ImpVol', 'SPX_Index(fwd)']]/ \\\n",
    "               master[['VX1_Future', 'OPT','VIX_ImpVol', 'SPX_Index(fwd)']].shift(1))\n",
    "master.dropna(inplace=True)"
   ]
  },
  {
   "cell_type": "code",
   "execution_count": 117,
   "metadata": {},
   "outputs": [
    {
     "data": {
      "text/plain": [
       "<matplotlib.axes._subplots.AxesSubplot at 0x1a7e393cb00>"
      ]
     },
     "execution_count": 117,
     "metadata": {},
     "output_type": "execute_result"
    },
    {
     "data": {
      "image/png": "[encoded data removed]",
      "text/plain": [
       "<matplotlib.figure.Figure at 0x1a7e3976668>"
      ]
     },
     "metadata": {},
     "output_type": "display_data"
    }
   ],
   "source": [
    "master.corr().loc[:,'Ratio'].plot(kind='bar')"
   ]
  },
  {
   "cell_type": "code",
   "execution_count": 118,
   "metadata": {},
   "outputs": [
    {
     "data": {
      "text/plain": [
       "(20249, 15)"
      ]
     },
     "execution_count": 118,
     "metadata": {},
     "output_type": "execute_result"
    }
   ],
   "source": [
    "master.shape"
   ]
  },
  {
   "cell_type": "markdown",
   "metadata": {},
   "source": [
    "### Regression"
   ]
  },
  {
   "cell_type": "markdown",
   "metadata": {},
   "source": [
    "#### Divide dataset into 75/25 (%) Train/Test Split, Scale features for zero mean & unit variance"
   ]
  },
  {
   "cell_type": "code",
   "execution_count": 119,
   "metadata": {},
   "outputs": [
    {
     "name": "stdout",
     "output_type": "stream",
     "text": [
      "(15186, 15)\n",
      "(5063, 15)\n"
     ]
    }
   ],
   "source": [
    "nTrain = int(.75*master.shape[0])\n",
    "train, test = master[0:nTrain], master[nTrain:master.shape[0]]\n",
    "\n",
    "train.is_copy = False\n",
    "test.is_copy = False\n",
    "\n",
    "print(train.shape)\n",
    "print(test.shape)\n",
    "\n",
    "columns = ['Ratio', 'OPT_Ratio', 'VX1-OPT_Spread','VIX_ImpVol_Ratio', 'SPX_Index(fwd)_Ratio']\n",
    "\n",
    "feature_cols = list(set(columns))\n",
    "\n",
    "for col in feature_cols:    \n",
    "    scl = StandardScaler()\n",
    "    train[col] = scl.fit_transform(train[col].as_matrix().reshape(-1,1))\n",
    "    test[col] = scl.transform(test[col].as_matrix().reshape(-1,1))"
   ]
  },
  {
   "cell_type": "code",
   "execution_count": 120,
   "metadata": {},
   "outputs": [
    {
     "data": {
      "text/html": [
       "<div>\n",
       "<style scoped>\n",
       "    .dataframe tbody tr th:only-of-type {\n",
       "        vertical-align: middle;\n",
       "    }\n",
       "\n",
       "    .dataframe tbody tr th {\n",
       "        vertical-align: top;\n",
       "    }\n",
       "\n",
       "    .dataframe thead th {\n",
       "        text-align: right;\n",
       "    }\n",
       "</style>\n",
       "<table border=\"1\" class=\"dataframe\">\n",
       "  <thead>\n",
       "    <tr style=\"text-align: right;\">\n",
       "      <th></th>\n",
       "      <th>SPX_k1</th>\n",
       "      <th>SPX_k2</th>\n",
       "      <th>SPX_ImpVol1</th>\n",
       "      <th>SPX_ImpVol2</th>\n",
       "      <th>DaysTo_VX1_Expiry</th>\n",
       "      <th>DaysTo_VX2_Expiry</th>\n",
       "      <th>VX1_Future</th>\n",
       "      <th>OPT</th>\n",
       "      <th>VX1-OPT_Spread</th>\n",
       "      <th>VIX_ImpVol</th>\n",
       "      <th>SPX_Index(fwd)</th>\n",
       "      <th>Ratio</th>\n",
       "      <th>OPT_Ratio</th>\n",
       "      <th>VIX_ImpVol_Ratio</th>\n",
       "      <th>SPX_Index(fwd)_Ratio</th>\n",
       "    </tr>\n",
       "  </thead>\n",
       "  <tbody>\n",
       "    <tr>\n",
       "      <th>2016-07-07 13:10:00</th>\n",
       "      <td>2095.0</td>\n",
       "      <td>2090.0</td>\n",
       "      <td>0.1247</td>\n",
       "      <td>0.1332</td>\n",
       "      <td>8.8472</td>\n",
       "      <td>30.8472</td>\n",
       "      <td>16.650</td>\n",
       "      <td>13.6492</td>\n",
       "      <td>0.441010</td>\n",
       "      <td>0.9451</td>\n",
       "      <td>2093.79</td>\n",
       "      <td>0.166924</td>\n",
       "      <td>0.181305</td>\n",
       "      <td>0.328082</td>\n",
       "      <td>-0.013583</td>\n",
       "    </tr>\n",
       "    <tr>\n",
       "      <th>2016-07-07 13:20:00</th>\n",
       "      <td>2095.0</td>\n",
       "      <td>2090.0</td>\n",
       "      <td>0.1247</td>\n",
       "      <td>0.1330</td>\n",
       "      <td>8.8403</td>\n",
       "      <td>30.8403</td>\n",
       "      <td>16.575</td>\n",
       "      <td>13.6150</td>\n",
       "      <td>0.382797</td>\n",
       "      <td>0.9552</td>\n",
       "      <td>2094.69</td>\n",
       "      <td>-0.500575</td>\n",
       "      <td>-0.162103</td>\n",
       "      <td>0.462253</td>\n",
       "      <td>0.294499</td>\n",
       "    </tr>\n",
       "    <tr>\n",
       "      <th>2016-07-07 13:30:00</th>\n",
       "      <td>2095.0</td>\n",
       "      <td>2095.0</td>\n",
       "      <td>0.1239</td>\n",
       "      <td>0.1301</td>\n",
       "      <td>8.8333</td>\n",
       "      <td>30.8333</td>\n",
       "      <td>16.625</td>\n",
       "      <td>13.2552</td>\n",
       "      <td>0.967492</td>\n",
       "      <td>0.9556</td>\n",
       "      <td>2095.67</td>\n",
       "      <td>0.334364</td>\n",
       "      <td>-1.731500</td>\n",
       "      <td>0.018753</td>\n",
       "      <td>0.320574</td>\n",
       "    </tr>\n",
       "    <tr>\n",
       "      <th>2016-07-07 13:40:00</th>\n",
       "      <td>2095.0</td>\n",
       "      <td>2095.0</td>\n",
       "      <td>0.1235</td>\n",
       "      <td>0.1298</td>\n",
       "      <td>8.8264</td>\n",
       "      <td>30.8264</td>\n",
       "      <td>16.525</td>\n",
       "      <td>13.2202</td>\n",
       "      <td>0.874751</td>\n",
       "      <td>0.9449</td>\n",
       "      <td>2096.43</td>\n",
       "      <td>-0.669024</td>\n",
       "      <td>-0.170843</td>\n",
       "      <td>-0.488490</td>\n",
       "      <td>0.248400</td>\n",
       "    </tr>\n",
       "    <tr>\n",
       "      <th>2016-07-07 13:50:00</th>\n",
       "      <td>2095.0</td>\n",
       "      <td>2090.0</td>\n",
       "      <td>0.1240</td>\n",
       "      <td>0.1324</td>\n",
       "      <td>8.8194</td>\n",
       "      <td>30.8194</td>\n",
       "      <td>16.575</td>\n",
       "      <td>13.5602</td>\n",
       "      <td>0.460984</td>\n",
       "      <td>0.9519</td>\n",
       "      <td>2094.54</td>\n",
       "      <td>0.335374</td>\n",
       "      <td>1.641889</td>\n",
       "      <td>0.321137</td>\n",
       "      <td>-0.619538</td>\n",
       "    </tr>\n",
       "  </tbody>\n",
       "</table>\n",
       "</div>"
      ],
      "text/plain": [
       "                     SPX_k1  SPX_k2  SPX_ImpVol1  SPX_ImpVol2  \\\n",
       "2016-07-07 13:10:00  2095.0  2090.0       0.1247       0.1332   \n",
       "2016-07-07 13:20:00  2095.0  2090.0       0.1247       0.1330   \n",
       "2016-07-07 13:30:00  2095.0  2095.0       0.1239       0.1301   \n",
       "2016-07-07 13:40:00  2095.0  2095.0       0.1235       0.1298   \n",
       "2016-07-07 13:50:00  2095.0  2090.0       0.1240       0.1324   \n",
       "\n",
       "                     DaysTo_VX1_Expiry  DaysTo_VX2_Expiry  VX1_Future  \\\n",
       "2016-07-07 13:10:00             8.8472            30.8472      16.650   \n",
       "2016-07-07 13:20:00             8.8403            30.8403      16.575   \n",
       "2016-07-07 13:30:00             8.8333            30.8333      16.625   \n",
       "2016-07-07 13:40:00             8.8264            30.8264      16.525   \n",
       "2016-07-07 13:50:00             8.8194            30.8194      16.575   \n",
       "\n",
       "                         OPT  VX1-OPT_Spread  VIX_ImpVol  SPX_Index(fwd)  \\\n",
       "2016-07-07 13:10:00  13.6492        0.441010      0.9451         2093.79   \n",
       "2016-07-07 13:20:00  13.6150        0.382797      0.9552         2094.69   \n",
       "2016-07-07 13:30:00  13.2552        0.967492      0.9556         2095.67   \n",
       "2016-07-07 13:40:00  13.2202        0.874751      0.9449         2096.43   \n",
       "2016-07-07 13:50:00  13.5602        0.460984      0.9519         2094.54   \n",
       "\n",
       "                        Ratio  OPT_Ratio  VIX_ImpVol_Ratio  \\\n",
       "2016-07-07 13:10:00  0.166924   0.181305          0.328082   \n",
       "2016-07-07 13:20:00 -0.500575  -0.162103          0.462253   \n",
       "2016-07-07 13:30:00  0.334364  -1.731500          0.018753   \n",
       "2016-07-07 13:40:00 -0.669024  -0.170843         -0.488490   \n",
       "2016-07-07 13:50:00  0.335374   1.641889          0.321137   \n",
       "\n",
       "                     SPX_Index(fwd)_Ratio  \n",
       "2016-07-07 13:10:00             -0.013583  \n",
       "2016-07-07 13:20:00              0.294499  \n",
       "2016-07-07 13:30:00              0.320574  \n",
       "2016-07-07 13:40:00              0.248400  \n",
       "2016-07-07 13:50:00             -0.619538  "
      ]
     },
     "execution_count": 120,
     "metadata": {},
     "output_type": "execute_result"
    }
   ],
   "source": [
    "test.head()"
   ]
  },
  {
   "cell_type": "markdown",
   "metadata": {},
   "source": [
    "#### Define x, y variables for Train & Test sets"
   ]
  },
  {
   "cell_type": "code",
   "execution_count": 121,
   "metadata": {},
   "outputs": [
    {
     "name": "stdout",
     "output_type": "stream",
     "text": [
      "x_train:  (15176, 50)\n",
      "x_test:  (5053, 50)\n"
     ]
    }
   ],
   "source": [
    "nlags = 10\n",
    "\n",
    "# CALCULATE TRAINING SET\n",
    "y_train = train.loc[:,'Ratio'].values[nlags:]\n",
    "x_train = train.loc[:,['Ratio','OPT_Ratio', 'VX1-OPT_Spread','VIX_ImpVol_Ratio',\\\n",
    "                              'SPX_Index(fwd)_Ratio']].shift(1).values[nlags:]\n",
    "for i in range(2,nlags+1):\n",
    "    lagged_train = train.loc[:,['Ratio', 'OPT_Ratio', 'VX1-OPT_Spread','VIX_ImpVol_Ratio',\\\n",
    "                           'SPX_Index(fwd)_Ratio']].shift(i).values[nlags:]\n",
    "    x_train = np.concatenate((x_train, lagged_train), axis=1)\n",
    "\n",
    "print('x_train: ',x_train.shape)\n",
    "\n",
    "# CALCULATE TEST SET\n",
    "y_test = test.loc[:,'Ratio'].values[nlags:]\n",
    "x_test = test.loc[:,['Ratio','OPT_Ratio', 'VX1-OPT_Spread','VIX_ImpVol_Ratio',\\\n",
    "                              'SPX_Index(fwd)_Ratio']].shift(1).values[nlags:]\n",
    "for i in range(2,nlags+1):\n",
    "    lagged_test = test.loc[:,['Ratio', 'OPT_Ratio', 'VX1-OPT_Spread','VIX_ImpVol_Ratio',\\\n",
    "                           'SPX_Index(fwd)_Ratio']].shift(i).values[nlags:]\n",
    "    x_test = np.concatenate((x_test, lagged_test), axis=1)\n",
    "\n",
    "print('x_test: ',x_test.shape)"
   ]
  },
  {
   "cell_type": "code",
   "execution_count": 122,
   "metadata": {},
   "outputs": [
    {
     "data": {
      "text/plain": [
       "LinearRegression(copy_X=True, fit_intercept=True, n_jobs=1, normalize=False)"
      ]
     },
     "execution_count": 122,
     "metadata": {},
     "output_type": "execute_result"
    }
   ],
   "source": [
    "lr = linear_model.LinearRegression()\n",
    "lr.fit(x_train,y_train)"
   ]
  },
  {
   "cell_type": "code",
   "execution_count": 123,
   "metadata": {},
   "outputs": [
    {
     "name": "stdout",
     "output_type": "stream",
     "text": [
      "-0.00927613809245\n"
     ]
    }
   ],
   "source": [
    "r1 = lr.score(x_test, y_test)\n",
    "print(r1)"
   ]
  },
  {
   "cell_type": "markdown",
   "metadata": {},
   "source": [
    "#### Random Forest"
   ]
  },
  {
   "cell_type": "code",
   "execution_count": 128,
   "metadata": {},
   "outputs": [
    {
     "data": {
      "text/plain": [
       "RandomForestRegressor(bootstrap=True, criterion='mse', max_depth=5,\n",
       "           max_features='auto', max_leaf_nodes=None,\n",
       "           min_impurity_decrease=0.0, min_impurity_split=None,\n",
       "           min_samples_leaf=1, min_samples_split=2,\n",
       "           min_weight_fraction_leaf=0.0, n_estimators=200, n_jobs=-1,\n",
       "           oob_score=False, random_state=1, verbose=0, warm_start=False)"
      ]
     },
     "execution_count": 128,
     "metadata": {},
     "output_type": "execute_result"
    }
   ],
   "source": [
    "rf_reg = RandomForestRegressor(n_estimators=200, max_depth=5, n_jobs=-1, random_state=1)\n",
    "rf_reg.fit(x_train,y_train)"
   ]
  },
  {
   "cell_type": "code",
   "execution_count": 129,
   "metadata": {},
   "outputs": [
    {
     "name": "stdout",
     "output_type": "stream",
     "text": [
      "0.00447850260808\n"
     ]
    }
   ],
   "source": [
    "r2 = rf_reg.score(x_test,y_test)\n",
    "print(r2)"
   ]
  },
  {
   "cell_type": "markdown",
   "metadata": {},
   "source": [
    "#### Gradient Boosting"
   ]
  },
  {
   "cell_type": "code",
   "execution_count": 126,
   "metadata": {},
   "outputs": [
    {
     "data": {
      "text/plain": [
       "GradientBoostingRegressor(alpha=0.9, criterion='friedman_mse', init=None,\n",
       "             learning_rate=0.05, loss='ls', max_depth=3, max_features=None,\n",
       "             max_leaf_nodes=None, min_impurity_decrease=0.0,\n",
       "             min_impurity_split=None, min_samples_leaf=1,\n",
       "             min_samples_split=2, min_weight_fraction_leaf=0.0,\n",
       "             n_estimators=200, presort='auto', random_state=None,\n",
       "             subsample=0.5, verbose=0, warm_start=False)"
      ]
     },
     "execution_count": 126,
     "metadata": {},
     "output_type": "execute_result"
    }
   ],
   "source": [
    "gb_reg = GradientBoostingRegressor(learning_rate=0.05, subsample=0.5, max_depth=3, n_estimators=200)\n",
    "gb_reg.fit(x_train,y_train)"
   ]
  },
  {
   "cell_type": "code",
   "execution_count": 127,
   "metadata": {},
   "outputs": [
    {
     "name": "stdout",
     "output_type": "stream",
     "text": [
      "0.0237727429274\n"
     ]
    }
   ],
   "source": [
    "r3 = gb_reg.score(x_test,y_test)\n",
    "print(r3)"
   ]
  },
  {
   "cell_type": "code",
   "execution_count": 130,
   "metadata": {},
   "outputs": [
    {
     "data": {
      "text/html": [
       "<div>\n",
       "<style scoped>\n",
       "    .dataframe tbody tr th:only-of-type {\n",
       "        vertical-align: middle;\n",
       "    }\n",
       "\n",
       "    .dataframe tbody tr th {\n",
       "        vertical-align: top;\n",
       "    }\n",
       "\n",
       "    .dataframe thead th {\n",
       "        text-align: right;\n",
       "    }\n",
       "</style>\n",
       "<table border=\"1\" class=\"dataframe\">\n",
       "  <thead>\n",
       "    <tr style=\"text-align: right;\">\n",
       "      <th></th>\n",
       "      <th>Linear Regression</th>\n",
       "      <th>Random Forest</th>\n",
       "      <th>Gradient Boosting</th>\n",
       "    </tr>\n",
       "  </thead>\n",
       "  <tbody>\n",
       "    <tr>\n",
       "      <th>0</th>\n",
       "      <td>-0.009276</td>\n",
       "      <td>0.004479</td>\n",
       "      <td>0.023773</td>\n",
       "    </tr>\n",
       "  </tbody>\n",
       "</table>\n",
       "</div>"
      ],
      "text/plain": [
       "   Linear Regression  Random Forest  Gradient Boosting\n",
       "0          -0.009276       0.004479           0.023773"
      ]
     },
     "execution_count": 130,
     "metadata": {},
     "output_type": "execute_result"
    }
   ],
   "source": [
    "d = {'Linear Regression': [r1], 'Random Forest': [r2], 'Gradient Boosting': [r3]}\n",
    "regress = pd.DataFrame(data=d, columns=['Linear Regression', 'Random Forest', 'Gradient Boosting']) \n",
    "regress"
   ]
  },
  {
   "cell_type": "markdown",
   "metadata": {},
   "source": [
    "### Quartile Classification"
   ]
  },
  {
   "cell_type": "code",
   "execution_count": 131,
   "metadata": {},
   "outputs": [
    {
     "data": {
      "text/plain": [
       "[-16.181530948174878,\n",
       " -0.3695287618184102,\n",
       " 0.00023774935829143294,\n",
       " 0.3580762875300375,\n",
       " 28.696159238409937]"
      ]
     },
     "execution_count": 131,
     "metadata": {},
     "output_type": "execute_result"
    }
   ],
   "source": [
    "bins = master['Ratio'].quantile(np.arange(0,1.1,.25)).values.tolist()\n",
    "bins[0] -= 1\n",
    "bins"
   ]
  },
  {
   "cell_type": "code",
   "execution_count": 132,
   "metadata": {},
   "outputs": [],
   "source": [
    "master['class'] = pd.cut(master['Ratio'], bins=bins, labels=False)"
   ]
  },
  {
   "cell_type": "code",
   "execution_count": 133,
   "metadata": {},
   "outputs": [
    {
     "name": "stdout",
     "output_type": "stream",
     "text": [
      "1    8140\n",
      "0    5065\n",
      "3    5058\n",
      "2    1986\n",
      "Name: class, dtype: int64\n"
     ]
    }
   ],
   "source": [
    "vc = master['class'].value_counts()\n",
    "print(vc)"
   ]
  },
  {
   "cell_type": "code",
   "execution_count": 134,
   "metadata": {},
   "outputs": [
    {
     "data": {
      "text/html": [
       "<div>\n",
       "<style scoped>\n",
       "    .dataframe tbody tr th:only-of-type {\n",
       "        vertical-align: middle;\n",
       "    }\n",
       "\n",
       "    .dataframe tbody tr th {\n",
       "        vertical-align: top;\n",
       "    }\n",
       "\n",
       "    .dataframe thead th {\n",
       "        text-align: right;\n",
       "    }\n",
       "</style>\n",
       "<table border=\"1\" class=\"dataframe\">\n",
       "  <thead>\n",
       "    <tr style=\"text-align: right;\">\n",
       "      <th></th>\n",
       "      <th>(-15.1815, -0.3695)</th>\n",
       "      <th>(-0.3695, 0.0002)</th>\n",
       "      <th>(0.0002, 0.3581)</th>\n",
       "      <th>(0.3581, 28.6962)</th>\n",
       "    </tr>\n",
       "  </thead>\n",
       "  <tbody>\n",
       "    <tr>\n",
       "      <th>0</th>\n",
       "      <td>5065</td>\n",
       "      <td>8140</td>\n",
       "      <td>1986</td>\n",
       "      <td>5058</td>\n",
       "    </tr>\n",
       "  </tbody>\n",
       "</table>\n",
       "</div>"
      ],
      "text/plain": [
       "   (-15.1815, -0.3695)  (-0.3695, 0.0002)  (0.0002, 0.3581)  (0.3581, 28.6962)\n",
       "0                 5065               8140              1986               5058"
      ]
     },
     "execution_count": 134,
     "metadata": {},
     "output_type": "execute_result"
    }
   ],
   "source": [
    "c1 = round(bins[0]+1,4),round(bins[1],4)\n",
    "c2 = round(bins[1],4),round(bins[2],4)\n",
    "c3 = round(bins[2],4),round(bins[3],4)\n",
    "c4 = round(bins[3],4),round(bins[4],4)\n",
    "d2 = {c1: [vc[0]], c2: [vc[1]], c3: [vc[2]], c4: [vc[3]]}\n",
    "#print(c1)\n",
    "quarts = pd.DataFrame(data=d2, columns=[c1, c2, c3, c4])\n",
    "quarts"
   ]
  },
  {
   "cell_type": "markdown",
   "metadata": {},
   "source": [
    "#### Divide dataset into 75/25 (%) Train/Test Split, Scale features for zero mean & unit variance"
   ]
  },
  {
   "cell_type": "code",
   "execution_count": 135,
   "metadata": {},
   "outputs": [
    {
     "name": "stdout",
     "output_type": "stream",
     "text": [
      "(15186, 16)\n",
      "(5063, 16)\n"
     ]
    }
   ],
   "source": [
    "nTrain = int(.75*master.shape[0])\n",
    "train, test = master[0:nTrain], master[nTrain:master.shape[0]]\n",
    "\n",
    "train.is_copy = False\n",
    "test.is_copy = False\n",
    "\n",
    "print(train.shape)\n",
    "print(test.shape)\n",
    "\n",
    "columns = ['Ratio', 'OPT_Ratio', 'VX1-OPT_Spread','VIX_ImpVol_Ratio', 'SPX_Index(fwd)_Ratio']\n",
    "\n",
    "feature_cols = list(set(columns))\n",
    "\n",
    "for col in feature_cols:    \n",
    "    scl = StandardScaler()\n",
    "    train[col] = scl.fit_transform(train[col].as_matrix().reshape(-1,1))\n",
    "    test[col] = scl.transform(test[col].as_matrix().reshape(-1,1))"
   ]
  },
  {
   "cell_type": "markdown",
   "metadata": {},
   "source": [
    "#### Define x, y variables for Train & Test sets"
   ]
  },
  {
   "cell_type": "code",
   "execution_count": 136,
   "metadata": {},
   "outputs": [
    {
     "name": "stdout",
     "output_type": "stream",
     "text": [
      "x_train:  (15176, 50)\n",
      "x_test:  (5053, 50)\n"
     ]
    }
   ],
   "source": [
    "nlags = 10\n",
    "\n",
    "# CALCULATE TRAINING SET\n",
    "y_train = train.loc[:,'class'].values[nlags:]\n",
    "x_train = train.loc[:,['Ratio','OPT_Ratio', 'VX1-OPT_Spread','VIX_ImpVol_Ratio',\\\n",
    "                              'SPX_Index(fwd)_Ratio']].shift(1).values[nlags:]\n",
    "for i in range(2,nlags+1):\n",
    "    lagged_train = train.loc[:,['Ratio', 'OPT_Ratio', 'VX1-OPT_Spread','VIX_ImpVol_Ratio',\\\n",
    "                           'SPX_Index(fwd)_Ratio']].shift(i).values[nlags:]\n",
    "    x_train = np.concatenate((x_train, lagged_train), axis=1)\n",
    "\n",
    "print('x_train: ',x_train.shape)\n",
    "\n",
    "# CALCULATE TEST SET\n",
    "y_test = test.loc[:,'class'].values[nlags:]\n",
    "x_test = test.loc[:,['Ratio','OPT_Ratio', 'VX1-OPT_Spread','VIX_ImpVol_Ratio',\\\n",
    "                              'SPX_Index(fwd)_Ratio']].shift(1).values[nlags:]\n",
    "for i in range(2,nlags+1):\n",
    "    lagged_test = test.loc[:,['Ratio', 'OPT_Ratio', 'VX1-OPT_Spread','VIX_ImpVol_Ratio',\\\n",
    "                           'SPX_Index(fwd)_Ratio']].shift(i).values[nlags:]\n",
    "    x_test = np.concatenate((x_test, lagged_test), axis=1)\n",
    "\n",
    "print('x_test: ',x_test.shape)"
   ]
  },
  {
   "cell_type": "code",
   "execution_count": 137,
   "metadata": {},
   "outputs": [
    {
     "data": {
      "text/plain": [
       "KNeighborsClassifier(algorithm='auto', leaf_size=30, metric='minkowski',\n",
       "           metric_params=None, n_jobs=1, n_neighbors=7, p=2,\n",
       "           weights='uniform')"
      ]
     },
     "execution_count": 137,
     "metadata": {},
     "output_type": "execute_result"
    }
   ],
   "source": [
    "KNN = KNeighborsClassifier(n_neighbors=7)\n",
    "KNN.fit(x_train,y_train)"
   ]
  },
  {
   "cell_type": "code",
   "execution_count": 138,
   "metadata": {},
   "outputs": [
    {
     "data": {
      "text/plain": [
       "KNeighborsClassifier(algorithm='auto', leaf_size=30, metric='minkowski',\n",
       "           metric_params=None, n_jobs=1, n_neighbors=7, p=2,\n",
       "           weights='uniform')"
      ]
     },
     "execution_count": 138,
     "metadata": {},
     "output_type": "execute_result"
    }
   ],
   "source": [
    "KNN = KNeighborsClassifier(n_neighbors=7)\n",
    "KNN.fit(x_train,y_train)"
   ]
  },
  {
   "cell_type": "code",
   "execution_count": 139,
   "metadata": {},
   "outputs": [
    {
     "name": "stdout",
     "output_type": "stream",
     "text": [
      "0.40332475757\n"
     ]
    }
   ],
   "source": [
    "cl1 = KNN.score(x_test, y_test)\n",
    "print(cl1)"
   ]
  },
  {
   "cell_type": "markdown",
   "metadata": {},
   "source": [
    "#### Random Forest"
   ]
  },
  {
   "cell_type": "code",
   "execution_count": 140,
   "metadata": {},
   "outputs": [
    {
     "data": {
      "text/plain": [
       "RandomForestClassifier(bootstrap=True, class_weight=None, criterion='entropy',\n",
       "            max_depth=5, max_features='auto', max_leaf_nodes=None,\n",
       "            min_impurity_decrease=0.0, min_impurity_split=None,\n",
       "            min_samples_leaf=1, min_samples_split=2,\n",
       "            min_weight_fraction_leaf=0.0, n_estimators=200, n_jobs=-1,\n",
       "            oob_score=False, random_state=1, verbose=0, warm_start=False)"
      ]
     },
     "execution_count": 140,
     "metadata": {},
     "output_type": "execute_result"
    }
   ],
   "source": [
    "rfc = RandomForestClassifier(n_estimators=200, max_depth=5, n_jobs=-1, criterion='entropy', random_state=1)\n",
    "rfc.fit(x_train,y_train)"
   ]
  },
  {
   "cell_type": "code",
   "execution_count": 141,
   "metadata": {},
   "outputs": [
    {
     "name": "stdout",
     "output_type": "stream",
     "text": [
      "0.446467445082\n"
     ]
    }
   ],
   "source": [
    "cl2 = rfc.score(x_test,y_test)\n",
    "print(cl2)"
   ]
  },
  {
   "cell_type": "markdown",
   "metadata": {},
   "source": [
    "#### Gradient Boosting Classifier"
   ]
  },
  {
   "cell_type": "code",
   "execution_count": 142,
   "metadata": {},
   "outputs": [
    {
     "data": {
      "text/plain": [
       "GradientBoostingClassifier(criterion='friedman_mse', init=None,\n",
       "              learning_rate=0.05, loss='deviance', max_depth=3,\n",
       "              max_features=None, max_leaf_nodes=None,\n",
       "              min_impurity_decrease=0.0, min_impurity_split=None,\n",
       "              min_samples_leaf=1, min_samples_split=2,\n",
       "              min_weight_fraction_leaf=0.0, n_estimators=200,\n",
       "              presort='auto', random_state=None, subsample=0.5, verbose=0,\n",
       "              warm_start=False)"
      ]
     },
     "execution_count": 142,
     "metadata": {},
     "output_type": "execute_result"
    }
   ],
   "source": [
    "gbc = GradientBoostingClassifier(learning_rate=0.05, subsample=0.5, max_depth=3, n_estimators=200)\n",
    "gbc.fit(x_train,y_train)"
   ]
  },
  {
   "cell_type": "code",
   "execution_count": 143,
   "metadata": {},
   "outputs": [
    {
     "name": "stdout",
     "output_type": "stream",
     "text": [
      "0.460716406095\n"
     ]
    }
   ],
   "source": [
    "cl3 = gbc.score(x_test,y_test)\n",
    "print(cl3)"
   ]
  },
  {
   "cell_type": "markdown",
   "metadata": {},
   "source": [
    "#### Model Stacking ('Wisdom of the Crowd\")"
   ]
  },
  {
   "cell_type": "code",
   "execution_count": 144,
   "metadata": {},
   "outputs": [
    {
     "name": "stdout",
     "output_type": "stream",
     "text": [
      "Accuracy: 0.45 [RandomForest_gini]\n",
      "Accuracy: 0.45 [RandomForest_entropy]\n",
      "Accuracy: 0.45 [AdaBoostClassifier]\n",
      "Accuracy: 0.46 [GradientBoostingClassifier]\n",
      "Accuracy: 0.46 [StackingClassifier]\n"
     ]
    }
   ],
   "source": [
    "# STACK Models\n",
    "clf1 = KNeighborsClassifier(n_neighbors=7)\n",
    "clf2 = RandomForestClassifier(n_estimators=200, max_depth=5, n_jobs=1, criterion='gini', random_state=1)\n",
    "clf3 = RandomForestClassifier(n_estimators=200, max_depth=5, n_jobs=1, criterion='entropy', random_state=1)\n",
    "clf4 = AdaBoostClassifier(n_estimators=200)\n",
    "clf5 = GradientBoostingClassifier(learning_rate=0.05, subsample=0.5, max_depth=3, n_estimators=200)\n",
    "#sclf = StackingClassifier(classifiers=[clf1, clf2, clf3, clf4],\n",
    "sclf = StackingClassifier(classifiers=[clf2, clf3, clf4, clf5],\n",
    "                          use_probas=False,\n",
    "                          average_probas=False,\n",
    "                          meta_classifier=clf4)\n",
    "\n",
    "#for clf, label in zip([clf1, clf2, clf3, clf4, clf5, sclf],\n",
    "for clf, label in zip([clf2, clf3, clf4, clf5, sclf],\n",
    "                      [#'KNN',\n",
    "                       'RandomForest_gini',\n",
    "                       'RandomForest_entropy',\n",
    "                       'AdaBoostClassifier',\n",
    "                       'GradientBoostingClassifier',\n",
    "                       'StackingClassifier']):\n",
    "\n",
    "    print(\"Accuracy: %0.2f [%s]\" % (clf.fit(x_train, y_train).score(x_test, y_test), label))"
   ]
  },
  {
   "cell_type": "code",
   "execution_count": 145,
   "metadata": {},
   "outputs": [
    {
     "data": {
      "text/plain": [
       "0.44765485849990105"
      ]
     },
     "execution_count": 145,
     "metadata": {},
     "output_type": "execute_result"
    }
   ],
   "source": [
    "eclf = EnsembleVoteClassifier(clfs=[clf1, clf2, clf3, clf4], weights=[1, 1, 1, 2], voting='soft')\n",
    "eclf.fit(x_train, y_train).score(x_test, y_test)"
   ]
  },
  {
   "cell_type": "code",
   "execution_count": 146,
   "metadata": {},
   "outputs": [
    {
     "name": "stdout",
     "output_type": "stream",
     "text": [
      "0.460914308332\n"
     ]
    }
   ],
   "source": [
    "sclf = StackingClassifier(classifiers=[clf2, clf3, clf4, clf5],\n",
    "                          use_probas=False,\n",
    "                          average_probas=False,\n",
    "                          meta_classifier=clf4)\n",
    "cl4 = sclf.fit(x_train, y_train).score(x_test, y_test)\n",
    "print(cl4)"
   ]
  },
  {
   "cell_type": "code",
   "execution_count": 147,
   "metadata": {},
   "outputs": [
    {
     "data": {
      "text/plain": [
       "0.45477933900653078"
      ]
     },
     "execution_count": 147,
     "metadata": {},
     "output_type": "execute_result"
    }
   ],
   "source": [
    "eclf = EnsembleVoteClassifier(clfs=[clf2, clf3, clf4, clf5], weights=[1, 1, 1, 2], voting='soft')\n",
    "eclf.fit(x_train, y_train).score(x_test, y_test)"
   ]
  },
  {
   "cell_type": "code",
   "execution_count": 148,
   "metadata": {},
   "outputs": [
    {
     "data": {
      "text/html": [
       "<div>\n",
       "<style scoped>\n",
       "    .dataframe tbody tr th:only-of-type {\n",
       "        vertical-align: middle;\n",
       "    }\n",
       "\n",
       "    .dataframe tbody tr th {\n",
       "        vertical-align: top;\n",
       "    }\n",
       "\n",
       "    .dataframe thead th {\n",
       "        text-align: right;\n",
       "    }\n",
       "</style>\n",
       "<table border=\"1\" class=\"dataframe\">\n",
       "  <thead>\n",
       "    <tr style=\"text-align: right;\">\n",
       "      <th></th>\n",
       "      <th>KNeighbors (KNN)</th>\n",
       "      <th>Random Forest</th>\n",
       "      <th>Gradient Boosting</th>\n",
       "      <th>Stacking Classifier</th>\n",
       "    </tr>\n",
       "  </thead>\n",
       "  <tbody>\n",
       "    <tr>\n",
       "      <th>0</th>\n",
       "      <td>0.403325</td>\n",
       "      <td>0.446467</td>\n",
       "      <td>0.460716</td>\n",
       "      <td>0.460914</td>\n",
       "    </tr>\n",
       "  </tbody>\n",
       "</table>\n",
       "</div>"
      ],
      "text/plain": [
       "   KNeighbors (KNN)  Random Forest  Gradient Boosting  Stacking Classifier\n",
       "0          0.403325       0.446467           0.460716             0.460914"
      ]
     },
     "execution_count": 148,
     "metadata": {},
     "output_type": "execute_result"
    }
   ],
   "source": [
    "d3 = {'KNeighbors (KNN)': [cl1], 'Random Forest': [cl2], 'Gradient Boosting': [cl3], 'Stacking Classifier': [cl4]}\n",
    "classify = pd.DataFrame(data=d3, columns=['KNeighbors (KNN)', 'Random Forest', 'Gradient Boosting', 'Stacking Classifier']) \n",
    "classify"
   ]
  },
  {
   "cell_type": "code",
   "execution_count": null,
   "metadata": {},
   "outputs": [],
   "source": []
  }
 ],
 "metadata": {
  "kernelspec": {
   "display_name": "Python 3",
   "language": "python",
   "name": "python3"
  },
  "language_info": {
   "codemirror_mode": {
    "name": "ipython",
    "version": 3
   },
   "file_extension": ".py",
   "mimetype": "text/x-python",
   "name": "python",
   "nbconvert_exporter": "python",
   "pygments_lexer": "ipython3",
   "version": "3.6.3"
  }
 },
 "nbformat": 4,
 "nbformat_minor": 2
}
