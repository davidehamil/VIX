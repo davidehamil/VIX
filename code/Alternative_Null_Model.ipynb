{
 "cells": [
  {
   "cell_type": "code",
   "execution_count": 1,
   "metadata": {},
   "outputs": [],
   "source": [
    "import pickle\n",
    "import os\n",
    "import time\n",
    "\n",
    "import numpy as np\n",
    "import pandas as pd\n",
    "from datetime import datetime\n",
    "import matplotlib.pyplot as plt\n",
    "from statsmodels.tsa.arima_model import ARIMA\n",
    "from statsmodels.tsa.stattools import pacf, acf\n",
    "from statsmodels.stats.diagnostic import acorr_ljungbox\n",
    "from pandas.plotting import autocorrelation_plot\n",
    "from sklearn.metrics import r2_score\n",
    "from sklearn import linear_model\n",
    "from sklearn.model_selection import train_test_split\n",
    "\n",
    "\n",
    "%matplotlib inline"
   ]
  },
  {
   "cell_type": "markdown",
   "metadata": {},
   "source": [
    "### Implement alternative Null Model using basic regression function $\\widehat{y} = \\alpha + \\beta X$"
   ]
  },
  {
   "cell_type": "markdown",
   "metadata": {},
   "source": [
    "### When expressed in terms of the log for VIX futures prices this becomes: $\\widehat{ln(\\frac{V_{t}}{V_{t-1}})} = \\alpha + \\beta ln(\\frac{V_{t-1}}{V_{t-2}})$ "
   ]
  },
  {
   "cell_type": "code",
   "execution_count": 223,
   "metadata": {},
   "outputs": [],
   "source": [
    "#vx1_opt = pickle.load(open(os.getcwd() + r'\\Data\\Intraday\\Pickle\\vx1_opt.pkl', \"rb\"))\n",
    "master = pd.read_pickle(os.getcwd() + r'\\Data\\Intraday\\Pickle\\master.pkl')"
   ]
  },
  {
   "cell_type": "code",
   "execution_count": 224,
   "metadata": {},
   "outputs": [
    {
     "data": {
      "text/html": [
       "<div>\n",
       "<style scoped>\n",
       "    .dataframe tbody tr th:only-of-type {\n",
       "        vertical-align: middle;\n",
       "    }\n",
       "\n",
       "    .dataframe tbody tr th {\n",
       "        vertical-align: top;\n",
       "    }\n",
       "\n",
       "    .dataframe thead th {\n",
       "        text-align: right;\n",
       "    }\n",
       "</style>\n",
       "<table border=\"1\" class=\"dataframe\">\n",
       "  <thead>\n",
       "    <tr style=\"text-align: right;\">\n",
       "      <th></th>\n",
       "      <th>SPX_k1</th>\n",
       "      <th>SPX_k2</th>\n",
       "      <th>SPX_ImpVol1</th>\n",
       "      <th>SPX_ImpVol2</th>\n",
       "      <th>DaysTo_VX1_Expiry</th>\n",
       "      <th>DaysTo_VX2_Expiry</th>\n",
       "      <th>VX1_Future</th>\n",
       "      <th>OPT</th>\n",
       "      <th>VX1-OPT_Spread</th>\n",
       "      <th>VIX_ImpVol</th>\n",
       "      <th>SPX_Index(fwd)</th>\n",
       "    </tr>\n",
       "  </thead>\n",
       "  <tbody>\n",
       "    <tr>\n",
       "      <th>2015-01-02 09:40:00</th>\n",
       "      <td>2070.0</td>\n",
       "      <td>2070.0</td>\n",
       "      <td>0.1326</td>\n",
       "      <td>0.1370</td>\n",
       "      <td>11.9931</td>\n",
       "      <td>32.9931</td>\n",
       "      <td>17.175</td>\n",
       "      <td>13.9409</td>\n",
       "      <td>3.2341</td>\n",
       "      <td>1.1445</td>\n",
       "      <td>2071.42</td>\n",
       "    </tr>\n",
       "    <tr>\n",
       "      <th>2015-01-02 09:50:00</th>\n",
       "      <td>2070.0</td>\n",
       "      <td>2070.0</td>\n",
       "      <td>0.1325</td>\n",
       "      <td>0.1362</td>\n",
       "      <td>11.9861</td>\n",
       "      <td>32.9861</td>\n",
       "      <td>17.275</td>\n",
       "      <td>13.8315</td>\n",
       "      <td>3.4435</td>\n",
       "      <td>1.1405</td>\n",
       "      <td>2068.27</td>\n",
       "    </tr>\n",
       "    <tr>\n",
       "      <th>2015-01-02 10:00:00</th>\n",
       "      <td>2070.0</td>\n",
       "      <td>2065.0</td>\n",
       "      <td>0.1343</td>\n",
       "      <td>0.1386</td>\n",
       "      <td>11.9792</td>\n",
       "      <td>32.9792</td>\n",
       "      <td>17.375</td>\n",
       "      <td>14.0993</td>\n",
       "      <td>3.2757</td>\n",
       "      <td>1.1428</td>\n",
       "      <td>2067.89</td>\n",
       "    </tr>\n",
       "    <tr>\n",
       "      <th>2015-01-02 10:10:00</th>\n",
       "      <td>2065.0</td>\n",
       "      <td>2060.0</td>\n",
       "      <td>0.1397</td>\n",
       "      <td>0.1440</td>\n",
       "      <td>11.9722</td>\n",
       "      <td>32.9722</td>\n",
       "      <td>17.725</td>\n",
       "      <td>14.6378</td>\n",
       "      <td>3.0872</td>\n",
       "      <td>1.1837</td>\n",
       "      <td>2062.70</td>\n",
       "    </tr>\n",
       "    <tr>\n",
       "      <th>2015-01-02 10:20:00</th>\n",
       "      <td>2065.0</td>\n",
       "      <td>2060.0</td>\n",
       "      <td>0.1407</td>\n",
       "      <td>0.1449</td>\n",
       "      <td>11.9653</td>\n",
       "      <td>32.9653</td>\n",
       "      <td>17.725</td>\n",
       "      <td>14.7280</td>\n",
       "      <td>2.9970</td>\n",
       "      <td>1.1836</td>\n",
       "      <td>2062.38</td>\n",
       "    </tr>\n",
       "  </tbody>\n",
       "</table>\n",
       "</div>"
      ],
      "text/plain": [
       "                     SPX_k1  SPX_k2  SPX_ImpVol1  SPX_ImpVol2  \\\n",
       "2015-01-02 09:40:00  2070.0  2070.0       0.1326       0.1370   \n",
       "2015-01-02 09:50:00  2070.0  2070.0       0.1325       0.1362   \n",
       "2015-01-02 10:00:00  2070.0  2065.0       0.1343       0.1386   \n",
       "2015-01-02 10:10:00  2065.0  2060.0       0.1397       0.1440   \n",
       "2015-01-02 10:20:00  2065.0  2060.0       0.1407       0.1449   \n",
       "\n",
       "                     DaysTo_VX1_Expiry  DaysTo_VX2_Expiry  VX1_Future  \\\n",
       "2015-01-02 09:40:00            11.9931            32.9931      17.175   \n",
       "2015-01-02 09:50:00            11.9861            32.9861      17.275   \n",
       "2015-01-02 10:00:00            11.9792            32.9792      17.375   \n",
       "2015-01-02 10:10:00            11.9722            32.9722      17.725   \n",
       "2015-01-02 10:20:00            11.9653            32.9653      17.725   \n",
       "\n",
       "                         OPT  VX1-OPT_Spread  VIX_ImpVol  SPX_Index(fwd)  \n",
       "2015-01-02 09:40:00  13.9409          3.2341      1.1445         2071.42  \n",
       "2015-01-02 09:50:00  13.8315          3.4435      1.1405         2068.27  \n",
       "2015-01-02 10:00:00  14.0993          3.2757      1.1428         2067.89  \n",
       "2015-01-02 10:10:00  14.6378          3.0872      1.1837         2062.70  \n",
       "2015-01-02 10:20:00  14.7280          2.9970      1.1836         2062.38  "
      ]
     },
     "execution_count": 224,
     "metadata": {},
     "output_type": "execute_result"
    }
   ],
   "source": [
    "master.head()"
   ]
  },
  {
   "cell_type": "code",
   "execution_count": 225,
   "metadata": {},
   "outputs": [
    {
     "data": {
      "text/html": [
       "<div>\n",
       "<style scoped>\n",
       "    .dataframe tbody tr th:only-of-type {\n",
       "        vertical-align: middle;\n",
       "    }\n",
       "\n",
       "    .dataframe tbody tr th {\n",
       "        vertical-align: top;\n",
       "    }\n",
       "\n",
       "    .dataframe thead th {\n",
       "        text-align: right;\n",
       "    }\n",
       "</style>\n",
       "<table border=\"1\" class=\"dataframe\">\n",
       "  <thead>\n",
       "    <tr style=\"text-align: right;\">\n",
       "      <th></th>\n",
       "      <th>SPX_k1</th>\n",
       "      <th>SPX_k2</th>\n",
       "      <th>SPX_ImpVol1</th>\n",
       "      <th>SPX_ImpVol2</th>\n",
       "      <th>DaysTo_VX1_Expiry</th>\n",
       "      <th>DaysTo_VX2_Expiry</th>\n",
       "      <th>VX1_Future</th>\n",
       "      <th>OPT</th>\n",
       "      <th>VX1-OPT_Spread</th>\n",
       "      <th>VIX_ImpVol</th>\n",
       "      <th>SPX_Index(fwd)</th>\n",
       "    </tr>\n",
       "  </thead>\n",
       "  <tbody>\n",
       "  </tbody>\n",
       "</table>\n",
       "</div>"
      ],
      "text/plain": [
       "Empty DataFrame\n",
       "Columns: [SPX_k1, SPX_k2, SPX_ImpVol1, SPX_ImpVol2, DaysTo_VX1_Expiry, DaysTo_VX2_Expiry, VX1_Future, OPT, VX1-OPT_Spread, VIX_ImpVol, SPX_Index(fwd)]\n",
       "Index: []"
      ]
     },
     "execution_count": 225,
     "metadata": {},
     "output_type": "execute_result"
    }
   ],
   "source": [
    "master[master['VX1_Future'] == 0].head()"
   ]
  },
  {
   "cell_type": "code",
   "execution_count": 226,
   "metadata": {},
   "outputs": [],
   "source": [
    "mydata = master['VX1_Future'].to_frame()\n",
    "mydata['Ratio'] = np.log(mydata['VX1_Future'] / mydata['VX1_Future'].shift(1) )"
   ]
  },
  {
   "cell_type": "code",
   "execution_count": 227,
   "metadata": {},
   "outputs": [
    {
     "data": {
      "text/html": [
       "<div>\n",
       "<style scoped>\n",
       "    .dataframe tbody tr th:only-of-type {\n",
       "        vertical-align: middle;\n",
       "    }\n",
       "\n",
       "    .dataframe tbody tr th {\n",
       "        vertical-align: top;\n",
       "    }\n",
       "\n",
       "    .dataframe thead th {\n",
       "        text-align: right;\n",
       "    }\n",
       "</style>\n",
       "<table border=\"1\" class=\"dataframe\">\n",
       "  <thead>\n",
       "    <tr style=\"text-align: right;\">\n",
       "      <th></th>\n",
       "      <th>VX1_Future</th>\n",
       "      <th>Ratio</th>\n",
       "      <th>shift1</th>\n",
       "      <th>shift2</th>\n",
       "      <th>shift3</th>\n",
       "      <th>shift4</th>\n",
       "      <th>shift5</th>\n",
       "      <th>shift6</th>\n",
       "      <th>shift7</th>\n",
       "      <th>shift8</th>\n",
       "      <th>shift9</th>\n",
       "      <th>shift10</th>\n",
       "    </tr>\n",
       "  </thead>\n",
       "  <tbody>\n",
       "    <tr>\n",
       "      <th>2015-01-02 11:30:00</th>\n",
       "      <td>18.575</td>\n",
       "      <td>-0.008043</td>\n",
       "      <td>0.005355</td>\n",
       "      <td>0.010796</td>\n",
       "      <td>-0.002710</td>\n",
       "      <td>-0.001352</td>\n",
       "      <td>0.042795</td>\n",
       "      <td>0.000000</td>\n",
       "      <td>0.000000</td>\n",
       "      <td>0.019944</td>\n",
       "      <td>0.005772</td>\n",
       "      <td>0.005806</td>\n",
       "    </tr>\n",
       "    <tr>\n",
       "      <th>2015-01-02 11:40:00</th>\n",
       "      <td>18.675</td>\n",
       "      <td>0.005369</td>\n",
       "      <td>-0.008043</td>\n",
       "      <td>0.005355</td>\n",
       "      <td>0.010796</td>\n",
       "      <td>-0.002710</td>\n",
       "      <td>-0.001352</td>\n",
       "      <td>0.042795</td>\n",
       "      <td>0.000000</td>\n",
       "      <td>0.000000</td>\n",
       "      <td>0.019944</td>\n",
       "      <td>0.005772</td>\n",
       "    </tr>\n",
       "    <tr>\n",
       "      <th>2015-01-02 11:50:00</th>\n",
       "      <td>18.625</td>\n",
       "      <td>-0.002681</td>\n",
       "      <td>0.005369</td>\n",
       "      <td>-0.008043</td>\n",
       "      <td>0.005355</td>\n",
       "      <td>0.010796</td>\n",
       "      <td>-0.002710</td>\n",
       "      <td>-0.001352</td>\n",
       "      <td>0.042795</td>\n",
       "      <td>0.000000</td>\n",
       "      <td>0.000000</td>\n",
       "      <td>0.019944</td>\n",
       "    </tr>\n",
       "    <tr>\n",
       "      <th>2015-01-02 12:00:00</th>\n",
       "      <td>18.475</td>\n",
       "      <td>-0.008086</td>\n",
       "      <td>-0.002681</td>\n",
       "      <td>0.005369</td>\n",
       "      <td>-0.008043</td>\n",
       "      <td>0.005355</td>\n",
       "      <td>0.010796</td>\n",
       "      <td>-0.002710</td>\n",
       "      <td>-0.001352</td>\n",
       "      <td>0.042795</td>\n",
       "      <td>0.000000</td>\n",
       "      <td>0.000000</td>\n",
       "    </tr>\n",
       "    <tr>\n",
       "      <th>2015-01-02 12:10:00</th>\n",
       "      <td>18.225</td>\n",
       "      <td>-0.013624</td>\n",
       "      <td>-0.008086</td>\n",
       "      <td>-0.002681</td>\n",
       "      <td>0.005369</td>\n",
       "      <td>-0.008043</td>\n",
       "      <td>0.005355</td>\n",
       "      <td>0.010796</td>\n",
       "      <td>-0.002710</td>\n",
       "      <td>-0.001352</td>\n",
       "      <td>0.042795</td>\n",
       "      <td>0.000000</td>\n",
       "    </tr>\n",
       "  </tbody>\n",
       "</table>\n",
       "</div>"
      ],
      "text/plain": [
       "                     VX1_Future     Ratio    shift1    shift2    shift3  \\\n",
       "2015-01-02 11:30:00      18.575 -0.008043  0.005355  0.010796 -0.002710   \n",
       "2015-01-02 11:40:00      18.675  0.005369 -0.008043  0.005355  0.010796   \n",
       "2015-01-02 11:50:00      18.625 -0.002681  0.005369 -0.008043  0.005355   \n",
       "2015-01-02 12:00:00      18.475 -0.008086 -0.002681  0.005369 -0.008043   \n",
       "2015-01-02 12:10:00      18.225 -0.013624 -0.008086 -0.002681  0.005369   \n",
       "\n",
       "                       shift4    shift5    shift6    shift7    shift8  \\\n",
       "2015-01-02 11:30:00 -0.001352  0.042795  0.000000  0.000000  0.019944   \n",
       "2015-01-02 11:40:00 -0.002710 -0.001352  0.042795  0.000000  0.000000   \n",
       "2015-01-02 11:50:00  0.010796 -0.002710 -0.001352  0.042795  0.000000   \n",
       "2015-01-02 12:00:00  0.005355  0.010796 -0.002710 -0.001352  0.042795   \n",
       "2015-01-02 12:10:00 -0.008043  0.005355  0.010796 -0.002710 -0.001352   \n",
       "\n",
       "                       shift9   shift10  \n",
       "2015-01-02 11:30:00  0.005772  0.005806  \n",
       "2015-01-02 11:40:00  0.019944  0.005772  \n",
       "2015-01-02 11:50:00  0.000000  0.019944  \n",
       "2015-01-02 12:00:00  0.000000  0.000000  \n",
       "2015-01-02 12:10:00  0.042795  0.000000  "
      ]
     },
     "execution_count": 227,
     "metadata": {},
     "output_type": "execute_result"
    }
   ],
   "source": [
    "mydata['shift1'] = mydata['Ratio'].shift(1)\n",
    "mydata['shift2'] = mydata['Ratio'].shift(2)\n",
    "mydata['shift3'] = mydata['Ratio'].shift(3)\n",
    "mydata['shift4'] = mydata['Ratio'].shift(4)\n",
    "mydata['shift5'] = mydata['Ratio'].shift(5)\n",
    "mydata['shift6'] = mydata['Ratio'].shift(6)\n",
    "mydata['shift7'] = mydata['Ratio'].shift(7)\n",
    "mydata['shift8'] = mydata['Ratio'].shift(8)\n",
    "mydata['shift9'] = mydata['Ratio'].shift(9)\n",
    "mydata['shift10'] = mydata['Ratio'].shift(10)\n",
    "mydata.dropna(inplace=True)\n",
    "mydata.head()"
   ]
  },
  {
   "cell_type": "code",
   "execution_count": 228,
   "metadata": {},
   "outputs": [],
   "source": [
    "y = mydata.iloc[:,1].values\n",
    "x = mydata.iloc[:,2:].values"
   ]
  },
  {
   "cell_type": "code",
   "execution_count": 229,
   "metadata": {},
   "outputs": [],
   "source": [
    "nTrain = int(.75*x.shape[0])\n",
    "x_train, x_test, y_train, y_test = x[:nTrain,], x[nTrain:,], y[:nTrain,], y[nTrain:,]"
   ]
  },
  {
   "cell_type": "code",
   "execution_count": 230,
   "metadata": {},
   "outputs": [
    {
     "data": {
      "text/plain": [
       "LinearRegression(copy_X=True, fit_intercept=True, n_jobs=1, normalize=False)"
      ]
     },
     "execution_count": 230,
     "metadata": {},
     "output_type": "execute_result"
    }
   ],
   "source": [
    "lr = linear_model.LinearRegression()\n",
    "lr.fit(x_train,y_train)"
   ]
  },
  {
   "cell_type": "code",
   "execution_count": 231,
   "metadata": {},
   "outputs": [
    {
     "data": {
      "text/plain": [
       "-0.002096656096585825"
      ]
     },
     "execution_count": 231,
     "metadata": {},
     "output_type": "execute_result"
    }
   ],
   "source": [
    "r2_score(y_test,lr.predict(x_test))"
   ]
  },
  {
   "cell_type": "markdown",
   "metadata": {},
   "source": [
    "#### Show weighting/impact of individual regressors"
   ]
  },
  {
   "cell_type": "code",
   "execution_count": 232,
   "metadata": {},
   "outputs": [
    {
     "data": {
      "text/plain": [
       "array([-0.03504834, -0.0303297 , -0.00465893,  0.00172683, -0.00076025,\n",
       "       -0.00910537,  0.0046931 ,  0.01843144,  0.00449234,  0.00106738])"
      ]
     },
     "execution_count": 232,
     "metadata": {},
     "output_type": "execute_result"
    }
   ],
   "source": [
    "lr.coef_"
   ]
  },
  {
   "cell_type": "code",
   "execution_count": 233,
   "metadata": {},
   "outputs": [
    {
     "data": {
      "text/plain": [
       "(0, 0.03)"
      ]
     },
     "execution_count": 233,
     "metadata": {},
     "output_type": "execute_result"
    },
    {
     "data": {
      "image/png": "[encoded data removed]",
      "text/plain": [
       "<matplotlib.figure.Figure at 0x1c1178accc0>"
      ]
     },
     "metadata": {},
     "output_type": "display_data"
    }
   ],
   "source": [
    "mydata.corr().iloc[:,1].plot(kind='bar').set_ylim(0, 0.03)"
   ]
  },
  {
   "cell_type": "markdown",
   "metadata": {},
   "source": [
    "### Examine Autocorrelation Function (ACF) of $u_t$, where $u_t = ln(\\frac{V_t}{V_{t-1}}) - \\widehat{ln(\\frac{V_t}{V_{t-1}})}$ "
   ]
  },
  {
   "cell_type": "markdown",
   "metadata": {},
   "source": [
    "#### ACF with 10 lags $(l = 10)$"
   ]
  },
  {
   "cell_type": "code",
   "execution_count": 234,
   "metadata": {},
   "outputs": [
    {
     "data": {
      "text/plain": [
       "<Container object of 3 artists>"
      ]
     },
     "execution_count": 234,
     "metadata": {},
     "output_type": "execute_result"
    },
    {
     "data": {
      "image/png": "[encoded data removed]",
      "text/plain": [
       "<matplotlib.figure.Figure at 0x1c117b46048>"
      ]
     },
     "metadata": {},
     "output_type": "display_data"
    }
   ],
   "source": [
    "resid = y_test - lr.predict(x_test)\n",
    "plt.stem(acf(resid,nlags=10))"
   ]
  },
  {
   "cell_type": "code",
   "execution_count": 235,
   "metadata": {},
   "outputs": [
    {
     "data": {
      "text/plain": [
       "(5060,)"
      ]
     },
     "execution_count": 235,
     "metadata": {},
     "output_type": "execute_result"
    }
   ],
   "source": [
    "resid.shape"
   ]
  },
  {
   "cell_type": "code",
   "execution_count": 236,
   "metadata": {},
   "outputs": [
    {
     "name": "stdout",
     "output_type": "stream",
     "text": [
      "-0.00598782667603\n"
     ]
    }
   ],
   "source": [
    "print(resid[0])"
   ]
  },
  {
   "cell_type": "markdown",
   "metadata": {},
   "source": [
    "#### ACF with 100 lags $(l = 100)$"
   ]
  },
  {
   "cell_type": "code",
   "execution_count": 237,
   "metadata": {},
   "outputs": [
    {
     "data": {
      "text/plain": [
       "(0, 0.03)"
      ]
     },
     "execution_count": 237,
     "metadata": {},
     "output_type": "execute_result"
    },
    {
     "data": {
      "image/png": "[encoded data removed]",
      "text/plain": [
       "<matplotlib.figure.Figure at 0x1c117b54c18>"
      ]
     },
     "metadata": {},
     "output_type": "display_data"
    }
   ],
   "source": [
    "resid = y_test - lr.predict(x_test)\n",
    "#plt.stem(acf(resid,nlags=100)).set_ylim(0, 0.03)\n",
    "resid_acf = acf(resid,nlags=2500)\n",
    "resid_acf = pd.DataFrame(resid_acf)\n",
    "resid_acf.plot(kind='bar').set_ylim(0, 0.03)"
   ]
  },
  {
   "cell_type": "markdown",
   "metadata": {},
   "source": [
    "#### Run loop to calculate R^2, residual, ACF & BIC for different values of l"
   ]
  },
  {
   "cell_type": "code",
   "execution_count": 238,
   "metadata": {},
   "outputs": [
    {
     "data": {
      "image/png": "[encoded data removed]",
      "text/plain": [
       "<matplotlib.figure.Figure at 0x1c11b9444e0>"
      ]
     },
     "metadata": {},
     "output_type": "display_data"
    },
    {
     "data": {
      "image/png": "[encoded data removed]",
      "text/plain": [
       "<matplotlib.figure.Figure at 0x1c119a306d8>"
      ]
     },
     "metadata": {},
     "output_type": "display_data"
    },
    {
     "data": {
      "image/png": "[encoded data removed]",
      "text/plain": [
       "<matplotlib.figure.Figure at 0x1c1170c8d68>"
      ]
     },
     "metadata": {},
     "output_type": "display_data"
    }
   ],
   "source": [
    "L = range(1,10)\n",
    "r2 = []\n",
    "resid_acf = []\n",
    "bic = []\n",
    "nTrain = int(.75*x.shape[0])\n",
    "for l in L:\n",
    "    y = mydata.iloc[:,1].values\n",
    "    x = mydata.iloc[:,2:2+l].values\n",
    "    x_train, x_test, y_train, y_test = x[:nTrain,], x[nTrain:,], y[:nTrain,], y[nTrain:,]\n",
    "    lr = linear_model.LinearRegression()\n",
    "    lr.fit(x_train,y_train)\n",
    "    r2.append(lr.score(x_test, y_test))\n",
    "    resid = y_test - lr.predict(x_test)\n",
    "    resid_acf.append(acf(resid))\n",
    "    rss = sum(resid**2)\n",
    "    n = len(resid)\n",
    "    k = l\n",
    "    bic.append(n*np.log(rss/n) + k*np.log(n))\n",
    "\n",
    "plt.plot(L,r2)\n",
    "plt.xlabel('Number of Lags')\n",
    "plt.ylabel('R2')\n",
    "plt.show()\n",
    "\n",
    "plt.plot(L,resid_acf)\n",
    "plt.xlabel('Number of Lags')\n",
    "plt.ylabel('Residual ACF')\n",
    "plt.show()\n",
    "\n",
    "plt.plot(L,bic)\n",
    "plt.xlabel('Number of Lags')\n",
    "plt.ylabel('BIC')\n",
    "plt.show()"
   ]
  },
  {
   "cell_type": "code",
   "execution_count": 239,
   "metadata": {},
   "outputs": [
    {
     "data": {
      "text/plain": [
       "9"
      ]
     },
     "execution_count": 239,
     "metadata": {},
     "output_type": "execute_result"
    }
   ],
   "source": [
    "len(resid_acf)"
   ]
  },
  {
   "cell_type": "code",
   "execution_count": 240,
   "metadata": {},
   "outputs": [
    {
     "data": {
      "text/plain": [
       "[<matplotlib.lines.Line2D at 0x1c119dc4e80>]"
      ]
     },
     "execution_count": 240,
     "metadata": {},
     "output_type": "execute_result"
    },
    {
     "data": {
      "image/png": "[encoded data removed]",
      "text/plain": [
       "<matplotlib.figure.Figure at 0x1c117c772e8>"
      ]
     },
     "metadata": {},
     "output_type": "display_data"
    }
   ],
   "source": [
    "resid = y_test - lr.predict(x_test)\n",
    "plt.plot(np.abs(resid))"
   ]
  },
  {
   "cell_type": "markdown",
   "metadata": {},
   "source": [
    "#### Apply Ljung-Box Test for Serial Correlation in VX1 Returns"
   ]
  },
  {
   "cell_type": "code",
   "execution_count": 241,
   "metadata": {},
   "outputs": [
    {
     "data": {
      "text/plain": [
       "[<matplotlib.lines.Line2D at 0x1c11169d588>]"
      ]
     },
     "execution_count": 241,
     "metadata": {},
     "output_type": "execute_result"
    },
    {
     "data": {
      "image/png": "[encoded data removed]",
      "text/plain": [
       "<matplotlib.figure.Figure at 0x1c111c82898>"
      ]
     },
     "metadata": {},
     "output_type": "display_data"
    }
   ],
   "source": [
    "plt.plot(acorr_ljungbox(mydata['Ratio'])[1])"
   ]
  },
  {
   "cell_type": "code",
   "execution_count": 242,
   "metadata": {},
   "outputs": [
    {
     "data": {
      "text/plain": [
       "<Container object of 3 artists>"
      ]
     },
     "execution_count": 242,
     "metadata": {},
     "output_type": "execute_result"
    },
    {
     "data": {
      "image/png": "[encoded data removed]",
      "text/plain": [
       "<matplotlib.figure.Figure at 0x1c11a4e56d8>"
      ]
     },
     "metadata": {},
     "output_type": "display_data"
    }
   ],
   "source": [
    "plt.stem(acf(mydata['Ratio'],nlags=40))"
   ]
  },
  {
   "cell_type": "markdown",
   "metadata": {},
   "source": [
    "#### Check for autocorrelation in the model residuals"
   ]
  },
  {
   "cell_type": "code",
   "execution_count": 243,
   "metadata": {},
   "outputs": [
    {
     "data": {
      "text/plain": [
       "(array([  2.97735933,   7.39145163,   8.65442426,   8.69527633,\n",
       "          8.80544336,   9.61356197,  11.20535881,  13.93172433,\n",
       "         15.10376014,  15.37553751,  15.66709812,  16.70647794,\n",
       "         16.8903927 ,  17.39178541,  18.68112188,  19.25644674,\n",
       "         19.26529118,  19.55389096,  19.59263623,  19.64672301,\n",
       "         19.70704867,  19.7897099 ,  19.78992007,  19.79067585,\n",
       "         20.48198639,  20.64336306,  20.65953505,  22.04988122,\n",
       "         22.43660797,  23.40470988,  24.40779891,  24.40852547,\n",
       "         24.54590882,  27.61459684,  27.61723394,  27.83222723,\n",
       "         27.83290633,  27.89755992,  27.94949786,  27.97608254]),\n",
       " array([ 0.08443693,  0.02482943,  0.03425648,  0.06918417,  0.11708057,\n",
       "         0.14189761,  0.12990883,  0.08356245,  0.08812501,  0.11895844,\n",
       "         0.15394659,  0.16097618,  0.20436327,  0.23590008,  0.22854922,\n",
       "         0.25558923,  0.31351894,  0.35848663,  0.4194545 ,  0.48021473,\n",
       "         0.53987897,  0.59619201,  0.65454925,  0.70861557,  0.72110787,\n",
       "         0.7601303 ,  0.80197105,  0.77897659,  0.80167166,  0.79826329,\n",
       "         0.79355711,  0.82925581,  0.85580141,  0.77236174,  0.8084349 ,\n",
       "         0.83312626,  0.8620914 ,  0.88546184,  0.90596818,  0.92398256]))"
      ]
     },
     "execution_count": 243,
     "metadata": {},
     "output_type": "execute_result"
    }
   ],
   "source": [
    "acorr_ljungbox(resid)"
   ]
  },
  {
   "cell_type": "code",
   "execution_count": 244,
   "metadata": {},
   "outputs": [
    {
     "data": {
      "text/plain": [
       "[<matplotlib.lines.Line2D at 0x1c111cccd68>]"
      ]
     },
     "execution_count": 244,
     "metadata": {},
     "output_type": "execute_result"
    },
    {
     "data": {
      "image/png": "[encoded data removed]",
      "text/plain": [
       "<matplotlib.figure.Figure at 0x1c111691898>"
      ]
     },
     "metadata": {},
     "output_type": "display_data"
    }
   ],
   "source": [
    "plt.plot(acorr_ljungbox(resid)[1])"
   ]
  },
  {
   "cell_type": "markdown",
   "metadata": {},
   "source": [
    "### Build Secondary Null:\n",
    "### Predict log of VX1 price as function of log for 'OPT' synthetic price: $\\widehat{ln(\\frac{V_{t}}{V_{t-1}})} = \\alpha + \\beta ln(\\frac{OPT_{t-1}}{OPT_{t-2}})$ "
   ]
  },
  {
   "cell_type": "code",
   "execution_count": 245,
   "metadata": {},
   "outputs": [],
   "source": [
    "mydata = master[['VX1_Future','OPT']].copy()\n",
    "mydata['ratio'] = np.log(mydata['VX1_Future']/mydata['VX1_Future'].shift(1))\n",
    "mydata['ratio_opt'] = np.log(mydata['OPT']/mydata['OPT'].shift(1))"
   ]
  },
  {
   "cell_type": "code",
   "execution_count": 246,
   "metadata": {},
   "outputs": [
    {
     "data": {
      "text/html": [
       "<div>\n",
       "<style scoped>\n",
       "    .dataframe tbody tr th:only-of-type {\n",
       "        vertical-align: middle;\n",
       "    }\n",
       "\n",
       "    .dataframe tbody tr th {\n",
       "        vertical-align: top;\n",
       "    }\n",
       "\n",
       "    .dataframe thead th {\n",
       "        text-align: right;\n",
       "    }\n",
       "</style>\n",
       "<table border=\"1\" class=\"dataframe\">\n",
       "  <thead>\n",
       "    <tr style=\"text-align: right;\">\n",
       "      <th></th>\n",
       "      <th>VX1_Future</th>\n",
       "      <th>OPT</th>\n",
       "      <th>ratio</th>\n",
       "      <th>ratio_opt</th>\n",
       "      <th>OPT_shift1</th>\n",
       "      <th>OPT_shift2</th>\n",
       "      <th>OPT_shift3</th>\n",
       "      <th>OPT_shift4</th>\n",
       "      <th>OPT_shift5</th>\n",
       "      <th>OPT_shift6</th>\n",
       "      <th>OPT_shift7</th>\n",
       "      <th>OPT_shift8</th>\n",
       "      <th>OPT_shift9</th>\n",
       "      <th>OPT_shift10</th>\n",
       "    </tr>\n",
       "  </thead>\n",
       "  <tbody>\n",
       "    <tr>\n",
       "      <th>2015-01-02 11:30:00</th>\n",
       "      <td>18.575</td>\n",
       "      <td>15.5831</td>\n",
       "      <td>-0.008043</td>\n",
       "      <td>0.003465</td>\n",
       "      <td>-0.003542</td>\n",
       "      <td>0.025482</td>\n",
       "      <td>0.000764</td>\n",
       "      <td>0.015488</td>\n",
       "      <td>0.036192</td>\n",
       "      <td>-0.021412</td>\n",
       "      <td>0.006143</td>\n",
       "      <td>0.037482</td>\n",
       "      <td>0.019177</td>\n",
       "      <td>-0.007878</td>\n",
       "    </tr>\n",
       "    <tr>\n",
       "      <th>2015-01-02 11:40:00</th>\n",
       "      <td>18.675</td>\n",
       "      <td>15.7529</td>\n",
       "      <td>0.005369</td>\n",
       "      <td>0.010837</td>\n",
       "      <td>0.003465</td>\n",
       "      <td>-0.003542</td>\n",
       "      <td>0.025482</td>\n",
       "      <td>0.000764</td>\n",
       "      <td>0.015488</td>\n",
       "      <td>0.036192</td>\n",
       "      <td>-0.021412</td>\n",
       "      <td>0.006143</td>\n",
       "      <td>0.037482</td>\n",
       "      <td>0.019177</td>\n",
       "    </tr>\n",
       "    <tr>\n",
       "      <th>2015-01-02 11:50:00</th>\n",
       "      <td>18.625</td>\n",
       "      <td>15.8899</td>\n",
       "      <td>-0.002681</td>\n",
       "      <td>0.008659</td>\n",
       "      <td>0.010837</td>\n",
       "      <td>0.003465</td>\n",
       "      <td>-0.003542</td>\n",
       "      <td>0.025482</td>\n",
       "      <td>0.000764</td>\n",
       "      <td>0.015488</td>\n",
       "      <td>0.036192</td>\n",
       "      <td>-0.021412</td>\n",
       "      <td>0.006143</td>\n",
       "      <td>0.037482</td>\n",
       "    </tr>\n",
       "    <tr>\n",
       "      <th>2015-01-02 12:00:00</th>\n",
       "      <td>18.475</td>\n",
       "      <td>15.7133</td>\n",
       "      <td>-0.008086</td>\n",
       "      <td>-0.011176</td>\n",
       "      <td>0.008659</td>\n",
       "      <td>0.010837</td>\n",
       "      <td>0.003465</td>\n",
       "      <td>-0.003542</td>\n",
       "      <td>0.025482</td>\n",
       "      <td>0.000764</td>\n",
       "      <td>0.015488</td>\n",
       "      <td>0.036192</td>\n",
       "      <td>-0.021412</td>\n",
       "      <td>0.006143</td>\n",
       "    </tr>\n",
       "    <tr>\n",
       "      <th>2015-01-02 12:10:00</th>\n",
       "      <td>18.225</td>\n",
       "      <td>15.1536</td>\n",
       "      <td>-0.013624</td>\n",
       "      <td>-0.036269</td>\n",
       "      <td>-0.011176</td>\n",
       "      <td>0.008659</td>\n",
       "      <td>0.010837</td>\n",
       "      <td>0.003465</td>\n",
       "      <td>-0.003542</td>\n",
       "      <td>0.025482</td>\n",
       "      <td>0.000764</td>\n",
       "      <td>0.015488</td>\n",
       "      <td>0.036192</td>\n",
       "      <td>-0.021412</td>\n",
       "    </tr>\n",
       "  </tbody>\n",
       "</table>\n",
       "</div>"
      ],
      "text/plain": [
       "                     VX1_Future      OPT     ratio  ratio_opt  OPT_shift1  \\\n",
       "2015-01-02 11:30:00      18.575  15.5831 -0.008043   0.003465   -0.003542   \n",
       "2015-01-02 11:40:00      18.675  15.7529  0.005369   0.010837    0.003465   \n",
       "2015-01-02 11:50:00      18.625  15.8899 -0.002681   0.008659    0.010837   \n",
       "2015-01-02 12:00:00      18.475  15.7133 -0.008086  -0.011176    0.008659   \n",
       "2015-01-02 12:10:00      18.225  15.1536 -0.013624  -0.036269   -0.011176   \n",
       "\n",
       "                     OPT_shift2  OPT_shift3  OPT_shift4  OPT_shift5  \\\n",
       "2015-01-02 11:30:00    0.025482    0.000764    0.015488    0.036192   \n",
       "2015-01-02 11:40:00   -0.003542    0.025482    0.000764    0.015488   \n",
       "2015-01-02 11:50:00    0.003465   -0.003542    0.025482    0.000764   \n",
       "2015-01-02 12:00:00    0.010837    0.003465   -0.003542    0.025482   \n",
       "2015-01-02 12:10:00    0.008659    0.010837    0.003465   -0.003542   \n",
       "\n",
       "                     OPT_shift6  OPT_shift7  OPT_shift8  OPT_shift9  \\\n",
       "2015-01-02 11:30:00   -0.021412    0.006143    0.037482    0.019177   \n",
       "2015-01-02 11:40:00    0.036192   -0.021412    0.006143    0.037482   \n",
       "2015-01-02 11:50:00    0.015488    0.036192   -0.021412    0.006143   \n",
       "2015-01-02 12:00:00    0.000764    0.015488    0.036192   -0.021412   \n",
       "2015-01-02 12:10:00    0.025482    0.000764    0.015488    0.036192   \n",
       "\n",
       "                     OPT_shift10  \n",
       "2015-01-02 11:30:00    -0.007878  \n",
       "2015-01-02 11:40:00     0.019177  \n",
       "2015-01-02 11:50:00     0.037482  \n",
       "2015-01-02 12:00:00     0.006143  \n",
       "2015-01-02 12:10:00    -0.021412  "
      ]
     },
     "execution_count": 246,
     "metadata": {},
     "output_type": "execute_result"
    }
   ],
   "source": [
    "mydata['OPT_shift1'] = mydata['ratio_opt'].shift(1)\n",
    "mydata['OPT_shift2'] = mydata['ratio_opt'].shift(2)\n",
    "mydata['OPT_shift3'] = mydata['ratio_opt'].shift(3)\n",
    "mydata['OPT_shift4'] = mydata['ratio_opt'].shift(4)\n",
    "mydata['OPT_shift5'] = mydata['ratio_opt'].shift(5)\n",
    "mydata['OPT_shift6'] = mydata['ratio_opt'].shift(6)\n",
    "mydata['OPT_shift7'] = mydata['ratio_opt'].shift(7)\n",
    "mydata['OPT_shift8'] = mydata['ratio_opt'].shift(8)\n",
    "mydata['OPT_shift9'] = mydata['ratio_opt'].shift(9)\n",
    "mydata['OPT_shift10'] = mydata['ratio_opt'].shift(10)\n",
    "mydata.dropna(inplace=True)\n",
    "mydata.head()"
   ]
  },
  {
   "cell_type": "code",
   "execution_count": 247,
   "metadata": {},
   "outputs": [],
   "source": [
    "y = mydata.iloc[:,2].values\n",
    "x = mydata.iloc[:,4:].values"
   ]
  },
  {
   "cell_type": "code",
   "execution_count": 248,
   "metadata": {},
   "outputs": [],
   "source": [
    "nTrain = int(.75*x.shape[0])\n",
    "x_train, x_test, y_train, y_test = x[:nTrain,], x[nTrain:,], y[:nTrain,], y[nTrain:,]"
   ]
  },
  {
   "cell_type": "code",
   "execution_count": 249,
   "metadata": {},
   "outputs": [
    {
     "data": {
      "text/plain": [
       "LinearRegression(copy_X=True, fit_intercept=True, n_jobs=1, normalize=False)"
      ]
     },
     "execution_count": 249,
     "metadata": {},
     "output_type": "execute_result"
    }
   ],
   "source": [
    "lr = linear_model.LinearRegression()\n",
    "lr.fit(x_train,y_train)"
   ]
  },
  {
   "cell_type": "code",
   "execution_count": 250,
   "metadata": {},
   "outputs": [
    {
     "data": {
      "text/plain": [
       "-0.0010259361697957381"
      ]
     },
     "execution_count": 250,
     "metadata": {},
     "output_type": "execute_result"
    }
   ],
   "source": [
    "r2_score(y_test,lr.predict(x_test))"
   ]
  },
  {
   "cell_type": "markdown",
   "metadata": {},
   "source": [
    "#### Show weighting/impact of individual regressors"
   ]
  },
  {
   "cell_type": "code",
   "execution_count": 251,
   "metadata": {},
   "outputs": [
    {
     "data": {
      "text/plain": [
       "array([ 0.00162631, -0.0084347 , -0.00362085, -0.00363755, -0.0001892 ,\n",
       "        0.00133496, -0.00109461,  0.01144877,  0.00137689, -0.00099117])"
      ]
     },
     "execution_count": 251,
     "metadata": {},
     "output_type": "execute_result"
    }
   ],
   "source": [
    "lr.coef_"
   ]
  },
  {
   "cell_type": "markdown",
   "metadata": {},
   "source": [
    "#### Show correlation of the inidividual regressors"
   ]
  },
  {
   "cell_type": "code",
   "execution_count": 252,
   "metadata": {},
   "outputs": [
    {
     "data": {
      "text/plain": [
       "<matplotlib.axes._subplots.AxesSubplot at 0x1c11201fa90>"
      ]
     },
     "execution_count": 252,
     "metadata": {},
     "output_type": "execute_result"
    },
    {
     "data": {
      "image/png": "[encoded data removed]",
      "text/plain": [
       "<matplotlib.figure.Figure at 0x1c1123da198>"
      ]
     },
     "metadata": {},
     "output_type": "display_data"
    }
   ],
   "source": [
    "#mydata.corr().iloc[:,2].plot(kind='bar').set_ylim(0, 0.03)\n",
    "mydata.corr().iloc[:,2].plot(kind='bar')"
   ]
  },
  {
   "cell_type": "markdown",
   "metadata": {},
   "source": [
    "### Examine Autocorrelation Function (ACF) of $u_t$ for Secondary Null Model (OPT), where $u_t = ln(\\frac{V_t}{V_{t-1}}) - \\widehat{ln(\\frac{V_t}{V_{t-1}})}$ "
   ]
  },
  {
   "cell_type": "markdown",
   "metadata": {},
   "source": [
    "#### ACF with 10 lags $(l = 10)$"
   ]
  },
  {
   "cell_type": "code",
   "execution_count": 253,
   "metadata": {},
   "outputs": [
    {
     "data": {
      "text/plain": [
       "<Container object of 3 artists>"
      ]
     },
     "execution_count": 253,
     "metadata": {},
     "output_type": "execute_result"
    },
    {
     "data": {
      "image/png": "[encoded data removed]",
      "text/plain": [
       "<matplotlib.figure.Figure at 0x1c119bbd7f0>"
      ]
     },
     "metadata": {},
     "output_type": "display_data"
    }
   ],
   "source": [
    "OPTresid = y_test - lr.predict(x_test)\n",
    "plt.stem(acf(OPTresid,nlags=10))"
   ]
  },
  {
   "cell_type": "markdown",
   "metadata": {},
   "source": [
    "#### ACF with 100 lags $(l = 100)$"
   ]
  },
  {
   "cell_type": "code",
   "execution_count": 254,
   "metadata": {},
   "outputs": [
    {
     "data": {
      "text/plain": [
       "<Container object of 3 artists>"
      ]
     },
     "execution_count": 254,
     "metadata": {},
     "output_type": "execute_result"
    },
    {
     "data": {
      "image/png": "[encoded data removed]",
      "text/plain": [
       "<matplotlib.figure.Figure at 0x1c11a502160>"
      ]
     },
     "metadata": {},
     "output_type": "display_data"
    }
   ],
   "source": [
    "OPTresid = y_test - lr.predict(x_test)\n",
    "plt.stem(acf(OPTresid,nlags=100))"
   ]
  },
  {
   "cell_type": "code",
   "execution_count": 255,
   "metadata": {},
   "outputs": [
    {
     "data": {
      "text/plain": [
       "-48154.463388197975"
      ]
     },
     "execution_count": 255,
     "metadata": {},
     "output_type": "execute_result"
    }
   ],
   "source": [
    "n*np.log(rss/n)"
   ]
  },
  {
   "cell_type": "code",
   "execution_count": 256,
   "metadata": {},
   "outputs": [
    {
     "data": {
      "image/png": "[encoded data removed]",
      "text/plain": [
       "<matplotlib.figure.Figure at 0x1c116b23208>"
      ]
     },
     "metadata": {},
     "output_type": "display_data"
    },
    {
     "data": {
      "image/png": "[encoded data removed]",
      "text/plain": [
       "<matplotlib.figure.Figure at 0x1c11998beb8>"
      ]
     },
     "metadata": {},
     "output_type": "display_data"
    }
   ],
   "source": [
    "L = range(1,10)\n",
    "r2 = []\n",
    "bic = []\n",
    "nTrain = int(.75*x.shape[0])\n",
    "for l in L:\n",
    "    y = mydata.iloc[:,2].values\n",
    "    x = mydata.iloc[:,4:4+l].values\n",
    "    x_train, x_test, y_train, y_test = x[:nTrain,], x[nTrain:,], y[:nTrain,], y[nTrain:,]\n",
    "    lr = linear_model.LinearRegression()\n",
    "    lr.fit(x_train,y_train)\n",
    "    r2.append(lr.score(x_test, y_test))\n",
    "    resid = y_test - lr.predict(x_test)\n",
    "    rss = sum(resid**2)\n",
    "    n = len(resid)\n",
    "    k = l\n",
    "    bic.append(n*np.log(rss/n) + k*np.log(n))\n",
    "\n",
    "plt.plot(L,r2)\n",
    "plt.xlabel('Number of Lags')\n",
    "plt.ylabel('R2')\n",
    "plt.show()\n",
    "\n",
    "plt.plot(L,bic)\n",
    "plt.xlabel('Number of Lags')\n",
    "plt.ylabel('BIC')\n",
    "plt.show()"
   ]
  },
  {
   "cell_type": "code",
   "execution_count": 257,
   "metadata": {},
   "outputs": [
    {
     "data": {
      "text/plain": [
       "[<matplotlib.lines.Line2D at 0x1c116c92048>]"
      ]
     },
     "execution_count": 257,
     "metadata": {},
     "output_type": "execute_result"
    },
    {
     "data": {
      "image/png": "[encoded data removed]",
      "text/plain": [
       "<matplotlib.figure.Figure at 0x1c1173f52e8>"
      ]
     },
     "metadata": {},
     "output_type": "display_data"
    }
   ],
   "source": [
    "plt.plot(acf(mydata['ratio_opt']))"
   ]
  },
  {
   "cell_type": "markdown",
   "metadata": {},
   "source": [
    "#### Apply Ljung-Box Test for Serial Correlation in OPT Returns"
   ]
  },
  {
   "cell_type": "code",
   "execution_count": 258,
   "metadata": {},
   "outputs": [],
   "source": [
    "#plt.plot(acorr_ljungbox(mydata['ratio_opt'])[1])"
   ]
  },
  {
   "cell_type": "markdown",
   "metadata": {},
   "source": [
    "#### Apply Ljung-Box Test to check for Autocorrelation in residuals of OPT model"
   ]
  },
  {
   "cell_type": "code",
   "execution_count": 259,
   "metadata": {},
   "outputs": [
    {
     "data": {
      "text/plain": [
       "(array([  0.86035085,   1.15691364,   2.30620005,   2.31210933,\n",
       "          2.39621806,   2.45816361,   3.22968184,   4.51563927,\n",
       "          6.30289362,   6.56813398,   6.90426776,   8.02202454,\n",
       "          8.15996034,   8.59171162,   9.8481307 ,  10.32711529,\n",
       "         10.32790097,  10.61396298,  10.67511619,  10.71836679,\n",
       "         10.77376425,  10.8499126 ,  10.85006574,  10.85229304,\n",
       "         11.57582853,  11.75476334,  11.78104184,  13.30955389,\n",
       "         13.68353317,  14.57399894,  15.60202155,  15.61214293,\n",
       "         15.67944397,  19.00675784,  19.04512043,  19.19830039,\n",
       "         19.19983639,  19.24561408,  19.30699722,  19.38142553]),\n",
       " array([ 0.35364053,  0.56076306,  0.51133418,  0.67856523,  0.79203719,\n",
       "         0.87312013,  0.86297309,  0.80786642,  0.70926226,  0.76548925,\n",
       "         0.80678224,  0.78340688,  0.83302516,  0.85628327,  0.82918257,\n",
       "         0.84899639,  0.88929969,  0.91001476,  0.93428367,  0.95320163,\n",
       "         0.96701342,  0.97682443,  0.98466636,  0.99002695,  0.98966325,\n",
       "         0.99247136,  0.99509157,  0.99140743,  0.99286534,  0.99193421,\n",
       "         0.99028523,  0.99337664,  0.99538736,  0.98221938,  0.98707173,\n",
       "         0.99016448,  0.99310759,  0.99511311,  0.99653812,  0.99755036]))"
      ]
     },
     "execution_count": 259,
     "metadata": {},
     "output_type": "execute_result"
    }
   ],
   "source": [
    "acorr_ljungbox(OPTresid)"
   ]
  },
  {
   "cell_type": "code",
   "execution_count": 260,
   "metadata": {},
   "outputs": [
    {
     "data": {
      "text/plain": [
       "[<matplotlib.lines.Line2D at 0x1c1175758d0>]"
      ]
     },
     "execution_count": 260,
     "metadata": {},
     "output_type": "execute_result"
    },
    {
     "data": {
      "image/png": "[encoded data removed]",
      "text/plain": [
       "<matplotlib.figure.Figure at 0x1c1139e4160>"
      ]
     },
     "metadata": {},
     "output_type": "display_data"
    }
   ],
   "source": [
    "plt.plot(acorr_ljungbox(OPTresid)[1])"
   ]
  },
  {
   "cell_type": "code",
   "execution_count": null,
   "metadata": {},
   "outputs": [],
   "source": []
  },
  {
   "cell_type": "code",
   "execution_count": 207,
   "metadata": {},
   "outputs": [],
   "source": [
    "mydata = master['VX1-OPT_Spread'].to_frame()\n",
    "#mydata['ratio_VX1-OPT'] = np.log(mydata['VX1-OPT_Spread']/mydata['VX1-OPT_Spread'].shift(1))\n",
    "mydata['ratio_VX1-OPT'] = (mydata['VX1-OPT_Spread']/mydata['VX1-OPT_Spread'].shift(1))"
   ]
  },
  {
   "cell_type": "code",
   "execution_count": 208,
   "metadata": {},
   "outputs": [
    {
     "data": {
      "text/plain": [
       "VX1-OPT_Spread    0\n",
       "ratio_VX1-OPT     1\n",
       "dtype: int64"
      ]
     },
     "execution_count": 208,
     "metadata": {},
     "output_type": "execute_result"
    }
   ],
   "source": [
    "mydata.isna().sum()"
   ]
  },
  {
   "cell_type": "code",
   "execution_count": 209,
   "metadata": {},
   "outputs": [],
   "source": [
    "mydata = mydata[~mydata['ratio_VX1-OPT'].isna()]"
   ]
  },
  {
   "cell_type": "code",
   "execution_count": 210,
   "metadata": {},
   "outputs": [
    {
     "data": {
      "text/html": [
       "<div>\n",
       "<style scoped>\n",
       "    .dataframe tbody tr th:only-of-type {\n",
       "        vertical-align: middle;\n",
       "    }\n",
       "\n",
       "    .dataframe tbody tr th {\n",
       "        vertical-align: top;\n",
       "    }\n",
       "\n",
       "    .dataframe thead th {\n",
       "        text-align: right;\n",
       "    }\n",
       "</style>\n",
       "<table border=\"1\" class=\"dataframe\">\n",
       "  <thead>\n",
       "    <tr style=\"text-align: right;\">\n",
       "      <th></th>\n",
       "      <th>VX1-OPT_Spread</th>\n",
       "      <th>ratio_VX1-OPT</th>\n",
       "    </tr>\n",
       "  </thead>\n",
       "  <tbody>\n",
       "    <tr>\n",
       "      <th>2015-01-02 09:50:00</th>\n",
       "      <td>3.4435</td>\n",
       "      <td>1.064748</td>\n",
       "    </tr>\n",
       "    <tr>\n",
       "      <th>2015-01-02 10:00:00</th>\n",
       "      <td>3.2757</td>\n",
       "      <td>0.951271</td>\n",
       "    </tr>\n",
       "    <tr>\n",
       "      <th>2015-01-02 10:10:00</th>\n",
       "      <td>3.0872</td>\n",
       "      <td>0.942455</td>\n",
       "    </tr>\n",
       "    <tr>\n",
       "      <th>2015-01-02 10:20:00</th>\n",
       "      <td>2.9970</td>\n",
       "      <td>0.970783</td>\n",
       "    </tr>\n",
       "    <tr>\n",
       "      <th>2015-01-02 10:30:00</th>\n",
       "      <td>3.3090</td>\n",
       "      <td>1.104104</td>\n",
       "    </tr>\n",
       "    <tr>\n",
       "      <th>2015-01-02 10:40:00</th>\n",
       "      <td>3.5527</td>\n",
       "      <td>1.073648</td>\n",
       "    </tr>\n",
       "    <tr>\n",
       "      <th>2015-01-02 10:50:00</th>\n",
       "      <td>3.2944</td>\n",
       "      <td>0.927295</td>\n",
       "    </tr>\n",
       "    <tr>\n",
       "      <th>2015-01-02 11:00:00</th>\n",
       "      <td>3.2328</td>\n",
       "      <td>0.981302</td>\n",
       "    </tr>\n",
       "    <tr>\n",
       "      <th>2015-01-02 11:10:00</th>\n",
       "      <td>3.0407</td>\n",
       "      <td>0.940578</td>\n",
       "    </tr>\n",
       "    <tr>\n",
       "      <th>2015-01-02 11:20:00</th>\n",
       "      <td>3.1958</td>\n",
       "      <td>1.051008</td>\n",
       "    </tr>\n",
       "  </tbody>\n",
       "</table>\n",
       "</div>"
      ],
      "text/plain": [
       "                     VX1-OPT_Spread  ratio_VX1-OPT\n",
       "2015-01-02 09:50:00          3.4435       1.064748\n",
       "2015-01-02 10:00:00          3.2757       0.951271\n",
       "2015-01-02 10:10:00          3.0872       0.942455\n",
       "2015-01-02 10:20:00          2.9970       0.970783\n",
       "2015-01-02 10:30:00          3.3090       1.104104\n",
       "2015-01-02 10:40:00          3.5527       1.073648\n",
       "2015-01-02 10:50:00          3.2944       0.927295\n",
       "2015-01-02 11:00:00          3.2328       0.981302\n",
       "2015-01-02 11:10:00          3.0407       0.940578\n",
       "2015-01-02 11:20:00          3.1958       1.051008"
      ]
     },
     "execution_count": 210,
     "metadata": {},
     "output_type": "execute_result"
    }
   ],
   "source": [
    "mydata.head(10)"
   ]
  },
  {
   "cell_type": "code",
   "execution_count": 211,
   "metadata": {},
   "outputs": [
    {
     "data": {
      "text/plain": [
       "[<matplotlib.lines.Line2D at 0x1c11786bf60>]"
      ]
     },
     "execution_count": 211,
     "metadata": {},
     "output_type": "execute_result"
    },
    {
     "data": {
      "image/png": "[encoded data removed]",
      "text/plain": [
       "<matplotlib.figure.Figure at 0x1c117934400>"
      ]
     },
     "metadata": {},
     "output_type": "display_data"
    }
   ],
   "source": [
    "plt.plot(acorr_ljungbox(mydata['ratio_VX1-OPT'])[1])"
   ]
  },
  {
   "cell_type": "code",
   "execution_count": 212,
   "metadata": {},
   "outputs": [
    {
     "data": {
      "text/plain": [
       "(array([  968.77233002,   987.36156886,  1128.38480813,  1137.27845351,\n",
       "         1139.06301787,  1142.90899054,  1145.21606042,  1203.54299351,\n",
       "         1234.58083992,  1234.88677987,  1288.22381948,  1300.41776456,\n",
       "         1376.9699933 ,  1396.93443094,  1481.29942625,  1492.26414844,\n",
       "         1531.88611358,  1534.09305383,  1535.00399524,  1536.46331237,\n",
       "         1537.38677283,  1576.06531578,  1578.05551935,  1605.35593356,\n",
       "         1607.40204262,  1622.51844565,  1724.82448447,  1726.9103448 ,\n",
       "         1737.34996673,  1746.53860789,  1747.66849922,  1748.4143192 ,\n",
       "         1748.50090139,  1769.6025733 ,  1799.37817089,  1808.46262312,\n",
       "         1816.38152701,  1828.64845496,  1877.94623223,  1902.11577358]),\n",
       " array([  1.10190329e-212,   3.95511851e-215,   2.52874613e-244,\n",
       "          6.29102651e-245,   4.63865583e-244,   1.08372556e-243,\n",
       "          4.94830558e-243,   1.64539455e-254,   4.14678401e-260,\n",
       "          4.29277630e-259,   1.54974810e-269,   4.04856341e-271,\n",
       "          1.40424692e-286,   7.42724214e-290,   5.29773634e-307,\n",
       "          2.34598341e-308,   0.00000000e+000,   0.00000000e+000,\n",
       "          0.00000000e+000,   0.00000000e+000,   0.00000000e+000,\n",
       "          0.00000000e+000,   0.00000000e+000,   0.00000000e+000,\n",
       "          0.00000000e+000,   0.00000000e+000,   0.00000000e+000,\n",
       "          0.00000000e+000,   0.00000000e+000,   0.00000000e+000,\n",
       "          0.00000000e+000,   0.00000000e+000,   0.00000000e+000,\n",
       "          0.00000000e+000,   0.00000000e+000,   0.00000000e+000,\n",
       "          0.00000000e+000,   0.00000000e+000,   0.00000000e+000,\n",
       "          0.00000000e+000]))"
      ]
     },
     "execution_count": 212,
     "metadata": {},
     "output_type": "execute_result"
    }
   ],
   "source": [
    "acorr_ljungbox(mydata['ratio_VX1-OPT'])"
   ]
  },
  {
   "cell_type": "markdown",
   "metadata": {},
   "source": [
    "### Build Third Null:\n",
    "### Predict log of VX1 price as function of log for implied vol of VIX options: $\\widehat{ln(\\frac{V_{t}}{V_{t-1}})} = \\alpha + \\beta ln(\\frac{V\\sigma_{t-1}}{V\\sigma_{t-2}})$ "
   ]
  },
  {
   "cell_type": "markdown",
   "metadata": {},
   "source": [
    "#### Load VIX options prices (implied volatility levels for options on VX1, the lead VIX future) "
   ]
  },
  {
   "cell_type": "code",
   "execution_count": 48,
   "metadata": {},
   "outputs": [],
   "source": [
    "#vix_vol = pickle.load(open(os.getcwd() + r'\\Data\\Intraday\\Pickle\\vix_vol.pkl', \"rb\"))\n",
    "#vix_vol = pickle.load(open(os.getcwd() + r'\\Data\\Intraday\\Pickle\\vix_vol_2terms.pkl', \"rb\"))"
   ]
  },
  {
   "cell_type": "code",
   "execution_count": 49,
   "metadata": {},
   "outputs": [],
   "source": [
    "#mydata = vx1_opt['Mid'].to_frame()"
   ]
  },
  {
   "cell_type": "code",
   "execution_count": 261,
   "metadata": {},
   "outputs": [],
   "source": [
    "mydata = master[['VX1_Future','VIX_ImpVol']].copy()\n",
    "mydata['ratio'] = np.log(mydata['VX1_Future']/mydata['VX1_Future'].shift(1))\n",
    "mydata['ratio_VIX_ImpVol'] = np.log(mydata['VIX_ImpVol']/mydata['VIX_ImpVol'].shift(1))"
   ]
  },
  {
   "cell_type": "code",
   "execution_count": 262,
   "metadata": {},
   "outputs": [
    {
     "data": {
      "text/html": [
       "<div>\n",
       "<style scoped>\n",
       "    .dataframe tbody tr th:only-of-type {\n",
       "        vertical-align: middle;\n",
       "    }\n",
       "\n",
       "    .dataframe tbody tr th {\n",
       "        vertical-align: top;\n",
       "    }\n",
       "\n",
       "    .dataframe thead th {\n",
       "        text-align: right;\n",
       "    }\n",
       "</style>\n",
       "<table border=\"1\" class=\"dataframe\">\n",
       "  <thead>\n",
       "    <tr style=\"text-align: right;\">\n",
       "      <th></th>\n",
       "      <th>VX1_Future</th>\n",
       "      <th>VIX_ImpVol</th>\n",
       "      <th>ratio</th>\n",
       "      <th>ratio_VIX_ImpVol</th>\n",
       "      <th>shift1</th>\n",
       "      <th>shift2</th>\n",
       "      <th>shift3</th>\n",
       "      <th>shift4</th>\n",
       "      <th>shift5</th>\n",
       "      <th>shift6</th>\n",
       "      <th>shift7</th>\n",
       "      <th>shift8</th>\n",
       "      <th>shift9</th>\n",
       "      <th>shift10</th>\n",
       "    </tr>\n",
       "  </thead>\n",
       "  <tbody>\n",
       "    <tr>\n",
       "      <th>2015-01-02 11:30:00</th>\n",
       "      <td>18.575</td>\n",
       "      <td>1.3041</td>\n",
       "      <td>-0.008043</td>\n",
       "      <td>0.005999</td>\n",
       "      <td>0.009612</td>\n",
       "      <td>0.033582</td>\n",
       "      <td>-0.001368</td>\n",
       "      <td>0.005404</td>\n",
       "      <td>0.039929</td>\n",
       "      <td>0.003795</td>\n",
       "      <td>-0.000084</td>\n",
       "      <td>0.035164</td>\n",
       "      <td>0.002015</td>\n",
       "      <td>-0.003501</td>\n",
       "    </tr>\n",
       "    <tr>\n",
       "      <th>2015-01-02 11:40:00</th>\n",
       "      <td>18.675</td>\n",
       "      <td>1.2942</td>\n",
       "      <td>0.005369</td>\n",
       "      <td>-0.007620</td>\n",
       "      <td>0.005999</td>\n",
       "      <td>0.009612</td>\n",
       "      <td>0.033582</td>\n",
       "      <td>-0.001368</td>\n",
       "      <td>0.005404</td>\n",
       "      <td>0.039929</td>\n",
       "      <td>0.003795</td>\n",
       "      <td>-0.000084</td>\n",
       "      <td>0.035164</td>\n",
       "      <td>0.002015</td>\n",
       "    </tr>\n",
       "    <tr>\n",
       "      <th>2015-01-02 11:50:00</th>\n",
       "      <td>18.625</td>\n",
       "      <td>1.2983</td>\n",
       "      <td>-0.002681</td>\n",
       "      <td>0.003163</td>\n",
       "      <td>-0.007620</td>\n",
       "      <td>0.005999</td>\n",
       "      <td>0.009612</td>\n",
       "      <td>0.033582</td>\n",
       "      <td>-0.001368</td>\n",
       "      <td>0.005404</td>\n",
       "      <td>0.039929</td>\n",
       "      <td>0.003795</td>\n",
       "      <td>-0.000084</td>\n",
       "      <td>0.035164</td>\n",
       "    </tr>\n",
       "    <tr>\n",
       "      <th>2015-01-02 12:00:00</th>\n",
       "      <td>18.475</td>\n",
       "      <td>1.2559</td>\n",
       "      <td>-0.008086</td>\n",
       "      <td>-0.033203</td>\n",
       "      <td>0.003163</td>\n",
       "      <td>-0.007620</td>\n",
       "      <td>0.005999</td>\n",
       "      <td>0.009612</td>\n",
       "      <td>0.033582</td>\n",
       "      <td>-0.001368</td>\n",
       "      <td>0.005404</td>\n",
       "      <td>0.039929</td>\n",
       "      <td>0.003795</td>\n",
       "      <td>-0.000084</td>\n",
       "    </tr>\n",
       "    <tr>\n",
       "      <th>2015-01-02 12:10:00</th>\n",
       "      <td>18.225</td>\n",
       "      <td>1.2449</td>\n",
       "      <td>-0.013624</td>\n",
       "      <td>-0.008797</td>\n",
       "      <td>-0.033203</td>\n",
       "      <td>0.003163</td>\n",
       "      <td>-0.007620</td>\n",
       "      <td>0.005999</td>\n",
       "      <td>0.009612</td>\n",
       "      <td>0.033582</td>\n",
       "      <td>-0.001368</td>\n",
       "      <td>0.005404</td>\n",
       "      <td>0.039929</td>\n",
       "      <td>0.003795</td>\n",
       "    </tr>\n",
       "  </tbody>\n",
       "</table>\n",
       "</div>"
      ],
      "text/plain": [
       "                     VX1_Future  VIX_ImpVol     ratio  ratio_VIX_ImpVol  \\\n",
       "2015-01-02 11:30:00      18.575      1.3041 -0.008043          0.005999   \n",
       "2015-01-02 11:40:00      18.675      1.2942  0.005369         -0.007620   \n",
       "2015-01-02 11:50:00      18.625      1.2983 -0.002681          0.003163   \n",
       "2015-01-02 12:00:00      18.475      1.2559 -0.008086         -0.033203   \n",
       "2015-01-02 12:10:00      18.225      1.2449 -0.013624         -0.008797   \n",
       "\n",
       "                       shift1    shift2    shift3    shift4    shift5  \\\n",
       "2015-01-02 11:30:00  0.009612  0.033582 -0.001368  0.005404  0.039929   \n",
       "2015-01-02 11:40:00  0.005999  0.009612  0.033582 -0.001368  0.005404   \n",
       "2015-01-02 11:50:00 -0.007620  0.005999  0.009612  0.033582 -0.001368   \n",
       "2015-01-02 12:00:00  0.003163 -0.007620  0.005999  0.009612  0.033582   \n",
       "2015-01-02 12:10:00 -0.033203  0.003163 -0.007620  0.005999  0.009612   \n",
       "\n",
       "                       shift6    shift7    shift8    shift9   shift10  \n",
       "2015-01-02 11:30:00  0.003795 -0.000084  0.035164  0.002015 -0.003501  \n",
       "2015-01-02 11:40:00  0.039929  0.003795 -0.000084  0.035164  0.002015  \n",
       "2015-01-02 11:50:00  0.005404  0.039929  0.003795 -0.000084  0.035164  \n",
       "2015-01-02 12:00:00 -0.001368  0.005404  0.039929  0.003795 -0.000084  \n",
       "2015-01-02 12:10:00  0.033582 -0.001368  0.005404  0.039929  0.003795  "
      ]
     },
     "execution_count": 262,
     "metadata": {},
     "output_type": "execute_result"
    }
   ],
   "source": [
    "mydata['shift1'] = mydata['ratio_VIX_ImpVol'].shift(1)\n",
    "mydata['shift2'] = mydata['ratio_VIX_ImpVol'].shift(2)\n",
    "mydata['shift3'] = mydata['ratio_VIX_ImpVol'].shift(3)\n",
    "mydata['shift4'] = mydata['ratio_VIX_ImpVol'].shift(4)\n",
    "mydata['shift5'] = mydata['ratio_VIX_ImpVol'].shift(5)\n",
    "mydata['shift6'] = mydata['ratio_VIX_ImpVol'].shift(6)\n",
    "mydata['shift7'] = mydata['ratio_VIX_ImpVol'].shift(7)\n",
    "mydata['shift8'] = mydata['ratio_VIX_ImpVol'].shift(8)\n",
    "mydata['shift9'] = mydata['ratio_VIX_ImpVol'].shift(9)\n",
    "mydata['shift10'] = mydata['ratio_VIX_ImpVol'].shift(10)\n",
    "mydata.dropna(inplace=True)\n",
    "mydata.head()"
   ]
  },
  {
   "cell_type": "code",
   "execution_count": 263,
   "metadata": {},
   "outputs": [],
   "source": [
    "y = mydata.iloc[:,2].values\n",
    "x = mydata.iloc[:,4:].values"
   ]
  },
  {
   "cell_type": "code",
   "execution_count": 264,
   "metadata": {},
   "outputs": [],
   "source": [
    "nTrain = int(.75*x.shape[0])\n",
    "x_train, x_test, y_train, y_test = x[:nTrain,], x[nTrain:,], y[:nTrain,], y[nTrain:,]"
   ]
  },
  {
   "cell_type": "code",
   "execution_count": 265,
   "metadata": {},
   "outputs": [
    {
     "data": {
      "text/plain": [
       "LinearRegression(copy_X=True, fit_intercept=True, n_jobs=1, normalize=False)"
      ]
     },
     "execution_count": 265,
     "metadata": {},
     "output_type": "execute_result"
    }
   ],
   "source": [
    "lr = linear_model.LinearRegression()\n",
    "lr.fit(x_train,y_train)"
   ]
  },
  {
   "cell_type": "code",
   "execution_count": 266,
   "metadata": {},
   "outputs": [
    {
     "data": {
      "text/plain": [
       "-0.00062052483579555506"
      ]
     },
     "execution_count": 266,
     "metadata": {},
     "output_type": "execute_result"
    }
   ],
   "source": [
    "r2_score(y_test,lr.predict(x_test))"
   ]
  },
  {
   "cell_type": "code",
   "execution_count": 267,
   "metadata": {},
   "outputs": [
    {
     "data": {
      "text/plain": [
       "array([-0.00103965, -0.00053696,  0.00062105,  0.00068353, -0.000441  ,\n",
       "       -0.00137277,  0.00192393,  0.00497347,  0.00226999,  0.00455936])"
      ]
     },
     "execution_count": 267,
     "metadata": {},
     "output_type": "execute_result"
    }
   ],
   "source": [
    "lr.coef_"
   ]
  },
  {
   "cell_type": "code",
   "execution_count": 268,
   "metadata": {},
   "outputs": [
    {
     "data": {
      "text/plain": [
       "<matplotlib.axes._subplots.AxesSubplot at 0x1c116f486d8>"
      ]
     },
     "execution_count": 268,
     "metadata": {},
     "output_type": "execute_result"
    },
    {
     "data": {
      "image/png": "[encoded data removed]",
      "text/plain": [
       "<matplotlib.figure.Figure at 0x1c116f59e80>"
      ]
     },
     "metadata": {},
     "output_type": "display_data"
    }
   ],
   "source": [
    "mydata.corr().iloc[:,2].plot(kind='bar')"
   ]
  },
  {
   "cell_type": "code",
   "execution_count": 269,
   "metadata": {},
   "outputs": [
    {
     "data": {
      "image/png": "[encoded data removed]",
      "text/plain": [
       "<matplotlib.figure.Figure at 0x1c116ba04e0>"
      ]
     },
     "metadata": {},
     "output_type": "display_data"
    },
    {
     "data": {
      "image/png": "[encoded data removed]",
      "text/plain": [
       "<matplotlib.figure.Figure at 0x1c119d064a8>"
      ]
     },
     "metadata": {},
     "output_type": "display_data"
    }
   ],
   "source": [
    "L = range(1,10)\n",
    "r2 = []\n",
    "bic = []\n",
    "nTrain = int(.75*x.shape[0])\n",
    "for l in L:\n",
    "    y = mydata.iloc[:,2].values\n",
    "    x = mydata.iloc[:,4:4+l].values\n",
    "    x_train, x_test, y_train, y_test = x[:nTrain,], x[nTrain:,], y[:nTrain,], y[nTrain:,]\n",
    "    lr = linear_model.LinearRegression()\n",
    "    lr.fit(x_train,y_train)\n",
    "    r2.append(lr.score(x_test, y_test))\n",
    "    resid = y_test - lr.predict(x_test)\n",
    "    rss = sum(resid**2)\n",
    "    n = len(resid)\n",
    "    k = l\n",
    "    bic.append(n*np.log(rss/n) + k*np.log(n))\n",
    "\n",
    "plt.plot(L,r2)\n",
    "plt.xlabel('Number of Lags')\n",
    "plt.ylabel('R2')\n",
    "plt.show()\n",
    "\n",
    "plt.plot(L,bic)\n",
    "plt.xlabel('Number of Lags')\n",
    "plt.ylabel('BIC')\n",
    "plt.show()"
   ]
  },
  {
   "cell_type": "code",
   "execution_count": 270,
   "metadata": {},
   "outputs": [],
   "source": [
    "predictdata = mydata.iloc[nTrain:,:].copy()"
   ]
  },
  {
   "cell_type": "code",
   "execution_count": 271,
   "metadata": {},
   "outputs": [],
   "source": [
    "predictdata['resid'] = np.abs(y_test - (lr.predict(x_test)))"
   ]
  },
  {
   "cell_type": "code",
   "execution_count": 272,
   "metadata": {},
   "outputs": [
    {
     "data": {
      "text/plain": [
       "<matplotlib.axes._subplots.AxesSubplot at 0x1c119ce0710>"
      ]
     },
     "execution_count": 272,
     "metadata": {},
     "output_type": "execute_result"
    },
    {
     "data": {
      "image/png": "[encoded data removed]",
      "text/plain": [
       "<matplotlib.figure.Figure at 0x1c119cc4240>"
      ]
     },
     "metadata": {},
     "output_type": "display_data"
    }
   ],
   "source": [
    "predictdata['resid'].plot(figsize=(15,7))"
   ]
  },
  {
   "cell_type": "code",
   "execution_count": 273,
   "metadata": {},
   "outputs": [
    {
     "data": {
      "text/html": [
       "<div>\n",
       "<style scoped>\n",
       "    .dataframe tbody tr th:only-of-type {\n",
       "        vertical-align: middle;\n",
       "    }\n",
       "\n",
       "    .dataframe tbody tr th {\n",
       "        vertical-align: top;\n",
       "    }\n",
       "\n",
       "    .dataframe thead th {\n",
       "        text-align: right;\n",
       "    }\n",
       "</style>\n",
       "<table border=\"1\" class=\"dataframe\">\n",
       "  <thead>\n",
       "    <tr style=\"text-align: right;\">\n",
       "      <th></th>\n",
       "      <th>VX1_Future</th>\n",
       "      <th>VIX_ImpVol</th>\n",
       "      <th>ratio</th>\n",
       "      <th>ratio_VIX_ImpVol</th>\n",
       "      <th>shift1</th>\n",
       "      <th>shift2</th>\n",
       "      <th>shift3</th>\n",
       "      <th>shift4</th>\n",
       "      <th>shift5</th>\n",
       "      <th>shift6</th>\n",
       "      <th>shift7</th>\n",
       "      <th>shift8</th>\n",
       "      <th>shift9</th>\n",
       "      <th>shift10</th>\n",
       "      <th>resid</th>\n",
       "    </tr>\n",
       "  </thead>\n",
       "  <tbody>\n",
       "    <tr>\n",
       "      <th>2016-07-20 09:40:00</th>\n",
       "      <td>15.625</td>\n",
       "      <td>0.8781</td>\n",
       "      <td>0.245389</td>\n",
       "      <td>-0.018057</td>\n",
       "      <td>-0.006244</td>\n",
       "      <td>0.011739</td>\n",
       "      <td>-0.079420</td>\n",
       "      <td>0.008345</td>\n",
       "      <td>0.001572</td>\n",
       "      <td>0.002521</td>\n",
       "      <td>0.001263</td>\n",
       "      <td>-0.001999</td>\n",
       "      <td>0.058984</td>\n",
       "      <td>-0.077518</td>\n",
       "      <td>0.245422</td>\n",
       "    </tr>\n",
       "    <tr>\n",
       "      <th>2016-08-17 09:40:00</th>\n",
       "      <td>15.325</td>\n",
       "      <td>0.8972</td>\n",
       "      <td>0.178089</td>\n",
       "      <td>-0.003116</td>\n",
       "      <td>0.015904</td>\n",
       "      <td>-0.011114</td>\n",
       "      <td>-0.005789</td>\n",
       "      <td>0.000222</td>\n",
       "      <td>-0.000444</td>\n",
       "      <td>0.003223</td>\n",
       "      <td>-0.002113</td>\n",
       "      <td>-0.003881</td>\n",
       "      <td>-0.010787</td>\n",
       "      <td>-0.000109</td>\n",
       "      <td>0.178140</td>\n",
       "    </tr>\n",
       "    <tr>\n",
       "      <th>2016-09-09 09:40:00</th>\n",
       "      <td>14.175</td>\n",
       "      <td>0.8904</td>\n",
       "      <td>0.058093</td>\n",
       "      <td>0.076409</td>\n",
       "      <td>-0.003751</td>\n",
       "      <td>0.017053</td>\n",
       "      <td>-0.010996</td>\n",
       "      <td>0.006828</td>\n",
       "      <td>-0.000856</td>\n",
       "      <td>-0.004391</td>\n",
       "      <td>0.046456</td>\n",
       "      <td>0.011669</td>\n",
       "      <td>-0.004761</td>\n",
       "      <td>-0.055310</td>\n",
       "      <td>0.057980</td>\n",
       "    </tr>\n",
       "    <tr>\n",
       "      <th>2016-09-21 09:40:00</th>\n",
       "      <td>16.925</td>\n",
       "      <td>1.0497</td>\n",
       "      <td>0.064046</td>\n",
       "      <td>-0.017471</td>\n",
       "      <td>-0.000655</td>\n",
       "      <td>-0.003456</td>\n",
       "      <td>0.005516</td>\n",
       "      <td>0.003287</td>\n",
       "      <td>0.001318</td>\n",
       "      <td>-0.003760</td>\n",
       "      <td>-0.007385</td>\n",
       "      <td>0.011805</td>\n",
       "      <td>0.000471</td>\n",
       "      <td>-0.008450</td>\n",
       "      <td>0.064002</td>\n",
       "    </tr>\n",
       "    <tr>\n",
       "      <th>2016-09-26 09:40:00</th>\n",
       "      <td>16.375</td>\n",
       "      <td>1.0061</td>\n",
       "      <td>0.050089</td>\n",
       "      <td>0.112999</td>\n",
       "      <td>-0.001223</td>\n",
       "      <td>0.000334</td>\n",
       "      <td>-0.006759</td>\n",
       "      <td>0.015806</td>\n",
       "      <td>-0.007823</td>\n",
       "      <td>-0.001001</td>\n",
       "      <td>0.008264</td>\n",
       "      <td>-0.000336</td>\n",
       "      <td>0.000000</td>\n",
       "      <td>-0.007816</td>\n",
       "      <td>0.050074</td>\n",
       "    </tr>\n",
       "    <tr>\n",
       "      <th>2016-10-13 09:40:00</th>\n",
       "      <td>17.225</td>\n",
       "      <td>1.0852</td>\n",
       "      <td>0.053664</td>\n",
       "      <td>0.063532</td>\n",
       "      <td>-0.075531</td>\n",
       "      <td>0.097972</td>\n",
       "      <td>0.008066</td>\n",
       "      <td>-0.003032</td>\n",
       "      <td>-0.000807</td>\n",
       "      <td>-0.002619</td>\n",
       "      <td>-0.001608</td>\n",
       "      <td>0.001407</td>\n",
       "      <td>0.001308</td>\n",
       "      <td>-0.006824</td>\n",
       "      <td>0.053638</td>\n",
       "    </tr>\n",
       "    <tr>\n",
       "      <th>2016-11-07 09:40:00</th>\n",
       "      <td>16.925</td>\n",
       "      <td>1.3061</td>\n",
       "      <td>-0.132608</td>\n",
       "      <td>-0.083963</td>\n",
       "      <td>0.025742</td>\n",
       "      <td>-0.037360</td>\n",
       "      <td>0.011337</td>\n",
       "      <td>0.011324</td>\n",
       "      <td>0.000641</td>\n",
       "      <td>0.011894</td>\n",
       "      <td>-0.026600</td>\n",
       "      <td>0.042071</td>\n",
       "      <td>0.009118</td>\n",
       "      <td>-0.001255</td>\n",
       "      <td>0.132731</td>\n",
       "    </tr>\n",
       "    <tr>\n",
       "      <th>2016-11-16 09:40:00</th>\n",
       "      <td>15.625</td>\n",
       "      <td>0.8701</td>\n",
       "      <td>0.168655</td>\n",
       "      <td>-0.011768</td>\n",
       "      <td>-0.354913</td>\n",
       "      <td>0.347895</td>\n",
       "      <td>0.007699</td>\n",
       "      <td>0.005128</td>\n",
       "      <td>-0.011021</td>\n",
       "      <td>-0.002032</td>\n",
       "      <td>0.006675</td>\n",
       "      <td>0.006949</td>\n",
       "      <td>-0.001599</td>\n",
       "      <td>0.002056</td>\n",
       "      <td>0.168432</td>\n",
       "    </tr>\n",
       "    <tr>\n",
       "      <th>2016-12-21 09:40:00</th>\n",
       "      <td>14.125</td>\n",
       "      <td>0.8347</td>\n",
       "      <td>0.199099</td>\n",
       "      <td>-0.007400</td>\n",
       "      <td>0.004888</td>\n",
       "      <td>-0.064441</td>\n",
       "      <td>0.008665</td>\n",
       "      <td>0.067557</td>\n",
       "      <td>-0.011302</td>\n",
       "      <td>-0.062114</td>\n",
       "      <td>0.006651</td>\n",
       "      <td>0.004535</td>\n",
       "      <td>-0.002043</td>\n",
       "      <td>0.002498</td>\n",
       "      <td>0.198904</td>\n",
       "    </tr>\n",
       "  </tbody>\n",
       "</table>\n",
       "</div>"
      ],
      "text/plain": [
       "                     VX1_Future  VIX_ImpVol     ratio  ratio_VIX_ImpVol  \\\n",
       "2016-07-20 09:40:00      15.625      0.8781  0.245389         -0.018057   \n",
       "2016-08-17 09:40:00      15.325      0.8972  0.178089         -0.003116   \n",
       "2016-09-09 09:40:00      14.175      0.8904  0.058093          0.076409   \n",
       "2016-09-21 09:40:00      16.925      1.0497  0.064046         -0.017471   \n",
       "2016-09-26 09:40:00      16.375      1.0061  0.050089          0.112999   \n",
       "2016-10-13 09:40:00      17.225      1.0852  0.053664          0.063532   \n",
       "2016-11-07 09:40:00      16.925      1.3061 -0.132608         -0.083963   \n",
       "2016-11-16 09:40:00      15.625      0.8701  0.168655         -0.011768   \n",
       "2016-12-21 09:40:00      14.125      0.8347  0.199099         -0.007400   \n",
       "\n",
       "                       shift1    shift2    shift3    shift4    shift5  \\\n",
       "2016-07-20 09:40:00 -0.006244  0.011739 -0.079420  0.008345  0.001572   \n",
       "2016-08-17 09:40:00  0.015904 -0.011114 -0.005789  0.000222 -0.000444   \n",
       "2016-09-09 09:40:00 -0.003751  0.017053 -0.010996  0.006828 -0.000856   \n",
       "2016-09-21 09:40:00 -0.000655 -0.003456  0.005516  0.003287  0.001318   \n",
       "2016-09-26 09:40:00 -0.001223  0.000334 -0.006759  0.015806 -0.007823   \n",
       "2016-10-13 09:40:00 -0.075531  0.097972  0.008066 -0.003032 -0.000807   \n",
       "2016-11-07 09:40:00  0.025742 -0.037360  0.011337  0.011324  0.000641   \n",
       "2016-11-16 09:40:00 -0.354913  0.347895  0.007699  0.005128 -0.011021   \n",
       "2016-12-21 09:40:00  0.004888 -0.064441  0.008665  0.067557 -0.011302   \n",
       "\n",
       "                       shift6    shift7    shift8    shift9   shift10  \\\n",
       "2016-07-20 09:40:00  0.002521  0.001263 -0.001999  0.058984 -0.077518   \n",
       "2016-08-17 09:40:00  0.003223 -0.002113 -0.003881 -0.010787 -0.000109   \n",
       "2016-09-09 09:40:00 -0.004391  0.046456  0.011669 -0.004761 -0.055310   \n",
       "2016-09-21 09:40:00 -0.003760 -0.007385  0.011805  0.000471 -0.008450   \n",
       "2016-09-26 09:40:00 -0.001001  0.008264 -0.000336  0.000000 -0.007816   \n",
       "2016-10-13 09:40:00 -0.002619 -0.001608  0.001407  0.001308 -0.006824   \n",
       "2016-11-07 09:40:00  0.011894 -0.026600  0.042071  0.009118 -0.001255   \n",
       "2016-11-16 09:40:00 -0.002032  0.006675  0.006949 -0.001599  0.002056   \n",
       "2016-12-21 09:40:00 -0.062114  0.006651  0.004535 -0.002043  0.002498   \n",
       "\n",
       "                        resid  \n",
       "2016-07-20 09:40:00  0.245422  \n",
       "2016-08-17 09:40:00  0.178140  \n",
       "2016-09-09 09:40:00  0.057980  \n",
       "2016-09-21 09:40:00  0.064002  \n",
       "2016-09-26 09:40:00  0.050074  \n",
       "2016-10-13 09:40:00  0.053638  \n",
       "2016-11-07 09:40:00  0.132731  \n",
       "2016-11-16 09:40:00  0.168432  \n",
       "2016-12-21 09:40:00  0.198904  "
      ]
     },
     "execution_count": 273,
     "metadata": {},
     "output_type": "execute_result"
    }
   ],
   "source": [
    "predictdata[predictdata['resid']>0.05]"
   ]
  },
  {
   "cell_type": "code",
   "execution_count": 274,
   "metadata": {},
   "outputs": [
    {
     "data": {
      "text/plain": [
       "<matplotlib.axes._subplots.AxesSubplot at 0x1c10fc6a9b0>"
      ]
     },
     "execution_count": 274,
     "metadata": {},
     "output_type": "execute_result"
    },
    {
     "data": {
      "image/png": "[encoded data removed]",
      "text/plain": [
       "<matplotlib.figure.Figure at 0x1c116ab1630>"
      ]
     },
     "metadata": {},
     "output_type": "display_data"
    }
   ],
   "source": [
    "mydata['VIX_ImpVol'].plot(figsize=(15,7))"
   ]
  },
  {
   "cell_type": "markdown",
   "metadata": {},
   "source": [
    "### Examine Autocorrelation Function (ACF) of $u_t$ for Secondary Null Model (VIX_ImpVol), where $u_t = ln(\\frac{V_t}{V_{t-1}}) - \\widehat{ln(\\frac{V_t}{V_{t-1}})}$ "
   ]
  },
  {
   "cell_type": "code",
   "execution_count": 275,
   "metadata": {},
   "outputs": [
    {
     "data": {
      "text/plain": [
       "[<matplotlib.lines.Line2D at 0x1c119c9cac8>]"
      ]
     },
     "execution_count": 275,
     "metadata": {},
     "output_type": "execute_result"
    },
    {
     "data": {
      "image/png": "[encoded data removed]",
      "text/plain": [
       "<matplotlib.figure.Figure at 0x1c116cfce80>"
      ]
     },
     "metadata": {},
     "output_type": "display_data"
    }
   ],
   "source": [
    "VIXvol_resid = y_test - lr.predict(x_test)\n",
    "plt.plot(np.abs(VIXvol_resid))\n",
    "#plt.stem(acf(resid,nlags=100))"
   ]
  },
  {
   "cell_type": "code",
   "execution_count": 276,
   "metadata": {},
   "outputs": [
    {
     "data": {
      "text/plain": [
       "<Container object of 3 artists>"
      ]
     },
     "execution_count": 276,
     "metadata": {},
     "output_type": "execute_result"
    },
    {
     "data": {
      "image/png": "[encoded data removed]",
      "text/plain": [
       "<matplotlib.figure.Figure at 0x1c119ca0f60>"
      ]
     },
     "metadata": {},
     "output_type": "display_data"
    }
   ],
   "source": [
    "plt.stem(acf(VIXvol_resid,nlags=10))"
   ]
  },
  {
   "cell_type": "markdown",
   "metadata": {},
   "source": [
    "#### Apply Ljung-Box Test to check for Autocorrelation in residuals of VIX_ImpVol model"
   ]
  },
  {
   "cell_type": "code",
   "execution_count": 277,
   "metadata": {},
   "outputs": [
    {
     "data": {
      "text/plain": [
       "(array([  0.68192407,   0.68192431,   1.29253618,   1.31454339,\n",
       "          1.39791954,   1.5071625 ,   2.42007279,   2.6743404 ,\n",
       "          4.703607  ,   5.06453301,   5.43558526,   6.68045448,\n",
       "          6.82238979,   7.29361742,   8.52576694,   9.00384195,\n",
       "          9.00400377,   9.25831939,   9.31576375,   9.35742581,\n",
       "          9.4233377 ,   9.49500672,   9.49502818,   9.49911414,\n",
       "         10.23928427,  10.36392154,  10.38564918,  11.9474688 ,\n",
       "         12.30689905,  13.24569105,  14.15249311,  14.17387931,\n",
       "         14.29129117,  17.52634411,  17.55124981,  17.68291565,\n",
       "         17.68341305,  17.74908299,  17.78750123,  17.85425452]),\n",
       " array([ 0.40892496,  0.71108582,  0.73090619,  0.85890324,  0.92454072,\n",
       "         0.95901736,  0.93299446,  0.95310518,  0.85934258,  0.88682564,\n",
       "         0.90825284,  0.87798814,  0.91107091,  0.92279951,  0.90098119,\n",
       "         0.91325523,  0.94013611,  0.95345492,  0.96785907,  0.97838544,\n",
       "         0.98547283,  0.99033443,  0.99399097,  0.99632204,  0.99595751,\n",
       "         0.99727141,  0.99832376,  0.99650599,  0.9971485 ,  0.99649774,\n",
       "         0.99587605,  0.99729093,  0.99811992,  0.99125394,  0.99390243,\n",
       "         0.99553537,  0.99699096,  0.99791453,  0.99859145,  0.99903996]))"
      ]
     },
     "execution_count": 277,
     "metadata": {},
     "output_type": "execute_result"
    }
   ],
   "source": [
    "acorr_ljungbox(VIXvol_resid)"
   ]
  },
  {
   "cell_type": "code",
   "execution_count": 278,
   "metadata": {},
   "outputs": [
    {
     "data": {
      "text/plain": [
       "[<matplotlib.lines.Line2D at 0x1c11dd95198>]"
      ]
     },
     "execution_count": 278,
     "metadata": {},
     "output_type": "execute_result"
    },
    {
     "data": {
      "image/png": "[encoded data removed]",
      "text/plain": [
       "<matplotlib.figure.Figure at 0x1c116c01a58>"
      ]
     },
     "metadata": {},
     "output_type": "display_data"
    }
   ],
   "source": [
    "plt.plot(acorr_ljungbox(VIXvol_resid)[1])"
   ]
  },
  {
   "cell_type": "markdown",
   "metadata": {},
   "source": [
    "### Build Fourth Null:\n",
    "### Predict log of VX1 price as function of log for SPX Index Prices: $\\widehat{ln(\\frac{V_t}{V_{t-1}})} = \\alpha + \\beta ln(\\frac{SPX_{t-1}}{SPX_{t-2}})$ "
   ]
  },
  {
   "cell_type": "code",
   "execution_count": 279,
   "metadata": {},
   "outputs": [],
   "source": [
    "#spx_intra_returns = pickle.load(open(os.getcwd() + r'\\Data\\Intraday\\Pickle\\spx_intra_returns.pkl', \"rb\"))"
   ]
  },
  {
   "cell_type": "code",
   "execution_count": 280,
   "metadata": {},
   "outputs": [],
   "source": [
    "#mydata = vx1_opt['Mid'].to_frame()"
   ]
  },
  {
   "cell_type": "code",
   "execution_count": 281,
   "metadata": {},
   "outputs": [],
   "source": [
    "mydata = master[['VX1_Future','SPX_Index(fwd)']].copy()\n",
    "mydata['ratio'] = np.log(mydata['VX1_Future']/mydata['VX1_Future'].shift(1))\n",
    "mydata['ratio_SPX'] = np.log(mydata['SPX_Index(fwd)']/mydata['SPX_Index(fwd)'].shift(1))"
   ]
  },
  {
   "cell_type": "code",
   "execution_count": 282,
   "metadata": {},
   "outputs": [
    {
     "data": {
      "text/html": [
       "<div>\n",
       "<style scoped>\n",
       "    .dataframe tbody tr th:only-of-type {\n",
       "        vertical-align: middle;\n",
       "    }\n",
       "\n",
       "    .dataframe tbody tr th {\n",
       "        vertical-align: top;\n",
       "    }\n",
       "\n",
       "    .dataframe thead th {\n",
       "        text-align: right;\n",
       "    }\n",
       "</style>\n",
       "<table border=\"1\" class=\"dataframe\">\n",
       "  <thead>\n",
       "    <tr style=\"text-align: right;\">\n",
       "      <th></th>\n",
       "      <th>VX1_Future</th>\n",
       "      <th>SPX_Index(fwd)</th>\n",
       "      <th>ratio</th>\n",
       "      <th>ratio_SPX</th>\n",
       "      <th>shift1</th>\n",
       "      <th>shift2</th>\n",
       "      <th>shift3</th>\n",
       "      <th>shift4</th>\n",
       "      <th>shift5</th>\n",
       "      <th>shift6</th>\n",
       "      <th>shift7</th>\n",
       "      <th>shift8</th>\n",
       "      <th>shift9</th>\n",
       "      <th>shift10</th>\n",
       "    </tr>\n",
       "  </thead>\n",
       "  <tbody>\n",
       "    <tr>\n",
       "      <th>2015-01-02 11:30:00</th>\n",
       "      <td>18.575</td>\n",
       "      <td>2052.26</td>\n",
       "      <td>-0.008043</td>\n",
       "      <td>0.001190</td>\n",
       "      <td>-0.001087</td>\n",
       "      <td>-0.001908</td>\n",
       "      <td>0.000574</td>\n",
       "      <td>-0.000584</td>\n",
       "      <td>-0.003569</td>\n",
       "      <td>0.000465</td>\n",
       "      <td>-0.000155</td>\n",
       "      <td>-0.002513</td>\n",
       "      <td>-0.000184</td>\n",
       "      <td>-0.001522</td>\n",
       "    </tr>\n",
       "    <tr>\n",
       "      <th>2015-01-02 11:40:00</th>\n",
       "      <td>18.675</td>\n",
       "      <td>2052.14</td>\n",
       "      <td>0.005369</td>\n",
       "      <td>-0.000058</td>\n",
       "      <td>0.001190</td>\n",
       "      <td>-0.001087</td>\n",
       "      <td>-0.001908</td>\n",
       "      <td>0.000574</td>\n",
       "      <td>-0.000584</td>\n",
       "      <td>-0.003569</td>\n",
       "      <td>0.000465</td>\n",
       "      <td>-0.000155</td>\n",
       "      <td>-0.002513</td>\n",
       "      <td>-0.000184</td>\n",
       "    </tr>\n",
       "    <tr>\n",
       "      <th>2015-01-02 11:50:00</th>\n",
       "      <td>18.625</td>\n",
       "      <td>2051.52</td>\n",
       "      <td>-0.002681</td>\n",
       "      <td>-0.000302</td>\n",
       "      <td>-0.000058</td>\n",
       "      <td>0.001190</td>\n",
       "      <td>-0.001087</td>\n",
       "      <td>-0.001908</td>\n",
       "      <td>0.000574</td>\n",
       "      <td>-0.000584</td>\n",
       "      <td>-0.003569</td>\n",
       "      <td>0.000465</td>\n",
       "      <td>-0.000155</td>\n",
       "      <td>-0.002513</td>\n",
       "    </tr>\n",
       "    <tr>\n",
       "      <th>2015-01-02 12:00:00</th>\n",
       "      <td>18.475</td>\n",
       "      <td>2052.82</td>\n",
       "      <td>-0.008086</td>\n",
       "      <td>0.000633</td>\n",
       "      <td>-0.000302</td>\n",
       "      <td>-0.000058</td>\n",
       "      <td>0.001190</td>\n",
       "      <td>-0.001087</td>\n",
       "      <td>-0.001908</td>\n",
       "      <td>0.000574</td>\n",
       "      <td>-0.000584</td>\n",
       "      <td>-0.003569</td>\n",
       "      <td>0.000465</td>\n",
       "      <td>-0.000155</td>\n",
       "    </tr>\n",
       "    <tr>\n",
       "      <th>2015-01-02 12:10:00</th>\n",
       "      <td>18.225</td>\n",
       "      <td>2055.96</td>\n",
       "      <td>-0.013624</td>\n",
       "      <td>0.001528</td>\n",
       "      <td>0.000633</td>\n",
       "      <td>-0.000302</td>\n",
       "      <td>-0.000058</td>\n",
       "      <td>0.001190</td>\n",
       "      <td>-0.001087</td>\n",
       "      <td>-0.001908</td>\n",
       "      <td>0.000574</td>\n",
       "      <td>-0.000584</td>\n",
       "      <td>-0.003569</td>\n",
       "      <td>0.000465</td>\n",
       "    </tr>\n",
       "  </tbody>\n",
       "</table>\n",
       "</div>"
      ],
      "text/plain": [
       "                     VX1_Future  SPX_Index(fwd)     ratio  ratio_SPX  \\\n",
       "2015-01-02 11:30:00      18.575         2052.26 -0.008043   0.001190   \n",
       "2015-01-02 11:40:00      18.675         2052.14  0.005369  -0.000058   \n",
       "2015-01-02 11:50:00      18.625         2051.52 -0.002681  -0.000302   \n",
       "2015-01-02 12:00:00      18.475         2052.82 -0.008086   0.000633   \n",
       "2015-01-02 12:10:00      18.225         2055.96 -0.013624   0.001528   \n",
       "\n",
       "                       shift1    shift2    shift3    shift4    shift5  \\\n",
       "2015-01-02 11:30:00 -0.001087 -0.001908  0.000574 -0.000584 -0.003569   \n",
       "2015-01-02 11:40:00  0.001190 -0.001087 -0.001908  0.000574 -0.000584   \n",
       "2015-01-02 11:50:00 -0.000058  0.001190 -0.001087 -0.001908  0.000574   \n",
       "2015-01-02 12:00:00 -0.000302 -0.000058  0.001190 -0.001087 -0.001908   \n",
       "2015-01-02 12:10:00  0.000633 -0.000302 -0.000058  0.001190 -0.001087   \n",
       "\n",
       "                       shift6    shift7    shift8    shift9   shift10  \n",
       "2015-01-02 11:30:00  0.000465 -0.000155 -0.002513 -0.000184 -0.001522  \n",
       "2015-01-02 11:40:00 -0.003569  0.000465 -0.000155 -0.002513 -0.000184  \n",
       "2015-01-02 11:50:00 -0.000584 -0.003569  0.000465 -0.000155 -0.002513  \n",
       "2015-01-02 12:00:00  0.000574 -0.000584 -0.003569  0.000465 -0.000155  \n",
       "2015-01-02 12:10:00 -0.001908  0.000574 -0.000584 -0.003569  0.000465  "
      ]
     },
     "execution_count": 282,
     "metadata": {},
     "output_type": "execute_result"
    }
   ],
   "source": [
    "mydata['shift1'] = mydata['ratio_SPX'].shift(1)\n",
    "mydata['shift2'] = mydata['ratio_SPX'].shift(2)\n",
    "mydata['shift3'] = mydata['ratio_SPX'].shift(3)\n",
    "mydata['shift4'] = mydata['ratio_SPX'].shift(4)\n",
    "mydata['shift5'] = mydata['ratio_SPX'].shift(5)\n",
    "mydata['shift6'] = mydata['ratio_SPX'].shift(6)\n",
    "mydata['shift7'] = mydata['ratio_SPX'].shift(7)\n",
    "mydata['shift8'] = mydata['ratio_SPX'].shift(8)\n",
    "mydata['shift9'] = mydata['ratio_SPX'].shift(9)\n",
    "mydata['shift10'] = mydata['ratio_SPX'].shift(10)\n",
    "mydata.dropna(inplace=True)\n",
    "mydata.head()"
   ]
  },
  {
   "cell_type": "code",
   "execution_count": 283,
   "metadata": {},
   "outputs": [],
   "source": [
    "y = mydata.iloc[:,2].values\n",
    "x = mydata.iloc[:,4:].values"
   ]
  },
  {
   "cell_type": "code",
   "execution_count": 284,
   "metadata": {},
   "outputs": [],
   "source": [
    "nTrain = int(.75*x.shape[0])\n",
    "x_train, x_test, y_train, y_test = x[:nTrain,], x[nTrain:,], y[:nTrain,], y[nTrain:,]"
   ]
  },
  {
   "cell_type": "code",
   "execution_count": 285,
   "metadata": {},
   "outputs": [
    {
     "data": {
      "text/plain": [
       "LinearRegression(copy_X=True, fit_intercept=True, n_jobs=1, normalize=False)"
      ]
     },
     "execution_count": 285,
     "metadata": {},
     "output_type": "execute_result"
    }
   ],
   "source": [
    "lr = linear_model.LinearRegression()\n",
    "lr.fit(x_train,y_train)"
   ]
  },
  {
   "cell_type": "code",
   "execution_count": 286,
   "metadata": {},
   "outputs": [
    {
     "data": {
      "text/plain": [
       "-0.00072394957634314139"
      ]
     },
     "execution_count": 286,
     "metadata": {},
     "output_type": "execute_result"
    }
   ],
   "source": [
    "r2_score(y_test,lr.predict(x_test))"
   ]
  },
  {
   "cell_type": "code",
   "execution_count": 287,
   "metadata": {},
   "outputs": [
    {
     "data": {
      "text/plain": [
       "array([ 0.0074768 ,  0.03661362,  0.04624795,  0.03246802, -0.07108682,\n",
       "        0.01959787, -0.01810486, -0.10913556, -0.00267489, -0.03115635])"
      ]
     },
     "execution_count": 287,
     "metadata": {},
     "output_type": "execute_result"
    }
   ],
   "source": [
    "lr.coef_"
   ]
  },
  {
   "cell_type": "code",
   "execution_count": 288,
   "metadata": {},
   "outputs": [
    {
     "data": {
      "text/plain": [
       "<matplotlib.axes._subplots.AxesSubplot at 0x1c11dd78be0>"
      ]
     },
     "execution_count": 288,
     "metadata": {},
     "output_type": "execute_result"
    },
    {
     "data": {
      "image/png": "[encoded data removed]",
      "text/plain": [
       "<matplotlib.figure.Figure at 0x1c11984beb8>"
      ]
     },
     "metadata": {},
     "output_type": "display_data"
    }
   ],
   "source": [
    "mydata.corr().iloc[:,2].plot(kind='bar')"
   ]
  },
  {
   "cell_type": "code",
   "execution_count": 289,
   "metadata": {},
   "outputs": [
    {
     "data": {
      "image/png": "[encoded data removed]",
      "text/plain": [
       "<matplotlib.figure.Figure at 0x1c11dfa83c8>"
      ]
     },
     "metadata": {},
     "output_type": "display_data"
    },
    {
     "data": {
      "image/png": "[encoded data removed]",
      "text/plain": [
       "<matplotlib.figure.Figure at 0x1c11df72d68>"
      ]
     },
     "metadata": {},
     "output_type": "display_data"
    }
   ],
   "source": [
    "L = range(1,10)\n",
    "r2 = []\n",
    "bic = []\n",
    "nTrain = int(.75*x.shape[0])\n",
    "for l in L:\n",
    "    y = mydata.iloc[:,2].values\n",
    "    x = mydata.iloc[:,4:4+l].values\n",
    "    x_train, x_test, y_train, y_test = x[:nTrain,], x[nTrain:,], y[:nTrain,], y[nTrain:,]\n",
    "    lr = linear_model.LinearRegression()\n",
    "    lr.fit(x_train,y_train)\n",
    "    r2.append(lr.score(x_test, y_test))\n",
    "    resid = y_test - lr.predict(x_test)\n",
    "    rss = sum(resid**2)\n",
    "    n = len(resid)\n",
    "    k = l\n",
    "    bic.append(n*np.log(rss/n) + k*np.log(n))\n",
    "\n",
    "plt.plot(L,r2)\n",
    "plt.xlabel('Number of Lags')\n",
    "plt.ylabel('R2')\n",
    "plt.show()\n",
    "\n",
    "plt.plot(L,bic)\n",
    "plt.xlabel('Number of Lags')\n",
    "plt.ylabel('BIC')\n",
    "plt.show()"
   ]
  },
  {
   "cell_type": "markdown",
   "metadata": {},
   "source": [
    "### Examine Autocorrelation Function (ACF) of $u_t$ for Secondary Null Model (SPX), where $u_t = ln(\\frac{V_t}{V_{t-1}}) - \\widehat{ln(\\frac{V_t}{V_{t-1}})}$ "
   ]
  },
  {
   "cell_type": "code",
   "execution_count": 290,
   "metadata": {},
   "outputs": [
    {
     "data": {
      "text/plain": [
       "[<matplotlib.lines.Line2D at 0x1c11e057470>]"
      ]
     },
     "execution_count": 290,
     "metadata": {},
     "output_type": "execute_result"
    },
    {
     "data": {
      "image/png": "[encoded data removed]",
      "text/plain": [
       "<matplotlib.figure.Figure at 0x1c11ddc7940>"
      ]
     },
     "metadata": {},
     "output_type": "display_data"
    }
   ],
   "source": [
    "SPXresid = y_test - lr.predict(x_test)\n",
    "plt.plot(np.abs(SPXresid))"
   ]
  },
  {
   "cell_type": "code",
   "execution_count": 291,
   "metadata": {},
   "outputs": [
    {
     "data": {
      "text/plain": [
       "<Container object of 3 artists>"
      ]
     },
     "execution_count": 291,
     "metadata": {},
     "output_type": "execute_result"
    },
    {
     "data": {
      "image/png": "[encoded data removed]",
      "text/plain": [
       "<matplotlib.figure.Figure at 0x1c11e043550>"
      ]
     },
     "metadata": {},
     "output_type": "display_data"
    }
   ],
   "source": [
    "plt.stem(acf(SPXresid,nlags=10))"
   ]
  },
  {
   "cell_type": "markdown",
   "metadata": {},
   "source": [
    "#### Apply Ljung-Box Test to check for Autocorrelation in residuals of SPX model"
   ]
  },
  {
   "cell_type": "code",
   "execution_count": 292,
   "metadata": {},
   "outputs": [
    {
     "data": {
      "text/plain": [
       "(array([  0.65606386,   0.66797993,   1.69752524,   1.69856914,\n",
       "          1.69905013,   1.85143702,   2.87181977,   3.55904084,\n",
       "          5.62541062,   5.95823066,   6.30411476,   7.46212988,\n",
       "          7.62339189,   8.07335075,   9.25890822,   9.74675038,\n",
       "          9.74676829,  10.01177997,  10.06341452,  10.10714866,\n",
       "         10.17740685,  10.24411407,  10.24429147,  10.24667359,\n",
       "         10.94972333,  11.11620574,  11.13282137,  12.66488996,\n",
       "         13.02701804,  13.93256046,  14.95774552,  14.97195071,\n",
       "         15.02278926,  18.29787077,  18.32617973,  18.40799738,\n",
       "         18.40866442,  18.45942612,  18.52273152,  18.58635892]),\n",
       " array([ 0.417953  ,  0.71606097,  0.63748413,  0.79097753,  0.8890194 ,\n",
       "         0.93284214,  0.89660128,  0.8945595 ,  0.77674398,  0.81876022,\n",
       "         0.85232182,  0.82562603,  0.86724106,  0.88546968,  0.86359539,\n",
       "         0.87951465,  0.91389223,  0.9315212 ,  0.95136411,  0.96618715,\n",
       "         0.97651535,  0.98395314,  0.9896619 ,  0.99345251,  0.99318753,\n",
       "         0.99515603,  0.99694137,  0.99427498,  0.99530055,  0.99451801,\n",
       "         0.99324374,  0.9954704 ,  0.99693049,  0.98716952,  0.99086745,\n",
       "         0.99338817,  0.99545859,  0.99682799,  0.99778847,  0.99847079]))"
      ]
     },
     "execution_count": 292,
     "metadata": {},
     "output_type": "execute_result"
    }
   ],
   "source": [
    "acorr_ljungbox(SPXresid)"
   ]
  },
  {
   "cell_type": "code",
   "execution_count": 293,
   "metadata": {},
   "outputs": [
    {
     "data": {
      "text/plain": [
       "[<matplotlib.lines.Line2D at 0x1c11e1159b0>]"
      ]
     },
     "execution_count": 293,
     "metadata": {},
     "output_type": "execute_result"
    },
    {
     "data": {
      "image/png": "[encoded data removed]",
      "text/plain": [
       "<matplotlib.figure.Figure at 0x1c11dd7b710>"
      ]
     },
     "metadata": {},
     "output_type": "display_data"
    }
   ],
   "source": [
    "plt.plot(acorr_ljungbox(SPXresid)[1])"
   ]
  },
  {
   "cell_type": "markdown",
   "metadata": {},
   "source": [
    "### Build Fifth Null:\n",
    "### Predict log of VX1 price as function of VX1-OPT Spread Prices: $\\widehat{ln(\\frac{V_t}{V_{t-1}})} = \\alpha + \\beta (\\frac{VX1-OPT_{t-1}}{VX1-OPT_{t-2}})$ "
   ]
  },
  {
   "cell_type": "code",
   "execution_count": 294,
   "metadata": {},
   "outputs": [],
   "source": [
    "mydata = master[['VX1_Future','VX1-OPT_Spread']].copy()\n",
    "mydata['ratio'] = np.log(mydata['VX1_Future']/mydata['VX1_Future'].shift(1))\n",
    "mydata['ratio_VX1-OPT'] = mydata['VX1-OPT_Spread']/mydata['VX1-OPT_Spread'].shift(1)"
   ]
  },
  {
   "cell_type": "code",
   "execution_count": 295,
   "metadata": {},
   "outputs": [
    {
     "data": {
      "text/html": [
       "<div>\n",
       "<style scoped>\n",
       "    .dataframe tbody tr th:only-of-type {\n",
       "        vertical-align: middle;\n",
       "    }\n",
       "\n",
       "    .dataframe tbody tr th {\n",
       "        vertical-align: top;\n",
       "    }\n",
       "\n",
       "    .dataframe thead th {\n",
       "        text-align: right;\n",
       "    }\n",
       "</style>\n",
       "<table border=\"1\" class=\"dataframe\">\n",
       "  <thead>\n",
       "    <tr style=\"text-align: right;\">\n",
       "      <th></th>\n",
       "      <th>VX1_Future</th>\n",
       "      <th>VX1-OPT_Spread</th>\n",
       "      <th>ratio</th>\n",
       "      <th>ratio_VX1-OPT</th>\n",
       "      <th>shift1</th>\n",
       "      <th>shift2</th>\n",
       "      <th>shift3</th>\n",
       "      <th>shift4</th>\n",
       "      <th>shift5</th>\n",
       "      <th>shift6</th>\n",
       "      <th>shift7</th>\n",
       "      <th>shift8</th>\n",
       "      <th>shift9</th>\n",
       "      <th>shift10</th>\n",
       "    </tr>\n",
       "  </thead>\n",
       "  <tbody>\n",
       "    <tr>\n",
       "      <th>2015-01-02 11:30:00</th>\n",
       "      <td>18.575</td>\n",
       "      <td>2.9919</td>\n",
       "      <td>-0.008043</td>\n",
       "      <td>0.936198</td>\n",
       "      <td>1.051008</td>\n",
       "      <td>0.940578</td>\n",
       "      <td>0.981302</td>\n",
       "      <td>0.927295</td>\n",
       "      <td>1.073648</td>\n",
       "      <td>1.104104</td>\n",
       "      <td>0.970783</td>\n",
       "      <td>0.942455</td>\n",
       "      <td>0.951271</td>\n",
       "      <td>1.064748</td>\n",
       "    </tr>\n",
       "    <tr>\n",
       "      <th>2015-01-02 11:40:00</th>\n",
       "      <td>18.675</td>\n",
       "      <td>2.9221</td>\n",
       "      <td>0.005369</td>\n",
       "      <td>0.976670</td>\n",
       "      <td>0.936198</td>\n",
       "      <td>1.051008</td>\n",
       "      <td>0.940578</td>\n",
       "      <td>0.981302</td>\n",
       "      <td>0.927295</td>\n",
       "      <td>1.073648</td>\n",
       "      <td>1.104104</td>\n",
       "      <td>0.970783</td>\n",
       "      <td>0.942455</td>\n",
       "      <td>0.951271</td>\n",
       "    </tr>\n",
       "    <tr>\n",
       "      <th>2015-01-02 11:50:00</th>\n",
       "      <td>18.625</td>\n",
       "      <td>2.7351</td>\n",
       "      <td>-0.002681</td>\n",
       "      <td>0.936005</td>\n",
       "      <td>0.976670</td>\n",
       "      <td>0.936198</td>\n",
       "      <td>1.051008</td>\n",
       "      <td>0.940578</td>\n",
       "      <td>0.981302</td>\n",
       "      <td>0.927295</td>\n",
       "      <td>1.073648</td>\n",
       "      <td>1.104104</td>\n",
       "      <td>0.970783</td>\n",
       "      <td>0.942455</td>\n",
       "    </tr>\n",
       "    <tr>\n",
       "      <th>2015-01-02 12:00:00</th>\n",
       "      <td>18.475</td>\n",
       "      <td>2.7617</td>\n",
       "      <td>-0.008086</td>\n",
       "      <td>1.009725</td>\n",
       "      <td>0.936005</td>\n",
       "      <td>0.976670</td>\n",
       "      <td>0.936198</td>\n",
       "      <td>1.051008</td>\n",
       "      <td>0.940578</td>\n",
       "      <td>0.981302</td>\n",
       "      <td>0.927295</td>\n",
       "      <td>1.073648</td>\n",
       "      <td>1.104104</td>\n",
       "      <td>0.970783</td>\n",
       "    </tr>\n",
       "    <tr>\n",
       "      <th>2015-01-02 12:10:00</th>\n",
       "      <td>18.225</td>\n",
       "      <td>3.0714</td>\n",
       "      <td>-0.013624</td>\n",
       "      <td>1.112141</td>\n",
       "      <td>1.009725</td>\n",
       "      <td>0.936005</td>\n",
       "      <td>0.976670</td>\n",
       "      <td>0.936198</td>\n",
       "      <td>1.051008</td>\n",
       "      <td>0.940578</td>\n",
       "      <td>0.981302</td>\n",
       "      <td>0.927295</td>\n",
       "      <td>1.073648</td>\n",
       "      <td>1.104104</td>\n",
       "    </tr>\n",
       "  </tbody>\n",
       "</table>\n",
       "</div>"
      ],
      "text/plain": [
       "                     VX1_Future  VX1-OPT_Spread     ratio  ratio_VX1-OPT  \\\n",
       "2015-01-02 11:30:00      18.575          2.9919 -0.008043       0.936198   \n",
       "2015-01-02 11:40:00      18.675          2.9221  0.005369       0.976670   \n",
       "2015-01-02 11:50:00      18.625          2.7351 -0.002681       0.936005   \n",
       "2015-01-02 12:00:00      18.475          2.7617 -0.008086       1.009725   \n",
       "2015-01-02 12:10:00      18.225          3.0714 -0.013624       1.112141   \n",
       "\n",
       "                       shift1    shift2    shift3    shift4    shift5  \\\n",
       "2015-01-02 11:30:00  1.051008  0.940578  0.981302  0.927295  1.073648   \n",
       "2015-01-02 11:40:00  0.936198  1.051008  0.940578  0.981302  0.927295   \n",
       "2015-01-02 11:50:00  0.976670  0.936198  1.051008  0.940578  0.981302   \n",
       "2015-01-02 12:00:00  0.936005  0.976670  0.936198  1.051008  0.940578   \n",
       "2015-01-02 12:10:00  1.009725  0.936005  0.976670  0.936198  1.051008   \n",
       "\n",
       "                       shift6    shift7    shift8    shift9   shift10  \n",
       "2015-01-02 11:30:00  1.104104  0.970783  0.942455  0.951271  1.064748  \n",
       "2015-01-02 11:40:00  1.073648  1.104104  0.970783  0.942455  0.951271  \n",
       "2015-01-02 11:50:00  0.927295  1.073648  1.104104  0.970783  0.942455  \n",
       "2015-01-02 12:00:00  0.981302  0.927295  1.073648  1.104104  0.970783  \n",
       "2015-01-02 12:10:00  0.940578  0.981302  0.927295  1.073648  1.104104  "
      ]
     },
     "execution_count": 295,
     "metadata": {},
     "output_type": "execute_result"
    }
   ],
   "source": [
    "mydata['shift1'] = mydata['ratio_VX1-OPT'].shift(1)\n",
    "mydata['shift2'] = mydata['ratio_VX1-OPT'].shift(2)\n",
    "mydata['shift3'] = mydata['ratio_VX1-OPT'].shift(3)\n",
    "mydata['shift4'] = mydata['ratio_VX1-OPT'].shift(4)\n",
    "mydata['shift5'] = mydata['ratio_VX1-OPT'].shift(5)\n",
    "mydata['shift6'] = mydata['ratio_VX1-OPT'].shift(6)\n",
    "mydata['shift7'] = mydata['ratio_VX1-OPT'].shift(7)\n",
    "mydata['shift8'] = mydata['ratio_VX1-OPT'].shift(8)\n",
    "mydata['shift9'] = mydata['ratio_VX1-OPT'].shift(9)\n",
    "mydata['shift10'] = mydata['ratio_VX1-OPT'].shift(10)\n",
    "mydata.dropna(inplace=True)\n",
    "mydata.head()"
   ]
  },
  {
   "cell_type": "code",
   "execution_count": 296,
   "metadata": {},
   "outputs": [],
   "source": [
    "y = mydata.iloc[:,2].values\n",
    "x = mydata.iloc[:,4:].values"
   ]
  },
  {
   "cell_type": "code",
   "execution_count": 297,
   "metadata": {},
   "outputs": [],
   "source": [
    "nTrain = int(.75*x.shape[0])\n",
    "x_train, x_test, y_train, y_test = x[:nTrain,], x[nTrain:,], y[:nTrain,], y[nTrain:,]"
   ]
  },
  {
   "cell_type": "code",
   "execution_count": 298,
   "metadata": {},
   "outputs": [
    {
     "data": {
      "text/plain": [
       "LinearRegression(copy_X=True, fit_intercept=True, n_jobs=1, normalize=False)"
      ]
     },
     "execution_count": 298,
     "metadata": {},
     "output_type": "execute_result"
    }
   ],
   "source": [
    "lr = linear_model.LinearRegression()\n",
    "lr.fit(x_train,y_train)"
   ]
  },
  {
   "cell_type": "code",
   "execution_count": 299,
   "metadata": {},
   "outputs": [
    {
     "data": {
      "text/plain": [
       "-0.0011313217218542615"
      ]
     },
     "execution_count": 299,
     "metadata": {},
     "output_type": "execute_result"
    }
   ],
   "source": [
    "r2_score(y_test,lr.predict(x_test))"
   ]
  },
  {
   "cell_type": "code",
   "execution_count": 300,
   "metadata": {},
   "outputs": [
    {
     "data": {
      "text/plain": [
       "array([-0.00010754,  0.0010666 ,  0.00082007, -0.00017598,  0.00059012,\n",
       "       -0.00088364, -0.00054035,  0.00022437,  0.00205699,  0.00339172])"
      ]
     },
     "execution_count": 300,
     "metadata": {},
     "output_type": "execute_result"
    }
   ],
   "source": [
    "lr.coef_"
   ]
  },
  {
   "cell_type": "code",
   "execution_count": 301,
   "metadata": {},
   "outputs": [
    {
     "data": {
      "text/plain": [
       "<matplotlib.axes._subplots.AxesSubplot at 0x1c11e0fb6a0>"
      ]
     },
     "execution_count": 301,
     "metadata": {},
     "output_type": "execute_result"
    },
    {
     "data": {
      "image/png": "[encoded data removed]",
      "text/plain": [
       "<matplotlib.figure.Figure at 0x1c116ab1390>"
      ]
     },
     "metadata": {},
     "output_type": "display_data"
    }
   ],
   "source": [
    "mydata.corr().iloc[:,2].plot(kind='bar')"
   ]
  },
  {
   "cell_type": "markdown",
   "metadata": {},
   "source": [
    "### Examine Autocorrelation Function (ACF) of $u_t$ for 5th Null Model (VX1-OPT), where $u_t = ln(\\frac{V_t}{V_{t-1}}) - \\widehat{ln(\\frac{V_t}{V_{t-1}})}$ "
   ]
  },
  {
   "cell_type": "code",
   "execution_count": 302,
   "metadata": {},
   "outputs": [
    {
     "data": {
      "text/plain": [
       "[<matplotlib.lines.Line2D at 0x1c11f59f470>]"
      ]
     },
     "execution_count": 302,
     "metadata": {},
     "output_type": "execute_result"
    },
    {
     "data": {
      "image/png": "[encoded data removed]",
      "text/plain": [
       "<matplotlib.figure.Figure at 0x1c11f5540f0>"
      ]
     },
     "metadata": {},
     "output_type": "display_data"
    }
   ],
   "source": [
    "spread_resid = y_test - lr.predict(x_test)\n",
    "plt.plot(np.abs(spread_resid))"
   ]
  },
  {
   "cell_type": "code",
   "execution_count": 303,
   "metadata": {},
   "outputs": [
    {
     "data": {
      "text/plain": [
       "<Container object of 3 artists>"
      ]
     },
     "execution_count": 303,
     "metadata": {},
     "output_type": "execute_result"
    },
    {
     "data": {
      "image/png": "[encoded data removed]",
      "text/plain": [
       "<matplotlib.figure.Figure at 0x1c11e0c3cf8>"
      ]
     },
     "metadata": {},
     "output_type": "display_data"
    }
   ],
   "source": [
    "plt.stem(acf(spread_resid,nlags=10))"
   ]
  },
  {
   "cell_type": "markdown",
   "metadata": {},
   "source": [
    "#### Apply Ljung-Box Test to check for Autocorrelation in residuals of VX1-OPT model"
   ]
  },
  {
   "cell_type": "code",
   "execution_count": 304,
   "metadata": {},
   "outputs": [
    {
     "data": {
      "text/plain": [
       "(array([  0.66642089,   0.69128545,   1.19437939,   1.21519186,\n",
       "          1.27449579,   1.46658544,   2.32868786,   2.43660447,\n",
       "          4.18745235,   4.94472789,   5.2282096 ,   6.40108109,\n",
       "          6.50996159,   6.91890927,   8.27557949,   8.73027294,\n",
       "          8.73061168,   9.00315298,   9.07359468,   9.10479707,\n",
       "          9.16376646,   9.22527579,   9.22847209,   9.2284809 ,\n",
       "          9.96187117,  10.12199918,  10.12835639,  11.59952837,\n",
       "         11.97463635,  12.835584  ,  13.7624097 ,  13.80568316,\n",
       "         13.91163244,  17.20333066,  17.22382277,  17.3588826 ,\n",
       "         17.35901444,  17.41784184,  17.45447131,  17.54769142]),\n",
       " array([ 0.41430224,  0.70776531,  0.75435268,  0.8755911 ,  0.93753403,\n",
       "         0.96168319,  0.93943553,  0.96462162,  0.89864716,  0.89483951,\n",
       "         0.91961252,  0.89453027,  0.92561158,  0.93779264,  0.91225958,\n",
       "         0.92410421,  0.94833578,  0.95966961,  0.97223698,  0.98166137,\n",
       "         0.98786593,  0.99207386,  0.99512632,  0.99706669,  0.99675387,\n",
       "         0.99776252,  0.99865822,  0.99729773,  0.99777171,  0.99736917,\n",
       "         0.99680891,  0.99789772,  0.99856605,  0.99261956,  0.99490935,\n",
       "         0.99628896,  0.9975211 ,  0.99830209,  0.99886387,  0.99921759]))"
      ]
     },
     "execution_count": 304,
     "metadata": {},
     "output_type": "execute_result"
    }
   ],
   "source": [
    "acorr_ljungbox(spread_resid)"
   ]
  },
  {
   "cell_type": "code",
   "execution_count": 305,
   "metadata": {},
   "outputs": [
    {
     "data": {
      "text/plain": [
       "[<matplotlib.lines.Line2D at 0x1c11f675860>]"
      ]
     },
     "execution_count": 305,
     "metadata": {},
     "output_type": "execute_result"
    },
    {
     "data": {
      "image/png": "[encoded data removed]",
      "text/plain": [
       "<matplotlib.figure.Figure at 0x1c11f5d3c18>"
      ]
     },
     "metadata": {},
     "output_type": "display_data"
    }
   ],
   "source": [
    "plt.plot(acorr_ljungbox(spread_resid)[1])"
   ]
  },
  {
   "cell_type": "code",
   "execution_count": null,
   "metadata": {},
   "outputs": [],
   "source": []
  }
 ],
 "metadata": {
  "kernelspec": {
   "display_name": "Python 3",
   "language": "python",
   "name": "python3"
  },
  "language_info": {
   "codemirror_mode": {
    "name": "ipython",
    "version": 3
   },
   "file_extension": ".py",
   "mimetype": "text/x-python",
   "name": "python",
   "nbconvert_exporter": "python",
   "pygments_lexer": "ipython3",
   "version": "3.6.3"
  }
 },
 "nbformat": 4,
 "nbformat_minor": 2
}
