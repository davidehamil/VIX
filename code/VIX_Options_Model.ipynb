{
 "cells": [
  {
   "cell_type": "code",
   "execution_count": 1,
   "metadata": {},
   "outputs": [],
   "source": [
    "import pickle\n",
    "import os\n",
    "import time\n",
    "\n",
    "import numpy as np\n",
    "import pandas as pd\n",
    "from datetime import datetime\n",
    "import matplotlib.pyplot as plt\n",
    "from statsmodels.tsa.arima_model import ARIMA\n",
    "from statsmodels.tsa.stattools import pacf, acf\n",
    "from pandas.plotting import autocorrelation_plot\n",
    "from sklearn.metrics import r2_score\n",
    "from sklearn import linear_model\n",
    "\n",
    "%matplotlib inline"
   ]
  },
  {
   "cell_type": "code",
   "execution_count": 2,
   "metadata": {},
   "outputs": [],
   "source": [
    "intra_filepath = os.getcwd() + r'\\Data\\Intraday'\n",
    "\n",
    "#filename_1 = os.path.join(intra_filepath, 'VIX options hamilton.csv')\n",
    "filename_1 = os.path.join(intra_filepath, 'vixsnaps.csv')\n",
    "filename_2 = os.path.join(intra_filepath, 'vixsnaps2.csv')"
   ]
  },
  {
   "cell_type": "markdown",
   "metadata": {},
   "source": [
    "#### Load intraday data from .csv file into pandas dataframe"
   ]
  },
  {
   "cell_type": "code",
   "execution_count": 3,
   "metadata": {},
   "outputs": [],
   "source": [
    "vix_opt_1 = pd.read_csv(filename_1, parse_dates=['TIMESTAMP'],\\\n",
    "                    date_parser = lambda x: datetime.strptime(x,'%Y-%m-%d %H:%M:%S'),\\\n",
    "                    usecols = ['SYMBOL', 'TIMESTAMP', 'MID_VOL', 'DELTA'])\n",
    "\n",
    "vix_opt_2 = pd.read_csv(filename_2, parse_dates=['TIMESTAMP'],\\\n",
    "                    date_parser = lambda x: datetime.strptime(x,'%Y-%m-%d %H:%M:%S'),\\\n",
    "                    usecols = ['SYMBOL', 'TIMESTAMP', 'MID_VOL', 'DELTA'])"
   ]
  },
  {
   "cell_type": "markdown",
   "metadata": {},
   "source": [
    "#### Screen dataframe and remove options with deltas outside set lo/hi thresholds "
   ]
  },
  {
   "cell_type": "code",
   "execution_count": 4,
   "metadata": {},
   "outputs": [],
   "source": [
    "vix_opt_1 = vix_opt_1[(np.abs(vix_opt_1['DELTA']) > 0.15) & (np.abs(vix_opt_1['DELTA']) < 0.85)]\n",
    "vix_opt_2 = vix_opt_2[(np.abs(vix_opt_2['DELTA']) > 0.15) & (np.abs(vix_opt_2['DELTA']) < 0.85)]"
   ]
  },
  {
   "cell_type": "code",
   "execution_count": 5,
   "metadata": {},
   "outputs": [
    {
     "name": "stdout",
     "output_type": "stream",
     "text": [
      "1540720 2450388\n"
     ]
    }
   ],
   "source": [
    "print(vix_opt_1.size, vix_opt_2.size)"
   ]
  },
  {
   "cell_type": "code",
   "execution_count": 6,
   "metadata": {},
   "outputs": [
    {
     "data": {
      "text/plain": [
       "3991108"
      ]
     },
     "execution_count": 6,
     "metadata": {},
     "output_type": "execute_result"
    }
   ],
   "source": [
    "vix_opt = pd.concat([vix_opt_1, vix_opt_2])\n",
    "vix_opt.size"
   ]
  },
  {
   "cell_type": "code",
   "execution_count": 7,
   "metadata": {},
   "outputs": [
    {
     "data": {
      "text/html": [
       "<div>\n",
       "<style scoped>\n",
       "    .dataframe tbody tr th:only-of-type {\n",
       "        vertical-align: middle;\n",
       "    }\n",
       "\n",
       "    .dataframe tbody tr th {\n",
       "        vertical-align: top;\n",
       "    }\n",
       "\n",
       "    .dataframe thead th {\n",
       "        text-align: right;\n",
       "    }\n",
       "</style>\n",
       "<table border=\"1\" class=\"dataframe\">\n",
       "  <thead>\n",
       "    <tr style=\"text-align: right;\">\n",
       "      <th></th>\n",
       "      <th>SYMBOL</th>\n",
       "      <th>TIMESTAMP</th>\n",
       "      <th>MID_VOL</th>\n",
       "      <th>DELTA</th>\n",
       "    </tr>\n",
       "  </thead>\n",
       "  <tbody>\n",
       "    <tr>\n",
       "      <th>1513755</th>\n",
       "      <td>VIX   170215P00014500</td>\n",
       "      <td>2016-12-30 15:20:00</td>\n",
       "      <td>0.73954</td>\n",
       "      <td>-0.25471</td>\n",
       "    </tr>\n",
       "    <tr>\n",
       "      <th>1513756</th>\n",
       "      <td>VIX   170215P00014500</td>\n",
       "      <td>2016-12-30 15:30:00</td>\n",
       "      <td>0.73918</td>\n",
       "      <td>-0.26194</td>\n",
       "    </tr>\n",
       "    <tr>\n",
       "      <th>1513757</th>\n",
       "      <td>VIX   170215P00014500</td>\n",
       "      <td>2016-12-30 15:40:00</td>\n",
       "      <td>0.73924</td>\n",
       "      <td>-0.26194</td>\n",
       "    </tr>\n",
       "    <tr>\n",
       "      <th>1513758</th>\n",
       "      <td>VIX   170215P00014500</td>\n",
       "      <td>2016-12-30 15:50:00</td>\n",
       "      <td>0.73973</td>\n",
       "      <td>-0.25471</td>\n",
       "    </tr>\n",
       "    <tr>\n",
       "      <th>1513759</th>\n",
       "      <td>VIX   170215P00014500</td>\n",
       "      <td>2016-12-30 16:00:00</td>\n",
       "      <td>0.73309</td>\n",
       "      <td>-0.25722</td>\n",
       "    </tr>\n",
       "  </tbody>\n",
       "</table>\n",
       "</div>"
      ],
      "text/plain": [
       "                        SYMBOL           TIMESTAMP  MID_VOL    DELTA\n",
       "1513755  VIX   170215P00014500 2016-12-30 15:20:00  0.73954 -0.25471\n",
       "1513756  VIX   170215P00014500 2016-12-30 15:30:00  0.73918 -0.26194\n",
       "1513757  VIX   170215P00014500 2016-12-30 15:40:00  0.73924 -0.26194\n",
       "1513758  VIX   170215P00014500 2016-12-30 15:50:00  0.73973 -0.25471\n",
       "1513759  VIX   170215P00014500 2016-12-30 16:00:00  0.73309 -0.25722"
      ]
     },
     "execution_count": 7,
     "metadata": {},
     "output_type": "execute_result"
    }
   ],
   "source": [
    "vix_opt.tail()"
   ]
  },
  {
   "cell_type": "code",
   "execution_count": 3,
   "metadata": {},
   "outputs": [],
   "source": [
    "def parse_symbol(x):\n",
    "    x = x.split()[1]\n",
    "    date = datetime.strptime(x[:6],'%y%m%d')\n",
    "    if date.weekday() == 5:\n",
    "        date -= pd.Timedelta(days=1)\n",
    "    optiontype = x[6]\n",
    "    strike = float(x[8:13])/10\n",
    "    return pd.Series([date, optiontype,strike], index=['exdate', 'cp_flag', 'strike_price'])  "
   ]
  },
  {
   "cell_type": "code",
   "execution_count": 9,
   "metadata": {},
   "outputs": [
    {
     "data": {
      "text/html": [
       "<div>\n",
       "<style scoped>\n",
       "    .dataframe tbody tr th:only-of-type {\n",
       "        vertical-align: middle;\n",
       "    }\n",
       "\n",
       "    .dataframe tbody tr th {\n",
       "        vertical-align: top;\n",
       "    }\n",
       "\n",
       "    .dataframe thead th {\n",
       "        text-align: right;\n",
       "    }\n",
       "</style>\n",
       "<table border=\"1\" class=\"dataframe\">\n",
       "  <thead>\n",
       "    <tr style=\"text-align: right;\">\n",
       "      <th></th>\n",
       "      <th>SYMBOL</th>\n",
       "      <th>TIMESTAMP</th>\n",
       "      <th>MID_VOL</th>\n",
       "      <th>DELTA</th>\n",
       "      <th>exdate</th>\n",
       "      <th>cp_flag</th>\n",
       "      <th>strike_price</th>\n",
       "    </tr>\n",
       "  </thead>\n",
       "  <tbody>\n",
       "    <tr>\n",
       "      <th>41</th>\n",
       "      <td>VIX   150121P00015000</td>\n",
       "      <td>2015-01-02 09:40:00</td>\n",
       "      <td>0.98188</td>\n",
       "      <td>-0.23752</td>\n",
       "      <td>2015-01-21</td>\n",
       "      <td>P</td>\n",
       "      <td>15.0</td>\n",
       "    </tr>\n",
       "    <tr>\n",
       "      <th>42</th>\n",
       "      <td>VIX   150121P00015000</td>\n",
       "      <td>2015-01-02 09:50:00</td>\n",
       "      <td>0.98063</td>\n",
       "      <td>-0.22941</td>\n",
       "      <td>2015-01-21</td>\n",
       "      <td>P</td>\n",
       "      <td>15.0</td>\n",
       "    </tr>\n",
       "    <tr>\n",
       "      <th>43</th>\n",
       "      <td>VIX   150121P00015000</td>\n",
       "      <td>2015-01-02 10:00:00</td>\n",
       "      <td>0.97867</td>\n",
       "      <td>-0.22136</td>\n",
       "      <td>2015-01-21</td>\n",
       "      <td>P</td>\n",
       "      <td>15.0</td>\n",
       "    </tr>\n",
       "    <tr>\n",
       "      <th>44</th>\n",
       "      <td>VIX   150121P00015000</td>\n",
       "      <td>2015-01-02 10:10:00</td>\n",
       "      <td>0.97689</td>\n",
       "      <td>-0.19553</td>\n",
       "      <td>2015-01-21</td>\n",
       "      <td>P</td>\n",
       "      <td>15.0</td>\n",
       "    </tr>\n",
       "    <tr>\n",
       "      <th>45</th>\n",
       "      <td>VIX   150121P00015000</td>\n",
       "      <td>2015-01-02 10:20:00</td>\n",
       "      <td>0.97708</td>\n",
       "      <td>-0.19553</td>\n",
       "      <td>2015-01-21</td>\n",
       "      <td>P</td>\n",
       "      <td>15.0</td>\n",
       "    </tr>\n",
       "    <tr>\n",
       "      <th>46</th>\n",
       "      <td>VIX   150121P00015000</td>\n",
       "      <td>2015-01-02 10:30:00</td>\n",
       "      <td>0.99958</td>\n",
       "      <td>-0.19943</td>\n",
       "      <td>2015-01-21</td>\n",
       "      <td>P</td>\n",
       "      <td>15.0</td>\n",
       "    </tr>\n",
       "    <tr>\n",
       "      <th>47</th>\n",
       "      <td>VIX   150121P00015000</td>\n",
       "      <td>2015-01-02 10:40:00</td>\n",
       "      <td>1.03454</td>\n",
       "      <td>-0.15776</td>\n",
       "      <td>2015-01-21</td>\n",
       "      <td>P</td>\n",
       "      <td>15.0</td>\n",
       "    </tr>\n",
       "    <tr>\n",
       "      <th>48</th>\n",
       "      <td>VIX   150121P00015000</td>\n",
       "      <td>2015-01-02 10:50:00</td>\n",
       "      <td>1.03089</td>\n",
       "      <td>-0.15844</td>\n",
       "      <td>2015-01-21</td>\n",
       "      <td>P</td>\n",
       "      <td>15.0</td>\n",
       "    </tr>\n",
       "    <tr>\n",
       "      <th>49</th>\n",
       "      <td>VIX   150121P00015000</td>\n",
       "      <td>2015-01-02 11:00:00</td>\n",
       "      <td>1.04762</td>\n",
       "      <td>-0.16414</td>\n",
       "      <td>2015-01-21</td>\n",
       "      <td>P</td>\n",
       "      <td>15.0</td>\n",
       "    </tr>\n",
       "    <tr>\n",
       "      <th>51</th>\n",
       "      <td>VIX   150121P00015000</td>\n",
       "      <td>2015-01-02 11:20:00</td>\n",
       "      <td>1.06982</td>\n",
       "      <td>-0.15185</td>\n",
       "      <td>2015-01-21</td>\n",
       "      <td>P</td>\n",
       "      <td>15.0</td>\n",
       "    </tr>\n",
       "  </tbody>\n",
       "</table>\n",
       "</div>"
      ],
      "text/plain": [
       "                   SYMBOL           TIMESTAMP  MID_VOL    DELTA     exdate  \\\n",
       "41  VIX   150121P00015000 2015-01-02 09:40:00  0.98188 -0.23752 2015-01-21   \n",
       "42  VIX   150121P00015000 2015-01-02 09:50:00  0.98063 -0.22941 2015-01-21   \n",
       "43  VIX   150121P00015000 2015-01-02 10:00:00  0.97867 -0.22136 2015-01-21   \n",
       "44  VIX   150121P00015000 2015-01-02 10:10:00  0.97689 -0.19553 2015-01-21   \n",
       "45  VIX   150121P00015000 2015-01-02 10:20:00  0.97708 -0.19553 2015-01-21   \n",
       "46  VIX   150121P00015000 2015-01-02 10:30:00  0.99958 -0.19943 2015-01-21   \n",
       "47  VIX   150121P00015000 2015-01-02 10:40:00  1.03454 -0.15776 2015-01-21   \n",
       "48  VIX   150121P00015000 2015-01-02 10:50:00  1.03089 -0.15844 2015-01-21   \n",
       "49  VIX   150121P00015000 2015-01-02 11:00:00  1.04762 -0.16414 2015-01-21   \n",
       "51  VIX   150121P00015000 2015-01-02 11:20:00  1.06982 -0.15185 2015-01-21   \n",
       "\n",
       "   cp_flag  strike_price  \n",
       "41       P          15.0  \n",
       "42       P          15.0  \n",
       "43       P          15.0  \n",
       "44       P          15.0  \n",
       "45       P          15.0  \n",
       "46       P          15.0  \n",
       "47       P          15.0  \n",
       "48       P          15.0  \n",
       "49       P          15.0  \n",
       "51       P          15.0  "
      ]
     },
     "execution_count": 9,
     "metadata": {},
     "output_type": "execute_result"
    }
   ],
   "source": [
    "vix_opt[['exdate', 'cp_flag', 'strike_price']] = vix_opt['SYMBOL'].apply(parse_symbol)\n",
    "vix_opt.head(10)"
   ]
  },
  {
   "cell_type": "code",
   "execution_count": 10,
   "metadata": {},
   "outputs": [],
   "source": [
    "vix_opt.sort_values(by =['TIMESTAMP', 'exdate', 'strike_price', 'cp_flag'], inplace = True)"
   ]
  },
  {
   "cell_type": "code",
   "execution_count": 11,
   "metadata": {},
   "outputs": [
    {
     "data": {
      "text/html": [
       "<div>\n",
       "<style scoped>\n",
       "    .dataframe tbody tr th:only-of-type {\n",
       "        vertical-align: middle;\n",
       "    }\n",
       "\n",
       "    .dataframe tbody tr th {\n",
       "        vertical-align: top;\n",
       "    }\n",
       "\n",
       "    .dataframe thead th {\n",
       "        text-align: right;\n",
       "    }\n",
       "</style>\n",
       "<table border=\"1\" class=\"dataframe\">\n",
       "  <thead>\n",
       "    <tr style=\"text-align: right;\">\n",
       "      <th></th>\n",
       "      <th>SYMBOL</th>\n",
       "      <th>TIMESTAMP</th>\n",
       "      <th>MID_VOL</th>\n",
       "      <th>DELTA</th>\n",
       "      <th>exdate</th>\n",
       "      <th>cp_flag</th>\n",
       "      <th>strike_price</th>\n",
       "    </tr>\n",
       "  </thead>\n",
       "  <tbody>\n",
       "    <tr>\n",
       "      <th>1505319</th>\n",
       "      <td>VIX   161221C00011000</td>\n",
       "      <td>2016-12-20 16:00:00</td>\n",
       "      <td>1.20724</td>\n",
       "      <td>0.79123</td>\n",
       "      <td>2016-12-21</td>\n",
       "      <td>C</td>\n",
       "      <td>11.0</td>\n",
       "    </tr>\n",
       "    <tr>\n",
       "      <th>1506639</th>\n",
       "      <td>VIX   161221P00011000</td>\n",
       "      <td>2016-12-20 16:00:00</td>\n",
       "      <td>1.20651</td>\n",
       "      <td>-0.20879</td>\n",
       "      <td>2016-12-21</td>\n",
       "      <td>P</td>\n",
       "      <td>11.0</td>\n",
       "    </tr>\n",
       "    <tr>\n",
       "      <th>1507039</th>\n",
       "      <td>VIX   161221C00011500</td>\n",
       "      <td>2016-12-20 16:00:00</td>\n",
       "      <td>1.40241</td>\n",
       "      <td>0.49865</td>\n",
       "      <td>2016-12-21</td>\n",
       "      <td>C</td>\n",
       "      <td>11.5</td>\n",
       "    </tr>\n",
       "    <tr>\n",
       "      <th>1507239</th>\n",
       "      <td>VIX   161221P00011500</td>\n",
       "      <td>2016-12-20 16:00:00</td>\n",
       "      <td>1.28035</td>\n",
       "      <td>-0.50376</td>\n",
       "      <td>2016-12-21</td>\n",
       "      <td>P</td>\n",
       "      <td>11.5</td>\n",
       "    </tr>\n",
       "    <tr>\n",
       "      <th>1505359</th>\n",
       "      <td>VIX   161221C00012000</td>\n",
       "      <td>2016-12-20 16:00:00</td>\n",
       "      <td>1.53607</td>\n",
       "      <td>0.26861</td>\n",
       "      <td>2016-12-21</td>\n",
       "      <td>C</td>\n",
       "      <td>12.0</td>\n",
       "    </tr>\n",
       "    <tr>\n",
       "      <th>1506679</th>\n",
       "      <td>VIX   161221P00012000</td>\n",
       "      <td>2016-12-20 16:00:00</td>\n",
       "      <td>1.38517</td>\n",
       "      <td>-0.75533</td>\n",
       "      <td>2016-12-21</td>\n",
       "      <td>P</td>\n",
       "      <td>12.0</td>\n",
       "    </tr>\n",
       "    <tr>\n",
       "      <th>1507079</th>\n",
       "      <td>VIX   161221C00012500</td>\n",
       "      <td>2016-12-20 16:00:00</td>\n",
       "      <td>1.83214</td>\n",
       "      <td>0.15782</td>\n",
       "      <td>2016-12-21</td>\n",
       "      <td>C</td>\n",
       "      <td>12.5</td>\n",
       "    </tr>\n",
       "    <tr>\n",
       "      <th>1492599</th>\n",
       "      <td>VIX   170118C00012500</td>\n",
       "      <td>2016-12-20 16:00:00</td>\n",
       "      <td>0.65487</td>\n",
       "      <td>0.79628</td>\n",
       "      <td>2017-01-18</td>\n",
       "      <td>C</td>\n",
       "      <td>12.5</td>\n",
       "    </tr>\n",
       "    <tr>\n",
       "      <th>1492799</th>\n",
       "      <td>VIX   170118P00012500</td>\n",
       "      <td>2016-12-20 16:00:00</td>\n",
       "      <td>0.65391</td>\n",
       "      <td>-0.20282</td>\n",
       "      <td>2017-01-18</td>\n",
       "      <td>P</td>\n",
       "      <td>12.5</td>\n",
       "    </tr>\n",
       "    <tr>\n",
       "      <th>1489999</th>\n",
       "      <td>VIX   170118C00013000</td>\n",
       "      <td>2016-12-20 16:00:00</td>\n",
       "      <td>0.69429</td>\n",
       "      <td>0.72324</td>\n",
       "      <td>2017-01-18</td>\n",
       "      <td>C</td>\n",
       "      <td>13.0</td>\n",
       "    </tr>\n",
       "    <tr>\n",
       "      <th>1491319</th>\n",
       "      <td>VIX   170118P00013000</td>\n",
       "      <td>2016-12-20 16:00:00</td>\n",
       "      <td>0.69367</td>\n",
       "      <td>-0.27602</td>\n",
       "      <td>2017-01-18</td>\n",
       "      <td>P</td>\n",
       "      <td>13.0</td>\n",
       "    </tr>\n",
       "    <tr>\n",
       "      <th>1492639</th>\n",
       "      <td>VIX   170118C00013500</td>\n",
       "      <td>2016-12-20 16:00:00</td>\n",
       "      <td>0.73420</td>\n",
       "      <td>0.65156</td>\n",
       "      <td>2017-01-18</td>\n",
       "      <td>C</td>\n",
       "      <td>13.5</td>\n",
       "    </tr>\n",
       "    <tr>\n",
       "      <th>1492839</th>\n",
       "      <td>VIX   170118P00013500</td>\n",
       "      <td>2016-12-20 16:00:00</td>\n",
       "      <td>0.73391</td>\n",
       "      <td>-0.34779</td>\n",
       "      <td>2017-01-18</td>\n",
       "      <td>P</td>\n",
       "      <td>13.5</td>\n",
       "    </tr>\n",
       "    <tr>\n",
       "      <th>1490039</th>\n",
       "      <td>VIX   170118C00014000</td>\n",
       "      <td>2016-12-20 16:00:00</td>\n",
       "      <td>0.77826</td>\n",
       "      <td>0.58488</td>\n",
       "      <td>2017-01-18</td>\n",
       "      <td>C</td>\n",
       "      <td>14.0</td>\n",
       "    </tr>\n",
       "    <tr>\n",
       "      <th>1491359</th>\n",
       "      <td>VIX   170118P00014000</td>\n",
       "      <td>2016-12-20 16:00:00</td>\n",
       "      <td>0.79407</td>\n",
       "      <td>-0.41443</td>\n",
       "      <td>2017-01-18</td>\n",
       "      <td>P</td>\n",
       "      <td>14.0</td>\n",
       "    </tr>\n",
       "    <tr>\n",
       "      <th>1492679</th>\n",
       "      <td>VIX   170118C00014500</td>\n",
       "      <td>2016-12-20 16:00:00</td>\n",
       "      <td>0.81445</td>\n",
       "      <td>0.52493</td>\n",
       "      <td>2017-01-18</td>\n",
       "      <td>C</td>\n",
       "      <td>14.5</td>\n",
       "    </tr>\n",
       "    <tr>\n",
       "      <th>1492879</th>\n",
       "      <td>VIX   170118P00014500</td>\n",
       "      <td>2016-12-20 16:00:00</td>\n",
       "      <td>0.83009</td>\n",
       "      <td>-0.47317</td>\n",
       "      <td>2017-01-18</td>\n",
       "      <td>P</td>\n",
       "      <td>14.5</td>\n",
       "    </tr>\n",
       "    <tr>\n",
       "      <th>1490079</th>\n",
       "      <td>VIX   170118C00015000</td>\n",
       "      <td>2016-12-20 16:00:00</td>\n",
       "      <td>0.87838</td>\n",
       "      <td>0.47565</td>\n",
       "      <td>2017-01-18</td>\n",
       "      <td>C</td>\n",
       "      <td>15.0</td>\n",
       "    </tr>\n",
       "    <tr>\n",
       "      <th>1491399</th>\n",
       "      <td>VIX   170118P00015000</td>\n",
       "      <td>2016-12-20 16:00:00</td>\n",
       "      <td>0.87857</td>\n",
       "      <td>-0.52370</td>\n",
       "      <td>2017-01-18</td>\n",
       "      <td>P</td>\n",
       "      <td>15.0</td>\n",
       "    </tr>\n",
       "    <tr>\n",
       "      <th>1490119</th>\n",
       "      <td>VIX   170118C00016000</td>\n",
       "      <td>2016-12-20 16:00:00</td>\n",
       "      <td>0.94658</td>\n",
       "      <td>0.39004</td>\n",
       "      <td>2017-01-18</td>\n",
       "      <td>C</td>\n",
       "      <td>16.0</td>\n",
       "    </tr>\n",
       "    <tr>\n",
       "      <th>1491439</th>\n",
       "      <td>VIX   170118P00016000</td>\n",
       "      <td>2016-12-20 16:00:00</td>\n",
       "      <td>0.96345</td>\n",
       "      <td>-0.60564</td>\n",
       "      <td>2017-01-18</td>\n",
       "      <td>P</td>\n",
       "      <td>16.0</td>\n",
       "    </tr>\n",
       "    <tr>\n",
       "      <th>1490159</th>\n",
       "      <td>VIX   170118C00017000</td>\n",
       "      <td>2016-12-20 16:00:00</td>\n",
       "      <td>1.03663</td>\n",
       "      <td>0.33086</td>\n",
       "      <td>2017-01-18</td>\n",
       "      <td>C</td>\n",
       "      <td>17.0</td>\n",
       "    </tr>\n",
       "    <tr>\n",
       "      <th>1491479</th>\n",
       "      <td>VIX   170118P00017000</td>\n",
       "      <td>2016-12-20 16:00:00</td>\n",
       "      <td>1.00307</td>\n",
       "      <td>-0.67729</td>\n",
       "      <td>2017-01-18</td>\n",
       "      <td>P</td>\n",
       "      <td>17.0</td>\n",
       "    </tr>\n",
       "    <tr>\n",
       "      <th>1490199</th>\n",
       "      <td>VIX   170118C00018000</td>\n",
       "      <td>2016-12-20 16:00:00</td>\n",
       "      <td>1.07656</td>\n",
       "      <td>0.27487</td>\n",
       "      <td>2017-01-18</td>\n",
       "      <td>C</td>\n",
       "      <td>18.0</td>\n",
       "    </tr>\n",
       "    <tr>\n",
       "      <th>1491519</th>\n",
       "      <td>VIX   170118P00018000</td>\n",
       "      <td>2016-12-20 16:00:00</td>\n",
       "      <td>1.07825</td>\n",
       "      <td>-0.72405</td>\n",
       "      <td>2017-01-18</td>\n",
       "      <td>P</td>\n",
       "      <td>18.0</td>\n",
       "    </tr>\n",
       "    <tr>\n",
       "      <th>1490239</th>\n",
       "      <td>VIX   170118C00019000</td>\n",
       "      <td>2016-12-20 16:00:00</td>\n",
       "      <td>1.14659</td>\n",
       "      <td>0.23905</td>\n",
       "      <td>2017-01-18</td>\n",
       "      <td>C</td>\n",
       "      <td>19.0</td>\n",
       "    </tr>\n",
       "    <tr>\n",
       "      <th>1491559</th>\n",
       "      <td>VIX   170118P00019000</td>\n",
       "      <td>2016-12-20 16:00:00</td>\n",
       "      <td>1.12864</td>\n",
       "      <td>-0.76542</td>\n",
       "      <td>2017-01-18</td>\n",
       "      <td>P</td>\n",
       "      <td>19.0</td>\n",
       "    </tr>\n",
       "    <tr>\n",
       "      <th>1490279</th>\n",
       "      <td>VIX   170118C00020000</td>\n",
       "      <td>2016-12-20 16:00:00</td>\n",
       "      <td>1.21940</td>\n",
       "      <td>0.21299</td>\n",
       "      <td>2017-01-18</td>\n",
       "      <td>C</td>\n",
       "      <td>20.0</td>\n",
       "    </tr>\n",
       "    <tr>\n",
       "      <th>1491599</th>\n",
       "      <td>VIX   170118P00020000</td>\n",
       "      <td>2016-12-20 16:00:00</td>\n",
       "      <td>1.20067</td>\n",
       "      <td>-0.79153</td>\n",
       "      <td>2017-01-18</td>\n",
       "      <td>P</td>\n",
       "      <td>20.0</td>\n",
       "    </tr>\n",
       "    <tr>\n",
       "      <th>1490319</th>\n",
       "      <td>VIX   170118C00021000</td>\n",
       "      <td>2016-12-20 16:00:00</td>\n",
       "      <td>1.25467</td>\n",
       "      <td>0.18363</td>\n",
       "      <td>2017-01-18</td>\n",
       "      <td>C</td>\n",
       "      <td>21.0</td>\n",
       "    </tr>\n",
       "    <tr>\n",
       "      <th>1491639</th>\n",
       "      <td>VIX   170118P00021000</td>\n",
       "      <td>2016-12-20 16:00:00</td>\n",
       "      <td>1.25853</td>\n",
       "      <td>-0.81473</td>\n",
       "      <td>2017-01-18</td>\n",
       "      <td>P</td>\n",
       "      <td>21.0</td>\n",
       "    </tr>\n",
       "    <tr>\n",
       "      <th>1490359</th>\n",
       "      <td>VIX   170118C00022000</td>\n",
       "      <td>2016-12-20 16:00:00</td>\n",
       "      <td>1.29882</td>\n",
       "      <td>0.16216</td>\n",
       "      <td>2017-01-18</td>\n",
       "      <td>C</td>\n",
       "      <td>22.0</td>\n",
       "    </tr>\n",
       "    <tr>\n",
       "      <th>1491679</th>\n",
       "      <td>VIX   170118P00022000</td>\n",
       "      <td>2016-12-20 16:00:00</td>\n",
       "      <td>1.25129</td>\n",
       "      <td>-0.84951</td>\n",
       "      <td>2017-01-18</td>\n",
       "      <td>P</td>\n",
       "      <td>22.0</td>\n",
       "    </tr>\n",
       "  </tbody>\n",
       "</table>\n",
       "</div>"
      ],
      "text/plain": [
       "                        SYMBOL           TIMESTAMP  MID_VOL    DELTA  \\\n",
       "1505319  VIX   161221C00011000 2016-12-20 16:00:00  1.20724  0.79123   \n",
       "1506639  VIX   161221P00011000 2016-12-20 16:00:00  1.20651 -0.20879   \n",
       "1507039  VIX   161221C00011500 2016-12-20 16:00:00  1.40241  0.49865   \n",
       "1507239  VIX   161221P00011500 2016-12-20 16:00:00  1.28035 -0.50376   \n",
       "1505359  VIX   161221C00012000 2016-12-20 16:00:00  1.53607  0.26861   \n",
       "1506679  VIX   161221P00012000 2016-12-20 16:00:00  1.38517 -0.75533   \n",
       "1507079  VIX   161221C00012500 2016-12-20 16:00:00  1.83214  0.15782   \n",
       "1492599  VIX   170118C00012500 2016-12-20 16:00:00  0.65487  0.79628   \n",
       "1492799  VIX   170118P00012500 2016-12-20 16:00:00  0.65391 -0.20282   \n",
       "1489999  VIX   170118C00013000 2016-12-20 16:00:00  0.69429  0.72324   \n",
       "1491319  VIX   170118P00013000 2016-12-20 16:00:00  0.69367 -0.27602   \n",
       "1492639  VIX   170118C00013500 2016-12-20 16:00:00  0.73420  0.65156   \n",
       "1492839  VIX   170118P00013500 2016-12-20 16:00:00  0.73391 -0.34779   \n",
       "1490039  VIX   170118C00014000 2016-12-20 16:00:00  0.77826  0.58488   \n",
       "1491359  VIX   170118P00014000 2016-12-20 16:00:00  0.79407 -0.41443   \n",
       "1492679  VIX   170118C00014500 2016-12-20 16:00:00  0.81445  0.52493   \n",
       "1492879  VIX   170118P00014500 2016-12-20 16:00:00  0.83009 -0.47317   \n",
       "1490079  VIX   170118C00015000 2016-12-20 16:00:00  0.87838  0.47565   \n",
       "1491399  VIX   170118P00015000 2016-12-20 16:00:00  0.87857 -0.52370   \n",
       "1490119  VIX   170118C00016000 2016-12-20 16:00:00  0.94658  0.39004   \n",
       "1491439  VIX   170118P00016000 2016-12-20 16:00:00  0.96345 -0.60564   \n",
       "1490159  VIX   170118C00017000 2016-12-20 16:00:00  1.03663  0.33086   \n",
       "1491479  VIX   170118P00017000 2016-12-20 16:00:00  1.00307 -0.67729   \n",
       "1490199  VIX   170118C00018000 2016-12-20 16:00:00  1.07656  0.27487   \n",
       "1491519  VIX   170118P00018000 2016-12-20 16:00:00  1.07825 -0.72405   \n",
       "1490239  VIX   170118C00019000 2016-12-20 16:00:00  1.14659  0.23905   \n",
       "1491559  VIX   170118P00019000 2016-12-20 16:00:00  1.12864 -0.76542   \n",
       "1490279  VIX   170118C00020000 2016-12-20 16:00:00  1.21940  0.21299   \n",
       "1491599  VIX   170118P00020000 2016-12-20 16:00:00  1.20067 -0.79153   \n",
       "1490319  VIX   170118C00021000 2016-12-20 16:00:00  1.25467  0.18363   \n",
       "1491639  VIX   170118P00021000 2016-12-20 16:00:00  1.25853 -0.81473   \n",
       "1490359  VIX   170118C00022000 2016-12-20 16:00:00  1.29882  0.16216   \n",
       "1491679  VIX   170118P00022000 2016-12-20 16:00:00  1.25129 -0.84951   \n",
       "\n",
       "            exdate cp_flag  strike_price  \n",
       "1505319 2016-12-21       C          11.0  \n",
       "1506639 2016-12-21       P          11.0  \n",
       "1507039 2016-12-21       C          11.5  \n",
       "1507239 2016-12-21       P          11.5  \n",
       "1505359 2016-12-21       C          12.0  \n",
       "1506679 2016-12-21       P          12.0  \n",
       "1507079 2016-12-21       C          12.5  \n",
       "1492599 2017-01-18       C          12.5  \n",
       "1492799 2017-01-18       P          12.5  \n",
       "1489999 2017-01-18       C          13.0  \n",
       "1491319 2017-01-18       P          13.0  \n",
       "1492639 2017-01-18       C          13.5  \n",
       "1492839 2017-01-18       P          13.5  \n",
       "1490039 2017-01-18       C          14.0  \n",
       "1491359 2017-01-18       P          14.0  \n",
       "1492679 2017-01-18       C          14.5  \n",
       "1492879 2017-01-18       P          14.5  \n",
       "1490079 2017-01-18       C          15.0  \n",
       "1491399 2017-01-18       P          15.0  \n",
       "1490119 2017-01-18       C          16.0  \n",
       "1491439 2017-01-18       P          16.0  \n",
       "1490159 2017-01-18       C          17.0  \n",
       "1491479 2017-01-18       P          17.0  \n",
       "1490199 2017-01-18       C          18.0  \n",
       "1491519 2017-01-18       P          18.0  \n",
       "1490239 2017-01-18       C          19.0  \n",
       "1491559 2017-01-18       P          19.0  \n",
       "1490279 2017-01-18       C          20.0  \n",
       "1491599 2017-01-18       P          20.0  \n",
       "1490319 2017-01-18       C          21.0  \n",
       "1491639 2017-01-18       P          21.0  \n",
       "1490359 2017-01-18       C          22.0  \n",
       "1491679 2017-01-18       P          22.0  "
      ]
     },
     "execution_count": 11,
     "metadata": {},
     "output_type": "execute_result"
    }
   ],
   "source": [
    "#vix_opt.tail(10)\n",
    "vix_opt[vix_opt['TIMESTAMP'] == '2016-12-20 16:00:00']"
   ]
  },
  {
   "cell_type": "code",
   "execution_count": 14,
   "metadata": {},
   "outputs": [
    {
     "data": {
      "text/html": [
       "<div>\n",
       "<style scoped>\n",
       "    .dataframe tbody tr th:only-of-type {\n",
       "        vertical-align: middle;\n",
       "    }\n",
       "\n",
       "    .dataframe tbody tr th {\n",
       "        vertical-align: top;\n",
       "    }\n",
       "\n",
       "    .dataframe thead th {\n",
       "        text-align: right;\n",
       "    }\n",
       "</style>\n",
       "<table border=\"1\" class=\"dataframe\">\n",
       "  <thead>\n",
       "    <tr style=\"text-align: right;\">\n",
       "      <th></th>\n",
       "      <th>SYMBOL</th>\n",
       "      <th>TIMESTAMP</th>\n",
       "      <th>MID_VOL</th>\n",
       "      <th>DELTA</th>\n",
       "      <th>exdate</th>\n",
       "      <th>cp_flag</th>\n",
       "      <th>strike_price</th>\n",
       "    </tr>\n",
       "  </thead>\n",
       "  <tbody>\n",
       "    <tr>\n",
       "      <th>1512679</th>\n",
       "      <td>VIX   170215P00025000</td>\n",
       "      <td>2016-12-30 16:00:00</td>\n",
       "      <td>1.08136</td>\n",
       "      <td>-0.80193</td>\n",
       "      <td>2017-02-15</td>\n",
       "      <td>P</td>\n",
       "      <td>25.0</td>\n",
       "    </tr>\n",
       "    <tr>\n",
       "      <th>1511399</th>\n",
       "      <td>VIX   170215C00026000</td>\n",
       "      <td>2016-12-30 16:00:00</td>\n",
       "      <td>1.09049</td>\n",
       "      <td>0.17317</td>\n",
       "      <td>2017-02-15</td>\n",
       "      <td>C</td>\n",
       "      <td>26.0</td>\n",
       "    </tr>\n",
       "    <tr>\n",
       "      <th>1512719</th>\n",
       "      <td>VIX   170215P00026000</td>\n",
       "      <td>2016-12-30 16:00:00</td>\n",
       "      <td>1.11302</td>\n",
       "      <td>-0.81878</td>\n",
       "      <td>2017-02-15</td>\n",
       "      <td>P</td>\n",
       "      <td>26.0</td>\n",
       "    </tr>\n",
       "    <tr>\n",
       "      <th>1511439</th>\n",
       "      <td>VIX   170215C00027000</td>\n",
       "      <td>2016-12-30 16:00:00</td>\n",
       "      <td>1.11380</td>\n",
       "      <td>0.15675</td>\n",
       "      <td>2017-02-15</td>\n",
       "      <td>C</td>\n",
       "      <td>27.0</td>\n",
       "    </tr>\n",
       "    <tr>\n",
       "      <th>1512759</th>\n",
       "      <td>VIX   170215P00027000</td>\n",
       "      <td>2016-12-30 16:00:00</td>\n",
       "      <td>1.10345</td>\n",
       "      <td>-0.84541</td>\n",
       "      <td>2017-02-15</td>\n",
       "      <td>P</td>\n",
       "      <td>27.0</td>\n",
       "    </tr>\n",
       "  </tbody>\n",
       "</table>\n",
       "</div>"
      ],
      "text/plain": [
       "                        SYMBOL           TIMESTAMP  MID_VOL    DELTA  \\\n",
       "1512679  VIX   170215P00025000 2016-12-30 16:00:00  1.08136 -0.80193   \n",
       "1511399  VIX   170215C00026000 2016-12-30 16:00:00  1.09049  0.17317   \n",
       "1512719  VIX   170215P00026000 2016-12-30 16:00:00  1.11302 -0.81878   \n",
       "1511439  VIX   170215C00027000 2016-12-30 16:00:00  1.11380  0.15675   \n",
       "1512759  VIX   170215P00027000 2016-12-30 16:00:00  1.10345 -0.84541   \n",
       "\n",
       "            exdate cp_flag  strike_price  \n",
       "1512679 2017-02-15       P          25.0  \n",
       "1511399 2017-02-15       C          26.0  \n",
       "1512719 2017-02-15       P          26.0  \n",
       "1511439 2017-02-15       C          27.0  \n",
       "1512759 2017-02-15       P          27.0  "
      ]
     },
     "execution_count": 14,
     "metadata": {},
     "output_type": "execute_result"
    }
   ],
   "source": [
    "#vix_opt.drop_duplicates()\n",
    "vix_opt.tail()"
   ]
  },
  {
   "cell_type": "code",
   "execution_count": 4,
   "metadata": {},
   "outputs": [
    {
     "data": {
      "text/html": [
       "<div>\n",
       "<style scoped>\n",
       "    .dataframe tbody tr th:only-of-type {\n",
       "        vertical-align: middle;\n",
       "    }\n",
       "\n",
       "    .dataframe tbody tr th {\n",
       "        vertical-align: top;\n",
       "    }\n",
       "\n",
       "    .dataframe thead th {\n",
       "        text-align: right;\n",
       "    }\n",
       "</style>\n",
       "<table border=\"1\" class=\"dataframe\">\n",
       "  <thead>\n",
       "    <tr style=\"text-align: right;\">\n",
       "      <th></th>\n",
       "      <th>vx1</th>\n",
       "    </tr>\n",
       "  </thead>\n",
       "  <tbody>\n",
       "    <tr>\n",
       "      <th>0</th>\n",
       "      <td>2005-10-19</td>\n",
       "    </tr>\n",
       "    <tr>\n",
       "      <th>1</th>\n",
       "      <td>2005-11-16</td>\n",
       "    </tr>\n",
       "    <tr>\n",
       "      <th>2</th>\n",
       "      <td>2005-12-21</td>\n",
       "    </tr>\n",
       "    <tr>\n",
       "      <th>3</th>\n",
       "      <td>2006-01-18</td>\n",
       "    </tr>\n",
       "    <tr>\n",
       "      <th>4</th>\n",
       "      <td>2006-02-15</td>\n",
       "    </tr>\n",
       "  </tbody>\n",
       "</table>\n",
       "</div>"
      ],
      "text/plain": [
       "         vx1\n",
       "0 2005-10-19\n",
       "1 2005-11-16\n",
       "2 2005-12-21\n",
       "3 2006-01-18\n",
       "4 2006-02-15"
      ]
     },
     "execution_count": 4,
     "metadata": {},
     "output_type": "execute_result"
    }
   ],
   "source": [
    "expiration = pd.read_csv(os.getcwd() + (r'\\Data' + '\\expiration_dates.csv'), usecols=['vx1'], parse_dates=['vx1'], \\\n",
    "                         date_parser = lambda x: datetime.strptime(x,'%d-%b-%y'))\n",
    "\n",
    "expiration.head()"
   ]
  },
  {
   "cell_type": "code",
   "execution_count": 16,
   "metadata": {},
   "outputs": [],
   "source": [
    "# Define column numbers for VIX expiration dates in 'expiration_dates.csv'\n",
    "vx_expirys = 0\n",
    "\n",
    "def findTerms(date):\n",
    "    for i in range(expiration.shape[vx_expirys]): # Determine month & year of VIX expiry corresponding to current date\n",
    "        if expiration.iloc[i,vx_expirys].month == date.month and expiration.iloc[i,vx_expirys].year == date.year:\n",
    "            break                                 # Effectively reduces search area of posible dates\n",
    "    \n",
    "    if date < expiration.iloc[i,vx_expirys]:\n",
    "        term1 = expiration.iloc[i+0,vx_expirys]\n",
    "        term2 = expiration.iloc[i+1,vx_expirys]\n",
    "    else:\n",
    "        term1 = expiration.iloc[i+1,vx_expirys]\n",
    "        term2 = expiration.iloc[i+2,vx_expirys]\n",
    "        \n",
    "    return pd.Series([term1, term2], index=['Term_1', 'Term_2'])"
   ]
  },
  {
   "cell_type": "code",
   "execution_count": 17,
   "metadata": {},
   "outputs": [],
   "source": [
    "#vix_opt[(vix_opt['TIMESTAMP'] >= '2015-10-21') & (vix_opt['TIMESTAMP'] < '2015-10-22')]"
   ]
  },
  {
   "cell_type": "markdown",
   "metadata": {},
   "source": [
    "#### Build test dataframe for relevant VIX options information"
   ]
  },
  {
   "cell_type": "code",
   "execution_count": 4,
   "metadata": {},
   "outputs": [],
   "source": [
    "vix_test = vix_opt.iloc[:30000].copy()"
   ]
  },
  {
   "cell_type": "code",
   "execution_count": 51,
   "metadata": {},
   "outputs": [],
   "source": [
    "test_terms = vix_test['TIMESTAMP'].apply(findTerms)"
   ]
  },
  {
   "cell_type": "code",
   "execution_count": 52,
   "metadata": {},
   "outputs": [],
   "source": [
    "vix_test = pd.concat([vix_test, test_terms], axis=1)"
   ]
  },
  {
   "cell_type": "code",
   "execution_count": 5,
   "metadata": {},
   "outputs": [
    {
     "data": {
      "text/html": [
       "<div>\n",
       "<style scoped>\n",
       "    .dataframe tbody tr th:only-of-type {\n",
       "        vertical-align: middle;\n",
       "    }\n",
       "\n",
       "    .dataframe tbody tr th {\n",
       "        vertical-align: top;\n",
       "    }\n",
       "\n",
       "    .dataframe thead th {\n",
       "        text-align: right;\n",
       "    }\n",
       "</style>\n",
       "<table border=\"1\" class=\"dataframe\">\n",
       "  <thead>\n",
       "    <tr style=\"text-align: right;\">\n",
       "      <th></th>\n",
       "      <th>SYMBOL</th>\n",
       "      <th>TIMESTAMP</th>\n",
       "      <th>MID_VOL</th>\n",
       "      <th>DELTA</th>\n",
       "      <th>exdate</th>\n",
       "      <th>cp_flag</th>\n",
       "      <th>strike_price</th>\n",
       "      <th>Term_1</th>\n",
       "      <th>Term_2</th>\n",
       "    </tr>\n",
       "  </thead>\n",
       "  <tbody>\n",
       "    <tr>\n",
       "      <th>41067</th>\n",
       "      <td>VIX   150218C00017000</td>\n",
       "      <td>2015-01-22 14:00:00</td>\n",
       "      <td>0.86353</td>\n",
       "      <td>0.66055</td>\n",
       "      <td>2015-02-18</td>\n",
       "      <td>C</td>\n",
       "      <td>17.0</td>\n",
       "      <td>2015-02-18</td>\n",
       "      <td>2015-03-18</td>\n",
       "    </tr>\n",
       "    <tr>\n",
       "      <th>39747</th>\n",
       "      <td>VIX   150218P00017000</td>\n",
       "      <td>2015-01-22 14:00:00</td>\n",
       "      <td>0.86339</td>\n",
       "      <td>-0.33932</td>\n",
       "      <td>2015-02-18</td>\n",
       "      <td>P</td>\n",
       "      <td>17.0</td>\n",
       "      <td>2015-02-18</td>\n",
       "      <td>2015-03-18</td>\n",
       "    </tr>\n",
       "    <tr>\n",
       "      <th>41107</th>\n",
       "      <td>VIX   150218C00018000</td>\n",
       "      <td>2015-01-22 14:00:00</td>\n",
       "      <td>0.92657</td>\n",
       "      <td>0.57007</td>\n",
       "      <td>2015-02-18</td>\n",
       "      <td>C</td>\n",
       "      <td>18.0</td>\n",
       "      <td>2015-02-18</td>\n",
       "      <td>2015-03-18</td>\n",
       "    </tr>\n",
       "    <tr>\n",
       "      <th>39787</th>\n",
       "      <td>VIX   150218P00018000</td>\n",
       "      <td>2015-01-22 14:00:00</td>\n",
       "      <td>0.92655</td>\n",
       "      <td>-0.42980</td>\n",
       "      <td>2015-02-18</td>\n",
       "      <td>P</td>\n",
       "      <td>18.0</td>\n",
       "      <td>2015-02-18</td>\n",
       "      <td>2015-03-18</td>\n",
       "    </tr>\n",
       "    <tr>\n",
       "      <th>41147</th>\n",
       "      <td>VIX   150218C00019000</td>\n",
       "      <td>2015-01-22 14:00:00</td>\n",
       "      <td>0.96556</td>\n",
       "      <td>0.48994</td>\n",
       "      <td>2015-02-18</td>\n",
       "      <td>C</td>\n",
       "      <td>19.0</td>\n",
       "      <td>2015-02-18</td>\n",
       "      <td>2015-03-18</td>\n",
       "    </tr>\n",
       "  </tbody>\n",
       "</table>\n",
       "</div>"
      ],
      "text/plain": [
       "                      SYMBOL           TIMESTAMP  MID_VOL    DELTA     exdate  \\\n",
       "41067  VIX   150218C00017000 2015-01-22 14:00:00  0.86353  0.66055 2015-02-18   \n",
       "39747  VIX   150218P00017000 2015-01-22 14:00:00  0.86339 -0.33932 2015-02-18   \n",
       "41107  VIX   150218C00018000 2015-01-22 14:00:00  0.92657  0.57007 2015-02-18   \n",
       "39787  VIX   150218P00018000 2015-01-22 14:00:00  0.92655 -0.42980 2015-02-18   \n",
       "41147  VIX   150218C00019000 2015-01-22 14:00:00  0.96556  0.48994 2015-02-18   \n",
       "\n",
       "      cp_flag  strike_price     Term_1     Term_2  \n",
       "41067       C          17.0 2015-02-18 2015-03-18  \n",
       "39747       P          17.0 2015-02-18 2015-03-18  \n",
       "41107       C          18.0 2015-02-18 2015-03-18  \n",
       "39787       P          18.0 2015-02-18 2015-03-18  \n",
       "41147       C          19.0 2015-02-18 2015-03-18  "
      ]
     },
     "execution_count": 5,
     "metadata": {},
     "output_type": "execute_result"
    }
   ],
   "source": [
    "vix_test.tail()"
   ]
  },
  {
   "cell_type": "markdown",
   "metadata": {},
   "source": [
    "#### Apply 'findterms' function to VIX options dataframe, matching trade date with correct front month (VX1) options contract "
   ]
  },
  {
   "cell_type": "code",
   "execution_count": 18,
   "metadata": {},
   "outputs": [],
   "source": [
    "#vix_opt['term1'] = vix_opt['TIMESTAMP'].apply(findTerms)\n",
    "terms = vix_opt['TIMESTAMP'].apply(findTerms)"
   ]
  },
  {
   "cell_type": "code",
   "execution_count": 19,
   "metadata": {},
   "outputs": [],
   "source": [
    "vix_opt = pd.concat([vix_opt, terms], axis=1)"
   ]
  },
  {
   "cell_type": "code",
   "execution_count": 20,
   "metadata": {},
   "outputs": [
    {
     "data": {
      "text/html": [
       "<div>\n",
       "<style scoped>\n",
       "    .dataframe tbody tr th:only-of-type {\n",
       "        vertical-align: middle;\n",
       "    }\n",
       "\n",
       "    .dataframe tbody tr th {\n",
       "        vertical-align: top;\n",
       "    }\n",
       "\n",
       "    .dataframe thead th {\n",
       "        text-align: right;\n",
       "    }\n",
       "</style>\n",
       "<table border=\"1\" class=\"dataframe\">\n",
       "  <thead>\n",
       "    <tr style=\"text-align: right;\">\n",
       "      <th></th>\n",
       "      <th>SYMBOL</th>\n",
       "      <th>TIMESTAMP</th>\n",
       "      <th>MID_VOL</th>\n",
       "      <th>DELTA</th>\n",
       "      <th>exdate</th>\n",
       "      <th>cp_flag</th>\n",
       "      <th>strike_price</th>\n",
       "      <th>Term_1</th>\n",
       "      <th>Term_2</th>\n",
       "    </tr>\n",
       "  </thead>\n",
       "  <tbody>\n",
       "    <tr>\n",
       "      <th>1512679</th>\n",
       "      <td>VIX   170215P00025000</td>\n",
       "      <td>2016-12-30 16:00:00</td>\n",
       "      <td>1.08136</td>\n",
       "      <td>-0.80193</td>\n",
       "      <td>2017-02-15</td>\n",
       "      <td>P</td>\n",
       "      <td>25.0</td>\n",
       "      <td>2017-01-18</td>\n",
       "      <td>2017-02-15</td>\n",
       "    </tr>\n",
       "    <tr>\n",
       "      <th>1511399</th>\n",
       "      <td>VIX   170215C00026000</td>\n",
       "      <td>2016-12-30 16:00:00</td>\n",
       "      <td>1.09049</td>\n",
       "      <td>0.17317</td>\n",
       "      <td>2017-02-15</td>\n",
       "      <td>C</td>\n",
       "      <td>26.0</td>\n",
       "      <td>2017-01-18</td>\n",
       "      <td>2017-02-15</td>\n",
       "    </tr>\n",
       "    <tr>\n",
       "      <th>1512719</th>\n",
       "      <td>VIX   170215P00026000</td>\n",
       "      <td>2016-12-30 16:00:00</td>\n",
       "      <td>1.11302</td>\n",
       "      <td>-0.81878</td>\n",
       "      <td>2017-02-15</td>\n",
       "      <td>P</td>\n",
       "      <td>26.0</td>\n",
       "      <td>2017-01-18</td>\n",
       "      <td>2017-02-15</td>\n",
       "    </tr>\n",
       "    <tr>\n",
       "      <th>1511439</th>\n",
       "      <td>VIX   170215C00027000</td>\n",
       "      <td>2016-12-30 16:00:00</td>\n",
       "      <td>1.11380</td>\n",
       "      <td>0.15675</td>\n",
       "      <td>2017-02-15</td>\n",
       "      <td>C</td>\n",
       "      <td>27.0</td>\n",
       "      <td>2017-01-18</td>\n",
       "      <td>2017-02-15</td>\n",
       "    </tr>\n",
       "    <tr>\n",
       "      <th>1512759</th>\n",
       "      <td>VIX   170215P00027000</td>\n",
       "      <td>2016-12-30 16:00:00</td>\n",
       "      <td>1.10345</td>\n",
       "      <td>-0.84541</td>\n",
       "      <td>2017-02-15</td>\n",
       "      <td>P</td>\n",
       "      <td>27.0</td>\n",
       "      <td>2017-01-18</td>\n",
       "      <td>2017-02-15</td>\n",
       "    </tr>\n",
       "  </tbody>\n",
       "</table>\n",
       "</div>"
      ],
      "text/plain": [
       "                        SYMBOL           TIMESTAMP  MID_VOL    DELTA  \\\n",
       "1512679  VIX   170215P00025000 2016-12-30 16:00:00  1.08136 -0.80193   \n",
       "1511399  VIX   170215C00026000 2016-12-30 16:00:00  1.09049  0.17317   \n",
       "1512719  VIX   170215P00026000 2016-12-30 16:00:00  1.11302 -0.81878   \n",
       "1511439  VIX   170215C00027000 2016-12-30 16:00:00  1.11380  0.15675   \n",
       "1512759  VIX   170215P00027000 2016-12-30 16:00:00  1.10345 -0.84541   \n",
       "\n",
       "            exdate cp_flag  strike_price     Term_1     Term_2  \n",
       "1512679 2017-02-15       P          25.0 2017-01-18 2017-02-15  \n",
       "1511399 2017-02-15       C          26.0 2017-01-18 2017-02-15  \n",
       "1512719 2017-02-15       P          26.0 2017-01-18 2017-02-15  \n",
       "1511439 2017-02-15       C          27.0 2017-01-18 2017-02-15  \n",
       "1512759 2017-02-15       P          27.0 2017-01-18 2017-02-15  "
      ]
     },
     "execution_count": 20,
     "metadata": {},
     "output_type": "execute_result"
    }
   ],
   "source": [
    "vix_opt.tail()"
   ]
  },
  {
   "cell_type": "code",
   "execution_count": 36,
   "metadata": {},
   "outputs": [
    {
     "data": {
      "text/plain": [
       "pandas._libs.tslib.Timestamp"
      ]
     },
     "execution_count": 36,
     "metadata": {},
     "output_type": "execute_result"
    }
   ],
   "source": [
    "#type(vix_test['exdate'].iloc[0])"
   ]
  },
  {
   "cell_type": "code",
   "execution_count": 37,
   "metadata": {},
   "outputs": [
    {
     "data": {
      "text/plain": [
       "pandas._libs.tslib.Timestamp"
      ]
     },
     "execution_count": 37,
     "metadata": {},
     "output_type": "execute_result"
    }
   ],
   "source": [
    "#type(vix_test['term1'].iloc[0])"
   ]
  },
  {
   "cell_type": "code",
   "execution_count": 46,
   "metadata": {},
   "outputs": [],
   "source": [
    "test = vix_test[vix_test['exdate'] == vix_test['term1']]"
   ]
  },
  {
   "cell_type": "code",
   "execution_count": 47,
   "metadata": {},
   "outputs": [
    {
     "data": {
      "text/html": [
       "<div>\n",
       "<style scoped>\n",
       "    .dataframe tbody tr th:only-of-type {\n",
       "        vertical-align: middle;\n",
       "    }\n",
       "\n",
       "    .dataframe tbody tr th {\n",
       "        vertical-align: top;\n",
       "    }\n",
       "\n",
       "    .dataframe thead th {\n",
       "        text-align: right;\n",
       "    }\n",
       "</style>\n",
       "<table border=\"1\" class=\"dataframe\">\n",
       "  <thead>\n",
       "    <tr style=\"text-align: right;\">\n",
       "      <th></th>\n",
       "      <th>SYMBOL</th>\n",
       "      <th>TIMESTAMP</th>\n",
       "      <th>MID_VOL</th>\n",
       "      <th>DELTA</th>\n",
       "      <th>exdate</th>\n",
       "      <th>cp_flag</th>\n",
       "      <th>strike_price</th>\n",
       "      <th>term1</th>\n",
       "    </tr>\n",
       "  </thead>\n",
       "  <tbody>\n",
       "    <tr>\n",
       "      <th>88369</th>\n",
       "      <td>VIX   150218P00025000</td>\n",
       "      <td>2015-01-23 11:00:00</td>\n",
       "      <td>1.23604</td>\n",
       "      <td>-0.79605</td>\n",
       "      <td>2015-02-18</td>\n",
       "      <td>P</td>\n",
       "      <td>25.0</td>\n",
       "      <td>2015-02-18</td>\n",
       "    </tr>\n",
       "    <tr>\n",
       "      <th>88489</th>\n",
       "      <td>VIX   150218C00026000</td>\n",
       "      <td>2015-01-23 11:00:00</td>\n",
       "      <td>1.30427</td>\n",
       "      <td>0.18983</td>\n",
       "      <td>2015-02-18</td>\n",
       "      <td>C</td>\n",
       "      <td>26.0</td>\n",
       "      <td>2015-02-18</td>\n",
       "    </tr>\n",
       "    <tr>\n",
       "      <th>88529</th>\n",
       "      <td>VIX   150218P00026000</td>\n",
       "      <td>2015-01-23 11:00:00</td>\n",
       "      <td>1.24464</td>\n",
       "      <td>-0.82568</td>\n",
       "      <td>2015-02-18</td>\n",
       "      <td>P</td>\n",
       "      <td>26.0</td>\n",
       "      <td>2015-02-18</td>\n",
       "    </tr>\n",
       "    <tr>\n",
       "      <th>88649</th>\n",
       "      <td>VIX   150218C00027000</td>\n",
       "      <td>2015-01-23 11:00:00</td>\n",
       "      <td>1.32447</td>\n",
       "      <td>0.16700</td>\n",
       "      <td>2015-02-18</td>\n",
       "      <td>C</td>\n",
       "      <td>27.0</td>\n",
       "      <td>2015-02-18</td>\n",
       "    </tr>\n",
       "    <tr>\n",
       "      <th>88689</th>\n",
       "      <td>VIX   150218P00027000</td>\n",
       "      <td>2015-01-23 11:00:00</td>\n",
       "      <td>1.32457</td>\n",
       "      <td>-0.83298</td>\n",
       "      <td>2015-02-18</td>\n",
       "      <td>P</td>\n",
       "      <td>27.0</td>\n",
       "      <td>2015-02-18</td>\n",
       "    </tr>\n",
       "  </tbody>\n",
       "</table>\n",
       "</div>"
      ],
      "text/plain": [
       "                      SYMBOL           TIMESTAMP  MID_VOL    DELTA     exdate  \\\n",
       "88369  VIX   150218P00025000 2015-01-23 11:00:00  1.23604 -0.79605 2015-02-18   \n",
       "88489  VIX   150218C00026000 2015-01-23 11:00:00  1.30427  0.18983 2015-02-18   \n",
       "88529  VIX   150218P00026000 2015-01-23 11:00:00  1.24464 -0.82568 2015-02-18   \n",
       "88649  VIX   150218C00027000 2015-01-23 11:00:00  1.32447  0.16700 2015-02-18   \n",
       "88689  VIX   150218P00027000 2015-01-23 11:00:00  1.32457 -0.83298 2015-02-18   \n",
       "\n",
       "      cp_flag  strike_price      term1  \n",
       "88369       P          25.0 2015-02-18  \n",
       "88489       C          26.0 2015-02-18  \n",
       "88529       P          26.0 2015-02-18  \n",
       "88649       C          27.0 2015-02-18  \n",
       "88689       P          27.0 2015-02-18  "
      ]
     },
     "execution_count": 47,
     "metadata": {},
     "output_type": "execute_result"
    }
   ],
   "source": [
    "test.tail()"
   ]
  },
  {
   "cell_type": "markdown",
   "metadata": {},
   "source": [
    "#### Save/Retrieve vix_opt dataframe to/from pickle file"
   ]
  },
  {
   "cell_type": "code",
   "execution_count": 21,
   "metadata": {},
   "outputs": [],
   "source": [
    "#vix_opt.to_pickle(intra_filepath + r'\\Pickle\\vix_opt.pkl')\n",
    "vix_opt.to_pickle(intra_filepath + r'\\Pickle\\vix_opt_2term.pkl')"
   ]
  },
  {
   "cell_type": "code",
   "execution_count": 2,
   "metadata": {},
   "outputs": [],
   "source": [
    "#vix_opt = pickle.load(open(os.getcwd() + r'\\Data\\Intraday\\Pickle\\vix_opt.pkl', \"rb\"))\n",
    "vix_opt = pickle.load(open(os.getcwd() + r'\\Data\\Intraday\\Pickle\\vix_opt_2term.pkl', \"rb\"))"
   ]
  },
  {
   "cell_type": "markdown",
   "metadata": {},
   "source": [
    "#### Check for duplicate rows"
   ]
  },
  {
   "cell_type": "code",
   "execution_count": 6,
   "metadata": {},
   "outputs": [
    {
     "data": {
      "text/plain": [
       "0"
      ]
     },
     "execution_count": 6,
     "metadata": {},
     "output_type": "execute_result"
    }
   ],
   "source": [
    "vix_opt[vix_opt.duplicated()].size"
   ]
  },
  {
   "cell_type": "code",
   "execution_count": 7,
   "metadata": {},
   "outputs": [
    {
     "data": {
      "text/plain": [
       "8979993"
      ]
     },
     "execution_count": 7,
     "metadata": {},
     "output_type": "execute_result"
    }
   ],
   "source": [
    "vix_opt.size"
   ]
  },
  {
   "cell_type": "markdown",
   "metadata": {},
   "source": [
    "#### Calculate individual trade dates from TIMESTAMP"
   ]
  },
  {
   "cell_type": "code",
   "execution_count": 8,
   "metadata": {},
   "outputs": [],
   "source": [
    "trade_dates = pd.DataFrame(np.unique(vix_opt['TIMESTAMP'].apply(lambda x: x.strftime('%Y-%m-%d'))))"
   ]
  },
  {
   "cell_type": "code",
   "execution_count": 9,
   "metadata": {},
   "outputs": [
    {
     "data": {
      "text/html": [
       "<div>\n",
       "<style scoped>\n",
       "    .dataframe tbody tr th:only-of-type {\n",
       "        vertical-align: middle;\n",
       "    }\n",
       "\n",
       "    .dataframe tbody tr th {\n",
       "        vertical-align: top;\n",
       "    }\n",
       "\n",
       "    .dataframe thead th {\n",
       "        text-align: right;\n",
       "    }\n",
       "</style>\n",
       "<table border=\"1\" class=\"dataframe\">\n",
       "  <thead>\n",
       "    <tr style=\"text-align: right;\">\n",
       "      <th></th>\n",
       "      <th>0</th>\n",
       "    </tr>\n",
       "  </thead>\n",
       "  <tbody>\n",
       "    <tr>\n",
       "      <th>0</th>\n",
       "      <td>2015-01-02</td>\n",
       "    </tr>\n",
       "    <tr>\n",
       "      <th>1</th>\n",
       "      <td>2015-01-05</td>\n",
       "    </tr>\n",
       "    <tr>\n",
       "      <th>2</th>\n",
       "      <td>2015-01-06</td>\n",
       "    </tr>\n",
       "    <tr>\n",
       "      <th>3</th>\n",
       "      <td>2015-01-07</td>\n",
       "    </tr>\n",
       "    <tr>\n",
       "      <th>4</th>\n",
       "      <td>2015-01-08</td>\n",
       "    </tr>\n",
       "  </tbody>\n",
       "</table>\n",
       "</div>"
      ],
      "text/plain": [
       "            0\n",
       "0  2015-01-02\n",
       "1  2015-01-05\n",
       "2  2015-01-06\n",
       "3  2015-01-07\n",
       "4  2015-01-08"
      ]
     },
     "execution_count": 9,
     "metadata": {},
     "output_type": "execute_result"
    }
   ],
   "source": [
    "trade_dates.head()"
   ]
  },
  {
   "cell_type": "code",
   "execution_count": 10,
   "metadata": {},
   "outputs": [
    {
     "data": {
      "text/plain": [
       "496"
      ]
     },
     "execution_count": 10,
     "metadata": {},
     "output_type": "execute_result"
    }
   ],
   "source": [
    "len(trade_dates)"
   ]
  },
  {
   "cell_type": "code",
   "execution_count": 11,
   "metadata": {},
   "outputs": [],
   "source": [
    "trade_dates = np.array([pd.Timestamp(x) for x in np.unique(trade_dates)])"
   ]
  },
  {
   "cell_type": "markdown",
   "metadata": {},
   "source": [
    "#### Add additional trade dates to dataset"
   ]
  },
  {
   "cell_type": "code",
   "execution_count": 12,
   "metadata": {},
   "outputs": [],
   "source": [
    "extra_dates = pd.date_range('2014-12-16', '2014-12-31', freq=pd.tseries.offsets.BDay()).tolist()"
   ]
  },
  {
   "cell_type": "markdown",
   "metadata": {},
   "source": [
    "#### Remove Christmas as a trade date"
   ]
  },
  {
   "cell_type": "code",
   "execution_count": 13,
   "metadata": {},
   "outputs": [
    {
     "data": {
      "text/plain": [
       "Timestamp('2014-12-25 00:00:00', freq='B')"
      ]
     },
     "execution_count": 13,
     "metadata": {},
     "output_type": "execute_result"
    }
   ],
   "source": [
    "extra_dates.pop(7)"
   ]
  },
  {
   "cell_type": "code",
   "execution_count": 14,
   "metadata": {},
   "outputs": [
    {
     "data": {
      "text/plain": [
       "[Timestamp('2014-12-16 00:00:00', freq='B'),\n",
       " Timestamp('2014-12-17 00:00:00', freq='B'),\n",
       " Timestamp('2014-12-18 00:00:00', freq='B'),\n",
       " Timestamp('2014-12-19 00:00:00', freq='B'),\n",
       " Timestamp('2014-12-22 00:00:00', freq='B'),\n",
       " Timestamp('2014-12-23 00:00:00', freq='B'),\n",
       " Timestamp('2014-12-24 00:00:00', freq='B'),\n",
       " Timestamp('2014-12-26 00:00:00', freq='B'),\n",
       " Timestamp('2014-12-29 00:00:00', freq='B'),\n",
       " Timestamp('2014-12-30 00:00:00', freq='B'),\n",
       " Timestamp('2014-12-31 00:00:00', freq='B')]"
      ]
     },
     "execution_count": 14,
     "metadata": {},
     "output_type": "execute_result"
    }
   ],
   "source": [
    "extra_dates"
   ]
  },
  {
   "cell_type": "code",
   "execution_count": 15,
   "metadata": {},
   "outputs": [],
   "source": [
    "extra_dates_2 = pd.date_range('2017-01-01', '2017-01-20', freq=pd.tseries.offsets.BDay()).tolist()"
   ]
  },
  {
   "cell_type": "markdown",
   "metadata": {},
   "source": [
    "#### Remove MLK Holiday as a trade date"
   ]
  },
  {
   "cell_type": "code",
   "execution_count": 16,
   "metadata": {},
   "outputs": [
    {
     "data": {
      "text/plain": [
       "Timestamp('2017-01-16 00:00:00', freq='B')"
      ]
     },
     "execution_count": 16,
     "metadata": {},
     "output_type": "execute_result"
    }
   ],
   "source": [
    "extra_dates_2.pop(10)"
   ]
  },
  {
   "cell_type": "code",
   "execution_count": 17,
   "metadata": {},
   "outputs": [
    {
     "data": {
      "text/plain": [
       "[Timestamp('2017-01-02 00:00:00', freq='B'),\n",
       " Timestamp('2017-01-03 00:00:00', freq='B'),\n",
       " Timestamp('2017-01-04 00:00:00', freq='B'),\n",
       " Timestamp('2017-01-05 00:00:00', freq='B'),\n",
       " Timestamp('2017-01-06 00:00:00', freq='B'),\n",
       " Timestamp('2017-01-09 00:00:00', freq='B'),\n",
       " Timestamp('2017-01-10 00:00:00', freq='B'),\n",
       " Timestamp('2017-01-11 00:00:00', freq='B'),\n",
       " Timestamp('2017-01-12 00:00:00', freq='B'),\n",
       " Timestamp('2017-01-13 00:00:00', freq='B'),\n",
       " Timestamp('2017-01-17 00:00:00', freq='B'),\n",
       " Timestamp('2017-01-18 00:00:00', freq='B'),\n",
       " Timestamp('2017-01-19 00:00:00', freq='B'),\n",
       " Timestamp('2017-01-20 00:00:00', freq='B')]"
      ]
     },
     "execution_count": 17,
     "metadata": {},
     "output_type": "execute_result"
    }
   ],
   "source": [
    "extra_dates_2"
   ]
  },
  {
   "cell_type": "markdown",
   "metadata": {},
   "source": [
    "#### Combine and sort additional trade dates"
   ]
  },
  {
   "cell_type": "code",
   "execution_count": 18,
   "metadata": {},
   "outputs": [],
   "source": [
    "trade_dates = np.append(trade_dates, extra_dates)"
   ]
  },
  {
   "cell_type": "code",
   "execution_count": 19,
   "metadata": {},
   "outputs": [],
   "source": [
    "trade_dates = np.append(trade_dates, extra_dates_2)"
   ]
  },
  {
   "cell_type": "code",
   "execution_count": 20,
   "metadata": {},
   "outputs": [],
   "source": [
    "trade_dates.sort()"
   ]
  },
  {
   "cell_type": "code",
   "execution_count": 21,
   "metadata": {},
   "outputs": [
    {
     "data": {
      "text/plain": [
       "array([Timestamp('2016-12-22 00:00:00'), Timestamp('2016-12-23 00:00:00'),\n",
       "       Timestamp('2016-12-27 00:00:00'), Timestamp('2016-12-28 00:00:00'),\n",
       "       Timestamp('2016-12-29 00:00:00'), Timestamp('2016-12-30 00:00:00'),\n",
       "       Timestamp('2017-01-02 00:00:00', freq='B'),\n",
       "       Timestamp('2017-01-03 00:00:00', freq='B'),\n",
       "       Timestamp('2017-01-04 00:00:00', freq='B'),\n",
       "       Timestamp('2017-01-05 00:00:00', freq='B'),\n",
       "       Timestamp('2017-01-06 00:00:00', freq='B'),\n",
       "       Timestamp('2017-01-09 00:00:00', freq='B'),\n",
       "       Timestamp('2017-01-10 00:00:00', freq='B'),\n",
       "       Timestamp('2017-01-11 00:00:00', freq='B'),\n",
       "       Timestamp('2017-01-12 00:00:00', freq='B'),\n",
       "       Timestamp('2017-01-13 00:00:00', freq='B'),\n",
       "       Timestamp('2017-01-17 00:00:00', freq='B'),\n",
       "       Timestamp('2017-01-18 00:00:00', freq='B'),\n",
       "       Timestamp('2017-01-19 00:00:00', freq='B'),\n",
       "       Timestamp('2017-01-20 00:00:00', freq='B')], dtype=object)"
      ]
     },
     "execution_count": 21,
     "metadata": {},
     "output_type": "execute_result"
    }
   ],
   "source": [
    "trade_dates[-20:]"
   ]
  },
  {
   "cell_type": "code",
   "execution_count": 22,
   "metadata": {},
   "outputs": [
    {
     "data": {
      "text/plain": [
       "Timestamp('2015-01-21 00:00:00')"
      ]
     },
     "execution_count": 22,
     "metadata": {},
     "output_type": "execute_result"
    }
   ],
   "source": [
    "vix_opt['Term_1'].iloc[0]"
   ]
  },
  {
   "cell_type": "code",
   "execution_count": 27,
   "metadata": {},
   "outputs": [],
   "source": [
    "def findOptions(df):\n",
    "    prev_term = expiration[expiration['vx1'] == df['Term_1'].iloc[0]].index[0] - 1\n",
    "    term1 = df[df['exdate'] == df['Term_1'].iloc[0]]\n",
    "    term2 = df[df['exdate'] == df['Term_2'].iloc[0]]\n",
    "    #t1 = len(trade_dates[(trade_dates > df['TIMESTAMP'].iloc[0]) & ( trade_dates <= df['Term_1'].iloc[0] )])\n",
    "    ##t2 = len(trade_dates[(trade_dates > df['TIMESTAMP'].iloc[0]) & ( trade_dates <= df['Term_2'].iloc[0] )])\n",
    "    \n",
    "    # Calculate number of total trading dates between previous & current VIX expiration dates\n",
    "    tdates_per_expiry = len(trade_dates[(trade_dates >= expiration.iloc[prev_term]['vx1'])\\\n",
    "                                         & ( trade_dates < df['Term_1'].iloc[0] )])\n",
    "    \n",
    "    # Calculate current timestamp & future VIX expirys out to the hour & minute \n",
    "    # This approach allows for a more continuous view of Time to Expiry (TTE)\n",
    "    partial_day = (df['TIMESTAMP'].iloc[0].hour + df['TIMESTAMP'].iloc[0].minute/60)/24 - 9.5/24\n",
    "    t1 = len(trade_dates[(trade_dates > df['TIMESTAMP'].iloc[0]) & ( trade_dates <= df['Term_1'].iloc[0] )]) - partial_day\n",
    "    #t2 = len(trade_dates[(trade_dates >= expiration.iloc[prev_term]['vx1']) & (trade_dates < df['Term_1'].iloc[0])]) - partial_day\n",
    "    \n",
    "    if term1.shape[0] == 0 or term2.shape[0] == 0:\n",
    "        return pd.Series([np.nan, np.nan, np.nan, np.nan, t1, t2], index=['Strike1','Strike2','Option1','Option2','t1','t2'])\n",
    "        \n",
    "    #print(df['date'].iloc[0])\n",
    "    strike_list1 = np.unique(term1['strike_price'])\n",
    "    #print(strike_list1)\n",
    "    mindelta1 = 5\n",
    "    for strikeIndx, strike in enumerate(strike_list1): \n",
    "        x = np.abs(term1[term1['strike_price'] == strike]['DELTA'].sum())\n",
    "        if x < mindelta1:\n",
    "            mindelta1 = x\n",
    "            minStrike1 = strike\n",
    "            \n",
    "    strike_list2 = np.unique(term2['strike_price'])\n",
    "    mindelta2 = 5\n",
    "    for strikeIndx, strike in enumerate(strike_list2): \n",
    "        x = np.abs(term2[term2['strike_price'] == strike]['DELTA'].sum())\n",
    "        if x < mindelta2:\n",
    "            mindelta2 = x\n",
    "            minStrike2 = strike\n",
    "            \n",
    "    avg1 = term1[term1['strike_price'] == minStrike1]['MID_VOL'].mean()\n",
    "    avg2 = term2[term2['strike_price'] == minStrike2]['MID_VOL'].mean()\n",
    "    \n",
    "    return pd.Series([minStrike1, minStrike2, avg1, avg2, t1, tdates_per_expiry],\\\n",
    "                     index=['Strike1', 'Strike2','Option1', 'Option2','t1','trade_dates/expiry']) "
   ]
  },
  {
   "cell_type": "code",
   "execution_count": 27,
   "metadata": {},
   "outputs": [],
   "source": [
    "if 0:\n",
    "    def findOptions(df):\n",
    "        term1 = df[df['exdate'] == df['Term_1'].iloc[0]]\n",
    "        term2 = df[df['exdate'] == df['Term_2'].iloc[0]]\n",
    "        t1 = len(trade_dates[(trade_dates > df['TIMESTAMP'].iloc[0]) & ( trade_dates <= df['Term_1'].iloc[0] )])\n",
    "        t2 = len(trade_dates[(trade_dates > df['TIMESTAMP'].iloc[0]) & ( trade_dates <= df['Term_2'].iloc[0] )])\n",
    "\n",
    "        if term1.shape[0] == 0 or term2.shape[0] == 0:\n",
    "            return pd.Series([np.nan, np.nan, np.nan, np.nan, t1, t2], index=['Strike1','Strike2','Option1','Option2','t1','t2'])\n",
    "\n",
    "        #print(df['date'].iloc[0])\n",
    "        strike_list1 = np.unique(term1['strike_price'])\n",
    "        #print(strike_list1)\n",
    "        mindelta1 = 5\n",
    "        for strikeIndx, strike in enumerate(strike_list1): \n",
    "            x = np.abs(term1[term1['strike_price'] == strike]['DELTA'].sum())\n",
    "            if x < mindelta1:\n",
    "                mindelta1 = x\n",
    "                minStrike1 = strike\n",
    "\n",
    "        strike_list2 = np.unique(term2['strike_price'])\n",
    "        mindelta2 = 5\n",
    "        for strikeIndx, strike in enumerate(strike_list2): \n",
    "            x = np.abs(term2[term2['strike_price'] == strike]['DELTA'].sum())\n",
    "            if x < mindelta2:\n",
    "                mindelta2 = x\n",
    "                minStrike2 = strike\n",
    "\n",
    "        avg1 = term1[term1['strike_price'] == minStrike1]['MID_VOL'].mean()\n",
    "        avg2 = term2[term2['strike_price'] == minStrike2]['MID_VOL'].mean()\n",
    "\n",
    "        return pd.Series([minStrike1, minStrike2, avg1, avg2, t1, t2], index=['Strike1', 'Strike2','Option1', 'Option2','t1','t2']) "
   ]
  },
  {
   "cell_type": "code",
   "execution_count": 28,
   "metadata": {},
   "outputs": [
    {
     "data": {
      "text/html": [
       "<div>\n",
       "<style scoped>\n",
       "    .dataframe tbody tr th:only-of-type {\n",
       "        vertical-align: middle;\n",
       "    }\n",
       "\n",
       "    .dataframe tbody tr th {\n",
       "        vertical-align: top;\n",
       "    }\n",
       "\n",
       "    .dataframe thead th {\n",
       "        text-align: right;\n",
       "    }\n",
       "</style>\n",
       "<table border=\"1\" class=\"dataframe\">\n",
       "  <thead>\n",
       "    <tr style=\"text-align: right;\">\n",
       "      <th></th>\n",
       "      <th>Strike1</th>\n",
       "      <th>Strike2</th>\n",
       "      <th>Option1</th>\n",
       "      <th>Option2</th>\n",
       "      <th>t1</th>\n",
       "      <th>trade_dates/expiry</th>\n",
       "    </tr>\n",
       "    <tr>\n",
       "      <th>TIMESTAMP</th>\n",
       "      <th></th>\n",
       "      <th></th>\n",
       "      <th></th>\n",
       "      <th></th>\n",
       "      <th></th>\n",
       "      <th></th>\n",
       "    </tr>\n",
       "  </thead>\n",
       "  <tbody>\n",
       "    <tr>\n",
       "      <th>2015-01-02 09:40:00</th>\n",
       "      <td>18.0</td>\n",
       "      <td>19.0</td>\n",
       "      <td>1.228430</td>\n",
       "      <td>1.043855</td>\n",
       "      <td>11.993056</td>\n",
       "      <td>22.0</td>\n",
       "    </tr>\n",
       "    <tr>\n",
       "      <th>2015-01-02 09:50:00</th>\n",
       "      <td>18.0</td>\n",
       "      <td>19.0</td>\n",
       "      <td>1.221115</td>\n",
       "      <td>1.044015</td>\n",
       "      <td>11.986111</td>\n",
       "      <td>22.0</td>\n",
       "    </tr>\n",
       "    <tr>\n",
       "      <th>2015-01-02 10:00:00</th>\n",
       "      <td>18.0</td>\n",
       "      <td>19.0</td>\n",
       "      <td>1.221235</td>\n",
       "      <td>1.048970</td>\n",
       "      <td>11.979167</td>\n",
       "      <td>22.0</td>\n",
       "    </tr>\n",
       "    <tr>\n",
       "      <th>2015-01-02 10:10:00</th>\n",
       "      <td>19.0</td>\n",
       "      <td>19.0</td>\n",
       "      <td>1.301530</td>\n",
       "      <td>1.043025</td>\n",
       "      <td>11.972222</td>\n",
       "      <td>22.0</td>\n",
       "    </tr>\n",
       "    <tr>\n",
       "      <th>2015-01-02 10:20:00</th>\n",
       "      <td>19.0</td>\n",
       "      <td>19.0</td>\n",
       "      <td>1.301785</td>\n",
       "      <td>1.042710</td>\n",
       "      <td>11.965278</td>\n",
       "      <td>22.0</td>\n",
       "    </tr>\n",
       "    <tr>\n",
       "      <th>2015-01-02 10:30:00</th>\n",
       "      <td>19.0</td>\n",
       "      <td>19.0</td>\n",
       "      <td>1.309800</td>\n",
       "      <td>1.043180</td>\n",
       "      <td>11.958333</td>\n",
       "      <td>22.0</td>\n",
       "    </tr>\n",
       "    <tr>\n",
       "      <th>2015-01-02 10:40:00</th>\n",
       "      <td>19.0</td>\n",
       "      <td>20.0</td>\n",
       "      <td>1.349270</td>\n",
       "      <td>1.102330</td>\n",
       "      <td>11.951389</td>\n",
       "      <td>22.0</td>\n",
       "    </tr>\n",
       "    <tr>\n",
       "      <th>2015-01-02 10:50:00</th>\n",
       "      <td>19.0</td>\n",
       "      <td>20.0</td>\n",
       "      <td>1.357470</td>\n",
       "      <td>1.107395</td>\n",
       "      <td>11.944444</td>\n",
       "      <td>22.0</td>\n",
       "    </tr>\n",
       "    <tr>\n",
       "      <th>2015-01-02 11:00:00</th>\n",
       "      <td>19.0</td>\n",
       "      <td>20.0</td>\n",
       "      <td>1.358435</td>\n",
       "      <td>1.102755</td>\n",
       "      <td>11.937500</td>\n",
       "      <td>22.0</td>\n",
       "    </tr>\n",
       "    <tr>\n",
       "      <th>2015-01-02 11:10:00</th>\n",
       "      <td>20.0</td>\n",
       "      <td>20.0</td>\n",
       "      <td>1.432975</td>\n",
       "      <td>1.107180</td>\n",
       "      <td>11.930556</td>\n",
       "      <td>22.0</td>\n",
       "    </tr>\n",
       "    <tr>\n",
       "      <th>2015-01-02 11:20:00</th>\n",
       "      <td>20.0</td>\n",
       "      <td>20.0</td>\n",
       "      <td>1.456405</td>\n",
       "      <td>1.106770</td>\n",
       "      <td>11.923611</td>\n",
       "      <td>22.0</td>\n",
       "    </tr>\n",
       "    <tr>\n",
       "      <th>2015-01-02 11:30:00</th>\n",
       "      <td>20.0</td>\n",
       "      <td>20.0</td>\n",
       "      <td>1.462485</td>\n",
       "      <td>1.116825</td>\n",
       "      <td>11.916667</td>\n",
       "      <td>22.0</td>\n",
       "    </tr>\n",
       "    <tr>\n",
       "      <th>2015-01-02 11:40:00</th>\n",
       "      <td>20.0</td>\n",
       "      <td>20.0</td>\n",
       "      <td>1.456490</td>\n",
       "      <td>1.102545</td>\n",
       "      <td>11.909722</td>\n",
       "      <td>22.0</td>\n",
       "    </tr>\n",
       "    <tr>\n",
       "      <th>2015-01-02 11:50:00</th>\n",
       "      <td>20.0</td>\n",
       "      <td>20.0</td>\n",
       "      <td>1.456215</td>\n",
       "      <td>1.112190</td>\n",
       "      <td>11.902778</td>\n",
       "      <td>22.0</td>\n",
       "    </tr>\n",
       "    <tr>\n",
       "      <th>2015-01-02 12:00:00</th>\n",
       "      <td>19.0</td>\n",
       "      <td>14.5</td>\n",
       "      <td>1.381625</td>\n",
       "      <td>0.840590</td>\n",
       "      <td>11.895833</td>\n",
       "      <td>22.0</td>\n",
       "    </tr>\n",
       "  </tbody>\n",
       "</table>\n",
       "</div>"
      ],
      "text/plain": [
       "                     Strike1  Strike2   Option1   Option2         t1  \\\n",
       "TIMESTAMP                                                              \n",
       "2015-01-02 09:40:00     18.0     19.0  1.228430  1.043855  11.993056   \n",
       "2015-01-02 09:50:00     18.0     19.0  1.221115  1.044015  11.986111   \n",
       "2015-01-02 10:00:00     18.0     19.0  1.221235  1.048970  11.979167   \n",
       "2015-01-02 10:10:00     19.0     19.0  1.301530  1.043025  11.972222   \n",
       "2015-01-02 10:20:00     19.0     19.0  1.301785  1.042710  11.965278   \n",
       "2015-01-02 10:30:00     19.0     19.0  1.309800  1.043180  11.958333   \n",
       "2015-01-02 10:40:00     19.0     20.0  1.349270  1.102330  11.951389   \n",
       "2015-01-02 10:50:00     19.0     20.0  1.357470  1.107395  11.944444   \n",
       "2015-01-02 11:00:00     19.0     20.0  1.358435  1.102755  11.937500   \n",
       "2015-01-02 11:10:00     20.0     20.0  1.432975  1.107180  11.930556   \n",
       "2015-01-02 11:20:00     20.0     20.0  1.456405  1.106770  11.923611   \n",
       "2015-01-02 11:30:00     20.0     20.0  1.462485  1.116825  11.916667   \n",
       "2015-01-02 11:40:00     20.0     20.0  1.456490  1.102545  11.909722   \n",
       "2015-01-02 11:50:00     20.0     20.0  1.456215  1.112190  11.902778   \n",
       "2015-01-02 12:00:00     19.0     14.5  1.381625  0.840590  11.895833   \n",
       "\n",
       "                     trade_dates/expiry  \n",
       "TIMESTAMP                                \n",
       "2015-01-02 09:40:00                22.0  \n",
       "2015-01-02 09:50:00                22.0  \n",
       "2015-01-02 10:00:00                22.0  \n",
       "2015-01-02 10:10:00                22.0  \n",
       "2015-01-02 10:20:00                22.0  \n",
       "2015-01-02 10:30:00                22.0  \n",
       "2015-01-02 10:40:00                22.0  \n",
       "2015-01-02 10:50:00                22.0  \n",
       "2015-01-02 11:00:00                22.0  \n",
       "2015-01-02 11:10:00                22.0  \n",
       "2015-01-02 11:20:00                22.0  \n",
       "2015-01-02 11:30:00                22.0  \n",
       "2015-01-02 11:40:00                22.0  \n",
       "2015-01-02 11:50:00                22.0  \n",
       "2015-01-02 12:00:00                22.0  "
      ]
     },
     "execution_count": 28,
     "metadata": {},
     "output_type": "execute_result"
    }
   ],
   "source": [
    "vix_opt.iloc[:1000,:].groupby('TIMESTAMP').apply(findOptions)"
   ]
  },
  {
   "cell_type": "markdown",
   "metadata": {},
   "source": [
    "#### Apply 'findOptions' function to vix_opt dataframe to determine correct ATM implied vol of VIX options for each timestamp"
   ]
  },
  {
   "cell_type": "code",
   "execution_count": 29,
   "metadata": {},
   "outputs": [],
   "source": [
    "# TEST dataframe\n",
    "#vix_vol = vix_test.groupby('TIMESTAMP').apply(findOptions)\n",
    "\n",
    "# ENTIRE dataframe\n",
    "vix_vol = vix_opt.groupby('TIMESTAMP').apply(findOptions)"
   ]
  },
  {
   "cell_type": "code",
   "execution_count": 68,
   "metadata": {},
   "outputs": [
    {
     "data": {
      "text/html": [
       "<div>\n",
       "<style scoped>\n",
       "    .dataframe tbody tr th:only-of-type {\n",
       "        vertical-align: middle;\n",
       "    }\n",
       "\n",
       "    .dataframe tbody tr th {\n",
       "        vertical-align: top;\n",
       "    }\n",
       "\n",
       "    .dataframe thead th {\n",
       "        text-align: right;\n",
       "    }\n",
       "</style>\n",
       "<table border=\"1\" class=\"dataframe\">\n",
       "  <thead>\n",
       "    <tr style=\"text-align: right;\">\n",
       "      <th></th>\n",
       "      <th>Strike1</th>\n",
       "      <th>Strike2</th>\n",
       "      <th>Option1</th>\n",
       "      <th>Option2</th>\n",
       "      <th>t1</th>\n",
       "      <th>trade_dates/expiry</th>\n",
       "    </tr>\n",
       "    <tr>\n",
       "      <th>TIMESTAMP</th>\n",
       "      <th></th>\n",
       "      <th></th>\n",
       "      <th></th>\n",
       "      <th></th>\n",
       "      <th></th>\n",
       "      <th></th>\n",
       "    </tr>\n",
       "  </thead>\n",
       "  <tbody>\n",
       "    <tr>\n",
       "      <th>2015-01-02 09:40:00</th>\n",
       "      <td>18.0</td>\n",
       "      <td>19.0</td>\n",
       "      <td>1.228430</td>\n",
       "      <td>1.043855</td>\n",
       "      <td>11.993056</td>\n",
       "      <td>22.0</td>\n",
       "    </tr>\n",
       "    <tr>\n",
       "      <th>2015-01-02 09:50:00</th>\n",
       "      <td>18.0</td>\n",
       "      <td>19.0</td>\n",
       "      <td>1.221115</td>\n",
       "      <td>1.044015</td>\n",
       "      <td>11.986111</td>\n",
       "      <td>22.0</td>\n",
       "    </tr>\n",
       "    <tr>\n",
       "      <th>2015-01-02 10:00:00</th>\n",
       "      <td>18.0</td>\n",
       "      <td>19.0</td>\n",
       "      <td>1.221235</td>\n",
       "      <td>1.048970</td>\n",
       "      <td>11.979167</td>\n",
       "      <td>22.0</td>\n",
       "    </tr>\n",
       "    <tr>\n",
       "      <th>2015-01-02 10:10:00</th>\n",
       "      <td>19.0</td>\n",
       "      <td>19.0</td>\n",
       "      <td>1.301530</td>\n",
       "      <td>1.043025</td>\n",
       "      <td>11.972222</td>\n",
       "      <td>22.0</td>\n",
       "    </tr>\n",
       "    <tr>\n",
       "      <th>2015-01-02 10:20:00</th>\n",
       "      <td>19.0</td>\n",
       "      <td>19.0</td>\n",
       "      <td>1.301785</td>\n",
       "      <td>1.042710</td>\n",
       "      <td>11.965278</td>\n",
       "      <td>22.0</td>\n",
       "    </tr>\n",
       "  </tbody>\n",
       "</table>\n",
       "</div>"
      ],
      "text/plain": [
       "                     Strike1  Strike2   Option1   Option2         t1  \\\n",
       "TIMESTAMP                                                              \n",
       "2015-01-02 09:40:00     18.0     19.0  1.228430  1.043855  11.993056   \n",
       "2015-01-02 09:50:00     18.0     19.0  1.221115  1.044015  11.986111   \n",
       "2015-01-02 10:00:00     18.0     19.0  1.221235  1.048970  11.979167   \n",
       "2015-01-02 10:10:00     19.0     19.0  1.301530  1.043025  11.972222   \n",
       "2015-01-02 10:20:00     19.0     19.0  1.301785  1.042710  11.965278   \n",
       "\n",
       "                     trade_dates/expiry  \n",
       "TIMESTAMP                                \n",
       "2015-01-02 09:40:00                22.0  \n",
       "2015-01-02 09:50:00                22.0  \n",
       "2015-01-02 10:00:00                22.0  \n",
       "2015-01-02 10:10:00                22.0  \n",
       "2015-01-02 10:20:00                22.0  "
      ]
     },
     "execution_count": 68,
     "metadata": {},
     "output_type": "execute_result"
    }
   ],
   "source": [
    "vix_vol.head()"
   ]
  },
  {
   "cell_type": "markdown",
   "metadata": {},
   "source": [
    "#### Calculate Time-Weighted average of implied vol between 1st & 2nd VIX options contracts"
   ]
  },
  {
   "cell_type": "code",
   "execution_count": 69,
   "metadata": {},
   "outputs": [],
   "source": [
    "vix_vol['Weight_Opt'] = (vix_vol['Option1']*(vix_vol['t1']/vix_vol['trade_dates/expiry'])) + \\\n",
    "                        (vix_vol['Option2']*(1-(vix_vol['t1']/vix_vol['trade_dates/expiry'])))"
   ]
  },
  {
   "cell_type": "code",
   "execution_count": 70,
   "metadata": {},
   "outputs": [
    {
     "data": {
      "text/html": [
       "<div>\n",
       "<style scoped>\n",
       "    .dataframe tbody tr th:only-of-type {\n",
       "        vertical-align: middle;\n",
       "    }\n",
       "\n",
       "    .dataframe tbody tr th {\n",
       "        vertical-align: top;\n",
       "    }\n",
       "\n",
       "    .dataframe thead th {\n",
       "        text-align: right;\n",
       "    }\n",
       "</style>\n",
       "<table border=\"1\" class=\"dataframe\">\n",
       "  <thead>\n",
       "    <tr style=\"text-align: right;\">\n",
       "      <th></th>\n",
       "      <th>Strike1</th>\n",
       "      <th>Strike2</th>\n",
       "      <th>Option1</th>\n",
       "      <th>Option2</th>\n",
       "      <th>t1</th>\n",
       "      <th>trade_dates/expiry</th>\n",
       "      <th>Weight_Opt</th>\n",
       "    </tr>\n",
       "    <tr>\n",
       "      <th>TIMESTAMP</th>\n",
       "      <th></th>\n",
       "      <th></th>\n",
       "      <th></th>\n",
       "      <th></th>\n",
       "      <th></th>\n",
       "      <th></th>\n",
       "      <th></th>\n",
       "    </tr>\n",
       "  </thead>\n",
       "  <tbody>\n",
       "    <tr>\n",
       "      <th>2015-01-02 09:40:00</th>\n",
       "      <td>18.0</td>\n",
       "      <td>19.0</td>\n",
       "      <td>1.228430</td>\n",
       "      <td>1.043855</td>\n",
       "      <td>11.993056</td>\n",
       "      <td>22.0</td>\n",
       "      <td>1.144474</td>\n",
       "    </tr>\n",
       "    <tr>\n",
       "      <th>2015-01-02 09:50:00</th>\n",
       "      <td>18.0</td>\n",
       "      <td>19.0</td>\n",
       "      <td>1.221115</td>\n",
       "      <td>1.044015</td>\n",
       "      <td>11.986111</td>\n",
       "      <td>22.0</td>\n",
       "      <td>1.140503</td>\n",
       "    </tr>\n",
       "    <tr>\n",
       "      <th>2015-01-02 10:00:00</th>\n",
       "      <td>18.0</td>\n",
       "      <td>19.0</td>\n",
       "      <td>1.221235</td>\n",
       "      <td>1.048970</td>\n",
       "      <td>11.979167</td>\n",
       "      <td>22.0</td>\n",
       "      <td>1.142770</td>\n",
       "    </tr>\n",
       "    <tr>\n",
       "      <th>2015-01-02 10:10:00</th>\n",
       "      <td>19.0</td>\n",
       "      <td>19.0</td>\n",
       "      <td>1.301530</td>\n",
       "      <td>1.043025</td>\n",
       "      <td>11.972222</td>\n",
       "      <td>22.0</td>\n",
       "      <td>1.183701</td>\n",
       "    </tr>\n",
       "    <tr>\n",
       "      <th>2015-01-02 10:20:00</th>\n",
       "      <td>19.0</td>\n",
       "      <td>19.0</td>\n",
       "      <td>1.301785</td>\n",
       "      <td>1.042710</td>\n",
       "      <td>11.965278</td>\n",
       "      <td>22.0</td>\n",
       "      <td>1.183615</td>\n",
       "    </tr>\n",
       "  </tbody>\n",
       "</table>\n",
       "</div>"
      ],
      "text/plain": [
       "                     Strike1  Strike2   Option1   Option2         t1  \\\n",
       "TIMESTAMP                                                              \n",
       "2015-01-02 09:40:00     18.0     19.0  1.228430  1.043855  11.993056   \n",
       "2015-01-02 09:50:00     18.0     19.0  1.221115  1.044015  11.986111   \n",
       "2015-01-02 10:00:00     18.0     19.0  1.221235  1.048970  11.979167   \n",
       "2015-01-02 10:10:00     19.0     19.0  1.301530  1.043025  11.972222   \n",
       "2015-01-02 10:20:00     19.0     19.0  1.301785  1.042710  11.965278   \n",
       "\n",
       "                     trade_dates/expiry  Weight_Opt  \n",
       "TIMESTAMP                                            \n",
       "2015-01-02 09:40:00                22.0    1.144474  \n",
       "2015-01-02 09:50:00                22.0    1.140503  \n",
       "2015-01-02 10:00:00                22.0    1.142770  \n",
       "2015-01-02 10:10:00                22.0    1.183701  \n",
       "2015-01-02 10:20:00                22.0    1.183615  "
      ]
     },
     "execution_count": 70,
     "metadata": {},
     "output_type": "execute_result"
    }
   ],
   "source": [
    "vix_vol.head()"
   ]
  },
  {
   "cell_type": "markdown",
   "metadata": {},
   "source": [
    "#### Save/Retrieve vix_vol dataframe to/from pickle file "
   ]
  },
  {
   "cell_type": "code",
   "execution_count": 71,
   "metadata": {},
   "outputs": [],
   "source": [
    "#vix_vol.to_pickle(intra_filepath + r'\\Pickle\\vix_vol.pkl')\n",
    "vix_vol.to_pickle(intra_filepath + r'\\Pickle\\vix_vol_2terms.pkl')"
   ]
  },
  {
   "cell_type": "code",
   "execution_count": 3,
   "metadata": {},
   "outputs": [],
   "source": [
    "#vix_vol = pickle.load(open(os.getcwd() + r'\\Data\\Intraday\\Pickle\\vix_vol.pkl', \"rb\"))"
   ]
  },
  {
   "cell_type": "code",
   "execution_count": 40,
   "metadata": {},
   "outputs": [
    {
     "data": {
      "text/html": [
       "<div>\n",
       "<style scoped>\n",
       "    .dataframe tbody tr th:only-of-type {\n",
       "        vertical-align: middle;\n",
       "    }\n",
       "\n",
       "    .dataframe tbody tr th {\n",
       "        vertical-align: top;\n",
       "    }\n",
       "\n",
       "    .dataframe thead th {\n",
       "        text-align: right;\n",
       "    }\n",
       "</style>\n",
       "<table border=\"1\" class=\"dataframe\">\n",
       "  <thead>\n",
       "    <tr style=\"text-align: right;\">\n",
       "      <th></th>\n",
       "      <th>Strike1</th>\n",
       "      <th>Strike2</th>\n",
       "      <th>Option1</th>\n",
       "      <th>Option2</th>\n",
       "      <th>t1</th>\n",
       "      <th>t2</th>\n",
       "      <th>Weight_Opt</th>\n",
       "    </tr>\n",
       "    <tr>\n",
       "      <th>TIMESTAMP</th>\n",
       "      <th></th>\n",
       "      <th></th>\n",
       "      <th></th>\n",
       "      <th></th>\n",
       "      <th></th>\n",
       "      <th></th>\n",
       "      <th></th>\n",
       "    </tr>\n",
       "  </thead>\n",
       "  <tbody>\n",
       "    <tr>\n",
       "      <th>2015-01-02 09:40:00</th>\n",
       "      <td>18.0</td>\n",
       "      <td>19.0</td>\n",
       "      <td>1.22843</td>\n",
       "      <td>1.043855</td>\n",
       "      <td>12.0</td>\n",
       "      <td>22.0</td>\n",
       "      <td>1.144532</td>\n",
       "    </tr>\n",
       "  </tbody>\n",
       "</table>\n",
       "</div>"
      ],
      "text/plain": [
       "                     Strike1  Strike2  Option1   Option2    t1    t2  \\\n",
       "TIMESTAMP                                                              \n",
       "2015-01-02 09:40:00     18.0     19.0  1.22843  1.043855  12.0  22.0   \n",
       "\n",
       "                     Weight_Opt  \n",
       "TIMESTAMP                        \n",
       "2015-01-02 09:40:00    1.144532  "
      ]
     },
     "execution_count": 40,
     "metadata": {},
     "output_type": "execute_result"
    }
   ],
   "source": [
    "#vix_vol.head(20)\n",
    "vix_vol[vix_vol.index=='2015-01-02 09:40:00']"
   ]
  },
  {
   "cell_type": "code",
   "execution_count": 37,
   "metadata": {},
   "outputs": [
    {
     "data": {
      "text/plain": [
       "25.0"
      ]
     },
     "execution_count": 37,
     "metadata": {},
     "output_type": "execute_result"
    }
   ],
   "source": [
    "max(vix_vol['t1'])"
   ]
  },
  {
   "cell_type": "code",
   "execution_count": 31,
   "metadata": {},
   "outputs": [
    {
     "data": {
      "text/plain": [
       "(0, 4)"
      ]
     },
     "execution_count": 31,
     "metadata": {},
     "output_type": "execute_result"
    }
   ],
   "source": [
    "vix_vol[vix_vol['Strike1'].isna()].shape"
   ]
  },
  {
   "cell_type": "code",
   "execution_count": 30,
   "metadata": {},
   "outputs": [
    {
     "data": {
      "text/plain": [
       "(19344, 4)"
      ]
     },
     "execution_count": 30,
     "metadata": {},
     "output_type": "execute_result"
    }
   ],
   "source": [
    "vix_vol.shape"
   ]
  },
  {
   "cell_type": "markdown",
   "metadata": {},
   "source": [
    "#### Load VIX futures time series data for modeling"
   ]
  },
  {
   "cell_type": "code",
   "execution_count": 22,
   "metadata": {},
   "outputs": [],
   "source": [
    "vx1_opt = pickle.load(open(os.getcwd() + r'\\Data\\Intraday\\Pickle\\vx1_opt.pkl', \"rb\"))"
   ]
  },
  {
   "cell_type": "code",
   "execution_count": 23,
   "metadata": {},
   "outputs": [],
   "source": [
    "vx1 = vx1_opt['Mid']\n",
    "vx1_diff = vx1.diff().dropna().rename('vx1_diff').to_frame()"
   ]
  },
  {
   "cell_type": "code",
   "execution_count": 24,
   "metadata": {},
   "outputs": [
    {
     "data": {
      "text/html": [
       "<div>\n",
       "<style scoped>\n",
       "    .dataframe tbody tr th:only-of-type {\n",
       "        vertical-align: middle;\n",
       "    }\n",
       "\n",
       "    .dataframe tbody tr th {\n",
       "        vertical-align: top;\n",
       "    }\n",
       "\n",
       "    .dataframe thead th {\n",
       "        text-align: right;\n",
       "    }\n",
       "</style>\n",
       "<table border=\"1\" class=\"dataframe\">\n",
       "  <thead>\n",
       "    <tr style=\"text-align: right;\">\n",
       "      <th></th>\n",
       "      <th>vx1_diff</th>\n",
       "      <th>vol_diff</th>\n",
       "    </tr>\n",
       "  </thead>\n",
       "  <tbody>\n",
       "    <tr>\n",
       "      <th>2015-01-02 09:50:00</th>\n",
       "      <td>0.10</td>\n",
       "      <td>-0.007315</td>\n",
       "    </tr>\n",
       "    <tr>\n",
       "      <th>2015-01-02 10:00:00</th>\n",
       "      <td>0.10</td>\n",
       "      <td>0.000120</td>\n",
       "    </tr>\n",
       "    <tr>\n",
       "      <th>2015-01-02 10:10:00</th>\n",
       "      <td>0.35</td>\n",
       "      <td>0.080295</td>\n",
       "    </tr>\n",
       "    <tr>\n",
       "      <th>2015-01-02 10:20:00</th>\n",
       "      <td>0.00</td>\n",
       "      <td>0.000255</td>\n",
       "    </tr>\n",
       "    <tr>\n",
       "      <th>2015-01-02 10:30:00</th>\n",
       "      <td>0.00</td>\n",
       "      <td>0.008015</td>\n",
       "    </tr>\n",
       "  </tbody>\n",
       "</table>\n",
       "</div>"
      ],
      "text/plain": [
       "                     vx1_diff  vol_diff\n",
       "2015-01-02 09:50:00      0.10 -0.007315\n",
       "2015-01-02 10:00:00      0.10  0.000120\n",
       "2015-01-02 10:10:00      0.35  0.080295\n",
       "2015-01-02 10:20:00      0.00  0.000255\n",
       "2015-01-02 10:30:00      0.00  0.008015"
      ]
     },
     "execution_count": 24,
     "metadata": {},
     "output_type": "execute_result"
    }
   ],
   "source": [
    "vix_vol_diff = vix_vol['Option1'].diff().dropna().rename('vol_diff').to_frame()\n",
    "mydata = vx1_diff.merge(vix_vol_diff, how='inner', left_index=True, right_index=True)\n",
    "mydata.head()"
   ]
  },
  {
   "cell_type": "code",
   "execution_count": 25,
   "metadata": {},
   "outputs": [
    {
     "data": {
      "text/html": [
       "<div>\n",
       "<style scoped>\n",
       "    .dataframe tbody tr th:only-of-type {\n",
       "        vertical-align: middle;\n",
       "    }\n",
       "\n",
       "    .dataframe tbody tr th {\n",
       "        vertical-align: top;\n",
       "    }\n",
       "\n",
       "    .dataframe thead th {\n",
       "        text-align: right;\n",
       "    }\n",
       "</style>\n",
       "<table border=\"1\" class=\"dataframe\">\n",
       "  <thead>\n",
       "    <tr style=\"text-align: right;\">\n",
       "      <th></th>\n",
       "      <th>vx1_diff</th>\n",
       "      <th>vol_diff</th>\n",
       "      <th>shift1</th>\n",
       "      <th>shift2</th>\n",
       "      <th>shift3</th>\n",
       "      <th>shift4</th>\n",
       "      <th>shift5</th>\n",
       "    </tr>\n",
       "  </thead>\n",
       "  <tbody>\n",
       "    <tr>\n",
       "      <th>2015-01-02 10:40:00</th>\n",
       "      <td>0.75</td>\n",
       "      <td>0.039470</td>\n",
       "      <td>0.008015</td>\n",
       "      <td>0.000255</td>\n",
       "      <td>0.080295</td>\n",
       "      <td>0.000120</td>\n",
       "      <td>-0.007315</td>\n",
       "    </tr>\n",
       "    <tr>\n",
       "      <th>2015-01-02 10:50:00</th>\n",
       "      <td>0.00</td>\n",
       "      <td>0.008200</td>\n",
       "      <td>0.039470</td>\n",
       "      <td>0.008015</td>\n",
       "      <td>0.000255</td>\n",
       "      <td>0.080295</td>\n",
       "      <td>0.000120</td>\n",
       "    </tr>\n",
       "    <tr>\n",
       "      <th>2015-01-02 11:00:00</th>\n",
       "      <td>-0.05</td>\n",
       "      <td>0.000965</td>\n",
       "      <td>0.008200</td>\n",
       "      <td>0.039470</td>\n",
       "      <td>0.008015</td>\n",
       "      <td>0.000255</td>\n",
       "      <td>0.080295</td>\n",
       "    </tr>\n",
       "    <tr>\n",
       "      <th>2015-01-02 11:10:00</th>\n",
       "      <td>0.20</td>\n",
       "      <td>0.074540</td>\n",
       "      <td>0.000965</td>\n",
       "      <td>0.008200</td>\n",
       "      <td>0.039470</td>\n",
       "      <td>0.008015</td>\n",
       "      <td>0.000255</td>\n",
       "    </tr>\n",
       "    <tr>\n",
       "      <th>2015-01-02 11:20:00</th>\n",
       "      <td>0.10</td>\n",
       "      <td>0.023430</td>\n",
       "      <td>0.074540</td>\n",
       "      <td>0.000965</td>\n",
       "      <td>0.008200</td>\n",
       "      <td>0.039470</td>\n",
       "      <td>0.008015</td>\n",
       "    </tr>\n",
       "  </tbody>\n",
       "</table>\n",
       "</div>"
      ],
      "text/plain": [
       "                     vx1_diff  vol_diff    shift1    shift2    shift3  \\\n",
       "2015-01-02 10:40:00      0.75  0.039470  0.008015  0.000255  0.080295   \n",
       "2015-01-02 10:50:00      0.00  0.008200  0.039470  0.008015  0.000255   \n",
       "2015-01-02 11:00:00     -0.05  0.000965  0.008200  0.039470  0.008015   \n",
       "2015-01-02 11:10:00      0.20  0.074540  0.000965  0.008200  0.039470   \n",
       "2015-01-02 11:20:00      0.10  0.023430  0.074540  0.000965  0.008200   \n",
       "\n",
       "                       shift4    shift5  \n",
       "2015-01-02 10:40:00  0.000120 -0.007315  \n",
       "2015-01-02 10:50:00  0.080295  0.000120  \n",
       "2015-01-02 11:00:00  0.000255  0.080295  \n",
       "2015-01-02 11:10:00  0.008015  0.000255  \n",
       "2015-01-02 11:20:00  0.039470  0.008015  "
      ]
     },
     "execution_count": 25,
     "metadata": {},
     "output_type": "execute_result"
    }
   ],
   "source": [
    "mydata['shift1'] = mydata['vol_diff'].shift(1)\n",
    "mydata['shift2'] = mydata['vol_diff'].shift(2)\n",
    "mydata['shift3'] = mydata['vol_diff'].shift(3)\n",
    "mydata['shift4'] = mydata['vol_diff'].shift(4)\n",
    "mydata['shift5'] = mydata['vol_diff'].shift(5)\n",
    "mydata.dropna(inplace=True)\n",
    "mydata.head()"
   ]
  },
  {
   "cell_type": "code",
   "execution_count": 26,
   "metadata": {},
   "outputs": [],
   "source": [
    "y = mydata.iloc[:,0].values\n",
    "x = mydata.iloc[:,2:].values"
   ]
  },
  {
   "cell_type": "code",
   "execution_count": 27,
   "metadata": {},
   "outputs": [
    {
     "data": {
      "text/plain": [
       "0.00070337673005549384"
      ]
     },
     "execution_count": 27,
     "metadata": {},
     "output_type": "execute_result"
    }
   ],
   "source": [
    "lr = linear_model.LinearRegression()\n",
    "lr.fit(x,y)\n",
    "lr.score(x,y)"
   ]
  },
  {
   "cell_type": "code",
   "execution_count": 11,
   "metadata": {},
   "outputs": [],
   "source": [
    "vx1_diff_plot = mydata['vx1_diff'].to_frame()"
   ]
  },
  {
   "cell_type": "code",
   "execution_count": 12,
   "metadata": {},
   "outputs": [
    {
     "data": {
      "text/plain": [
       "<matplotlib.axes._subplots.AxesSubplot at 0x197b316deb8>"
      ]
     },
     "execution_count": 12,
     "metadata": {},
     "output_type": "execute_result"
    },
    {
     "data": {
      "image/png": "[encoded data removed]",
      "text/plain": [
       "<matplotlib.figure.Figure at 0x197af62c550>"
      ]
     },
     "metadata": {},
     "output_type": "display_data"
    }
   ],
   "source": [
    "vx1_diff_plot['Pred'] = lr.predict(x)\n",
    "\n",
    "# Plot Actual vs. Predicted\n",
    "vx1_diff_plot.plot(figsize=(15,7))"
   ]
  },
  {
   "cell_type": "markdown",
   "metadata": {},
   "source": [
    "### Generate 2015-2016 dataset request (for VIX Options)"
   ]
  },
  {
   "cell_type": "code",
   "execution_count": 3,
   "metadata": {},
   "outputs": [
    {
     "data": {
      "text/html": [
       "<div>\n",
       "<style scoped>\n",
       "    .dataframe tbody tr th:only-of-type {\n",
       "        vertical-align: middle;\n",
       "    }\n",
       "\n",
       "    .dataframe tbody tr th {\n",
       "        vertical-align: top;\n",
       "    }\n",
       "\n",
       "    .dataframe thead th {\n",
       "        text-align: right;\n",
       "    }\n",
       "</style>\n",
       "<table border=\"1\" class=\"dataframe\">\n",
       "  <thead>\n",
       "    <tr style=\"text-align: right;\">\n",
       "      <th></th>\n",
       "      <th>SYMBOL</th>\n",
       "      <th>TIMESTAMP</th>\n",
       "      <th>MID_VOL</th>\n",
       "      <th>DELTA</th>\n",
       "      <th>exdate</th>\n",
       "      <th>cp_flag</th>\n",
       "      <th>strike_price</th>\n",
       "      <th>Term_1</th>\n",
       "      <th>Term_2</th>\n",
       "    </tr>\n",
       "  </thead>\n",
       "  <tbody>\n",
       "    <tr>\n",
       "      <th>1512679</th>\n",
       "      <td>VIX   170215P00025000</td>\n",
       "      <td>2016-12-30 16:00:00</td>\n",
       "      <td>1.08136</td>\n",
       "      <td>-0.80193</td>\n",
       "      <td>2017-02-15</td>\n",
       "      <td>P</td>\n",
       "      <td>25.0</td>\n",
       "      <td>2017-01-18</td>\n",
       "      <td>2017-02-15</td>\n",
       "    </tr>\n",
       "    <tr>\n",
       "      <th>1511399</th>\n",
       "      <td>VIX   170215C00026000</td>\n",
       "      <td>2016-12-30 16:00:00</td>\n",
       "      <td>1.09049</td>\n",
       "      <td>0.17317</td>\n",
       "      <td>2017-02-15</td>\n",
       "      <td>C</td>\n",
       "      <td>26.0</td>\n",
       "      <td>2017-01-18</td>\n",
       "      <td>2017-02-15</td>\n",
       "    </tr>\n",
       "    <tr>\n",
       "      <th>1512719</th>\n",
       "      <td>VIX   170215P00026000</td>\n",
       "      <td>2016-12-30 16:00:00</td>\n",
       "      <td>1.11302</td>\n",
       "      <td>-0.81878</td>\n",
       "      <td>2017-02-15</td>\n",
       "      <td>P</td>\n",
       "      <td>26.0</td>\n",
       "      <td>2017-01-18</td>\n",
       "      <td>2017-02-15</td>\n",
       "    </tr>\n",
       "    <tr>\n",
       "      <th>1511439</th>\n",
       "      <td>VIX   170215C00027000</td>\n",
       "      <td>2016-12-30 16:00:00</td>\n",
       "      <td>1.11380</td>\n",
       "      <td>0.15675</td>\n",
       "      <td>2017-02-15</td>\n",
       "      <td>C</td>\n",
       "      <td>27.0</td>\n",
       "      <td>2017-01-18</td>\n",
       "      <td>2017-02-15</td>\n",
       "    </tr>\n",
       "    <tr>\n",
       "      <th>1512759</th>\n",
       "      <td>VIX   170215P00027000</td>\n",
       "      <td>2016-12-30 16:00:00</td>\n",
       "      <td>1.10345</td>\n",
       "      <td>-0.84541</td>\n",
       "      <td>2017-02-15</td>\n",
       "      <td>P</td>\n",
       "      <td>27.0</td>\n",
       "      <td>2017-01-18</td>\n",
       "      <td>2017-02-15</td>\n",
       "    </tr>\n",
       "  </tbody>\n",
       "</table>\n",
       "</div>"
      ],
      "text/plain": [
       "                        SYMBOL           TIMESTAMP  MID_VOL    DELTA  \\\n",
       "1512679  VIX   170215P00025000 2016-12-30 16:00:00  1.08136 -0.80193   \n",
       "1511399  VIX   170215C00026000 2016-12-30 16:00:00  1.09049  0.17317   \n",
       "1512719  VIX   170215P00026000 2016-12-30 16:00:00  1.11302 -0.81878   \n",
       "1511439  VIX   170215C00027000 2016-12-30 16:00:00  1.11380  0.15675   \n",
       "1512759  VIX   170215P00027000 2016-12-30 16:00:00  1.10345 -0.84541   \n",
       "\n",
       "            exdate cp_flag  strike_price     Term_1     Term_2  \n",
       "1512679 2017-02-15       P          25.0 2017-01-18 2017-02-15  \n",
       "1511399 2017-02-15       C          26.0 2017-01-18 2017-02-15  \n",
       "1512719 2017-02-15       P          26.0 2017-01-18 2017-02-15  \n",
       "1511439 2017-02-15       C          27.0 2017-01-18 2017-02-15  \n",
       "1512759 2017-02-15       P          27.0 2017-01-18 2017-02-15  "
      ]
     },
     "execution_count": 3,
     "metadata": {},
     "output_type": "execute_result"
    }
   ],
   "source": [
    "vix_opt.tail()"
   ]
  },
  {
   "cell_type": "code",
   "execution_count": 4,
   "metadata": {},
   "outputs": [],
   "source": [
    "vix_opt_d = vix_opt.drop_duplicates(subset=['TIMESTAMP'])\n",
    "vix_opt_req = vix_opt_d[['TIMESTAMP', 'Term_1', 'Term_2']]"
   ]
  },
  {
   "cell_type": "code",
   "execution_count": 5,
   "metadata": {
    "scrolled": true
   },
   "outputs": [
    {
     "name": "stderr",
     "output_type": "stream",
     "text": [
      "C:\\Users\\David\\Anaconda3\\lib\\site-packages\\ipykernel_launcher.py:1: SettingWithCopyWarning: \n",
      "A value is trying to be set on a copy of a slice from a DataFrame.\n",
      "Try using .loc[row_indexer,col_indexer] = value instead\n",
      "\n",
      "See the caveats in the documentation: http://pandas.pydata.org/pandas-docs/stable/indexing.html#indexing-view-versus-copy\n",
      "  \"\"\"Entry point for launching an IPython kernel.\n"
     ]
    }
   ],
   "source": [
    "vix_opt_req['Date'] = vix_opt_req['TIMESTAMP'].apply(lambda x: x.date())"
   ]
  },
  {
   "cell_type": "code",
   "execution_count": 6,
   "metadata": {},
   "outputs": [],
   "source": [
    "def last_two_timestamp(df):\n",
    "    output = df.iloc[-2:,:].copy()\n",
    "    output['TIMESTAMP'].iloc[0] += pd.Timedelta(minutes=20) \n",
    "    output['TIMESTAMP'].iloc[1] += pd.Timedelta(minutes=15) \n",
    "    return output"
   ]
  },
  {
   "cell_type": "code",
   "execution_count": 18,
   "metadata": {},
   "outputs": [],
   "source": [
    "df = vix_opt_req.groupby('Date').apply(last_two_timestamp)\n",
    "\n",
    "#vix_opt_req.groupby('Date').apply(last_two_timestamp)"
   ]
  },
  {
   "cell_type": "code",
   "execution_count": 19,
   "metadata": {},
   "outputs": [
    {
     "data": {
      "text/html": [
       "<div>\n",
       "<style scoped>\n",
       "    .dataframe tbody tr th:only-of-type {\n",
       "        vertical-align: middle;\n",
       "    }\n",
       "\n",
       "    .dataframe tbody tr th {\n",
       "        vertical-align: top;\n",
       "    }\n",
       "\n",
       "    .dataframe thead th {\n",
       "        text-align: right;\n",
       "    }\n",
       "</style>\n",
       "<table border=\"1\" class=\"dataframe\">\n",
       "  <thead>\n",
       "    <tr style=\"text-align: right;\">\n",
       "      <th></th>\n",
       "      <th></th>\n",
       "      <th>TIMESTAMP</th>\n",
       "      <th>Term_1</th>\n",
       "      <th>Term_2</th>\n",
       "      <th>Date</th>\n",
       "    </tr>\n",
       "    <tr>\n",
       "      <th>Date</th>\n",
       "      <th></th>\n",
       "      <th></th>\n",
       "      <th></th>\n",
       "      <th></th>\n",
       "      <th></th>\n",
       "    </tr>\n",
       "  </thead>\n",
       "  <tbody>\n",
       "    <tr>\n",
       "      <th rowspan=\"2\" valign=\"top\">2015-01-02</th>\n",
       "      <th>2998</th>\n",
       "      <td>2015-01-02 16:10:00</td>\n",
       "      <td>2015-01-21</td>\n",
       "      <td>2015-02-18</td>\n",
       "      <td>2015-01-02</td>\n",
       "    </tr>\n",
       "    <tr>\n",
       "      <th>2999</th>\n",
       "      <td>2015-01-02 16:15:00</td>\n",
       "      <td>2015-01-21</td>\n",
       "      <td>2015-02-18</td>\n",
       "      <td>2015-01-02</td>\n",
       "    </tr>\n",
       "    <tr>\n",
       "      <th rowspan=\"2\" valign=\"top\">2015-01-05</th>\n",
       "      <th>4478</th>\n",
       "      <td>2015-01-05 16:10:00</td>\n",
       "      <td>2015-01-21</td>\n",
       "      <td>2015-02-18</td>\n",
       "      <td>2015-01-05</td>\n",
       "    </tr>\n",
       "    <tr>\n",
       "      <th>4479</th>\n",
       "      <td>2015-01-05 16:15:00</td>\n",
       "      <td>2015-01-21</td>\n",
       "      <td>2015-02-18</td>\n",
       "      <td>2015-01-05</td>\n",
       "    </tr>\n",
       "    <tr>\n",
       "      <th>2015-01-06</th>\n",
       "      <th>7518</th>\n",
       "      <td>2015-01-06 16:10:00</td>\n",
       "      <td>2015-01-21</td>\n",
       "      <td>2015-02-18</td>\n",
       "      <td>2015-01-06</td>\n",
       "    </tr>\n",
       "  </tbody>\n",
       "</table>\n",
       "</div>"
      ],
      "text/plain": [
       "                          TIMESTAMP     Term_1     Term_2        Date\n",
       "Date                                                                 \n",
       "2015-01-02 2998 2015-01-02 16:10:00 2015-01-21 2015-02-18  2015-01-02\n",
       "           2999 2015-01-02 16:15:00 2015-01-21 2015-02-18  2015-01-02\n",
       "2015-01-05 4478 2015-01-05 16:10:00 2015-01-21 2015-02-18  2015-01-05\n",
       "           4479 2015-01-05 16:15:00 2015-01-21 2015-02-18  2015-01-05\n",
       "2015-01-06 7518 2015-01-06 16:10:00 2015-01-21 2015-02-18  2015-01-06"
      ]
     },
     "execution_count": 19,
     "metadata": {},
     "output_type": "execute_result"
    }
   ],
   "source": [
    "df.head()"
   ]
  },
  {
   "cell_type": "code",
   "execution_count": 20,
   "metadata": {},
   "outputs": [],
   "source": [
    "df = df[['TIMESTAMP','Term_1','Term_2']]"
   ]
  },
  {
   "cell_type": "code",
   "execution_count": 22,
   "metadata": {},
   "outputs": [
    {
     "name": "stdout",
     "output_type": "stream",
     "text": [
      "(992, 3)\n"
     ]
    },
    {
     "data": {
      "text/html": [
       "<div>\n",
       "<style scoped>\n",
       "    .dataframe tbody tr th:only-of-type {\n",
       "        vertical-align: middle;\n",
       "    }\n",
       "\n",
       "    .dataframe tbody tr th {\n",
       "        vertical-align: top;\n",
       "    }\n",
       "\n",
       "    .dataframe thead th {\n",
       "        text-align: right;\n",
       "    }\n",
       "</style>\n",
       "<table border=\"1\" class=\"dataframe\">\n",
       "  <thead>\n",
       "    <tr style=\"text-align: right;\">\n",
       "      <th></th>\n",
       "      <th></th>\n",
       "      <th>TIMESTAMP</th>\n",
       "      <th>Term_1</th>\n",
       "      <th>Term_2</th>\n",
       "    </tr>\n",
       "    <tr>\n",
       "      <th>Date</th>\n",
       "      <th></th>\n",
       "      <th></th>\n",
       "      <th></th>\n",
       "      <th></th>\n",
       "    </tr>\n",
       "  </thead>\n",
       "  <tbody>\n",
       "    <tr>\n",
       "      <th rowspan=\"2\" valign=\"top\">2015-01-02</th>\n",
       "      <th>2998</th>\n",
       "      <td>2015-01-02 16:10:00</td>\n",
       "      <td>2015-01-21</td>\n",
       "      <td>2015-02-18</td>\n",
       "    </tr>\n",
       "    <tr>\n",
       "      <th>2999</th>\n",
       "      <td>2015-01-02 16:15:00</td>\n",
       "      <td>2015-01-21</td>\n",
       "      <td>2015-02-18</td>\n",
       "    </tr>\n",
       "    <tr>\n",
       "      <th rowspan=\"2\" valign=\"top\">2015-01-05</th>\n",
       "      <th>4478</th>\n",
       "      <td>2015-01-05 16:10:00</td>\n",
       "      <td>2015-01-21</td>\n",
       "      <td>2015-02-18</td>\n",
       "    </tr>\n",
       "    <tr>\n",
       "      <th>4479</th>\n",
       "      <td>2015-01-05 16:15:00</td>\n",
       "      <td>2015-01-21</td>\n",
       "      <td>2015-02-18</td>\n",
       "    </tr>\n",
       "    <tr>\n",
       "      <th>2015-01-06</th>\n",
       "      <th>7518</th>\n",
       "      <td>2015-01-06 16:10:00</td>\n",
       "      <td>2015-01-21</td>\n",
       "      <td>2015-02-18</td>\n",
       "    </tr>\n",
       "  </tbody>\n",
       "</table>\n",
       "</div>"
      ],
      "text/plain": [
       "                          TIMESTAMP     Term_1     Term_2\n",
       "Date                                                     \n",
       "2015-01-02 2998 2015-01-02 16:10:00 2015-01-21 2015-02-18\n",
       "           2999 2015-01-02 16:15:00 2015-01-21 2015-02-18\n",
       "2015-01-05 4478 2015-01-05 16:10:00 2015-01-21 2015-02-18\n",
       "           4479 2015-01-05 16:15:00 2015-01-21 2015-02-18\n",
       "2015-01-06 7518 2015-01-06 16:10:00 2015-01-21 2015-02-18"
      ]
     },
     "execution_count": 22,
     "metadata": {},
     "output_type": "execute_result"
    }
   ],
   "source": [
    "print(df.shape)\n",
    "df.head()"
   ]
  },
  {
   "cell_type": "code",
   "execution_count": 12,
   "metadata": {},
   "outputs": [],
   "source": [
    "#df[['TIMESTAMP','Term_1','Term_2']].head()\n",
    "\n",
    "#df = vix_opt_req[['TIMESTAMP','Term_1','Term_2']]"
   ]
  },
  {
   "cell_type": "markdown",
   "metadata": {},
   "source": [
    "#### Export VIX Options data request to .csv file"
   ]
  },
  {
   "cell_type": "code",
   "execution_count": 23,
   "metadata": {},
   "outputs": [],
   "source": [
    "df.to_csv(os.getcwd() + r'\\Data\\Hamilton_dataset_request(VIX futures & options.2015-2016.csv', index=False)"
   ]
  },
  {
   "cell_type": "code",
   "execution_count": null,
   "metadata": {},
   "outputs": [],
   "source": []
  }
 ],
 "metadata": {
  "kernelspec": {
   "display_name": "Python 3",
   "language": "python",
   "name": "python3"
  },
  "language_info": {
   "codemirror_mode": {
    "name": "ipython",
    "version": 3
   },
   "file_extension": ".py",
   "mimetype": "text/x-python",
   "name": "python",
   "nbconvert_exporter": "python",
   "pygments_lexer": "ipython3",
   "version": "3.6.3"
  }
 },
 "nbformat": 4,
 "nbformat_minor": 2
}
