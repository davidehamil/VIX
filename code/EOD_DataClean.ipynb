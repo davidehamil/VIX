{
 "cells": [
  {
   "cell_type": "code",
   "execution_count": 1,
   "metadata": {},
   "outputs": [],
   "source": [
    "import os\n",
    "import numpy as np\n",
    "import pandas as pd\n",
    "import pickle\n",
    "from datetime import datetime"
   ]
  },
  {
   "cell_type": "markdown",
   "metadata": {},
   "source": [
    "### Load VIX/SPX Expiration Dates"
   ]
  },
  {
   "cell_type": "code",
   "execution_count": 2,
   "metadata": {},
   "outputs": [
    {
     "data": {
      "text/html": [
       "<div>\n",
       "<style scoped>\n",
       "    .dataframe tbody tr th:only-of-type {\n",
       "        vertical-align: middle;\n",
       "    }\n",
       "\n",
       "    .dataframe tbody tr th {\n",
       "        vertical-align: top;\n",
       "    }\n",
       "\n",
       "    .dataframe thead th {\n",
       "        text-align: right;\n",
       "    }\n",
       "</style>\n",
       "<table border=\"1\" class=\"dataframe\">\n",
       "  <thead>\n",
       "    <tr style=\"text-align: right;\">\n",
       "      <th></th>\n",
       "      <th>vx1</th>\n",
       "      <th>spx</th>\n",
       "      <th>Unnamed: 2</th>\n",
       "    </tr>\n",
       "  </thead>\n",
       "  <tbody>\n",
       "    <tr>\n",
       "      <th>0</th>\n",
       "      <td>2005-10-19</td>\n",
       "      <td>2005-10-21</td>\n",
       "      <td>NaN</td>\n",
       "    </tr>\n",
       "    <tr>\n",
       "      <th>1</th>\n",
       "      <td>2005-11-16</td>\n",
       "      <td>2005-11-18</td>\n",
       "      <td>28.0</td>\n",
       "    </tr>\n",
       "    <tr>\n",
       "      <th>2</th>\n",
       "      <td>2005-12-21</td>\n",
       "      <td>2005-12-16</td>\n",
       "      <td>28.0</td>\n",
       "    </tr>\n",
       "    <tr>\n",
       "      <th>3</th>\n",
       "      <td>2006-01-18</td>\n",
       "      <td>2006-01-20</td>\n",
       "      <td>35.0</td>\n",
       "    </tr>\n",
       "    <tr>\n",
       "      <th>4</th>\n",
       "      <td>2006-02-15</td>\n",
       "      <td>2006-02-17</td>\n",
       "      <td>28.0</td>\n",
       "    </tr>\n",
       "  </tbody>\n",
       "</table>\n",
       "</div>"
      ],
      "text/plain": [
       "         vx1        spx  Unnamed: 2\n",
       "0 2005-10-19 2005-10-21         NaN\n",
       "1 2005-11-16 2005-11-18        28.0\n",
       "2 2005-12-21 2005-12-16        28.0\n",
       "3 2006-01-18 2006-01-20        35.0\n",
       "4 2006-02-15 2006-02-17        28.0"
      ]
     },
     "execution_count": 2,
     "metadata": {},
     "output_type": "execute_result"
    }
   ],
   "source": [
    "expiration = pd.read_csv(os.getcwd() + (r'\\Data' + '\\expiration_dates.csv'), parse_dates=['vx1', 'spx'],\\\n",
    "                         date_parser = lambda x: datetime.strptime(x,'%d-%b-%y'))\n",
    "\n",
    "expiration.head()"
   ]
  },
  {
   "cell_type": "markdown",
   "metadata": {},
   "source": [
    "### Set filepath for End of Day (EOD) data -> 4:10 & 4:15 timestamps"
   ]
  },
  {
   "cell_type": "code",
   "execution_count": 3,
   "metadata": {},
   "outputs": [],
   "source": [
    "fname_1 = 'optsnaps.csv'\n",
    "fname_2 = 'vixsnaps3.csv'\n",
    "\n",
    "filepath_1 = os.path.join('Data\\Intraday', fname_1)\n",
    "filepath_2 = os.path.join('Data\\Intraday', fname_2)"
   ]
  },
  {
   "cell_type": "markdown",
   "metadata": {},
   "source": [
    "### Set filepath for writing/retrieval of all necessary pickle files"
   ]
  },
  {
   "cell_type": "code",
   "execution_count": 4,
   "metadata": {},
   "outputs": [],
   "source": [
    "pickle_filepath = r'Data\\Intraday\\Pickle'"
   ]
  },
  {
   "cell_type": "markdown",
   "metadata": {},
   "source": [
    "### Load/Parse SPX/VIX Options, SPX Cash Data"
   ]
  },
  {
   "cell_type": "code",
   "execution_count": 5,
   "metadata": {},
   "outputs": [],
   "source": [
    "eod = pd.read_csv(filepath_1, parse_dates=['TIMESTAMP'], date_parser = lambda x: datetime.strptime(x,'%m/%d/%Y %H:%M'),\\\n",
    "                    usecols = ['SYMBOL', 'TIMESTAMP', 'MID_VOL', 'DELTA', 'UPRICE_BID', 'UPRICE_ASK'])\n",
    "\n",
    "# Screen/Remove deep OTM & ITM options from dataframe\n",
    "eod = eod[(np.abs(eod['DELTA']) > 0.15) & (np.abs(eod['DELTA']) < 0.85)]"
   ]
  },
  {
   "cell_type": "code",
   "execution_count": 7,
   "metadata": {},
   "outputs": [
    {
     "data": {
      "text/html": [
       "<div>\n",
       "<style scoped>\n",
       "    .dataframe tbody tr th:only-of-type {\n",
       "        vertical-align: middle;\n",
       "    }\n",
       "\n",
       "    .dataframe tbody tr th {\n",
       "        vertical-align: top;\n",
       "    }\n",
       "\n",
       "    .dataframe thead th {\n",
       "        text-align: right;\n",
       "    }\n",
       "</style>\n",
       "<table border=\"1\" class=\"dataframe\">\n",
       "  <thead>\n",
       "    <tr style=\"text-align: right;\">\n",
       "      <th></th>\n",
       "      <th>SYMBOL</th>\n",
       "      <th>TIMESTAMP</th>\n",
       "      <th>MID_VOL</th>\n",
       "      <th>DELTA</th>\n",
       "      <th>UPRICE_BID</th>\n",
       "      <th>UPRICE_ASK</th>\n",
       "    </tr>\n",
       "  </thead>\n",
       "  <tbody>\n",
       "    <tr>\n",
       "      <th>70</th>\n",
       "      <td>SPX   150220C01925000</td>\n",
       "      <td>2015-01-02 16:10:00</td>\n",
       "      <td>0.18312</td>\n",
       "      <td>0.84084</td>\n",
       "      <td>2058.19995</td>\n",
       "      <td>2058.19995</td>\n",
       "    </tr>\n",
       "    <tr>\n",
       "      <th>71</th>\n",
       "      <td>SPX   150220C01925000</td>\n",
       "      <td>2015-01-02 16:15:00</td>\n",
       "      <td>0.18006</td>\n",
       "      <td>0.84466</td>\n",
       "      <td>2058.19995</td>\n",
       "      <td>2058.19995</td>\n",
       "    </tr>\n",
       "    <tr>\n",
       "      <th>72</th>\n",
       "      <td>SPX   150220C01930000</td>\n",
       "      <td>2015-01-02 16:10:00</td>\n",
       "      <td>0.18203</td>\n",
       "      <td>0.83263</td>\n",
       "      <td>2058.19995</td>\n",
       "      <td>2058.19995</td>\n",
       "    </tr>\n",
       "    <tr>\n",
       "      <th>73</th>\n",
       "      <td>SPX   150220C01930000</td>\n",
       "      <td>2015-01-02 16:15:00</td>\n",
       "      <td>0.17852</td>\n",
       "      <td>0.83703</td>\n",
       "      <td>2058.19995</td>\n",
       "      <td>2058.19995</td>\n",
       "    </tr>\n",
       "    <tr>\n",
       "      <th>74</th>\n",
       "      <td>SPX   150220C01935000</td>\n",
       "      <td>2015-01-02 16:10:00</td>\n",
       "      <td>0.18023</td>\n",
       "      <td>0.82497</td>\n",
       "      <td>2058.19995</td>\n",
       "      <td>2058.19995</td>\n",
       "    </tr>\n",
       "  </tbody>\n",
       "</table>\n",
       "</div>"
      ],
      "text/plain": [
       "                   SYMBOL           TIMESTAMP  MID_VOL    DELTA  UPRICE_BID  \\\n",
       "70  SPX   150220C01925000 2015-01-02 16:10:00  0.18312  0.84084  2058.19995   \n",
       "71  SPX   150220C01925000 2015-01-02 16:15:00  0.18006  0.84466  2058.19995   \n",
       "72  SPX   150220C01930000 2015-01-02 16:10:00  0.18203  0.83263  2058.19995   \n",
       "73  SPX   150220C01930000 2015-01-02 16:15:00  0.17852  0.83703  2058.19995   \n",
       "74  SPX   150220C01935000 2015-01-02 16:10:00  0.18023  0.82497  2058.19995   \n",
       "\n",
       "    UPRICE_ASK  \n",
       "70  2058.19995  \n",
       "71  2058.19995  \n",
       "72  2058.19995  \n",
       "73  2058.19995  \n",
       "74  2058.19995  "
      ]
     },
     "execution_count": 7,
     "metadata": {},
     "output_type": "execute_result"
    }
   ],
   "source": [
    "eod.head()"
   ]
  },
  {
   "cell_type": "markdown",
   "metadata": {},
   "source": [
    "### Split $eod$ dataframe by specific option type (VIX or SPX)"
   ]
  },
  {
   "cell_type": "code",
   "execution_count": 8,
   "metadata": {},
   "outputs": [],
   "source": [
    "spx_intra_eod = eod[eod['SYMBOL'].str.contains('SPX')].copy()\n",
    "vix_intra_eod = eod[eod['SYMBOL'].str.contains('VIX')].copy()"
   ]
  },
  {
   "cell_type": "markdown",
   "metadata": {},
   "source": [
    "#### SPX Options: Define function to split on space following 'SPX/SPXW\" and take 2nd part of OPRA code: YY-MM-DD, Call/Put, Strike Price "
   ]
  },
  {
   "cell_type": "code",
   "execution_count": 95,
   "metadata": {},
   "outputs": [],
   "source": [
    "def parse_symbol(x):\n",
    "    x = x.split()[1]\n",
    "    date = datetime.strptime(x[:6],'%y%m%d')\n",
    "    if date.weekday() == 5:\n",
    "        date -= pd.Timedelta(days=1)\n",
    "    optiontype = x[6]\n",
    "    strike = float(x[8:12])\n",
    "    return pd.Series([date, optiontype,strike], index=['exdate', 'cp_flag', 'strike_price'])    "
   ]
  },
  {
   "cell_type": "markdown",
   "metadata": {},
   "source": [
    "#### Parse expiration date, Call/Put flag & strike price from SPX OPRA symbol"
   ]
  },
  {
   "cell_type": "code",
   "execution_count": 96,
   "metadata": {},
   "outputs": [
    {
     "data": {
      "text/html": [
       "<div>\n",
       "<style scoped>\n",
       "    .dataframe tbody tr th:only-of-type {\n",
       "        vertical-align: middle;\n",
       "    }\n",
       "\n",
       "    .dataframe tbody tr th {\n",
       "        vertical-align: top;\n",
       "    }\n",
       "\n",
       "    .dataframe thead th {\n",
       "        text-align: right;\n",
       "    }\n",
       "</style>\n",
       "<table border=\"1\" class=\"dataframe\">\n",
       "  <thead>\n",
       "    <tr style=\"text-align: right;\">\n",
       "      <th></th>\n",
       "      <th>SYMBOL</th>\n",
       "      <th>TIMESTAMP</th>\n",
       "      <th>MID_VOL</th>\n",
       "      <th>DELTA</th>\n",
       "      <th>FWD_PRICE</th>\n",
       "      <th>exdate</th>\n",
       "      <th>cp_flag</th>\n",
       "      <th>strike_price</th>\n",
       "    </tr>\n",
       "  </thead>\n",
       "  <tbody>\n",
       "    <tr>\n",
       "      <th>70</th>\n",
       "      <td>SPX   150220C01925000</td>\n",
       "      <td>2015-01-02 16:10:00</td>\n",
       "      <td>0.18312</td>\n",
       "      <td>0.84084</td>\n",
       "      <td>2053.82544</td>\n",
       "      <td>2015-02-20</td>\n",
       "      <td>C</td>\n",
       "      <td>1925.0</td>\n",
       "    </tr>\n",
       "    <tr>\n",
       "      <th>71</th>\n",
       "      <td>SPX   150220C01925000</td>\n",
       "      <td>2015-01-02 16:15:00</td>\n",
       "      <td>0.18006</td>\n",
       "      <td>0.84466</td>\n",
       "      <td>2053.82544</td>\n",
       "      <td>2015-02-20</td>\n",
       "      <td>C</td>\n",
       "      <td>1925.0</td>\n",
       "    </tr>\n",
       "    <tr>\n",
       "      <th>72</th>\n",
       "      <td>SPX   150220C01930000</td>\n",
       "      <td>2015-01-02 16:10:00</td>\n",
       "      <td>0.18203</td>\n",
       "      <td>0.83263</td>\n",
       "      <td>2053.82544</td>\n",
       "      <td>2015-02-20</td>\n",
       "      <td>C</td>\n",
       "      <td>1930.0</td>\n",
       "    </tr>\n",
       "    <tr>\n",
       "      <th>73</th>\n",
       "      <td>SPX   150220C01930000</td>\n",
       "      <td>2015-01-02 16:15:00</td>\n",
       "      <td>0.17852</td>\n",
       "      <td>0.83703</td>\n",
       "      <td>2053.82544</td>\n",
       "      <td>2015-02-20</td>\n",
       "      <td>C</td>\n",
       "      <td>1930.0</td>\n",
       "    </tr>\n",
       "    <tr>\n",
       "      <th>74</th>\n",
       "      <td>SPX   150220C01935000</td>\n",
       "      <td>2015-01-02 16:10:00</td>\n",
       "      <td>0.18023</td>\n",
       "      <td>0.82497</td>\n",
       "      <td>2053.82544</td>\n",
       "      <td>2015-02-20</td>\n",
       "      <td>C</td>\n",
       "      <td>1935.0</td>\n",
       "    </tr>\n",
       "  </tbody>\n",
       "</table>\n",
       "</div>"
      ],
      "text/plain": [
       "                   SYMBOL           TIMESTAMP  MID_VOL    DELTA   FWD_PRICE  \\\n",
       "70  SPX   150220C01925000 2015-01-02 16:10:00  0.18312  0.84084  2053.82544   \n",
       "71  SPX   150220C01925000 2015-01-02 16:15:00  0.18006  0.84466  2053.82544   \n",
       "72  SPX   150220C01930000 2015-01-02 16:10:00  0.18203  0.83263  2053.82544   \n",
       "73  SPX   150220C01930000 2015-01-02 16:15:00  0.17852  0.83703  2053.82544   \n",
       "74  SPX   150220C01935000 2015-01-02 16:10:00  0.18023  0.82497  2053.82544   \n",
       "\n",
       "       exdate cp_flag  strike_price  \n",
       "70 2015-02-20       C        1925.0  \n",
       "71 2015-02-20       C        1925.0  \n",
       "72 2015-02-20       C        1930.0  \n",
       "73 2015-02-20       C        1930.0  \n",
       "74 2015-02-20       C        1935.0  "
      ]
     },
     "execution_count": 96,
     "metadata": {},
     "output_type": "execute_result"
    }
   ],
   "source": [
    "spx_intra_eod[['exdate', 'cp_flag', 'strike_price']] = spx_intra_eod['SYMBOL'].apply(parse_symbol)\n",
    "spx_intra_eod.head()"
   ]
  },
  {
   "cell_type": "code",
   "execution_count": 97,
   "metadata": {},
   "outputs": [
    {
     "data": {
      "text/html": [
       "<div>\n",
       "<style scoped>\n",
       "    .dataframe tbody tr th:only-of-type {\n",
       "        vertical-align: middle;\n",
       "    }\n",
       "\n",
       "    .dataframe tbody tr th {\n",
       "        vertical-align: top;\n",
       "    }\n",
       "\n",
       "    .dataframe thead th {\n",
       "        text-align: right;\n",
       "    }\n",
       "</style>\n",
       "<table border=\"1\" class=\"dataframe\">\n",
       "  <thead>\n",
       "    <tr style=\"text-align: right;\">\n",
       "      <th></th>\n",
       "      <th>SYMBOL</th>\n",
       "      <th>TIMESTAMP</th>\n",
       "      <th>MID_VOL</th>\n",
       "      <th>DELTA</th>\n",
       "      <th>FWD_PRICE</th>\n",
       "      <th>exdate</th>\n",
       "      <th>cp_flag</th>\n",
       "      <th>strike_price</th>\n",
       "    </tr>\n",
       "  </thead>\n",
       "  <tbody>\n",
       "    <tr>\n",
       "      <th>532290</th>\n",
       "      <td>SPX   170217P02310000</td>\n",
       "      <td>2016-12-30 16:10:00</td>\n",
       "      <td>0.09575</td>\n",
       "      <td>-0.81738</td>\n",
       "      <td>2236.31128</td>\n",
       "      <td>2017-02-17</td>\n",
       "      <td>P</td>\n",
       "      <td>2310.0</td>\n",
       "    </tr>\n",
       "    <tr>\n",
       "      <th>532291</th>\n",
       "      <td>SPX   170217P02310000</td>\n",
       "      <td>2016-12-30 16:15:00</td>\n",
       "      <td>0.09784</td>\n",
       "      <td>-0.81203</td>\n",
       "      <td>2236.31104</td>\n",
       "      <td>2017-02-17</td>\n",
       "      <td>P</td>\n",
       "      <td>2310.0</td>\n",
       "    </tr>\n",
       "    <tr>\n",
       "      <th>532292</th>\n",
       "      <td>SPX   170217P02315000</td>\n",
       "      <td>2016-12-30 16:10:00</td>\n",
       "      <td>0.09467</td>\n",
       "      <td>-0.83610</td>\n",
       "      <td>2236.31128</td>\n",
       "      <td>2017-02-17</td>\n",
       "      <td>P</td>\n",
       "      <td>2315.0</td>\n",
       "    </tr>\n",
       "    <tr>\n",
       "      <th>532293</th>\n",
       "      <td>SPX   170217P02315000</td>\n",
       "      <td>2016-12-30 16:15:00</td>\n",
       "      <td>0.09687</td>\n",
       "      <td>-0.83034</td>\n",
       "      <td>2236.31104</td>\n",
       "      <td>2017-02-17</td>\n",
       "      <td>P</td>\n",
       "      <td>2315.0</td>\n",
       "    </tr>\n",
       "    <tr>\n",
       "      <th>532295</th>\n",
       "      <td>SPX   170217P02320000</td>\n",
       "      <td>2016-12-30 16:15:00</td>\n",
       "      <td>0.09593</td>\n",
       "      <td>-0.84773</td>\n",
       "      <td>2236.31104</td>\n",
       "      <td>2017-02-17</td>\n",
       "      <td>P</td>\n",
       "      <td>2320.0</td>\n",
       "    </tr>\n",
       "  </tbody>\n",
       "</table>\n",
       "</div>"
      ],
      "text/plain": [
       "                       SYMBOL           TIMESTAMP  MID_VOL    DELTA  \\\n",
       "532290  SPX   170217P02310000 2016-12-30 16:10:00  0.09575 -0.81738   \n",
       "532291  SPX   170217P02310000 2016-12-30 16:15:00  0.09784 -0.81203   \n",
       "532292  SPX   170217P02315000 2016-12-30 16:10:00  0.09467 -0.83610   \n",
       "532293  SPX   170217P02315000 2016-12-30 16:15:00  0.09687 -0.83034   \n",
       "532295  SPX   170217P02320000 2016-12-30 16:15:00  0.09593 -0.84773   \n",
       "\n",
       "         FWD_PRICE     exdate cp_flag  strike_price  \n",
       "532290  2236.31128 2017-02-17       P        2310.0  \n",
       "532291  2236.31104 2017-02-17       P        2310.0  \n",
       "532292  2236.31128 2017-02-17       P        2315.0  \n",
       "532293  2236.31104 2017-02-17       P        2315.0  \n",
       "532295  2236.31104 2017-02-17       P        2320.0  "
      ]
     },
     "execution_count": 97,
     "metadata": {},
     "output_type": "execute_result"
    }
   ],
   "source": [
    "spx_intra_eod.tail()"
   ]
  },
  {
   "cell_type": "markdown",
   "metadata": {},
   "source": [
    " \n",
    "  "
   ]
  },
  {
   "cell_type": "markdown",
   "metadata": {},
   "source": [
    "### Select appropriate SPX options for each timestamp"
   ]
  },
  {
   "cell_type": "markdown",
   "metadata": {},
   "source": [
    "#### Build/Apply function to determine the relevant expirys for VIX (1st) & SPX (1st & 2nd) given the current trade date"
   ]
  },
  {
   "cell_type": "code",
   "execution_count": 58,
   "metadata": {},
   "outputs": [],
   "source": [
    "# Define column numbers for VIX, SPX expiration dates in 'expiration_dates.csv'\n",
    "vx_expirys = 0\n",
    "sp_expirys = 1\n",
    "\n",
    "def findTerms(date):\n",
    "    for i in range(expiration.shape[vx_expirys]): # Determine month & year of VIX expiry corresponding to current date\n",
    "        if expiration.iloc[i,vx_expirys].month == date.month and expiration.iloc[i,vx_expirys].year == date.year:\n",
    "            break                                 # Effectively reduces search area of posible dates\n",
    "    \n",
    "    # Determine EXCEPTION CASES: 4 Times/yr 1st SPX option expiry falls BEFORE VIX expiry\n",
    "    if expiration.iloc[i,sp_expirys] < expiration.iloc[i,vx_expirys]: \n",
    "        if date >= expiration.iloc[i,vx_expirys]:\n",
    "            vix_expiry = expiration.iloc[i+1,vx_expirys]\n",
    "            term1 = expiration.iloc[i+1,sp_expirys]\n",
    "            term2 = expiration.iloc[i+2,sp_expirys]\n",
    "        else:\n",
    "            vix_expiry = expiration.iloc[i+0,vx_expirys]\n",
    "            term1 = expiration.iloc[i+0,sp_expirys] + pd.Timedelta(days=7)\n",
    "            term2 = expiration.iloc[i+1,sp_expirys]\n",
    "    elif expiration.iloc[i+1,sp_expirys] < expiration.iloc[i+1,vx_expirys]:\n",
    "        if date < expiration.iloc[i,vx_expirys]:\n",
    "            vix_expiry = expiration.iloc[i+0,vx_expirys]\n",
    "            term1 = expiration.iloc[i+0,sp_expirys]\n",
    "            term2 = expiration.iloc[i+1,sp_expirys]\n",
    "        else:\n",
    "            vix_expiry = expiration.iloc[i+1,vx_expirys]\n",
    "            term1 = expiration.iloc[i+1,sp_expirys] + pd.Timedelta(days=7)\n",
    "            term2 = expiration.iloc[i+2,sp_expirys]\n",
    "    else:\n",
    "        if date >= expiration.iloc[i,vx_expirys]:\n",
    "            vix_expiry = expiration.iloc[i+1,vx_expirys]\n",
    "            term1 = expiration.iloc[i+1,sp_expirys]\n",
    "            term2 = expiration.iloc[i+2,sp_expirys]\n",
    "        else:\n",
    "            vix_expiry = expiration.iloc[i+0,vx_expirys]\n",
    "            term1 = expiration.iloc[i+0,sp_expirys]\n",
    "            term2 = expiration.iloc[i+1,sp_expirys]\n",
    "\n",
    "\n",
    "    return pd.Series([vix_expiry, term1, term2], index=['VIX_Expiry', 'Term_1', 'Term_2'])"
   ]
  },
  {
   "cell_type": "code",
   "execution_count": 59,
   "metadata": {},
   "outputs": [],
   "source": [
    "spx_intra_eod[['VIX_Expiry', 'SPX_Term1', 'SPX_Term2']] = spx_intra_eod['TIMESTAMP'].apply(findTerms)"
   ]
  },
  {
   "cell_type": "code",
   "execution_count": 60,
   "metadata": {},
   "outputs": [
    {
     "data": {
      "text/html": [
       "<div>\n",
       "<style scoped>\n",
       "    .dataframe tbody tr th:only-of-type {\n",
       "        vertical-align: middle;\n",
       "    }\n",
       "\n",
       "    .dataframe tbody tr th {\n",
       "        vertical-align: top;\n",
       "    }\n",
       "\n",
       "    .dataframe thead th {\n",
       "        text-align: right;\n",
       "    }\n",
       "</style>\n",
       "<table border=\"1\" class=\"dataframe\">\n",
       "  <thead>\n",
       "    <tr style=\"text-align: right;\">\n",
       "      <th></th>\n",
       "      <th>SYMBOL</th>\n",
       "      <th>TIMESTAMP</th>\n",
       "      <th>MID_VOL</th>\n",
       "      <th>DELTA</th>\n",
       "      <th>FWD_PRICE</th>\n",
       "      <th>exdate</th>\n",
       "      <th>cp_flag</th>\n",
       "      <th>strike_price</th>\n",
       "      <th>VIX_Expiry</th>\n",
       "      <th>SPX_Term1</th>\n",
       "      <th>SPX_Term2</th>\n",
       "    </tr>\n",
       "  </thead>\n",
       "  <tbody>\n",
       "    <tr>\n",
       "      <th>70</th>\n",
       "      <td>SPX   150220C01925000</td>\n",
       "      <td>2015-01-02 16:10:00</td>\n",
       "      <td>0.18312</td>\n",
       "      <td>0.84084</td>\n",
       "      <td>2053.82544</td>\n",
       "      <td>2015-02-20</td>\n",
       "      <td>C</td>\n",
       "      <td>1925.0</td>\n",
       "      <td>2015-01-21</td>\n",
       "      <td>2015-01-23</td>\n",
       "      <td>2015-02-20</td>\n",
       "    </tr>\n",
       "    <tr>\n",
       "      <th>71</th>\n",
       "      <td>SPX   150220C01925000</td>\n",
       "      <td>2015-01-02 16:15:00</td>\n",
       "      <td>0.18006</td>\n",
       "      <td>0.84466</td>\n",
       "      <td>2053.82544</td>\n",
       "      <td>2015-02-20</td>\n",
       "      <td>C</td>\n",
       "      <td>1925.0</td>\n",
       "      <td>2015-01-21</td>\n",
       "      <td>2015-01-23</td>\n",
       "      <td>2015-02-20</td>\n",
       "    </tr>\n",
       "    <tr>\n",
       "      <th>72</th>\n",
       "      <td>SPX   150220C01930000</td>\n",
       "      <td>2015-01-02 16:10:00</td>\n",
       "      <td>0.18203</td>\n",
       "      <td>0.83263</td>\n",
       "      <td>2053.82544</td>\n",
       "      <td>2015-02-20</td>\n",
       "      <td>C</td>\n",
       "      <td>1930.0</td>\n",
       "      <td>2015-01-21</td>\n",
       "      <td>2015-01-23</td>\n",
       "      <td>2015-02-20</td>\n",
       "    </tr>\n",
       "    <tr>\n",
       "      <th>73</th>\n",
       "      <td>SPX   150220C01930000</td>\n",
       "      <td>2015-01-02 16:15:00</td>\n",
       "      <td>0.17852</td>\n",
       "      <td>0.83703</td>\n",
       "      <td>2053.82544</td>\n",
       "      <td>2015-02-20</td>\n",
       "      <td>C</td>\n",
       "      <td>1930.0</td>\n",
       "      <td>2015-01-21</td>\n",
       "      <td>2015-01-23</td>\n",
       "      <td>2015-02-20</td>\n",
       "    </tr>\n",
       "    <tr>\n",
       "      <th>74</th>\n",
       "      <td>SPX   150220C01935000</td>\n",
       "      <td>2015-01-02 16:10:00</td>\n",
       "      <td>0.18023</td>\n",
       "      <td>0.82497</td>\n",
       "      <td>2053.82544</td>\n",
       "      <td>2015-02-20</td>\n",
       "      <td>C</td>\n",
       "      <td>1935.0</td>\n",
       "      <td>2015-01-21</td>\n",
       "      <td>2015-01-23</td>\n",
       "      <td>2015-02-20</td>\n",
       "    </tr>\n",
       "  </tbody>\n",
       "</table>\n",
       "</div>"
      ],
      "text/plain": [
       "                   SYMBOL           TIMESTAMP  MID_VOL    DELTA   FWD_PRICE  \\\n",
       "70  SPX   150220C01925000 2015-01-02 16:10:00  0.18312  0.84084  2053.82544   \n",
       "71  SPX   150220C01925000 2015-01-02 16:15:00  0.18006  0.84466  2053.82544   \n",
       "72  SPX   150220C01930000 2015-01-02 16:10:00  0.18203  0.83263  2053.82544   \n",
       "73  SPX   150220C01930000 2015-01-02 16:15:00  0.17852  0.83703  2053.82544   \n",
       "74  SPX   150220C01935000 2015-01-02 16:10:00  0.18023  0.82497  2053.82544   \n",
       "\n",
       "       exdate cp_flag  strike_price VIX_Expiry  SPX_Term1  SPX_Term2  \n",
       "70 2015-02-20       C        1925.0 2015-01-21 2015-01-23 2015-02-20  \n",
       "71 2015-02-20       C        1925.0 2015-01-21 2015-01-23 2015-02-20  \n",
       "72 2015-02-20       C        1930.0 2015-01-21 2015-01-23 2015-02-20  \n",
       "73 2015-02-20       C        1930.0 2015-01-21 2015-01-23 2015-02-20  \n",
       "74 2015-02-20       C        1935.0 2015-01-21 2015-01-23 2015-02-20  "
      ]
     },
     "execution_count": 60,
     "metadata": {},
     "output_type": "execute_result"
    }
   ],
   "source": [
    "spx_intra_eod.head()"
   ]
  },
  {
   "cell_type": "markdown",
   "metadata": {},
   "source": [
    "#### Check for any Null values (NaNs)"
   ]
  },
  {
   "cell_type": "code",
   "execution_count": 61,
   "metadata": {},
   "outputs": [
    {
     "data": {
      "text/plain": [
       "SYMBOL          0\n",
       "TIMESTAMP       0\n",
       "MID_VOL         0\n",
       "DELTA           0\n",
       "FWD_PRICE       0\n",
       "exdate          0\n",
       "cp_flag         0\n",
       "strike_price    0\n",
       "VIX_Expiry      0\n",
       "SPX_Term1       0\n",
       "SPX_Term2       0\n",
       "dtype: int64"
      ]
     },
     "execution_count": 61,
     "metadata": {},
     "output_type": "execute_result"
    }
   ],
   "source": [
    "spx_intra_eod.isna().sum()"
   ]
  },
  {
   "cell_type": "markdown",
   "metadata": {},
   "source": [
    "#### Save interim version of dataframe to pickle for retrieval after initial cleaning/calculation (speeds future calculation times) "
   ]
  },
  {
   "cell_type": "code",
   "execution_count": 62,
   "metadata": {},
   "outputs": [],
   "source": [
    "spx_intra_eod.to_pickle(os.path.join(pickle_filepath, 'spx_intra_eod(mid).pkl'))"
   ]
  },
  {
   "cell_type": "code",
   "execution_count": 4,
   "metadata": {},
   "outputs": [],
   "source": [
    "#spx_intra_eod = pickle.load(open(pickle_filepath + r'\\spx_intraday(mid).pkl', \"rb\"))"
   ]
  },
  {
   "cell_type": "code",
   "execution_count": 7,
   "metadata": {},
   "outputs": [],
   "source": [
    "spx_intra_eod = pd.read_pickle(pickle_filepath + r'\\spx_intra_eod(mid).pkl')"
   ]
  },
  {
   "cell_type": "markdown",
   "metadata": {},
   "source": [
    "#### Calculate individual trade dates for intraday dataframe"
   ]
  },
  {
   "cell_type": "code",
   "execution_count": 63,
   "metadata": {},
   "outputs": [],
   "source": [
    "trade_dates = np.array([pd.Timestamp(x) for x in np.unique(spx_intra_eod['TIMESTAMP'].apply(lambda x: x.strftime('%Y-%m-%d')))])"
   ]
  },
  {
   "cell_type": "code",
   "execution_count": 64,
   "metadata": {},
   "outputs": [
    {
     "data": {
      "text/plain": [
       "array([Timestamp('2016-12-23 00:00:00'), Timestamp('2016-12-27 00:00:00'),\n",
       "       Timestamp('2016-12-28 00:00:00'), Timestamp('2016-12-29 00:00:00'),\n",
       "       Timestamp('2016-12-30 00:00:00')], dtype=object)"
      ]
     },
     "execution_count": 64,
     "metadata": {},
     "output_type": "execute_result"
    }
   ],
   "source": [
    "trade_dates[-5:]"
   ]
  },
  {
   "cell_type": "markdown",
   "metadata": {},
   "source": [
    "#### Insert additional trade dates for additional 1.5 months after end of official dataset (to calculate time series)"
   ]
  },
  {
   "cell_type": "code",
   "execution_count": 65,
   "metadata": {},
   "outputs": [
    {
     "data": {
      "text/plain": [
       "[Timestamp('2017-01-02 00:00:00', freq='B'),\n",
       " Timestamp('2017-01-03 00:00:00', freq='B'),\n",
       " Timestamp('2017-01-04 00:00:00', freq='B'),\n",
       " Timestamp('2017-01-05 00:00:00', freq='B'),\n",
       " Timestamp('2017-01-06 00:00:00', freq='B'),\n",
       " Timestamp('2017-01-09 00:00:00', freq='B'),\n",
       " Timestamp('2017-01-10 00:00:00', freq='B'),\n",
       " Timestamp('2017-01-11 00:00:00', freq='B'),\n",
       " Timestamp('2017-01-12 00:00:00', freq='B'),\n",
       " Timestamp('2017-01-13 00:00:00', freq='B'),\n",
       " Timestamp('2017-01-16 00:00:00', freq='B'),\n",
       " Timestamp('2017-01-17 00:00:00', freq='B'),\n",
       " Timestamp('2017-01-18 00:00:00', freq='B'),\n",
       " Timestamp('2017-01-19 00:00:00', freq='B'),\n",
       " Timestamp('2017-01-20 00:00:00', freq='B'),\n",
       " Timestamp('2017-01-23 00:00:00', freq='B'),\n",
       " Timestamp('2017-01-24 00:00:00', freq='B'),\n",
       " Timestamp('2017-01-25 00:00:00', freq='B'),\n",
       " Timestamp('2017-01-26 00:00:00', freq='B'),\n",
       " Timestamp('2017-01-27 00:00:00', freq='B'),\n",
       " Timestamp('2017-01-30 00:00:00', freq='B'),\n",
       " Timestamp('2017-01-31 00:00:00', freq='B'),\n",
       " Timestamp('2017-02-01 00:00:00', freq='B'),\n",
       " Timestamp('2017-02-02 00:00:00', freq='B'),\n",
       " Timestamp('2017-02-03 00:00:00', freq='B'),\n",
       " Timestamp('2017-02-06 00:00:00', freq='B'),\n",
       " Timestamp('2017-02-07 00:00:00', freq='B'),\n",
       " Timestamp('2017-02-08 00:00:00', freq='B'),\n",
       " Timestamp('2017-02-09 00:00:00', freq='B'),\n",
       " Timestamp('2017-02-10 00:00:00', freq='B'),\n",
       " Timestamp('2017-02-13 00:00:00', freq='B'),\n",
       " Timestamp('2017-02-14 00:00:00', freq='B'),\n",
       " Timestamp('2017-02-15 00:00:00', freq='B'),\n",
       " Timestamp('2017-02-16 00:00:00', freq='B'),\n",
       " Timestamp('2017-02-17 00:00:00', freq='B')]"
      ]
     },
     "execution_count": 65,
     "metadata": {},
     "output_type": "execute_result"
    }
   ],
   "source": [
    "extra_dates = pd.date_range('2017-01-01', '2017-02-17', freq=pd.tseries.offsets.BDay()).tolist()\n",
    "extra_dates"
   ]
  },
  {
   "cell_type": "markdown",
   "metadata": {},
   "source": [
    "#### Remove MLK Holiday as a trade date"
   ]
  },
  {
   "cell_type": "code",
   "execution_count": 66,
   "metadata": {},
   "outputs": [
    {
     "data": {
      "text/plain": [
       "Timestamp('2017-01-16 00:00:00', freq='B')"
      ]
     },
     "execution_count": 66,
     "metadata": {},
     "output_type": "execute_result"
    }
   ],
   "source": [
    "extra_dates.pop(10)"
   ]
  },
  {
   "cell_type": "markdown",
   "metadata": {},
   "source": [
    "#### Combine original trade dates with additional dates"
   ]
  },
  {
   "cell_type": "code",
   "execution_count": 67,
   "metadata": {},
   "outputs": [],
   "source": [
    "trade_dates = np.append(trade_dates, extra_dates)"
   ]
  },
  {
   "cell_type": "code",
   "execution_count": 68,
   "metadata": {},
   "outputs": [
    {
     "data": {
      "text/plain": [
       "array([Timestamp('2017-02-13 00:00:00', freq='B'),\n",
       "       Timestamp('2017-02-14 00:00:00', freq='B'),\n",
       "       Timestamp('2017-02-15 00:00:00', freq='B'),\n",
       "       Timestamp('2017-02-16 00:00:00', freq='B'),\n",
       "       Timestamp('2017-02-17 00:00:00', freq='B')], dtype=object)"
      ]
     },
     "execution_count": 68,
     "metadata": {},
     "output_type": "execute_result"
    }
   ],
   "source": [
    "trade_dates[-5:]"
   ]
  },
  {
   "cell_type": "markdown",
   "metadata": {},
   "source": [
    "#### Build/Apply function to assign appropriate SPX options to each timestamp"
   ]
  },
  {
   "cell_type": "code",
   "execution_count": 69,
   "metadata": {},
   "outputs": [],
   "source": [
    "def findOptions(df):\n",
    "    term1 = df[df['exdate'] == df['SPX_Term1'].iloc[0]]\n",
    "    term2 = df[df['exdate'] == df['SPX_Term2'].iloc[0]]\n",
    "    #t1 = len(trade_dates[(trade_dates > df['date'].iloc[0]) & ( trade_dates <= df['VIX_Expiry'].iloc[0])]) \n",
    "    #t2 = len(trade_dates[(trade_dates > df['date'].iloc[0]) & ( trade_dates <= df['Term_2'].iloc[0] )])\n",
    "    \n",
    "    # Calculate current timestamp & future VIX expirys out to the hour & minute \n",
    "    # This approach allows for a more continuous view of Time to Expiry (TTE)\n",
    "    partial_day = (df['TIMESTAMP'].iloc[0].hour + df['TIMESTAMP'].iloc[0].minute/60)/24 - (9.5)/24\n",
    "    t1 = len(trade_dates[(trade_dates > df['TIMESTAMP'].iloc[0]) & ( trade_dates <= df['VIX_Expiry'].iloc[0])]) - partial_day\n",
    "    t2 = len(trade_dates[(trade_dates > df['TIMESTAMP'].iloc[0]) & ( trade_dates <= df['SPX_Term2'].iloc[0] )]) - partial_day\n",
    "    \n",
    "    if term1.shape[0] == 0 or term2.shape[0] == 0:\n",
    "        return pd.Series([np.nan, np.nan, np.nan, np.nan, t1, t2],\\\n",
    "                         index=['SPX_Strike1', 'SPX_Strike2','SPX_Option1', 'SPX_Option2', 't1', 't2'])\n",
    "        \n",
    "    #print(df['date'].iloc[0])\n",
    "    strike_list1 = np.unique(term1['strike_price'])\n",
    "    #print(strike_list1)\n",
    "    mindelta1 = 5\n",
    "    for strikeIndx, strike in enumerate(strike_list1): \n",
    "        x = np.abs(term1[term1['strike_price'] == strike]['DELTA'].sum())\n",
    "        if x < mindelta1:\n",
    "            mindelta1 = x\n",
    "            minStrike1 = strike\n",
    "            \n",
    "    strike_list2 = np.unique(term2['strike_price'])\n",
    "    mindelta2 = 5\n",
    "    for strikeIndx, strike in enumerate(strike_list2): \n",
    "        x = np.abs(term2[term2['strike_price'] == strike]['DELTA'].sum())\n",
    "        if x < mindelta2:\n",
    "            mindelta2 = x\n",
    "            minStrike2 = strike\n",
    "    avg1 = term1[term1['strike_price'] == minStrike1]['MID_VOL'].mean()\n",
    "    avg2 = term2[term2['strike_price'] == minStrike2]['MID_VOL'].mean()\n",
    "    \n",
    "    return pd.Series([minStrike1, minStrike2, avg1, avg2, t1, t2],\\\n",
    "                     index=['SPX_Strike1', 'SPX_Strike2','SPX_Option1', 'SPX_Option2', 't1', 't2'])  "
   ]
  },
  {
   "cell_type": "code",
   "execution_count": 70,
   "metadata": {},
   "outputs": [
    {
     "data": {
      "text/html": [
       "<div>\n",
       "<style scoped>\n",
       "    .dataframe tbody tr th:only-of-type {\n",
       "        vertical-align: middle;\n",
       "    }\n",
       "\n",
       "    .dataframe tbody tr th {\n",
       "        vertical-align: top;\n",
       "    }\n",
       "\n",
       "    .dataframe thead th {\n",
       "        text-align: right;\n",
       "    }\n",
       "</style>\n",
       "<table border=\"1\" class=\"dataframe\">\n",
       "  <thead>\n",
       "    <tr style=\"text-align: right;\">\n",
       "      <th></th>\n",
       "      <th>SYMBOL</th>\n",
       "      <th>TIMESTAMP</th>\n",
       "      <th>MID_VOL</th>\n",
       "      <th>DELTA</th>\n",
       "      <th>FWD_PRICE</th>\n",
       "      <th>exdate</th>\n",
       "      <th>cp_flag</th>\n",
       "      <th>strike_price</th>\n",
       "      <th>VIX_Expiry</th>\n",
       "      <th>SPX_Term1</th>\n",
       "      <th>SPX_Term2</th>\n",
       "    </tr>\n",
       "  </thead>\n",
       "  <tbody>\n",
       "    <tr>\n",
       "      <th>70</th>\n",
       "      <td>SPX   150220C01925000</td>\n",
       "      <td>2015-01-02 16:10:00</td>\n",
       "      <td>0.18312</td>\n",
       "      <td>0.84084</td>\n",
       "      <td>2053.82544</td>\n",
       "      <td>2015-02-20</td>\n",
       "      <td>C</td>\n",
       "      <td>1925.0</td>\n",
       "      <td>2015-01-21</td>\n",
       "      <td>2015-01-23</td>\n",
       "      <td>2015-02-20</td>\n",
       "    </tr>\n",
       "    <tr>\n",
       "      <th>71</th>\n",
       "      <td>SPX   150220C01925000</td>\n",
       "      <td>2015-01-02 16:15:00</td>\n",
       "      <td>0.18006</td>\n",
       "      <td>0.84466</td>\n",
       "      <td>2053.82544</td>\n",
       "      <td>2015-02-20</td>\n",
       "      <td>C</td>\n",
       "      <td>1925.0</td>\n",
       "      <td>2015-01-21</td>\n",
       "      <td>2015-01-23</td>\n",
       "      <td>2015-02-20</td>\n",
       "    </tr>\n",
       "    <tr>\n",
       "      <th>72</th>\n",
       "      <td>SPX   150220C01930000</td>\n",
       "      <td>2015-01-02 16:10:00</td>\n",
       "      <td>0.18203</td>\n",
       "      <td>0.83263</td>\n",
       "      <td>2053.82544</td>\n",
       "      <td>2015-02-20</td>\n",
       "      <td>C</td>\n",
       "      <td>1930.0</td>\n",
       "      <td>2015-01-21</td>\n",
       "      <td>2015-01-23</td>\n",
       "      <td>2015-02-20</td>\n",
       "    </tr>\n",
       "    <tr>\n",
       "      <th>73</th>\n",
       "      <td>SPX   150220C01930000</td>\n",
       "      <td>2015-01-02 16:15:00</td>\n",
       "      <td>0.17852</td>\n",
       "      <td>0.83703</td>\n",
       "      <td>2053.82544</td>\n",
       "      <td>2015-02-20</td>\n",
       "      <td>C</td>\n",
       "      <td>1930.0</td>\n",
       "      <td>2015-01-21</td>\n",
       "      <td>2015-01-23</td>\n",
       "      <td>2015-02-20</td>\n",
       "    </tr>\n",
       "    <tr>\n",
       "      <th>74</th>\n",
       "      <td>SPX   150220C01935000</td>\n",
       "      <td>2015-01-02 16:10:00</td>\n",
       "      <td>0.18023</td>\n",
       "      <td>0.82497</td>\n",
       "      <td>2053.82544</td>\n",
       "      <td>2015-02-20</td>\n",
       "      <td>C</td>\n",
       "      <td>1935.0</td>\n",
       "      <td>2015-01-21</td>\n",
       "      <td>2015-01-23</td>\n",
       "      <td>2015-02-20</td>\n",
       "    </tr>\n",
       "  </tbody>\n",
       "</table>\n",
       "</div>"
      ],
      "text/plain": [
       "                   SYMBOL           TIMESTAMP  MID_VOL    DELTA   FWD_PRICE  \\\n",
       "70  SPX   150220C01925000 2015-01-02 16:10:00  0.18312  0.84084  2053.82544   \n",
       "71  SPX   150220C01925000 2015-01-02 16:15:00  0.18006  0.84466  2053.82544   \n",
       "72  SPX   150220C01930000 2015-01-02 16:10:00  0.18203  0.83263  2053.82544   \n",
       "73  SPX   150220C01930000 2015-01-02 16:15:00  0.17852  0.83703  2053.82544   \n",
       "74  SPX   150220C01935000 2015-01-02 16:10:00  0.18023  0.82497  2053.82544   \n",
       "\n",
       "       exdate cp_flag  strike_price VIX_Expiry  SPX_Term1  SPX_Term2  \n",
       "70 2015-02-20       C        1925.0 2015-01-21 2015-01-23 2015-02-20  \n",
       "71 2015-02-20       C        1925.0 2015-01-21 2015-01-23 2015-02-20  \n",
       "72 2015-02-20       C        1930.0 2015-01-21 2015-01-23 2015-02-20  \n",
       "73 2015-02-20       C        1930.0 2015-01-21 2015-01-23 2015-02-20  \n",
       "74 2015-02-20       C        1935.0 2015-01-21 2015-01-23 2015-02-20  "
      ]
     },
     "execution_count": 70,
     "metadata": {},
     "output_type": "execute_result"
    }
   ],
   "source": [
    "spx_intra_eod.head()"
   ]
  },
  {
   "cell_type": "markdown",
   "metadata": {},
   "source": [
    "#### Look for SPX Options expiration dates needed for a given timestamp"
   ]
  },
  {
   "cell_type": "code",
   "execution_count": 28,
   "metadata": {},
   "outputs": [],
   "source": [
    "#spx_intra_eod[spx_intra_eod['TIMESTAMP'] == '2015-10-21 16:10:00']"
   ]
  },
  {
   "cell_type": "code",
   "execution_count": 71,
   "metadata": {},
   "outputs": [],
   "source": [
    "spx_options_eod = spx_intra_eod.groupby('TIMESTAMP').apply(findOptions)"
   ]
  },
  {
   "cell_type": "code",
   "execution_count": 72,
   "metadata": {},
   "outputs": [
    {
     "data": {
      "text/html": [
       "<div>\n",
       "<style scoped>\n",
       "    .dataframe tbody tr th:only-of-type {\n",
       "        vertical-align: middle;\n",
       "    }\n",
       "\n",
       "    .dataframe tbody tr th {\n",
       "        vertical-align: top;\n",
       "    }\n",
       "\n",
       "    .dataframe thead th {\n",
       "        text-align: right;\n",
       "    }\n",
       "</style>\n",
       "<table border=\"1\" class=\"dataframe\">\n",
       "  <thead>\n",
       "    <tr style=\"text-align: right;\">\n",
       "      <th></th>\n",
       "      <th>SPX_Strike1</th>\n",
       "      <th>SPX_Strike2</th>\n",
       "      <th>SPX_Option1</th>\n",
       "      <th>SPX_Option2</th>\n",
       "      <th>t1</th>\n",
       "      <th>t2</th>\n",
       "    </tr>\n",
       "    <tr>\n",
       "      <th>TIMESTAMP</th>\n",
       "      <th></th>\n",
       "      <th></th>\n",
       "      <th></th>\n",
       "      <th></th>\n",
       "      <th></th>\n",
       "      <th></th>\n",
       "    </tr>\n",
       "  </thead>\n",
       "  <tbody>\n",
       "    <tr>\n",
       "      <th>2015-01-02 16:10:00</th>\n",
       "      <td>2060.0</td>\n",
       "      <td>2055.0</td>\n",
       "      <td>0.132675</td>\n",
       "      <td>0.142680</td>\n",
       "      <td>11.722222</td>\n",
       "      <td>32.722222</td>\n",
       "    </tr>\n",
       "    <tr>\n",
       "      <th>2015-01-02 16:15:00</th>\n",
       "      <td>2060.0</td>\n",
       "      <td>2055.0</td>\n",
       "      <td>0.135100</td>\n",
       "      <td>0.142260</td>\n",
       "      <td>11.718750</td>\n",
       "      <td>32.718750</td>\n",
       "    </tr>\n",
       "    <tr>\n",
       "      <th>2015-01-05 16:10:00</th>\n",
       "      <td>2020.0</td>\n",
       "      <td>2020.0</td>\n",
       "      <td>0.164065</td>\n",
       "      <td>0.161785</td>\n",
       "      <td>10.722222</td>\n",
       "      <td>31.722222</td>\n",
       "    </tr>\n",
       "    <tr>\n",
       "      <th>2015-01-05 16:15:00</th>\n",
       "      <td>2020.0</td>\n",
       "      <td>2020.0</td>\n",
       "      <td>0.166455</td>\n",
       "      <td>0.161440</td>\n",
       "      <td>10.718750</td>\n",
       "      <td>31.718750</td>\n",
       "    </tr>\n",
       "    <tr>\n",
       "      <th>2015-01-06 16:10:00</th>\n",
       "      <td>2005.0</td>\n",
       "      <td>2000.0</td>\n",
       "      <td>0.175230</td>\n",
       "      <td>0.172300</td>\n",
       "      <td>9.722222</td>\n",
       "      <td>30.722222</td>\n",
       "    </tr>\n",
       "  </tbody>\n",
       "</table>\n",
       "</div>"
      ],
      "text/plain": [
       "                     SPX_Strike1  SPX_Strike2  SPX_Option1  SPX_Option2  \\\n",
       "TIMESTAMP                                                                 \n",
       "2015-01-02 16:10:00       2060.0       2055.0     0.132675     0.142680   \n",
       "2015-01-02 16:15:00       2060.0       2055.0     0.135100     0.142260   \n",
       "2015-01-05 16:10:00       2020.0       2020.0     0.164065     0.161785   \n",
       "2015-01-05 16:15:00       2020.0       2020.0     0.166455     0.161440   \n",
       "2015-01-06 16:10:00       2005.0       2000.0     0.175230     0.172300   \n",
       "\n",
       "                            t1         t2  \n",
       "TIMESTAMP                                  \n",
       "2015-01-02 16:10:00  11.722222  32.722222  \n",
       "2015-01-02 16:15:00  11.718750  32.718750  \n",
       "2015-01-05 16:10:00  10.722222  31.722222  \n",
       "2015-01-05 16:15:00  10.718750  31.718750  \n",
       "2015-01-06 16:10:00   9.722222  30.722222  "
      ]
     },
     "execution_count": 72,
     "metadata": {},
     "output_type": "execute_result"
    }
   ],
   "source": [
    "spx_options_eod.head()"
   ]
  },
  {
   "cell_type": "markdown",
   "metadata": {},
   "source": [
    "#### Check for any Null values (NaNs)"
   ]
  },
  {
   "cell_type": "code",
   "execution_count": 73,
   "metadata": {},
   "outputs": [
    {
     "data": {
      "text/plain": [
       "SPX_Strike1    78\n",
       "SPX_Strike2    78\n",
       "SPX_Option1    78\n",
       "SPX_Option2    78\n",
       "t1              0\n",
       "t2              0\n",
       "dtype: int64"
      ]
     },
     "execution_count": 73,
     "metadata": {},
     "output_type": "execute_result"
    }
   ],
   "source": [
    "spx_options_eod.isna().sum()"
   ]
  },
  {
   "cell_type": "code",
   "execution_count": 24,
   "metadata": {},
   "outputs": [],
   "source": [
    "#spx_options_eod[spx_options_eod['SPX_Strike1'].isna()]"
   ]
  },
  {
   "cell_type": "code",
   "execution_count": 74,
   "metadata": {},
   "outputs": [],
   "source": [
    "spx_options_eod = spx_options_eod[~spx_options_eod['SPX_Strike1'].isna()]"
   ]
  },
  {
   "cell_type": "markdown",
   "metadata": {},
   "source": [
    "#### Save/Load final SPX Options EOD dataframe to/from pickle file  "
   ]
  },
  {
   "cell_type": "code",
   "execution_count": 75,
   "metadata": {},
   "outputs": [],
   "source": [
    "spx_options_eod.to_pickle(os.path.join(pickle_filepath, 'spx_options_eod.pkl'))"
   ]
  },
  {
   "cell_type": "code",
   "execution_count": 154,
   "metadata": {},
   "outputs": [],
   "source": [
    "spx_options_eod = pd.read_pickle(pickle_filepath + r'\\spx_options_eod.pkl')"
   ]
  },
  {
   "cell_type": "markdown",
   "metadata": {},
   "source": [
    " "
   ]
  },
  {
   "cell_type": "markdown",
   "metadata": {},
   "source": [
    "### Load/Parse VIX Futures Data "
   ]
  },
  {
   "cell_type": "markdown",
   "metadata": {},
   "source": [
    "#### Recall VIX options dataframe loaded from combined SPX/VIX options .csv file"
   ]
  },
  {
   "cell_type": "code",
   "execution_count": 147,
   "metadata": {},
   "outputs": [
    {
     "data": {
      "text/html": [
       "<div>\n",
       "<style scoped>\n",
       "    .dataframe tbody tr th:only-of-type {\n",
       "        vertical-align: middle;\n",
       "    }\n",
       "\n",
       "    .dataframe tbody tr th {\n",
       "        vertical-align: top;\n",
       "    }\n",
       "\n",
       "    .dataframe thead th {\n",
       "        text-align: right;\n",
       "    }\n",
       "</style>\n",
       "<table border=\"1\" class=\"dataframe\">\n",
       "  <thead>\n",
       "    <tr style=\"text-align: right;\">\n",
       "      <th></th>\n",
       "      <th>SYMBOL</th>\n",
       "      <th>TIMESTAMP</th>\n",
       "      <th>MID_VOL</th>\n",
       "      <th>DELTA</th>\n",
       "      <th>FWD_PRICE</th>\n",
       "    </tr>\n",
       "  </thead>\n",
       "  <tbody>\n",
       "    <tr>\n",
       "      <th>766</th>\n",
       "      <td>VIX   150121C00014500</td>\n",
       "      <td>2015-01-02 16:10:00</td>\n",
       "      <td>1.00348</td>\n",
       "      <td>0.83967</td>\n",
       "      <td>17.725</td>\n",
       "    </tr>\n",
       "    <tr>\n",
       "      <th>768</th>\n",
       "      <td>VIX   150121C00015000</td>\n",
       "      <td>2015-01-02 16:10:00</td>\n",
       "      <td>1.07200</td>\n",
       "      <td>0.78990</td>\n",
       "      <td>17.725</td>\n",
       "    </tr>\n",
       "    <tr>\n",
       "      <th>769</th>\n",
       "      <td>VIX   150121C00015000</td>\n",
       "      <td>2015-01-02 16:15:00</td>\n",
       "      <td>1.00126</td>\n",
       "      <td>0.80810</td>\n",
       "      <td>17.825</td>\n",
       "    </tr>\n",
       "    <tr>\n",
       "      <th>770</th>\n",
       "      <td>VIX   150121C00016000</td>\n",
       "      <td>2015-01-02 16:10:00</td>\n",
       "      <td>1.11977</td>\n",
       "      <td>0.70182</td>\n",
       "      <td>17.725</td>\n",
       "    </tr>\n",
       "    <tr>\n",
       "      <th>771</th>\n",
       "      <td>VIX   150121C00016000</td>\n",
       "      <td>2015-01-02 16:15:00</td>\n",
       "      <td>1.08682</td>\n",
       "      <td>0.71251</td>\n",
       "      <td>17.825</td>\n",
       "    </tr>\n",
       "  </tbody>\n",
       "</table>\n",
       "</div>"
      ],
      "text/plain": [
       "                    SYMBOL           TIMESTAMP  MID_VOL    DELTA  FWD_PRICE\n",
       "766  VIX   150121C00014500 2015-01-02 16:10:00  1.00348  0.83967     17.725\n",
       "768  VIX   150121C00015000 2015-01-02 16:10:00  1.07200  0.78990     17.725\n",
       "769  VIX   150121C00015000 2015-01-02 16:15:00  1.00126  0.80810     17.825\n",
       "770  VIX   150121C00016000 2015-01-02 16:10:00  1.11977  0.70182     17.725\n",
       "771  VIX   150121C00016000 2015-01-02 16:15:00  1.08682  0.71251     17.825"
      ]
     },
     "execution_count": 147,
     "metadata": {},
     "output_type": "execute_result"
    }
   ],
   "source": [
    "vix_intra_eod.head()"
   ]
  },
  {
   "cell_type": "code",
   "execution_count": 148,
   "metadata": {},
   "outputs": [
    {
     "data": {
      "text/html": [
       "<div>\n",
       "<style scoped>\n",
       "    .dataframe tbody tr th:only-of-type {\n",
       "        vertical-align: middle;\n",
       "    }\n",
       "\n",
       "    .dataframe tbody tr th {\n",
       "        vertical-align: top;\n",
       "    }\n",
       "\n",
       "    .dataframe thead th {\n",
       "        text-align: right;\n",
       "    }\n",
       "</style>\n",
       "<table border=\"1\" class=\"dataframe\">\n",
       "  <thead>\n",
       "    <tr style=\"text-align: right;\">\n",
       "      <th></th>\n",
       "      <th>SYMBOL</th>\n",
       "      <th>TIMESTAMP</th>\n",
       "      <th>MID_VOL</th>\n",
       "      <th>DELTA</th>\n",
       "      <th>FWD_PRICE</th>\n",
       "    </tr>\n",
       "  </thead>\n",
       "  <tbody>\n",
       "    <tr>\n",
       "      <th>766</th>\n",
       "      <td>VIX   150121C00014500</td>\n",
       "      <td>2015-01-02 16:10:00</td>\n",
       "      <td>1.00348</td>\n",
       "      <td>0.83967</td>\n",
       "      <td>17.725</td>\n",
       "    </tr>\n",
       "    <tr>\n",
       "      <th>768</th>\n",
       "      <td>VIX   150121C00015000</td>\n",
       "      <td>2015-01-02 16:10:00</td>\n",
       "      <td>1.07200</td>\n",
       "      <td>0.78990</td>\n",
       "      <td>17.725</td>\n",
       "    </tr>\n",
       "    <tr>\n",
       "      <th>769</th>\n",
       "      <td>VIX   150121C00015000</td>\n",
       "      <td>2015-01-02 16:15:00</td>\n",
       "      <td>1.00126</td>\n",
       "      <td>0.80810</td>\n",
       "      <td>17.825</td>\n",
       "    </tr>\n",
       "    <tr>\n",
       "      <th>770</th>\n",
       "      <td>VIX   150121C00016000</td>\n",
       "      <td>2015-01-02 16:10:00</td>\n",
       "      <td>1.11977</td>\n",
       "      <td>0.70182</td>\n",
       "      <td>17.725</td>\n",
       "    </tr>\n",
       "    <tr>\n",
       "      <th>771</th>\n",
       "      <td>VIX   150121C00016000</td>\n",
       "      <td>2015-01-02 16:15:00</td>\n",
       "      <td>1.08682</td>\n",
       "      <td>0.71251</td>\n",
       "      <td>17.825</td>\n",
       "    </tr>\n",
       "  </tbody>\n",
       "</table>\n",
       "</div>"
      ],
      "text/plain": [
       "                    SYMBOL           TIMESTAMP  MID_VOL    DELTA  FWD_PRICE\n",
       "766  VIX   150121C00014500 2015-01-02 16:10:00  1.00348  0.83967     17.725\n",
       "768  VIX   150121C00015000 2015-01-02 16:10:00  1.07200  0.78990     17.725\n",
       "769  VIX   150121C00015000 2015-01-02 16:15:00  1.00126  0.80810     17.825\n",
       "770  VIX   150121C00016000 2015-01-02 16:10:00  1.11977  0.70182     17.725\n",
       "771  VIX   150121C00016000 2015-01-02 16:15:00  1.08682  0.71251     17.825"
      ]
     },
     "execution_count": 148,
     "metadata": {},
     "output_type": "execute_result"
    }
   ],
   "source": [
    "vix_intra_eod.head()"
   ]
  },
  {
   "cell_type": "code",
   "execution_count": 149,
   "metadata": {},
   "outputs": [],
   "source": [
    "vix_intra_eod[['exdate', 'cp_flag', 'strike_price']] = vix_intra_eod['SYMBOL'].apply(parse_symbol)"
   ]
  },
  {
   "cell_type": "code",
   "execution_count": 151,
   "metadata": {},
   "outputs": [
    {
     "data": {
      "text/html": [
       "<div>\n",
       "<style scoped>\n",
       "    .dataframe tbody tr th:only-of-type {\n",
       "        vertical-align: middle;\n",
       "    }\n",
       "\n",
       "    .dataframe tbody tr th {\n",
       "        vertical-align: top;\n",
       "    }\n",
       "\n",
       "    .dataframe thead th {\n",
       "        text-align: right;\n",
       "    }\n",
       "</style>\n",
       "<table border=\"1\" class=\"dataframe\">\n",
       "  <thead>\n",
       "    <tr style=\"text-align: right;\">\n",
       "      <th></th>\n",
       "      <th>SYMBOL</th>\n",
       "      <th>TIMESTAMP</th>\n",
       "      <th>MID_VOL</th>\n",
       "      <th>DELTA</th>\n",
       "      <th>FWD_PRICE</th>\n",
       "      <th>exdate</th>\n",
       "      <th>cp_flag</th>\n",
       "      <th>strike_price</th>\n",
       "    </tr>\n",
       "  </thead>\n",
       "  <tbody>\n",
       "    <tr>\n",
       "      <th>766</th>\n",
       "      <td>VIX   150121C00014500</td>\n",
       "      <td>2015-01-02 16:10:00</td>\n",
       "      <td>1.00348</td>\n",
       "      <td>0.83967</td>\n",
       "      <td>17.725</td>\n",
       "      <td>2015-01-21</td>\n",
       "      <td>C</td>\n",
       "      <td>14.5</td>\n",
       "    </tr>\n",
       "    <tr>\n",
       "      <th>842</th>\n",
       "      <td>VIX   150121P00014500</td>\n",
       "      <td>2015-01-02 16:10:00</td>\n",
       "      <td>0.97725</td>\n",
       "      <td>-0.15528</td>\n",
       "      <td>17.725</td>\n",
       "      <td>2015-01-21</td>\n",
       "      <td>P</td>\n",
       "      <td>14.5</td>\n",
       "    </tr>\n",
       "    <tr>\n",
       "      <th>768</th>\n",
       "      <td>VIX   150121C00015000</td>\n",
       "      <td>2015-01-02 16:10:00</td>\n",
       "      <td>1.07200</td>\n",
       "      <td>0.78990</td>\n",
       "      <td>17.725</td>\n",
       "      <td>2015-01-21</td>\n",
       "      <td>C</td>\n",
       "      <td>15.0</td>\n",
       "    </tr>\n",
       "    <tr>\n",
       "      <th>844</th>\n",
       "      <td>VIX   150121P00015000</td>\n",
       "      <td>2015-01-02 16:10:00</td>\n",
       "      <td>1.00589</td>\n",
       "      <td>-0.19941</td>\n",
       "      <td>17.725</td>\n",
       "      <td>2015-01-21</td>\n",
       "      <td>P</td>\n",
       "      <td>15.0</td>\n",
       "    </tr>\n",
       "    <tr>\n",
       "      <th>770</th>\n",
       "      <td>VIX   150121C00016000</td>\n",
       "      <td>2015-01-02 16:10:00</td>\n",
       "      <td>1.11977</td>\n",
       "      <td>0.70182</td>\n",
       "      <td>17.725</td>\n",
       "      <td>2015-01-21</td>\n",
       "      <td>C</td>\n",
       "      <td>16.0</td>\n",
       "    </tr>\n",
       "  </tbody>\n",
       "</table>\n",
       "</div>"
      ],
      "text/plain": [
       "                    SYMBOL           TIMESTAMP  MID_VOL    DELTA  FWD_PRICE  \\\n",
       "766  VIX   150121C00014500 2015-01-02 16:10:00  1.00348  0.83967     17.725   \n",
       "842  VIX   150121P00014500 2015-01-02 16:10:00  0.97725 -0.15528     17.725   \n",
       "768  VIX   150121C00015000 2015-01-02 16:10:00  1.07200  0.78990     17.725   \n",
       "844  VIX   150121P00015000 2015-01-02 16:10:00  1.00589 -0.19941     17.725   \n",
       "770  VIX   150121C00016000 2015-01-02 16:10:00  1.11977  0.70182     17.725   \n",
       "\n",
       "        exdate cp_flag  strike_price  \n",
       "766 2015-01-21       C          14.5  \n",
       "842 2015-01-21       P          14.5  \n",
       "768 2015-01-21       C          15.0  \n",
       "844 2015-01-21       P          15.0  \n",
       "770 2015-01-21       C          16.0  "
      ]
     },
     "execution_count": 151,
     "metadata": {},
     "output_type": "execute_result"
    }
   ],
   "source": [
    "vix_intra_eod.sort_values(by =['TIMESTAMP', 'exdate', 'strike_price', 'cp_flag'], inplace = True)\n",
    "vix_intra_eod.head()"
   ]
  },
  {
   "cell_type": "code",
   "execution_count": 152,
   "metadata": {},
   "outputs": [],
   "source": [
    "# Define column numbers for VIX expiration dates in 'expiration_dates.csv'\n",
    "vx_expirys = 0\n",
    "\n",
    "def find_vixOptTerms(date):\n",
    "    for i in range(expiration.shape[vx_expirys]): # Determine month & year of VIX expiry corresponding to current date\n",
    "        if expiration.iloc[i,vx_expirys].month == date.month and expiration.iloc[i,vx_expirys].year == date.year:\n",
    "            break                                 # Effectively reduces search area of posible dates\n",
    "    \n",
    "    if date < expiration.iloc[i,vx_expirys]:\n",
    "        term1 = expiration.iloc[i+0,vx_expirys]\n",
    "        term2 = expiration.iloc[i+1,vx_expirys]\n",
    "    else:\n",
    "        term1 = expiration.iloc[i+1,vx_expirys]\n",
    "        term2 = expiration.iloc[i+2,vx_expirys]\n",
    "        \n",
    "    return pd.Series([term1, term2], index=['VIX_Term1', 'VIX_Term2'])"
   ]
  },
  {
   "cell_type": "markdown",
   "metadata": {},
   "source": [
    "#### Screen for & apply correct 1st & 2nd VIX Expiry terms to dataframe"
   ]
  },
  {
   "cell_type": "code",
   "execution_count": 153,
   "metadata": {},
   "outputs": [],
   "source": [
    "vix_intra_eod[['VIX_Term1', 'VIX_Term2']] = vix_intra_eod['TIMESTAMP'].apply(find_vixOptTerms)"
   ]
  },
  {
   "cell_type": "code",
   "execution_count": 155,
   "metadata": {},
   "outputs": [
    {
     "data": {
      "text/html": [
       "<div>\n",
       "<style scoped>\n",
       "    .dataframe tbody tr th:only-of-type {\n",
       "        vertical-align: middle;\n",
       "    }\n",
       "\n",
       "    .dataframe tbody tr th {\n",
       "        vertical-align: top;\n",
       "    }\n",
       "\n",
       "    .dataframe thead th {\n",
       "        text-align: right;\n",
       "    }\n",
       "</style>\n",
       "<table border=\"1\" class=\"dataframe\">\n",
       "  <thead>\n",
       "    <tr style=\"text-align: right;\">\n",
       "      <th></th>\n",
       "      <th>SYMBOL</th>\n",
       "      <th>TIMESTAMP</th>\n",
       "      <th>MID_VOL</th>\n",
       "      <th>DELTA</th>\n",
       "      <th>FWD_PRICE</th>\n",
       "      <th>exdate</th>\n",
       "      <th>cp_flag</th>\n",
       "      <th>strike_price</th>\n",
       "      <th>VIX_Term1</th>\n",
       "      <th>VIX_Term2</th>\n",
       "    </tr>\n",
       "  </thead>\n",
       "  <tbody>\n",
       "    <tr>\n",
       "      <th>766</th>\n",
       "      <td>VIX   150121C00014500</td>\n",
       "      <td>2015-01-02 16:10:00</td>\n",
       "      <td>1.00348</td>\n",
       "      <td>0.83967</td>\n",
       "      <td>17.725</td>\n",
       "      <td>2015-01-21</td>\n",
       "      <td>C</td>\n",
       "      <td>14.5</td>\n",
       "      <td>2015-01-21</td>\n",
       "      <td>2015-02-18</td>\n",
       "    </tr>\n",
       "    <tr>\n",
       "      <th>842</th>\n",
       "      <td>VIX   150121P00014500</td>\n",
       "      <td>2015-01-02 16:10:00</td>\n",
       "      <td>0.97725</td>\n",
       "      <td>-0.15528</td>\n",
       "      <td>17.725</td>\n",
       "      <td>2015-01-21</td>\n",
       "      <td>P</td>\n",
       "      <td>14.5</td>\n",
       "      <td>2015-01-21</td>\n",
       "      <td>2015-02-18</td>\n",
       "    </tr>\n",
       "    <tr>\n",
       "      <th>768</th>\n",
       "      <td>VIX   150121C00015000</td>\n",
       "      <td>2015-01-02 16:10:00</td>\n",
       "      <td>1.07200</td>\n",
       "      <td>0.78990</td>\n",
       "      <td>17.725</td>\n",
       "      <td>2015-01-21</td>\n",
       "      <td>C</td>\n",
       "      <td>15.0</td>\n",
       "      <td>2015-01-21</td>\n",
       "      <td>2015-02-18</td>\n",
       "    </tr>\n",
       "    <tr>\n",
       "      <th>844</th>\n",
       "      <td>VIX   150121P00015000</td>\n",
       "      <td>2015-01-02 16:10:00</td>\n",
       "      <td>1.00589</td>\n",
       "      <td>-0.19941</td>\n",
       "      <td>17.725</td>\n",
       "      <td>2015-01-21</td>\n",
       "      <td>P</td>\n",
       "      <td>15.0</td>\n",
       "      <td>2015-01-21</td>\n",
       "      <td>2015-02-18</td>\n",
       "    </tr>\n",
       "    <tr>\n",
       "      <th>770</th>\n",
       "      <td>VIX   150121C00016000</td>\n",
       "      <td>2015-01-02 16:10:00</td>\n",
       "      <td>1.11977</td>\n",
       "      <td>0.70182</td>\n",
       "      <td>17.725</td>\n",
       "      <td>2015-01-21</td>\n",
       "      <td>C</td>\n",
       "      <td>16.0</td>\n",
       "      <td>2015-01-21</td>\n",
       "      <td>2015-02-18</td>\n",
       "    </tr>\n",
       "  </tbody>\n",
       "</table>\n",
       "</div>"
      ],
      "text/plain": [
       "                    SYMBOL           TIMESTAMP  MID_VOL    DELTA  FWD_PRICE  \\\n",
       "766  VIX   150121C00014500 2015-01-02 16:10:00  1.00348  0.83967     17.725   \n",
       "842  VIX   150121P00014500 2015-01-02 16:10:00  0.97725 -0.15528     17.725   \n",
       "768  VIX   150121C00015000 2015-01-02 16:10:00  1.07200  0.78990     17.725   \n",
       "844  VIX   150121P00015000 2015-01-02 16:10:00  1.00589 -0.19941     17.725   \n",
       "770  VIX   150121C00016000 2015-01-02 16:10:00  1.11977  0.70182     17.725   \n",
       "\n",
       "        exdate cp_flag  strike_price  VIX_Term1  VIX_Term2  \n",
       "766 2015-01-21       C          14.5 2015-01-21 2015-02-18  \n",
       "842 2015-01-21       P          14.5 2015-01-21 2015-02-18  \n",
       "768 2015-01-21       C          15.0 2015-01-21 2015-02-18  \n",
       "844 2015-01-21       P          15.0 2015-01-21 2015-02-18  \n",
       "770 2015-01-21       C          16.0 2015-01-21 2015-02-18  "
      ]
     },
     "execution_count": 155,
     "metadata": {},
     "output_type": "execute_result"
    }
   ],
   "source": [
    "vix_intra_eod.head()"
   ]
  },
  {
   "cell_type": "code",
   "execution_count": 157,
   "metadata": {},
   "outputs": [],
   "source": [
    "vx1_eod = vix_intra_eod.groupby('TIMESTAMP').apply(lambda x: x[x['exdate'] == x['VIX_Term1']].iloc[0,:])"
   ]
  },
  {
   "cell_type": "code",
   "execution_count": 163,
   "metadata": {},
   "outputs": [
    {
     "data": {
      "text/html": [
       "<div>\n",
       "<style scoped>\n",
       "    .dataframe tbody tr th:only-of-type {\n",
       "        vertical-align: middle;\n",
       "    }\n",
       "\n",
       "    .dataframe tbody tr th {\n",
       "        vertical-align: top;\n",
       "    }\n",
       "\n",
       "    .dataframe thead th {\n",
       "        text-align: right;\n",
       "    }\n",
       "</style>\n",
       "<table border=\"1\" class=\"dataframe\">\n",
       "  <thead>\n",
       "    <tr style=\"text-align: right;\">\n",
       "      <th></th>\n",
       "      <th>SYMBOL</th>\n",
       "      <th>TIMESTAMP</th>\n",
       "      <th>MID_VOL</th>\n",
       "      <th>DELTA</th>\n",
       "      <th>FWD_PRICE</th>\n",
       "      <th>exdate</th>\n",
       "      <th>cp_flag</th>\n",
       "      <th>strike_price</th>\n",
       "      <th>VIX_Term1</th>\n",
       "      <th>VIX_Term2</th>\n",
       "    </tr>\n",
       "    <tr>\n",
       "      <th>TIMESTAMP</th>\n",
       "      <th></th>\n",
       "      <th></th>\n",
       "      <th></th>\n",
       "      <th></th>\n",
       "      <th></th>\n",
       "      <th></th>\n",
       "      <th></th>\n",
       "      <th></th>\n",
       "      <th></th>\n",
       "      <th></th>\n",
       "    </tr>\n",
       "  </thead>\n",
       "  <tbody>\n",
       "    <tr>\n",
       "      <th>2015-01-02 16:10:00</th>\n",
       "      <td>VIX   150121C00014500</td>\n",
       "      <td>2015-01-02 16:10:00</td>\n",
       "      <td>1.00348</td>\n",
       "      <td>0.83967</td>\n",
       "      <td>17.725</td>\n",
       "      <td>2015-01-21</td>\n",
       "      <td>C</td>\n",
       "      <td>14.5</td>\n",
       "      <td>2015-01-21</td>\n",
       "      <td>2015-02-18</td>\n",
       "    </tr>\n",
       "    <tr>\n",
       "      <th>2015-01-02 16:15:00</th>\n",
       "      <td>VIX   150121P00014500</td>\n",
       "      <td>2015-01-02 16:15:00</td>\n",
       "      <td>0.99344</td>\n",
       "      <td>-0.15241</td>\n",
       "      <td>17.825</td>\n",
       "      <td>2015-01-21</td>\n",
       "      <td>P</td>\n",
       "      <td>14.5</td>\n",
       "      <td>2015-01-21</td>\n",
       "      <td>2015-02-18</td>\n",
       "    </tr>\n",
       "    <tr>\n",
       "      <th>2015-01-05 16:10:00</th>\n",
       "      <td>VIX   150121C00016000</td>\n",
       "      <td>2015-01-05 16:10:00</td>\n",
       "      <td>1.22720</td>\n",
       "      <td>0.78348</td>\n",
       "      <td>18.925</td>\n",
       "      <td>2015-01-21</td>\n",
       "      <td>C</td>\n",
       "      <td>16.0</td>\n",
       "      <td>2015-01-21</td>\n",
       "      <td>2015-02-18</td>\n",
       "    </tr>\n",
       "    <tr>\n",
       "      <th>2015-01-05 16:15:00</th>\n",
       "      <td>VIX   150121C00016000</td>\n",
       "      <td>2015-01-05 16:15:00</td>\n",
       "      <td>1.22031</td>\n",
       "      <td>0.79625</td>\n",
       "      <td>19.125</td>\n",
       "      <td>2015-01-21</td>\n",
       "      <td>C</td>\n",
       "      <td>16.0</td>\n",
       "      <td>2015-01-21</td>\n",
       "      <td>2015-02-18</td>\n",
       "    </tr>\n",
       "    <tr>\n",
       "      <th>2015-01-06 16:10:00</th>\n",
       "      <td>VIX   150121C00017000</td>\n",
       "      <td>2015-01-06 16:10:00</td>\n",
       "      <td>1.22219</td>\n",
       "      <td>0.77236</td>\n",
       "      <td>19.825</td>\n",
       "      <td>2015-01-21</td>\n",
       "      <td>C</td>\n",
       "      <td>17.0</td>\n",
       "      <td>2015-01-21</td>\n",
       "      <td>2015-02-18</td>\n",
       "    </tr>\n",
       "  </tbody>\n",
       "</table>\n",
       "</div>"
      ],
      "text/plain": [
       "                                    SYMBOL           TIMESTAMP  MID_VOL  \\\n",
       "TIMESTAMP                                                                 \n",
       "2015-01-02 16:10:00  VIX   150121C00014500 2015-01-02 16:10:00  1.00348   \n",
       "2015-01-02 16:15:00  VIX   150121P00014500 2015-01-02 16:15:00  0.99344   \n",
       "2015-01-05 16:10:00  VIX   150121C00016000 2015-01-05 16:10:00  1.22720   \n",
       "2015-01-05 16:15:00  VIX   150121C00016000 2015-01-05 16:15:00  1.22031   \n",
       "2015-01-06 16:10:00  VIX   150121C00017000 2015-01-06 16:10:00  1.22219   \n",
       "\n",
       "                       DELTA  FWD_PRICE     exdate cp_flag  strike_price  \\\n",
       "TIMESTAMP                                                                  \n",
       "2015-01-02 16:10:00  0.83967     17.725 2015-01-21       C          14.5   \n",
       "2015-01-02 16:15:00 -0.15241     17.825 2015-01-21       P          14.5   \n",
       "2015-01-05 16:10:00  0.78348     18.925 2015-01-21       C          16.0   \n",
       "2015-01-05 16:15:00  0.79625     19.125 2015-01-21       C          16.0   \n",
       "2015-01-06 16:10:00  0.77236     19.825 2015-01-21       C          17.0   \n",
       "\n",
       "                     VIX_Term1  VIX_Term2  \n",
       "TIMESTAMP                                  \n",
       "2015-01-02 16:10:00 2015-01-21 2015-02-18  \n",
       "2015-01-02 16:15:00 2015-01-21 2015-02-18  \n",
       "2015-01-05 16:10:00 2015-01-21 2015-02-18  \n",
       "2015-01-05 16:15:00 2015-01-21 2015-02-18  \n",
       "2015-01-06 16:10:00 2015-01-21 2015-02-18  "
      ]
     },
     "execution_count": 163,
     "metadata": {},
     "output_type": "execute_result"
    }
   ],
   "source": [
    "vx1_eod.head()"
   ]
  },
  {
   "cell_type": "code",
   "execution_count": 159,
   "metadata": {},
   "outputs": [
    {
     "data": {
      "text/plain": [
       "986"
      ]
     },
     "execution_count": 159,
     "metadata": {},
     "output_type": "execute_result"
    }
   ],
   "source": [
    "len(vx1_eod)"
   ]
  },
  {
   "cell_type": "code",
   "execution_count": 160,
   "metadata": {},
   "outputs": [
    {
     "data": {
      "text/plain": [
       "SYMBOL          0\n",
       "TIMESTAMP       0\n",
       "MID_VOL         0\n",
       "DELTA           0\n",
       "FWD_PRICE       0\n",
       "exdate          0\n",
       "cp_flag         0\n",
       "strike_price    0\n",
       "VIX_Term1       0\n",
       "VIX_Term2       0\n",
       "dtype: int64"
      ]
     },
     "execution_count": 160,
     "metadata": {},
     "output_type": "execute_result"
    }
   ],
   "source": [
    "vx1_eod.isna().sum()"
   ]
  },
  {
   "cell_type": "markdown",
   "metadata": {},
   "source": [
    "### Add VIX futures prices to SPX options dataframe"
   ]
  },
  {
   "cell_type": "code",
   "execution_count": 164,
   "metadata": {},
   "outputs": [],
   "source": [
    "vx1_opt_eod = spx_options_eod.merge(vx1_eod.iloc[:,4].to_frame(), left_index=True, right_index=True)"
   ]
  },
  {
   "cell_type": "code",
   "execution_count": 165,
   "metadata": {},
   "outputs": [
    {
     "data": {
      "text/html": [
       "<div>\n",
       "<style scoped>\n",
       "    .dataframe tbody tr th:only-of-type {\n",
       "        vertical-align: middle;\n",
       "    }\n",
       "\n",
       "    .dataframe tbody tr th {\n",
       "        vertical-align: top;\n",
       "    }\n",
       "\n",
       "    .dataframe thead th {\n",
       "        text-align: right;\n",
       "    }\n",
       "</style>\n",
       "<table border=\"1\" class=\"dataframe\">\n",
       "  <thead>\n",
       "    <tr style=\"text-align: right;\">\n",
       "      <th></th>\n",
       "      <th>SPX_Strike1</th>\n",
       "      <th>SPX_Strike2</th>\n",
       "      <th>SPX_Option1</th>\n",
       "      <th>SPX_Option2</th>\n",
       "      <th>t1</th>\n",
       "      <th>t2</th>\n",
       "      <th>FWD_PRICE</th>\n",
       "    </tr>\n",
       "    <tr>\n",
       "      <th>TIMESTAMP</th>\n",
       "      <th></th>\n",
       "      <th></th>\n",
       "      <th></th>\n",
       "      <th></th>\n",
       "      <th></th>\n",
       "      <th></th>\n",
       "      <th></th>\n",
       "    </tr>\n",
       "  </thead>\n",
       "  <tbody>\n",
       "    <tr>\n",
       "      <th>2015-01-02 16:10:00</th>\n",
       "      <td>2060.0</td>\n",
       "      <td>2055.0</td>\n",
       "      <td>0.132675</td>\n",
       "      <td>0.142680</td>\n",
       "      <td>11.722222</td>\n",
       "      <td>32.722222</td>\n",
       "      <td>17.725</td>\n",
       "    </tr>\n",
       "    <tr>\n",
       "      <th>2015-01-02 16:15:00</th>\n",
       "      <td>2060.0</td>\n",
       "      <td>2055.0</td>\n",
       "      <td>0.135100</td>\n",
       "      <td>0.142260</td>\n",
       "      <td>11.718750</td>\n",
       "      <td>32.718750</td>\n",
       "      <td>17.825</td>\n",
       "    </tr>\n",
       "    <tr>\n",
       "      <th>2015-01-05 16:10:00</th>\n",
       "      <td>2020.0</td>\n",
       "      <td>2020.0</td>\n",
       "      <td>0.164065</td>\n",
       "      <td>0.161785</td>\n",
       "      <td>10.722222</td>\n",
       "      <td>31.722222</td>\n",
       "      <td>18.925</td>\n",
       "    </tr>\n",
       "    <tr>\n",
       "      <th>2015-01-05 16:15:00</th>\n",
       "      <td>2020.0</td>\n",
       "      <td>2020.0</td>\n",
       "      <td>0.166455</td>\n",
       "      <td>0.161440</td>\n",
       "      <td>10.718750</td>\n",
       "      <td>31.718750</td>\n",
       "      <td>19.125</td>\n",
       "    </tr>\n",
       "    <tr>\n",
       "      <th>2015-01-06 16:10:00</th>\n",
       "      <td>2005.0</td>\n",
       "      <td>2000.0</td>\n",
       "      <td>0.175230</td>\n",
       "      <td>0.172300</td>\n",
       "      <td>9.722222</td>\n",
       "      <td>30.722222</td>\n",
       "      <td>19.825</td>\n",
       "    </tr>\n",
       "  </tbody>\n",
       "</table>\n",
       "</div>"
      ],
      "text/plain": [
       "                     SPX_Strike1  SPX_Strike2  SPX_Option1  SPX_Option2  \\\n",
       "TIMESTAMP                                                                 \n",
       "2015-01-02 16:10:00       2060.0       2055.0     0.132675     0.142680   \n",
       "2015-01-02 16:15:00       2060.0       2055.0     0.135100     0.142260   \n",
       "2015-01-05 16:10:00       2020.0       2020.0     0.164065     0.161785   \n",
       "2015-01-05 16:15:00       2020.0       2020.0     0.166455     0.161440   \n",
       "2015-01-06 16:10:00       2005.0       2000.0     0.175230     0.172300   \n",
       "\n",
       "                            t1         t2  FWD_PRICE  \n",
       "TIMESTAMP                                             \n",
       "2015-01-02 16:10:00  11.722222  32.722222     17.725  \n",
       "2015-01-02 16:15:00  11.718750  32.718750     17.825  \n",
       "2015-01-05 16:10:00  10.722222  31.722222     18.925  \n",
       "2015-01-05 16:15:00  10.718750  31.718750     19.125  \n",
       "2015-01-06 16:10:00   9.722222  30.722222     19.825  "
      ]
     },
     "execution_count": 165,
     "metadata": {},
     "output_type": "execute_result"
    }
   ],
   "source": [
    "vx1_opt_eod.head()"
   ]
  },
  {
   "cell_type": "markdown",
   "metadata": {},
   "source": [
    "#### Screen for occurrences where 1st implied vol is trading at a sharply higher level than the 2nd implied vol"
   ]
  },
  {
   "cell_type": "code",
   "execution_count": 166,
   "metadata": {},
   "outputs": [
    {
     "data": {
      "text/html": [
       "<div>\n",
       "<style scoped>\n",
       "    .dataframe tbody tr th:only-of-type {\n",
       "        vertical-align: middle;\n",
       "    }\n",
       "\n",
       "    .dataframe tbody tr th {\n",
       "        vertical-align: top;\n",
       "    }\n",
       "\n",
       "    .dataframe thead th {\n",
       "        text-align: right;\n",
       "    }\n",
       "</style>\n",
       "<table border=\"1\" class=\"dataframe\">\n",
       "  <thead>\n",
       "    <tr style=\"text-align: right;\">\n",
       "      <th></th>\n",
       "      <th>SPX_Strike1</th>\n",
       "      <th>SPX_Strike2</th>\n",
       "      <th>SPX_Option1</th>\n",
       "      <th>SPX_Option2</th>\n",
       "      <th>t1</th>\n",
       "      <th>t2</th>\n",
       "      <th>FWD_PRICE</th>\n",
       "    </tr>\n",
       "    <tr>\n",
       "      <th>TIMESTAMP</th>\n",
       "      <th></th>\n",
       "      <th></th>\n",
       "      <th></th>\n",
       "      <th></th>\n",
       "      <th></th>\n",
       "      <th></th>\n",
       "      <th></th>\n",
       "    </tr>\n",
       "  </thead>\n",
       "  <tbody>\n",
       "  </tbody>\n",
       "</table>\n",
       "</div>"
      ],
      "text/plain": [
       "Empty DataFrame\n",
       "Columns: [SPX_Strike1, SPX_Strike2, SPX_Option1, SPX_Option2, t1, t2, FWD_PRICE]\n",
       "Index: []"
      ]
     },
     "execution_count": 166,
     "metadata": {},
     "output_type": "execute_result"
    }
   ],
   "source": [
    "a = (vx1_opt_eod['SPX_Option2']**2 *vx1_opt_eod['t2']/252 - vx1_opt_eod['SPX_Option1']**2 *vx1_opt_eod['t1']/252)\n",
    "vx1_opt_eod[a<0]"
   ]
  },
  {
   "cell_type": "markdown",
   "metadata": {},
   "source": [
    "#### Set threshold screen and remove instances (individual timestamps) where it is violated"
   ]
  },
  {
   "cell_type": "code",
   "execution_count": 167,
   "metadata": {},
   "outputs": [],
   "source": [
    "inside = (vx1_opt_eod['SPX_Option2']**2 *vx1_opt_eod['t2']/252 - vx1_opt_eod['SPX_Option1']**2 *vx1_opt_eod['t1']/252)\n",
    "\n",
    "# Remove instances where the time-weighted implied variance of Term 1 > time-weighted implied variance of Term 2\n",
    "# ie, cases where subtracting the first term from the second produces a negative value\n",
    "vx1_opt_eod = vx1_opt_eod[inside > 0]"
   ]
  },
  {
   "cell_type": "markdown",
   "metadata": {},
   "source": [
    "### Calculate synthetic VIX futures price from SPX implied vols & add it to dataframe"
   ]
  },
  {
   "cell_type": "code",
   "execution_count": 168,
   "metadata": {},
   "outputs": [],
   "source": [
    "vx1_opt_eod['OPT'] = 100*(np.sqrt((vx1_opt_eod['SPX_Option2']**2 *vx1_opt_eod['t2']/252 - vx1_opt_eod['SPX_Option1']**2\\\n",
    "                                   *vx1_opt_eod['t1']/252) /(vx1_opt_eod['t2']/252 - vx1_opt_eod['t1']/252)))"
   ]
  },
  {
   "cell_type": "code",
   "execution_count": 169,
   "metadata": {},
   "outputs": [],
   "source": [
    "vx1_opt_eod['VX1-OPT_Spread'] = vx1_opt_eod['FWD_PRICE'] - vx1_opt_eod['OPT']"
   ]
  },
  {
   "cell_type": "code",
   "execution_count": 170,
   "metadata": {},
   "outputs": [
    {
     "data": {
      "text/html": [
       "<div>\n",
       "<style scoped>\n",
       "    .dataframe tbody tr th:only-of-type {\n",
       "        vertical-align: middle;\n",
       "    }\n",
       "\n",
       "    .dataframe tbody tr th {\n",
       "        vertical-align: top;\n",
       "    }\n",
       "\n",
       "    .dataframe thead th {\n",
       "        text-align: right;\n",
       "    }\n",
       "</style>\n",
       "<table border=\"1\" class=\"dataframe\">\n",
       "  <thead>\n",
       "    <tr style=\"text-align: right;\">\n",
       "      <th></th>\n",
       "      <th>SPX_Strike1</th>\n",
       "      <th>SPX_Strike2</th>\n",
       "      <th>SPX_Option1</th>\n",
       "      <th>SPX_Option2</th>\n",
       "      <th>t1</th>\n",
       "      <th>t2</th>\n",
       "      <th>FWD_PRICE</th>\n",
       "      <th>OPT</th>\n",
       "      <th>VX1-OPT_Spread</th>\n",
       "    </tr>\n",
       "    <tr>\n",
       "      <th>TIMESTAMP</th>\n",
       "      <th></th>\n",
       "      <th></th>\n",
       "      <th></th>\n",
       "      <th></th>\n",
       "      <th></th>\n",
       "      <th></th>\n",
       "      <th></th>\n",
       "      <th></th>\n",
       "      <th></th>\n",
       "    </tr>\n",
       "  </thead>\n",
       "  <tbody>\n",
       "    <tr>\n",
       "      <th>2015-01-02 16:10:00</th>\n",
       "      <td>2060.0</td>\n",
       "      <td>2055.0</td>\n",
       "      <td>0.132675</td>\n",
       "      <td>0.142680</td>\n",
       "      <td>11.722222</td>\n",
       "      <td>32.722222</td>\n",
       "      <td>17.725</td>\n",
       "      <td>14.797089</td>\n",
       "      <td>2.927911</td>\n",
       "    </tr>\n",
       "    <tr>\n",
       "      <th>2015-01-02 16:15:00</th>\n",
       "      <td>2060.0</td>\n",
       "      <td>2055.0</td>\n",
       "      <td>0.135100</td>\n",
       "      <td>0.142260</td>\n",
       "      <td>11.718750</td>\n",
       "      <td>32.718750</td>\n",
       "      <td>17.825</td>\n",
       "      <td>14.610308</td>\n",
       "      <td>3.214692</td>\n",
       "    </tr>\n",
       "    <tr>\n",
       "      <th>2015-01-05 16:10:00</th>\n",
       "      <td>2020.0</td>\n",
       "      <td>2020.0</td>\n",
       "      <td>0.164065</td>\n",
       "      <td>0.161785</td>\n",
       "      <td>10.722222</td>\n",
       "      <td>31.722222</td>\n",
       "      <td>18.925</td>\n",
       "      <td>16.060839</td>\n",
       "      <td>2.864161</td>\n",
       "    </tr>\n",
       "    <tr>\n",
       "      <th>2015-01-05 16:15:00</th>\n",
       "      <td>2020.0</td>\n",
       "      <td>2020.0</td>\n",
       "      <td>0.166455</td>\n",
       "      <td>0.161440</td>\n",
       "      <td>10.718750</td>\n",
       "      <td>31.718750</td>\n",
       "      <td>19.125</td>\n",
       "      <td>15.881923</td>\n",
       "      <td>3.243077</td>\n",
       "    </tr>\n",
       "    <tr>\n",
       "      <th>2015-01-06 16:10:00</th>\n",
       "      <td>2005.0</td>\n",
       "      <td>2000.0</td>\n",
       "      <td>0.175230</td>\n",
       "      <td>0.172300</td>\n",
       "      <td>9.722222</td>\n",
       "      <td>30.722222</td>\n",
       "      <td>19.825</td>\n",
       "      <td>17.092651</td>\n",
       "      <td>2.732349</td>\n",
       "    </tr>\n",
       "  </tbody>\n",
       "</table>\n",
       "</div>"
      ],
      "text/plain": [
       "                     SPX_Strike1  SPX_Strike2  SPX_Option1  SPX_Option2  \\\n",
       "TIMESTAMP                                                                 \n",
       "2015-01-02 16:10:00       2060.0       2055.0     0.132675     0.142680   \n",
       "2015-01-02 16:15:00       2060.0       2055.0     0.135100     0.142260   \n",
       "2015-01-05 16:10:00       2020.0       2020.0     0.164065     0.161785   \n",
       "2015-01-05 16:15:00       2020.0       2020.0     0.166455     0.161440   \n",
       "2015-01-06 16:10:00       2005.0       2000.0     0.175230     0.172300   \n",
       "\n",
       "                            t1         t2  FWD_PRICE        OPT  \\\n",
       "TIMESTAMP                                                         \n",
       "2015-01-02 16:10:00  11.722222  32.722222     17.725  14.797089   \n",
       "2015-01-02 16:15:00  11.718750  32.718750     17.825  14.610308   \n",
       "2015-01-05 16:10:00  10.722222  31.722222     18.925  16.060839   \n",
       "2015-01-05 16:15:00  10.718750  31.718750     19.125  15.881923   \n",
       "2015-01-06 16:10:00   9.722222  30.722222     19.825  17.092651   \n",
       "\n",
       "                     VX1-OPT_Spread  \n",
       "TIMESTAMP                            \n",
       "2015-01-02 16:10:00        2.927911  \n",
       "2015-01-02 16:15:00        3.214692  \n",
       "2015-01-05 16:10:00        2.864161  \n",
       "2015-01-05 16:15:00        3.243077  \n",
       "2015-01-06 16:10:00        2.732349  "
      ]
     },
     "execution_count": 170,
     "metadata": {},
     "output_type": "execute_result"
    }
   ],
   "source": [
    "vx1_opt_eod.head()"
   ]
  },
  {
   "cell_type": "markdown",
   "metadata": {},
   "source": [
    "#### Save SPX options & VIX futures EOD datframe to pickle file"
   ]
  },
  {
   "cell_type": "code",
   "execution_count": 171,
   "metadata": {},
   "outputs": [],
   "source": [
    "vx1_opt_eod.to_pickle(os.path.join(pickle_filepath, 'vx1_opt_eod.pkl'))"
   ]
  },
  {
   "cell_type": "markdown",
   "metadata": {},
   "source": [
    "### Finish Parsing VIX options data"
   ]
  },
  {
   "cell_type": "code",
   "execution_count": 172,
   "metadata": {},
   "outputs": [
    {
     "data": {
      "text/html": [
       "<div>\n",
       "<style scoped>\n",
       "    .dataframe tbody tr th:only-of-type {\n",
       "        vertical-align: middle;\n",
       "    }\n",
       "\n",
       "    .dataframe tbody tr th {\n",
       "        vertical-align: top;\n",
       "    }\n",
       "\n",
       "    .dataframe thead th {\n",
       "        text-align: right;\n",
       "    }\n",
       "</style>\n",
       "<table border=\"1\" class=\"dataframe\">\n",
       "  <thead>\n",
       "    <tr style=\"text-align: right;\">\n",
       "      <th></th>\n",
       "      <th>SYMBOL</th>\n",
       "      <th>TIMESTAMP</th>\n",
       "      <th>MID_VOL</th>\n",
       "      <th>DELTA</th>\n",
       "      <th>FWD_PRICE</th>\n",
       "      <th>exdate</th>\n",
       "      <th>cp_flag</th>\n",
       "      <th>strike_price</th>\n",
       "      <th>VIX_Term1</th>\n",
       "      <th>VIX_Term2</th>\n",
       "    </tr>\n",
       "  </thead>\n",
       "  <tbody>\n",
       "    <tr>\n",
       "      <th>766</th>\n",
       "      <td>VIX   150121C00014500</td>\n",
       "      <td>2015-01-02 16:10:00</td>\n",
       "      <td>1.00348</td>\n",
       "      <td>0.83967</td>\n",
       "      <td>17.725</td>\n",
       "      <td>2015-01-21</td>\n",
       "      <td>C</td>\n",
       "      <td>14.5</td>\n",
       "      <td>2015-01-21</td>\n",
       "      <td>2015-02-18</td>\n",
       "    </tr>\n",
       "    <tr>\n",
       "      <th>842</th>\n",
       "      <td>VIX   150121P00014500</td>\n",
       "      <td>2015-01-02 16:10:00</td>\n",
       "      <td>0.97725</td>\n",
       "      <td>-0.15528</td>\n",
       "      <td>17.725</td>\n",
       "      <td>2015-01-21</td>\n",
       "      <td>P</td>\n",
       "      <td>14.5</td>\n",
       "      <td>2015-01-21</td>\n",
       "      <td>2015-02-18</td>\n",
       "    </tr>\n",
       "    <tr>\n",
       "      <th>768</th>\n",
       "      <td>VIX   150121C00015000</td>\n",
       "      <td>2015-01-02 16:10:00</td>\n",
       "      <td>1.07200</td>\n",
       "      <td>0.78990</td>\n",
       "      <td>17.725</td>\n",
       "      <td>2015-01-21</td>\n",
       "      <td>C</td>\n",
       "      <td>15.0</td>\n",
       "      <td>2015-01-21</td>\n",
       "      <td>2015-02-18</td>\n",
       "    </tr>\n",
       "    <tr>\n",
       "      <th>844</th>\n",
       "      <td>VIX   150121P00015000</td>\n",
       "      <td>2015-01-02 16:10:00</td>\n",
       "      <td>1.00589</td>\n",
       "      <td>-0.19941</td>\n",
       "      <td>17.725</td>\n",
       "      <td>2015-01-21</td>\n",
       "      <td>P</td>\n",
       "      <td>15.0</td>\n",
       "      <td>2015-01-21</td>\n",
       "      <td>2015-02-18</td>\n",
       "    </tr>\n",
       "    <tr>\n",
       "      <th>770</th>\n",
       "      <td>VIX   150121C00016000</td>\n",
       "      <td>2015-01-02 16:10:00</td>\n",
       "      <td>1.11977</td>\n",
       "      <td>0.70182</td>\n",
       "      <td>17.725</td>\n",
       "      <td>2015-01-21</td>\n",
       "      <td>C</td>\n",
       "      <td>16.0</td>\n",
       "      <td>2015-01-21</td>\n",
       "      <td>2015-02-18</td>\n",
       "    </tr>\n",
       "  </tbody>\n",
       "</table>\n",
       "</div>"
      ],
      "text/plain": [
       "                    SYMBOL           TIMESTAMP  MID_VOL    DELTA  FWD_PRICE  \\\n",
       "766  VIX   150121C00014500 2015-01-02 16:10:00  1.00348  0.83967     17.725   \n",
       "842  VIX   150121P00014500 2015-01-02 16:10:00  0.97725 -0.15528     17.725   \n",
       "768  VIX   150121C00015000 2015-01-02 16:10:00  1.07200  0.78990     17.725   \n",
       "844  VIX   150121P00015000 2015-01-02 16:10:00  1.00589 -0.19941     17.725   \n",
       "770  VIX   150121C00016000 2015-01-02 16:10:00  1.11977  0.70182     17.725   \n",
       "\n",
       "        exdate cp_flag  strike_price  VIX_Term1  VIX_Term2  \n",
       "766 2015-01-21       C          14.5 2015-01-21 2015-02-18  \n",
       "842 2015-01-21       P          14.5 2015-01-21 2015-02-18  \n",
       "768 2015-01-21       C          15.0 2015-01-21 2015-02-18  \n",
       "844 2015-01-21       P          15.0 2015-01-21 2015-02-18  \n",
       "770 2015-01-21       C          16.0 2015-01-21 2015-02-18  "
      ]
     },
     "execution_count": 172,
     "metadata": {},
     "output_type": "execute_result"
    }
   ],
   "source": [
    "vix_intra_eod.head()"
   ]
  },
  {
   "cell_type": "markdown",
   "metadata": {},
   "source": [
    "#### Calculate individual trade dates from TIMESTAMP"
   ]
  },
  {
   "cell_type": "code",
   "execution_count": 111,
   "metadata": {},
   "outputs": [],
   "source": [
    "trade_dates = pd.DataFrame(np.unique(vix_intra_eod['TIMESTAMP'].apply(lambda x: x.strftime('%Y-%m-%d'))))"
   ]
  },
  {
   "cell_type": "code",
   "execution_count": 112,
   "metadata": {},
   "outputs": [],
   "source": [
    "trade_dates = np.array([pd.Timestamp(x) for x in np.unique(trade_dates)])"
   ]
  },
  {
   "cell_type": "markdown",
   "metadata": {},
   "source": [
    "#### Add additional trade dates to dataset (pre-Jan 2015)"
   ]
  },
  {
   "cell_type": "code",
   "execution_count": 113,
   "metadata": {},
   "outputs": [],
   "source": [
    "extra_dates = pd.date_range('2014-12-16', '2014-12-31', freq=pd.tseries.offsets.BDay()).tolist()"
   ]
  },
  {
   "cell_type": "markdown",
   "metadata": {},
   "source": [
    "#### Remove Christmas as a trade date"
   ]
  },
  {
   "cell_type": "code",
   "execution_count": 114,
   "metadata": {},
   "outputs": [
    {
     "data": {
      "text/plain": [
       "Timestamp('2014-12-25 00:00:00', freq='B')"
      ]
     },
     "execution_count": 114,
     "metadata": {},
     "output_type": "execute_result"
    }
   ],
   "source": [
    "extra_dates.pop(7)"
   ]
  },
  {
   "cell_type": "code",
   "execution_count": 115,
   "metadata": {},
   "outputs": [
    {
     "data": {
      "text/plain": [
       "[Timestamp('2014-12-16 00:00:00', freq='B'),\n",
       " Timestamp('2014-12-17 00:00:00', freq='B'),\n",
       " Timestamp('2014-12-18 00:00:00', freq='B'),\n",
       " Timestamp('2014-12-19 00:00:00', freq='B'),\n",
       " Timestamp('2014-12-22 00:00:00', freq='B'),\n",
       " Timestamp('2014-12-23 00:00:00', freq='B'),\n",
       " Timestamp('2014-12-24 00:00:00', freq='B'),\n",
       " Timestamp('2014-12-26 00:00:00', freq='B'),\n",
       " Timestamp('2014-12-29 00:00:00', freq='B'),\n",
       " Timestamp('2014-12-30 00:00:00', freq='B'),\n",
       " Timestamp('2014-12-31 00:00:00', freq='B')]"
      ]
     },
     "execution_count": 115,
     "metadata": {},
     "output_type": "execute_result"
    }
   ],
   "source": [
    "extra_dates"
   ]
  },
  {
   "cell_type": "markdown",
   "metadata": {},
   "source": [
    "#### Add 2nd additional set of trade dates to dataset (post-Dec 2016)"
   ]
  },
  {
   "cell_type": "code",
   "execution_count": 116,
   "metadata": {},
   "outputs": [],
   "source": [
    "extra_dates_2 = pd.date_range('2017-01-01', '2017-01-20', freq=pd.tseries.offsets.BDay()).tolist()"
   ]
  },
  {
   "cell_type": "markdown",
   "metadata": {},
   "source": [
    "#### Remove MLK Holiday as a trade date"
   ]
  },
  {
   "cell_type": "code",
   "execution_count": 117,
   "metadata": {},
   "outputs": [
    {
     "data": {
      "text/plain": [
       "Timestamp('2017-01-16 00:00:00', freq='B')"
      ]
     },
     "execution_count": 117,
     "metadata": {},
     "output_type": "execute_result"
    }
   ],
   "source": [
    "extra_dates_2.pop(10)"
   ]
  },
  {
   "cell_type": "code",
   "execution_count": 118,
   "metadata": {},
   "outputs": [
    {
     "data": {
      "text/plain": [
       "[Timestamp('2017-01-02 00:00:00', freq='B'),\n",
       " Timestamp('2017-01-03 00:00:00', freq='B'),\n",
       " Timestamp('2017-01-04 00:00:00', freq='B'),\n",
       " Timestamp('2017-01-05 00:00:00', freq='B'),\n",
       " Timestamp('2017-01-06 00:00:00', freq='B'),\n",
       " Timestamp('2017-01-09 00:00:00', freq='B'),\n",
       " Timestamp('2017-01-10 00:00:00', freq='B'),\n",
       " Timestamp('2017-01-11 00:00:00', freq='B'),\n",
       " Timestamp('2017-01-12 00:00:00', freq='B'),\n",
       " Timestamp('2017-01-13 00:00:00', freq='B'),\n",
       " Timestamp('2017-01-17 00:00:00', freq='B'),\n",
       " Timestamp('2017-01-18 00:00:00', freq='B'),\n",
       " Timestamp('2017-01-19 00:00:00', freq='B'),\n",
       " Timestamp('2017-01-20 00:00:00', freq='B')]"
      ]
     },
     "execution_count": 118,
     "metadata": {},
     "output_type": "execute_result"
    }
   ],
   "source": [
    "extra_dates_2"
   ]
  },
  {
   "cell_type": "markdown",
   "metadata": {},
   "source": [
    "#### Combine and sort additional trade dates"
   ]
  },
  {
   "cell_type": "code",
   "execution_count": 119,
   "metadata": {},
   "outputs": [],
   "source": [
    "trade_dates = np.append(trade_dates, extra_dates)"
   ]
  },
  {
   "cell_type": "code",
   "execution_count": 120,
   "metadata": {},
   "outputs": [],
   "source": [
    "trade_dates = np.append(trade_dates, extra_dates_2)"
   ]
  },
  {
   "cell_type": "code",
   "execution_count": 121,
   "metadata": {},
   "outputs": [],
   "source": [
    "trade_dates.sort()"
   ]
  },
  {
   "cell_type": "code",
   "execution_count": 123,
   "metadata": {},
   "outputs": [
    {
     "data": {
      "text/plain": [
       "518"
      ]
     },
     "execution_count": 123,
     "metadata": {},
     "output_type": "execute_result"
    }
   ],
   "source": [
    "len(trade_dates)"
   ]
  },
  {
   "cell_type": "code",
   "execution_count": 127,
   "metadata": {},
   "outputs": [
    {
     "data": {
      "text/plain": [
       "array([Timestamp('2016-12-22 00:00:00'), Timestamp('2016-12-23 00:00:00'),\n",
       "       Timestamp('2016-12-27 00:00:00'), Timestamp('2016-12-28 00:00:00'),\n",
       "       Timestamp('2016-12-29 00:00:00'), Timestamp('2016-12-30 00:00:00'),\n",
       "       Timestamp('2017-01-02 00:00:00', freq='B'),\n",
       "       Timestamp('2017-01-03 00:00:00', freq='B'),\n",
       "       Timestamp('2017-01-04 00:00:00', freq='B'),\n",
       "       Timestamp('2017-01-05 00:00:00', freq='B'),\n",
       "       Timestamp('2017-01-06 00:00:00', freq='B'),\n",
       "       Timestamp('2017-01-09 00:00:00', freq='B'),\n",
       "       Timestamp('2017-01-10 00:00:00', freq='B'),\n",
       "       Timestamp('2017-01-11 00:00:00', freq='B'),\n",
       "       Timestamp('2017-01-12 00:00:00', freq='B'),\n",
       "       Timestamp('2017-01-13 00:00:00', freq='B'),\n",
       "       Timestamp('2017-01-17 00:00:00', freq='B'),\n",
       "       Timestamp('2017-01-18 00:00:00', freq='B'),\n",
       "       Timestamp('2017-01-19 00:00:00', freq='B'),\n",
       "       Timestamp('2017-01-20 00:00:00', freq='B')], dtype=object)"
      ]
     },
     "execution_count": 127,
     "metadata": {},
     "output_type": "execute_result"
    }
   ],
   "source": [
    "#trade_dates[0:20]\n",
    "trade_dates[-20:]"
   ]
  },
  {
   "cell_type": "code",
   "execution_count": 128,
   "metadata": {},
   "outputs": [],
   "source": [
    "def find_vixOptions(df):\n",
    "    prev_term = expiration[expiration['vx1'] == df['VIX_Term1'].iloc[0]].index[0] - 1\n",
    "    term1 = df[df['exdate'] == df['VIX_Term1'].iloc[0]]\n",
    "    term2 = df[df['exdate'] == df['VIX_Term2'].iloc[0]]\n",
    "    #t1 = len(trade_dates[(trade_dates > df['TIMESTAMP'].iloc[0]) & ( trade_dates <= df['Term_1'].iloc[0] )])\n",
    "    ##t2 = len(trade_dates[(trade_dates > df['TIMESTAMP'].iloc[0]) & ( trade_dates <= df['Term_2'].iloc[0] )])\n",
    "    \n",
    "    # Calculate number of total trading dates between previous & current VIX expiration dates\n",
    "    tdates_per_expiry = len(trade_dates[(trade_dates >= expiration.iloc[prev_term]['vx1'])\\\n",
    "                                         & ( trade_dates < df['VIX_Term1'].iloc[0] )])\n",
    "    \n",
    "    # Calculate current timestamp & future VIX expirys out to the hour & minute \n",
    "    # This approach allows for a more continuous view of Time to Expiry (TTE)\n",
    "    partial_day = (df['TIMESTAMP'].iloc[0].hour + df['TIMESTAMP'].iloc[0].minute/60)/24 - 9.5/24\n",
    "    t1 = len(trade_dates[(trade_dates > df['TIMESTAMP'].iloc[0])\\\n",
    "                         & ( trade_dates <= df['VIX_Term1'].iloc[0] )]) - partial_day\n",
    "    t2 = len(trade_dates[(trade_dates >= expiration.iloc[prev_term]['vx1'])\\\n",
    "                         & (trade_dates < df['VIX_Term1'].iloc[0])]) - partial_day\n",
    "    \n",
    "    if term1.shape[0] == 0 or term2.shape[0] == 0:\n",
    "        return pd.Series([np.nan,np.nan,np.nan,np.nan,t1,t2,tdates_per_expiry], index=['VIX_Strike1','VIX_Strike2',\\\n",
    "                                                                    'VIX_Option1','VIX_Option2','t1','t2','trade_dates/expiry'])\n",
    "        \n",
    "    #print(df['date'].iloc[0])\n",
    "    strike_list1 = np.unique(term1['strike_price'])\n",
    "    #print(strike_list1)\n",
    "    mindelta1 = 5\n",
    "    for strikeIndx, strike in enumerate(strike_list1): \n",
    "        x = np.abs(term1[term1['strike_price'] == strike]['DELTA'].sum())\n",
    "        if x < mindelta1:\n",
    "            mindelta1 = x\n",
    "            minStrike1 = strike\n",
    "            \n",
    "    strike_list2 = np.unique(term2['strike_price'])\n",
    "    mindelta2 = 5\n",
    "    for strikeIndx, strike in enumerate(strike_list2): \n",
    "        x = np.abs(term2[term2['strike_price'] == strike]['DELTA'].sum())\n",
    "        if x < mindelta2:\n",
    "            mindelta2 = x\n",
    "            minStrike2 = strike\n",
    "            \n",
    "    avg1 = term1[term1['strike_price'] == minStrike1]['MID_VOL'].mean()\n",
    "    avg2 = term2[term2['strike_price'] == minStrike2]['MID_VOL'].mean()\n",
    "    \n",
    "    return pd.Series([minStrike1, minStrike2, avg1, avg2, t1, t2, tdates_per_expiry],\\\n",
    "                     index=['VIX_Strike1', 'VIX_Strike2','VIX_Option1', 'VIX_Option2','t1','t2','trade_dates/expiry']) "
   ]
  },
  {
   "cell_type": "markdown",
   "metadata": {},
   "source": [
    "#### Apply 'findOptions' function to vix_opt dataframe to determine correct ATM implied vol of VIX options for each timestamp"
   ]
  },
  {
   "cell_type": "code",
   "execution_count": 129,
   "metadata": {},
   "outputs": [],
   "source": [
    "vix_eod_vol = vix_intra_eod.groupby('TIMESTAMP').apply(find_vixOptions)"
   ]
  },
  {
   "cell_type": "code",
   "execution_count": 131,
   "metadata": {},
   "outputs": [
    {
     "data": {
      "text/html": [
       "<div>\n",
       "<style scoped>\n",
       "    .dataframe tbody tr th:only-of-type {\n",
       "        vertical-align: middle;\n",
       "    }\n",
       "\n",
       "    .dataframe tbody tr th {\n",
       "        vertical-align: top;\n",
       "    }\n",
       "\n",
       "    .dataframe thead th {\n",
       "        text-align: right;\n",
       "    }\n",
       "</style>\n",
       "<table border=\"1\" class=\"dataframe\">\n",
       "  <thead>\n",
       "    <tr style=\"text-align: right;\">\n",
       "      <th></th>\n",
       "      <th>VIX_Strike1</th>\n",
       "      <th>VIX_Strike2</th>\n",
       "      <th>VIX_Option1</th>\n",
       "      <th>VIX_Option2</th>\n",
       "      <th>t1</th>\n",
       "      <th>t2</th>\n",
       "      <th>trade_dates/expiry</th>\n",
       "    </tr>\n",
       "    <tr>\n",
       "      <th>TIMESTAMP</th>\n",
       "      <th></th>\n",
       "      <th></th>\n",
       "      <th></th>\n",
       "      <th></th>\n",
       "      <th></th>\n",
       "      <th></th>\n",
       "      <th></th>\n",
       "    </tr>\n",
       "  </thead>\n",
       "  <tbody>\n",
       "    <tr>\n",
       "      <th>2016-12-28 16:15:00</th>\n",
       "      <td>15.0</td>\n",
       "      <td>17.0</td>\n",
       "      <td>0.919200</td>\n",
       "      <td>0.872780</td>\n",
       "      <td>13.718750</td>\n",
       "      <td>17.718750</td>\n",
       "      <td>18.0</td>\n",
       "    </tr>\n",
       "    <tr>\n",
       "      <th>2016-12-29 16:10:00</th>\n",
       "      <td>16.0</td>\n",
       "      <td>17.0</td>\n",
       "      <td>0.986290</td>\n",
       "      <td>0.860325</td>\n",
       "      <td>12.722222</td>\n",
       "      <td>17.722222</td>\n",
       "      <td>18.0</td>\n",
       "    </tr>\n",
       "    <tr>\n",
       "      <th>2016-12-29 16:15:00</th>\n",
       "      <td>15.0</td>\n",
       "      <td>17.0</td>\n",
       "      <td>0.904865</td>\n",
       "      <td>0.870540</td>\n",
       "      <td>12.718750</td>\n",
       "      <td>17.718750</td>\n",
       "      <td>18.0</td>\n",
       "    </tr>\n",
       "    <tr>\n",
       "      <th>2016-12-30 16:10:00</th>\n",
       "      <td>16.0</td>\n",
       "      <td>17.0</td>\n",
       "      <td>1.012320</td>\n",
       "      <td>0.867175</td>\n",
       "      <td>11.722222</td>\n",
       "      <td>17.722222</td>\n",
       "      <td>18.0</td>\n",
       "    </tr>\n",
       "    <tr>\n",
       "      <th>2016-12-30 16:15:00</th>\n",
       "      <td>16.0</td>\n",
       "      <td>17.0</td>\n",
       "      <td>1.012445</td>\n",
       "      <td>0.867220</td>\n",
       "      <td>11.718750</td>\n",
       "      <td>17.718750</td>\n",
       "      <td>18.0</td>\n",
       "    </tr>\n",
       "  </tbody>\n",
       "</table>\n",
       "</div>"
      ],
      "text/plain": [
       "                     VIX_Strike1  VIX_Strike2  VIX_Option1  VIX_Option2  \\\n",
       "TIMESTAMP                                                                 \n",
       "2016-12-28 16:15:00         15.0         17.0     0.919200     0.872780   \n",
       "2016-12-29 16:10:00         16.0         17.0     0.986290     0.860325   \n",
       "2016-12-29 16:15:00         15.0         17.0     0.904865     0.870540   \n",
       "2016-12-30 16:10:00         16.0         17.0     1.012320     0.867175   \n",
       "2016-12-30 16:15:00         16.0         17.0     1.012445     0.867220   \n",
       "\n",
       "                            t1         t2  trade_dates/expiry  \n",
       "TIMESTAMP                                                      \n",
       "2016-12-28 16:15:00  13.718750  17.718750                18.0  \n",
       "2016-12-29 16:10:00  12.722222  17.722222                18.0  \n",
       "2016-12-29 16:15:00  12.718750  17.718750                18.0  \n",
       "2016-12-30 16:10:00  11.722222  17.722222                18.0  \n",
       "2016-12-30 16:15:00  11.718750  17.718750                18.0  "
      ]
     },
     "execution_count": 131,
     "metadata": {},
     "output_type": "execute_result"
    }
   ],
   "source": [
    "vix_eod_vol.tail()"
   ]
  },
  {
   "cell_type": "markdown",
   "metadata": {},
   "source": [
    "#### Calculate Time-Weighted average of implied vol between 1st & 2nd VIX options contracts"
   ]
  },
  {
   "cell_type": "code",
   "execution_count": 132,
   "metadata": {},
   "outputs": [],
   "source": [
    "vix_eod_vol['Weight_Opt'] = (vix_eod_vol['VIX_Option1']*(vix_eod_vol['t1']/vix_eod_vol['trade_dates/expiry'])) + \\\n",
    "                        (vix_eod_vol['VIX_Option2']*(1-(vix_eod_vol['t1']/vix_eod_vol['trade_dates/expiry'])))"
   ]
  },
  {
   "cell_type": "code",
   "execution_count": 133,
   "metadata": {},
   "outputs": [
    {
     "data": {
      "text/html": [
       "<div>\n",
       "<style scoped>\n",
       "    .dataframe tbody tr th:only-of-type {\n",
       "        vertical-align: middle;\n",
       "    }\n",
       "\n",
       "    .dataframe tbody tr th {\n",
       "        vertical-align: top;\n",
       "    }\n",
       "\n",
       "    .dataframe thead th {\n",
       "        text-align: right;\n",
       "    }\n",
       "</style>\n",
       "<table border=\"1\" class=\"dataframe\">\n",
       "  <thead>\n",
       "    <tr style=\"text-align: right;\">\n",
       "      <th></th>\n",
       "      <th>VIX_Strike1</th>\n",
       "      <th>VIX_Strike2</th>\n",
       "      <th>VIX_Option1</th>\n",
       "      <th>VIX_Option2</th>\n",
       "      <th>t1</th>\n",
       "      <th>t2</th>\n",
       "      <th>trade_dates/expiry</th>\n",
       "      <th>Weight_Opt</th>\n",
       "    </tr>\n",
       "    <tr>\n",
       "      <th>TIMESTAMP</th>\n",
       "      <th></th>\n",
       "      <th></th>\n",
       "      <th></th>\n",
       "      <th></th>\n",
       "      <th></th>\n",
       "      <th></th>\n",
       "      <th></th>\n",
       "      <th></th>\n",
       "    </tr>\n",
       "  </thead>\n",
       "  <tbody>\n",
       "    <tr>\n",
       "      <th>2015-01-02 16:10:00</th>\n",
       "      <td>19.0</td>\n",
       "      <td>20.0</td>\n",
       "      <td>1.349465</td>\n",
       "      <td>1.094165</td>\n",
       "      <td>11.722222</td>\n",
       "      <td>21.722222</td>\n",
       "      <td>22.0</td>\n",
       "      <td>1.230196</td>\n",
       "    </tr>\n",
       "    <tr>\n",
       "      <th>2015-01-02 16:15:00</th>\n",
       "      <td>19.0</td>\n",
       "      <td>20.0</td>\n",
       "      <td>1.343440</td>\n",
       "      <td>1.085335</td>\n",
       "      <td>11.718750</td>\n",
       "      <td>21.718750</td>\n",
       "      <td>22.0</td>\n",
       "      <td>1.222820</td>\n",
       "    </tr>\n",
       "    <tr>\n",
       "      <th>2015-01-05 16:10:00</th>\n",
       "      <td>20.0</td>\n",
       "      <td>21.0</td>\n",
       "      <td>1.542750</td>\n",
       "      <td>1.192500</td>\n",
       "      <td>10.722222</td>\n",
       "      <td>21.722222</td>\n",
       "      <td>22.0</td>\n",
       "      <td>1.363203</td>\n",
       "    </tr>\n",
       "    <tr>\n",
       "      <th>2015-01-05 16:15:00</th>\n",
       "      <td>20.0</td>\n",
       "      <td>21.0</td>\n",
       "      <td>1.550630</td>\n",
       "      <td>1.192595</td>\n",
       "      <td>10.718750</td>\n",
       "      <td>21.718750</td>\n",
       "      <td>22.0</td>\n",
       "      <td>1.367035</td>\n",
       "    </tr>\n",
       "    <tr>\n",
       "      <th>2015-01-06 16:10:00</th>\n",
       "      <td>21.0</td>\n",
       "      <td>21.0</td>\n",
       "      <td>1.538645</td>\n",
       "      <td>1.153830</td>\n",
       "      <td>9.722222</td>\n",
       "      <td>21.722222</td>\n",
       "      <td>22.0</td>\n",
       "      <td>1.323887</td>\n",
       "    </tr>\n",
       "  </tbody>\n",
       "</table>\n",
       "</div>"
      ],
      "text/plain": [
       "                     VIX_Strike1  VIX_Strike2  VIX_Option1  VIX_Option2  \\\n",
       "TIMESTAMP                                                                 \n",
       "2015-01-02 16:10:00         19.0         20.0     1.349465     1.094165   \n",
       "2015-01-02 16:15:00         19.0         20.0     1.343440     1.085335   \n",
       "2015-01-05 16:10:00         20.0         21.0     1.542750     1.192500   \n",
       "2015-01-05 16:15:00         20.0         21.0     1.550630     1.192595   \n",
       "2015-01-06 16:10:00         21.0         21.0     1.538645     1.153830   \n",
       "\n",
       "                            t1         t2  trade_dates/expiry  Weight_Opt  \n",
       "TIMESTAMP                                                                  \n",
       "2015-01-02 16:10:00  11.722222  21.722222                22.0    1.230196  \n",
       "2015-01-02 16:15:00  11.718750  21.718750                22.0    1.222820  \n",
       "2015-01-05 16:10:00  10.722222  21.722222                22.0    1.363203  \n",
       "2015-01-05 16:15:00  10.718750  21.718750                22.0    1.367035  \n",
       "2015-01-06 16:10:00   9.722222  21.722222                22.0    1.323887  "
      ]
     },
     "execution_count": 133,
     "metadata": {},
     "output_type": "execute_result"
    }
   ],
   "source": [
    "vix_eod_vol.head()"
   ]
  },
  {
   "cell_type": "markdown",
   "metadata": {},
   "source": [
    "#### Check for any Null values (NaNs)"
   ]
  },
  {
   "cell_type": "code",
   "execution_count": 134,
   "metadata": {},
   "outputs": [
    {
     "data": {
      "text/plain": [
       "VIX_Strike1           1\n",
       "VIX_Strike2           1\n",
       "VIX_Option1           1\n",
       "VIX_Option2           1\n",
       "t1                    0\n",
       "t2                    0\n",
       "trade_dates/expiry    0\n",
       "Weight_Opt            1\n",
       "dtype: int64"
      ]
     },
     "execution_count": 134,
     "metadata": {},
     "output_type": "execute_result"
    }
   ],
   "source": [
    "vix_eod_vol.isna().sum()"
   ]
  },
  {
   "cell_type": "code",
   "execution_count": 135,
   "metadata": {},
   "outputs": [
    {
     "data": {
      "text/html": [
       "<div>\n",
       "<style scoped>\n",
       "    .dataframe tbody tr th:only-of-type {\n",
       "        vertical-align: middle;\n",
       "    }\n",
       "\n",
       "    .dataframe tbody tr th {\n",
       "        vertical-align: top;\n",
       "    }\n",
       "\n",
       "    .dataframe thead th {\n",
       "        text-align: right;\n",
       "    }\n",
       "</style>\n",
       "<table border=\"1\" class=\"dataframe\">\n",
       "  <thead>\n",
       "    <tr style=\"text-align: right;\">\n",
       "      <th></th>\n",
       "      <th>VIX_Strike1</th>\n",
       "      <th>VIX_Strike2</th>\n",
       "      <th>VIX_Option1</th>\n",
       "      <th>VIX_Option2</th>\n",
       "      <th>t1</th>\n",
       "      <th>t2</th>\n",
       "      <th>trade_dates/expiry</th>\n",
       "      <th>Weight_Opt</th>\n",
       "    </tr>\n",
       "    <tr>\n",
       "      <th>TIMESTAMP</th>\n",
       "      <th></th>\n",
       "      <th></th>\n",
       "      <th></th>\n",
       "      <th></th>\n",
       "      <th></th>\n",
       "      <th></th>\n",
       "      <th></th>\n",
       "      <th></th>\n",
       "    </tr>\n",
       "  </thead>\n",
       "  <tbody>\n",
       "    <tr>\n",
       "      <th>2015-02-13 16:10:00</th>\n",
       "      <td>NaN</td>\n",
       "      <td>NaN</td>\n",
       "      <td>NaN</td>\n",
       "      <td>NaN</td>\n",
       "      <td>1.722222</td>\n",
       "      <td>18.722222</td>\n",
       "      <td>19.0</td>\n",
       "      <td>NaN</td>\n",
       "    </tr>\n",
       "  </tbody>\n",
       "</table>\n",
       "</div>"
      ],
      "text/plain": [
       "                     VIX_Strike1  VIX_Strike2  VIX_Option1  VIX_Option2  \\\n",
       "TIMESTAMP                                                                 \n",
       "2015-02-13 16:10:00          NaN          NaN          NaN          NaN   \n",
       "\n",
       "                           t1         t2  trade_dates/expiry  Weight_Opt  \n",
       "TIMESTAMP                                                                 \n",
       "2015-02-13 16:10:00  1.722222  18.722222                19.0         NaN  "
      ]
     },
     "execution_count": 135,
     "metadata": {},
     "output_type": "execute_result"
    }
   ],
   "source": [
    "vix_eod_vol[vix_eod_vol['VIX_Strike1'].isna()]"
   ]
  },
  {
   "cell_type": "code",
   "execution_count": 136,
   "metadata": {},
   "outputs": [],
   "source": [
    "vix_eod_vol = vix_eod_vol[~vix_eod_vol['VIX_Strike1'].isna()]"
   ]
  },
  {
   "cell_type": "markdown",
   "metadata": {},
   "source": [
    "#### Save/Retrieve vix_vol dataframe to/from pickle file "
   ]
  },
  {
   "cell_type": "code",
   "execution_count": 137,
   "metadata": {},
   "outputs": [],
   "source": [
    "vix_eod_vol.to_pickle(pickle_filepath + r'\\vix_eod_vol_2terms.pkl')"
   ]
  },
  {
   "cell_type": "markdown",
   "metadata": {},
   "source": [
    " "
   ]
  },
  {
   "cell_type": "markdown",
   "metadata": {},
   "source": [
    "### Finish parsing SPX Cash Data"
   ]
  },
  {
   "cell_type": "code",
   "execution_count": 9,
   "metadata": {},
   "outputs": [],
   "source": [
    "spx_cash_eod = spx_intra_eod[['TIMESTAMP', 'UPRICE_BID', 'UPRICE_ASK']].copy()"
   ]
  },
  {
   "cell_type": "code",
   "execution_count": 10,
   "metadata": {},
   "outputs": [
    {
     "data": {
      "text/html": [
       "<div>\n",
       "<style scoped>\n",
       "    .dataframe tbody tr th:only-of-type {\n",
       "        vertical-align: middle;\n",
       "    }\n",
       "\n",
       "    .dataframe tbody tr th {\n",
       "        vertical-align: top;\n",
       "    }\n",
       "\n",
       "    .dataframe thead th {\n",
       "        text-align: right;\n",
       "    }\n",
       "</style>\n",
       "<table border=\"1\" class=\"dataframe\">\n",
       "  <thead>\n",
       "    <tr style=\"text-align: right;\">\n",
       "      <th></th>\n",
       "      <th>TIMESTAMP</th>\n",
       "      <th>UPRICE_BID</th>\n",
       "      <th>UPRICE_ASK</th>\n",
       "    </tr>\n",
       "  </thead>\n",
       "  <tbody>\n",
       "    <tr>\n",
       "      <th>70</th>\n",
       "      <td>2015-01-02 16:10:00</td>\n",
       "      <td>2058.19995</td>\n",
       "      <td>2058.19995</td>\n",
       "    </tr>\n",
       "    <tr>\n",
       "      <th>71</th>\n",
       "      <td>2015-01-02 16:15:00</td>\n",
       "      <td>2058.19995</td>\n",
       "      <td>2058.19995</td>\n",
       "    </tr>\n",
       "    <tr>\n",
       "      <th>72</th>\n",
       "      <td>2015-01-02 16:10:00</td>\n",
       "      <td>2058.19995</td>\n",
       "      <td>2058.19995</td>\n",
       "    </tr>\n",
       "    <tr>\n",
       "      <th>73</th>\n",
       "      <td>2015-01-02 16:15:00</td>\n",
       "      <td>2058.19995</td>\n",
       "      <td>2058.19995</td>\n",
       "    </tr>\n",
       "    <tr>\n",
       "      <th>74</th>\n",
       "      <td>2015-01-02 16:10:00</td>\n",
       "      <td>2058.19995</td>\n",
       "      <td>2058.19995</td>\n",
       "    </tr>\n",
       "  </tbody>\n",
       "</table>\n",
       "</div>"
      ],
      "text/plain": [
       "             TIMESTAMP  UPRICE_BID  UPRICE_ASK\n",
       "70 2015-01-02 16:10:00  2058.19995  2058.19995\n",
       "71 2015-01-02 16:15:00  2058.19995  2058.19995\n",
       "72 2015-01-02 16:10:00  2058.19995  2058.19995\n",
       "73 2015-01-02 16:15:00  2058.19995  2058.19995\n",
       "74 2015-01-02 16:10:00  2058.19995  2058.19995"
      ]
     },
     "execution_count": 10,
     "metadata": {},
     "output_type": "execute_result"
    }
   ],
   "source": [
    "spx_cash_eod.head()"
   ]
  },
  {
   "cell_type": "code",
   "execution_count": 11,
   "metadata": {},
   "outputs": [
    {
     "data": {
      "text/plain": [
       "133288"
      ]
     },
     "execution_count": 11,
     "metadata": {},
     "output_type": "execute_result"
    }
   ],
   "source": [
    "len(spx_cash_eod)"
   ]
  },
  {
   "cell_type": "code",
   "execution_count": 12,
   "metadata": {},
   "outputs": [],
   "source": [
    "spx_cash_eod = spx_cash_eod.drop_duplicates(subset=['TIMESTAMP'])"
   ]
  },
  {
   "cell_type": "code",
   "execution_count": 13,
   "metadata": {},
   "outputs": [
    {
     "data": {
      "text/plain": [
       "986"
      ]
     },
     "execution_count": 13,
     "metadata": {},
     "output_type": "execute_result"
    }
   ],
   "source": [
    "len(spx_cash_eod)"
   ]
  },
  {
   "cell_type": "code",
   "execution_count": 14,
   "metadata": {},
   "outputs": [],
   "source": [
    "spx_cash_eod.sort_values(by =['TIMESTAMP'], inplace = True)"
   ]
  },
  {
   "cell_type": "code",
   "execution_count": 15,
   "metadata": {},
   "outputs": [],
   "source": [
    "spx_cash_eod['UPRICE_MID'] = (spx_cash_eod['UPRICE_BID'] + spx_cash_eod['UPRICE_ASK']) / 2"
   ]
  },
  {
   "cell_type": "code",
   "execution_count": 16,
   "metadata": {},
   "outputs": [
    {
     "data": {
      "text/html": [
       "<div>\n",
       "<style scoped>\n",
       "    .dataframe tbody tr th:only-of-type {\n",
       "        vertical-align: middle;\n",
       "    }\n",
       "\n",
       "    .dataframe tbody tr th {\n",
       "        vertical-align: top;\n",
       "    }\n",
       "\n",
       "    .dataframe thead th {\n",
       "        text-align: right;\n",
       "    }\n",
       "</style>\n",
       "<table border=\"1\" class=\"dataframe\">\n",
       "  <thead>\n",
       "    <tr style=\"text-align: right;\">\n",
       "      <th></th>\n",
       "      <th>TIMESTAMP</th>\n",
       "      <th>UPRICE_BID</th>\n",
       "      <th>UPRICE_ASK</th>\n",
       "      <th>UPRICE_MID</th>\n",
       "    </tr>\n",
       "  </thead>\n",
       "  <tbody>\n",
       "    <tr>\n",
       "      <th>529167</th>\n",
       "      <td>2016-12-28 16:15:00</td>\n",
       "      <td>2249.91992</td>\n",
       "      <td>2249.91992</td>\n",
       "      <td>2249.91992</td>\n",
       "    </tr>\n",
       "    <tr>\n",
       "      <th>530364</th>\n",
       "      <td>2016-12-29 16:10:00</td>\n",
       "      <td>2249.26001</td>\n",
       "      <td>2249.26001</td>\n",
       "      <td>2249.26001</td>\n",
       "    </tr>\n",
       "    <tr>\n",
       "      <th>530367</th>\n",
       "      <td>2016-12-29 16:15:00</td>\n",
       "      <td>2249.26001</td>\n",
       "      <td>2249.26001</td>\n",
       "      <td>2249.26001</td>\n",
       "    </tr>\n",
       "    <tr>\n",
       "      <th>531556</th>\n",
       "      <td>2016-12-30 16:10:00</td>\n",
       "      <td>2238.83008</td>\n",
       "      <td>2238.83008</td>\n",
       "      <td>2238.83008</td>\n",
       "    </tr>\n",
       "    <tr>\n",
       "      <th>531557</th>\n",
       "      <td>2016-12-30 16:15:00</td>\n",
       "      <td>2238.83008</td>\n",
       "      <td>2238.83008</td>\n",
       "      <td>2238.83008</td>\n",
       "    </tr>\n",
       "  </tbody>\n",
       "</table>\n",
       "</div>"
      ],
      "text/plain": [
       "                 TIMESTAMP  UPRICE_BID  UPRICE_ASK  UPRICE_MID\n",
       "529167 2016-12-28 16:15:00  2249.91992  2249.91992  2249.91992\n",
       "530364 2016-12-29 16:10:00  2249.26001  2249.26001  2249.26001\n",
       "530367 2016-12-29 16:15:00  2249.26001  2249.26001  2249.26001\n",
       "531556 2016-12-30 16:10:00  2238.83008  2238.83008  2238.83008\n",
       "531557 2016-12-30 16:15:00  2238.83008  2238.83008  2238.83008"
      ]
     },
     "execution_count": 16,
     "metadata": {},
     "output_type": "execute_result"
    }
   ],
   "source": [
    "spx_cash_eod.tail()"
   ]
  },
  {
   "cell_type": "code",
   "execution_count": 17,
   "metadata": {},
   "outputs": [],
   "source": [
    "spx_cash_eod.set_index('TIMESTAMP', inplace=True)"
   ]
  },
  {
   "cell_type": "code",
   "execution_count": 19,
   "metadata": {},
   "outputs": [
    {
     "data": {
      "text/html": [
       "<div>\n",
       "<style scoped>\n",
       "    .dataframe tbody tr th:only-of-type {\n",
       "        vertical-align: middle;\n",
       "    }\n",
       "\n",
       "    .dataframe tbody tr th {\n",
       "        vertical-align: top;\n",
       "    }\n",
       "\n",
       "    .dataframe thead th {\n",
       "        text-align: right;\n",
       "    }\n",
       "</style>\n",
       "<table border=\"1\" class=\"dataframe\">\n",
       "  <thead>\n",
       "    <tr style=\"text-align: right;\">\n",
       "      <th></th>\n",
       "      <th>UPRICE_BID</th>\n",
       "      <th>UPRICE_ASK</th>\n",
       "      <th>UPRICE_MID</th>\n",
       "    </tr>\n",
       "    <tr>\n",
       "      <th>TIMESTAMP</th>\n",
       "      <th></th>\n",
       "      <th></th>\n",
       "      <th></th>\n",
       "    </tr>\n",
       "  </thead>\n",
       "  <tbody>\n",
       "    <tr>\n",
       "      <th>2016-12-28 16:15:00</th>\n",
       "      <td>2249.91992</td>\n",
       "      <td>2249.91992</td>\n",
       "      <td>2249.91992</td>\n",
       "    </tr>\n",
       "    <tr>\n",
       "      <th>2016-12-29 16:10:00</th>\n",
       "      <td>2249.26001</td>\n",
       "      <td>2249.26001</td>\n",
       "      <td>2249.26001</td>\n",
       "    </tr>\n",
       "    <tr>\n",
       "      <th>2016-12-29 16:15:00</th>\n",
       "      <td>2249.26001</td>\n",
       "      <td>2249.26001</td>\n",
       "      <td>2249.26001</td>\n",
       "    </tr>\n",
       "    <tr>\n",
       "      <th>2016-12-30 16:10:00</th>\n",
       "      <td>2238.83008</td>\n",
       "      <td>2238.83008</td>\n",
       "      <td>2238.83008</td>\n",
       "    </tr>\n",
       "    <tr>\n",
       "      <th>2016-12-30 16:15:00</th>\n",
       "      <td>2238.83008</td>\n",
       "      <td>2238.83008</td>\n",
       "      <td>2238.83008</td>\n",
       "    </tr>\n",
       "  </tbody>\n",
       "</table>\n",
       "</div>"
      ],
      "text/plain": [
       "                     UPRICE_BID  UPRICE_ASK  UPRICE_MID\n",
       "TIMESTAMP                                              \n",
       "2016-12-28 16:15:00  2249.91992  2249.91992  2249.91992\n",
       "2016-12-29 16:10:00  2249.26001  2249.26001  2249.26001\n",
       "2016-12-29 16:15:00  2249.26001  2249.26001  2249.26001\n",
       "2016-12-30 16:10:00  2238.83008  2238.83008  2238.83008\n",
       "2016-12-30 16:15:00  2238.83008  2238.83008  2238.83008"
      ]
     },
     "execution_count": 19,
     "metadata": {},
     "output_type": "execute_result"
    }
   ],
   "source": [
    "spx_cash_eod.tail()"
   ]
  },
  {
   "cell_type": "markdown",
   "metadata": {},
   "source": [
    "#### Save final intraday SPX Price Returns dataset to pickle "
   ]
  },
  {
   "cell_type": "code",
   "execution_count": 18,
   "metadata": {},
   "outputs": [],
   "source": [
    "spx_cash_eod.to_pickle(pickle_filepath + r'\\spx_returns_eod.pkl')"
   ]
  },
  {
   "cell_type": "code",
   "execution_count": null,
   "metadata": {},
   "outputs": [],
   "source": []
  }
 ],
 "metadata": {
  "kernelspec": {
   "display_name": "Python 3",
   "language": "python",
   "name": "python3"
  },
  "language_info": {
   "codemirror_mode": {
    "name": "ipython",
    "version": 3
   },
   "file_extension": ".py",
   "mimetype": "text/x-python",
   "name": "python",
   "nbconvert_exporter": "python",
   "pygments_lexer": "ipython3",
   "version": "3.6.3"
  }
 },
 "nbformat": 4,
 "nbformat_minor": 2
}
