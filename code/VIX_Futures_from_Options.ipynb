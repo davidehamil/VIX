{
 "cells": [
  {
   "cell_type": "markdown",
   "metadata": {},
   "source": [
    "### Calculate Time Series for Lead VIX Futures price from VIX Options data file"
   ]
  },
  {
   "cell_type": "code",
   "execution_count": 1,
   "metadata": {},
   "outputs": [],
   "source": [
    "import os\n",
    "import numpy as np\n",
    "import pandas as pd\n",
    "from datetime import datetime"
   ]
  },
  {
   "cell_type": "code",
   "execution_count": 2,
   "metadata": {},
   "outputs": [],
   "source": [
    "intra_filepath = os.getcwd() + r'\\Data\\Intraday'"
   ]
  },
  {
   "cell_type": "markdown",
   "metadata": {},
   "source": [
    "### Import VIX Options data file into a pandas dataframe"
   ]
  },
  {
   "cell_type": "code",
   "execution_count": 33,
   "metadata": {},
   "outputs": [
    {
     "data": {
      "text/html": [
       "<div>\n",
       "<style scoped>\n",
       "    .dataframe tbody tr th:only-of-type {\n",
       "        vertical-align: middle;\n",
       "    }\n",
       "\n",
       "    .dataframe tbody tr th {\n",
       "        vertical-align: top;\n",
       "    }\n",
       "\n",
       "    .dataframe thead th {\n",
       "        text-align: right;\n",
       "    }\n",
       "</style>\n",
       "<table border=\"1\" class=\"dataframe\">\n",
       "  <thead>\n",
       "    <tr style=\"text-align: right;\">\n",
       "      <th></th>\n",
       "      <th>SYMBOL</th>\n",
       "      <th>TIMESTAMP</th>\n",
       "      <th>UPRICE_BID</th>\n",
       "      <th>UPRICE_ASK</th>\n",
       "      <th>FWD_PRICE</th>\n",
       "    </tr>\n",
       "  </thead>\n",
       "  <tbody>\n",
       "    <tr>\n",
       "      <th>0</th>\n",
       "      <td>VIX   150121P00014000</td>\n",
       "      <td>2015-01-02 09:30:00</td>\n",
       "      <td>0.00</td>\n",
       "      <td>0.00</td>\n",
       "      <td>0.000</td>\n",
       "    </tr>\n",
       "    <tr>\n",
       "      <th>1</th>\n",
       "      <td>VIX   150121P00014000</td>\n",
       "      <td>2015-01-02 09:40:00</td>\n",
       "      <td>17.15</td>\n",
       "      <td>17.20</td>\n",
       "      <td>17.175</td>\n",
       "    </tr>\n",
       "    <tr>\n",
       "      <th>2</th>\n",
       "      <td>VIX   150121P00014000</td>\n",
       "      <td>2015-01-02 09:50:00</td>\n",
       "      <td>17.25</td>\n",
       "      <td>17.30</td>\n",
       "      <td>17.275</td>\n",
       "    </tr>\n",
       "    <tr>\n",
       "      <th>3</th>\n",
       "      <td>VIX   150121P00014000</td>\n",
       "      <td>2015-01-02 10:00:00</td>\n",
       "      <td>17.35</td>\n",
       "      <td>17.40</td>\n",
       "      <td>17.375</td>\n",
       "    </tr>\n",
       "    <tr>\n",
       "      <th>4</th>\n",
       "      <td>VIX   150121P00014000</td>\n",
       "      <td>2015-01-02 10:10:00</td>\n",
       "      <td>17.70</td>\n",
       "      <td>17.75</td>\n",
       "      <td>17.725</td>\n",
       "    </tr>\n",
       "  </tbody>\n",
       "</table>\n",
       "</div>"
      ],
      "text/plain": [
       "                  SYMBOL           TIMESTAMP  UPRICE_BID  UPRICE_ASK  \\\n",
       "0  VIX   150121P00014000 2015-01-02 09:30:00        0.00        0.00   \n",
       "1  VIX   150121P00014000 2015-01-02 09:40:00       17.15       17.20   \n",
       "2  VIX   150121P00014000 2015-01-02 09:50:00       17.25       17.30   \n",
       "3  VIX   150121P00014000 2015-01-02 10:00:00       17.35       17.40   \n",
       "4  VIX   150121P00014000 2015-01-02 10:10:00       17.70       17.75   \n",
       "\n",
       "   FWD_PRICE  \n",
       "0      0.000  \n",
       "1     17.175  \n",
       "2     17.275  \n",
       "3     17.375  \n",
       "4     17.725  "
      ]
     },
     "execution_count": 33,
     "metadata": {},
     "output_type": "execute_result"
    }
   ],
   "source": [
    "intra = pd.read_csv(intra_filepath + r'\\vixsnaps.csv', parse_dates=['TIMESTAMP'], \\\n",
    "                     date_parser = lambda x: datetime.strptime(x,'%Y-%m-%d %H:%M:%S'), \n",
    "                     usecols = ['SYMBOL', 'TIMESTAMP', 'UPRICE_BID', 'UPRICE_ASK', 'FWD_PRICE'])\n",
    "intra.head()"
   ]
  },
  {
   "cell_type": "markdown",
   "metadata": {},
   "source": [
    "#### Drop duplicate timestamp records"
   ]
  },
  {
   "cell_type": "code",
   "execution_count": 36,
   "metadata": {},
   "outputs": [
    {
     "data": {
      "text/plain": [
       "(19840, 5)"
      ]
     },
     "execution_count": 36,
     "metadata": {},
     "output_type": "execute_result"
    }
   ],
   "source": [
    "intra = intra.drop_duplicates(subset=['TIMESTAMP'])\n",
    "intra.shape"
   ]
  },
  {
   "cell_type": "markdown",
   "metadata": {},
   "source": [
    "#### Set timestamp as dataframe index"
   ]
  },
  {
   "cell_type": "code",
   "execution_count": 37,
   "metadata": {},
   "outputs": [
    {
     "data": {
      "text/html": [
       "<div>\n",
       "<style scoped>\n",
       "    .dataframe tbody tr th:only-of-type {\n",
       "        vertical-align: middle;\n",
       "    }\n",
       "\n",
       "    .dataframe tbody tr th {\n",
       "        vertical-align: top;\n",
       "    }\n",
       "\n",
       "    .dataframe thead th {\n",
       "        text-align: right;\n",
       "    }\n",
       "</style>\n",
       "<table border=\"1\" class=\"dataframe\">\n",
       "  <thead>\n",
       "    <tr style=\"text-align: right;\">\n",
       "      <th></th>\n",
       "      <th>SYMBOL</th>\n",
       "      <th>UPRICE_BID</th>\n",
       "      <th>UPRICE_ASK</th>\n",
       "      <th>FWD_PRICE</th>\n",
       "    </tr>\n",
       "    <tr>\n",
       "      <th>TIMESTAMP</th>\n",
       "      <th></th>\n",
       "      <th></th>\n",
       "      <th></th>\n",
       "      <th></th>\n",
       "    </tr>\n",
       "  </thead>\n",
       "  <tbody>\n",
       "    <tr>\n",
       "      <th>2015-01-02 09:30:00</th>\n",
       "      <td>VIX   150121P00014000</td>\n",
       "      <td>0.00</td>\n",
       "      <td>0.00</td>\n",
       "      <td>0.000</td>\n",
       "    </tr>\n",
       "    <tr>\n",
       "      <th>2015-01-02 09:40:00</th>\n",
       "      <td>VIX   150121P00014000</td>\n",
       "      <td>17.15</td>\n",
       "      <td>17.20</td>\n",
       "      <td>17.175</td>\n",
       "    </tr>\n",
       "    <tr>\n",
       "      <th>2015-01-02 09:50:00</th>\n",
       "      <td>VIX   150121P00014000</td>\n",
       "      <td>17.25</td>\n",
       "      <td>17.30</td>\n",
       "      <td>17.275</td>\n",
       "    </tr>\n",
       "    <tr>\n",
       "      <th>2015-01-02 10:00:00</th>\n",
       "      <td>VIX   150121P00014000</td>\n",
       "      <td>17.35</td>\n",
       "      <td>17.40</td>\n",
       "      <td>17.375</td>\n",
       "    </tr>\n",
       "    <tr>\n",
       "      <th>2015-01-02 10:10:00</th>\n",
       "      <td>VIX   150121P00014000</td>\n",
       "      <td>17.70</td>\n",
       "      <td>17.75</td>\n",
       "      <td>17.725</td>\n",
       "    </tr>\n",
       "  </tbody>\n",
       "</table>\n",
       "</div>"
      ],
      "text/plain": [
       "                                    SYMBOL  UPRICE_BID  UPRICE_ASK  FWD_PRICE\n",
       "TIMESTAMP                                                                    \n",
       "2015-01-02 09:30:00  VIX   150121P00014000        0.00        0.00      0.000\n",
       "2015-01-02 09:40:00  VIX   150121P00014000       17.15       17.20     17.175\n",
       "2015-01-02 09:50:00  VIX   150121P00014000       17.25       17.30     17.275\n",
       "2015-01-02 10:00:00  VIX   150121P00014000       17.35       17.40     17.375\n",
       "2015-01-02 10:10:00  VIX   150121P00014000       17.70       17.75     17.725"
      ]
     },
     "execution_count": 37,
     "metadata": {},
     "output_type": "execute_result"
    }
   ],
   "source": [
    "intra.set_index('TIMESTAMP', inplace=True)\n",
    "intra.head()"
   ]
  },
  {
   "cell_type": "markdown",
   "metadata": {},
   "source": [
    "#### Save cleaned dataframe to pickle file"
   ]
  },
  {
   "cell_type": "code",
   "execution_count": 38,
   "metadata": {},
   "outputs": [
    {
     "data": {
      "text/plain": [
       "(19840, 4)"
      ]
     },
     "execution_count": 38,
     "metadata": {},
     "output_type": "execute_result"
    }
   ],
   "source": [
    "intra.shape"
   ]
  },
  {
   "cell_type": "code",
   "execution_count": 39,
   "metadata": {},
   "outputs": [],
   "source": [
    "intra.to_pickle(intra_filepath + r'\\Pickle\\vix_intra.pkl')"
   ]
  },
  {
   "cell_type": "code",
   "execution_count": null,
   "metadata": {},
   "outputs": [],
   "source": []
  }
 ],
 "metadata": {
  "kernelspec": {
   "display_name": "Python 3",
   "language": "python",
   "name": "python3"
  },
  "language_info": {
   "codemirror_mode": {
    "name": "ipython",
    "version": 3
   },
   "file_extension": ".py",
   "mimetype": "text/x-python",
   "name": "python",
   "nbconvert_exporter": "python",
   "pygments_lexer": "ipython3",
   "version": "3.6.3"
  }
 },
 "nbformat": 4,
 "nbformat_minor": 2
}
