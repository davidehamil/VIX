{
 "cells": [
  {
   "cell_type": "markdown",
   "metadata": {},
   "source": [
    "### Load Historical SPX Index Prices via .csv files provided by Hanweck, Clean & Process Data  "
   ]
  },
  {
   "cell_type": "code",
   "execution_count": 1,
   "metadata": {},
   "outputs": [],
   "source": [
    "import os\n",
    "import numpy as np\n",
    "import pandas as pd\n",
    "import pickle\n",
    "from datetime import datetime"
   ]
  },
  {
   "cell_type": "code",
   "execution_count": 2,
   "metadata": {},
   "outputs": [],
   "source": [
    "intra_filepath = os.getcwd() + r'\\Data\\Intraday'"
   ]
  },
  {
   "cell_type": "code",
   "execution_count": 3,
   "metadata": {},
   "outputs": [
    {
     "data": {
      "text/plain": [
       "array(['SPX with vols greeks hamilton 2015.csv',\n",
       "       'SPX with vols greeks hamilton 201601 - 201603.csv',\n",
       "       'SPX with vols greeks hamilton 201604 - 201612.csv'], \n",
       "      dtype='<U49')"
      ]
     },
     "execution_count": 3,
     "metadata": {},
     "output_type": "execute_result"
    }
   ],
   "source": [
    "spx_intra_files = np.array(os.listdir(intra_filepath + r'\\SPX_raw'))\n",
    "spx_intra_files"
   ]
  },
  {
   "cell_type": "markdown",
   "metadata": {},
   "source": [
    "#### Construct dataframe with SPX Bid/Ask for each timestamp "
   ]
  },
  {
   "cell_type": "code",
   "execution_count": 4,
   "metadata": {},
   "outputs": [
    {
     "name": "stdout",
     "output_type": "stream",
     "text": [
      "SPX with vols greeks hamilton 2015.csv\n",
      "SPX with vols greeks hamilton 201601 - 201603.csv\n",
      "SPX with vols greeks hamilton 201604 - 201612.csv\n"
     ]
    }
   ],
   "source": [
    "spx_intra = pd.DataFrame()\n",
    "\n",
    "for file in spx_intra_files:\n",
    "    print(file)\n",
    "    filename = os.path.join(intra_filepath, 'SPX_raw', file)\n",
    "    df = pd.read_csv(filename, parse_dates=['TIMESTAMP'],\\\n",
    "                    date_parser = lambda x: datetime.strptime(x,'%Y-%m-%d %H:%M:%S'),\\\n",
    "                    usecols = ['TIMESTAMP', 'UPRICE_BID', 'UPRICE_ASK'])\n",
    "    \n",
    "    spx_intra = pd.concat([spx_intra, df])"
   ]
  },
  {
   "cell_type": "code",
   "execution_count": 5,
   "metadata": {},
   "outputs": [
    {
     "data": {
      "text/html": [
       "<div>\n",
       "<style scoped>\n",
       "    .dataframe tbody tr th:only-of-type {\n",
       "        vertical-align: middle;\n",
       "    }\n",
       "\n",
       "    .dataframe tbody tr th {\n",
       "        vertical-align: top;\n",
       "    }\n",
       "\n",
       "    .dataframe thead th {\n",
       "        text-align: right;\n",
       "    }\n",
       "</style>\n",
       "<table border=\"1\" class=\"dataframe\">\n",
       "  <thead>\n",
       "    <tr style=\"text-align: right;\">\n",
       "      <th></th>\n",
       "      <th>TIMESTAMP</th>\n",
       "      <th>UPRICE_BID</th>\n",
       "      <th>UPRICE_ASK</th>\n",
       "    </tr>\n",
       "  </thead>\n",
       "  <tbody>\n",
       "    <tr>\n",
       "      <th>0</th>\n",
       "      <td>2015-01-02 09:30:00</td>\n",
       "      <td>0.00000</td>\n",
       "      <td>0.00000</td>\n",
       "    </tr>\n",
       "    <tr>\n",
       "      <th>1</th>\n",
       "      <td>2015-01-02 09:40:00</td>\n",
       "      <td>2072.14990</td>\n",
       "      <td>2072.14990</td>\n",
       "    </tr>\n",
       "    <tr>\n",
       "      <th>2</th>\n",
       "      <td>2015-01-02 09:50:00</td>\n",
       "      <td>2068.86011</td>\n",
       "      <td>2068.86011</td>\n",
       "    </tr>\n",
       "    <tr>\n",
       "      <th>3</th>\n",
       "      <td>2015-01-02 10:00:00</td>\n",
       "      <td>2068.50000</td>\n",
       "      <td>2068.50000</td>\n",
       "    </tr>\n",
       "    <tr>\n",
       "      <th>4</th>\n",
       "      <td>2015-01-02 10:10:00</td>\n",
       "      <td>2063.32007</td>\n",
       "      <td>2063.32007</td>\n",
       "    </tr>\n",
       "  </tbody>\n",
       "</table>\n",
       "</div>"
      ],
      "text/plain": [
       "            TIMESTAMP  UPRICE_BID  UPRICE_ASK\n",
       "0 2015-01-02 09:30:00     0.00000     0.00000\n",
       "1 2015-01-02 09:40:00  2072.14990  2072.14990\n",
       "2 2015-01-02 09:50:00  2068.86011  2068.86011\n",
       "3 2015-01-02 10:00:00  2068.50000  2068.50000\n",
       "4 2015-01-02 10:10:00  2063.32007  2063.32007"
      ]
     },
     "execution_count": 5,
     "metadata": {},
     "output_type": "execute_result"
    }
   ],
   "source": [
    "spx_intra.head()"
   ]
  },
  {
   "cell_type": "code",
   "execution_count": 6,
   "metadata": {},
   "outputs": [
    {
     "data": {
      "text/plain": [
       "24266720"
      ]
     },
     "execution_count": 6,
     "metadata": {},
     "output_type": "execute_result"
    }
   ],
   "source": [
    "len(spx_intra)"
   ]
  },
  {
   "cell_type": "code",
   "execution_count": 7,
   "metadata": {},
   "outputs": [],
   "source": [
    "spx_intra = spx_intra.drop_duplicates(subset=['TIMESTAMP'])"
   ]
  },
  {
   "cell_type": "code",
   "execution_count": 8,
   "metadata": {},
   "outputs": [
    {
     "data": {
      "text/plain": [
       "20160"
      ]
     },
     "execution_count": 8,
     "metadata": {},
     "output_type": "execute_result"
    }
   ],
   "source": [
    "len(spx_intra)"
   ]
  },
  {
   "cell_type": "code",
   "execution_count": 9,
   "metadata": {},
   "outputs": [
    {
     "data": {
      "text/html": [
       "<div>\n",
       "<style scoped>\n",
       "    .dataframe tbody tr th:only-of-type {\n",
       "        vertical-align: middle;\n",
       "    }\n",
       "\n",
       "    .dataframe tbody tr th {\n",
       "        vertical-align: top;\n",
       "    }\n",
       "\n",
       "    .dataframe thead th {\n",
       "        text-align: right;\n",
       "    }\n",
       "</style>\n",
       "<table border=\"1\" class=\"dataframe\">\n",
       "  <thead>\n",
       "    <tr style=\"text-align: right;\">\n",
       "      <th></th>\n",
       "      <th>TIMESTAMP</th>\n",
       "      <th>UPRICE_BID</th>\n",
       "      <th>UPRICE_ASK</th>\n",
       "    </tr>\n",
       "  </thead>\n",
       "  <tbody>\n",
       "    <tr>\n",
       "      <th>0</th>\n",
       "      <td>2015-01-02 09:30:00</td>\n",
       "      <td>0.00000</td>\n",
       "      <td>0.00000</td>\n",
       "    </tr>\n",
       "    <tr>\n",
       "      <th>1</th>\n",
       "      <td>2015-01-02 09:40:00</td>\n",
       "      <td>2072.14990</td>\n",
       "      <td>2072.14990</td>\n",
       "    </tr>\n",
       "    <tr>\n",
       "      <th>2</th>\n",
       "      <td>2015-01-02 09:50:00</td>\n",
       "      <td>2068.86011</td>\n",
       "      <td>2068.86011</td>\n",
       "    </tr>\n",
       "    <tr>\n",
       "      <th>3</th>\n",
       "      <td>2015-01-02 10:00:00</td>\n",
       "      <td>2068.50000</td>\n",
       "      <td>2068.50000</td>\n",
       "    </tr>\n",
       "    <tr>\n",
       "      <th>4</th>\n",
       "      <td>2015-01-02 10:10:00</td>\n",
       "      <td>2063.32007</td>\n",
       "      <td>2063.32007</td>\n",
       "    </tr>\n",
       "  </tbody>\n",
       "</table>\n",
       "</div>"
      ],
      "text/plain": [
       "            TIMESTAMP  UPRICE_BID  UPRICE_ASK\n",
       "0 2015-01-02 09:30:00     0.00000     0.00000\n",
       "1 2015-01-02 09:40:00  2072.14990  2072.14990\n",
       "2 2015-01-02 09:50:00  2068.86011  2068.86011\n",
       "3 2015-01-02 10:00:00  2068.50000  2068.50000\n",
       "4 2015-01-02 10:10:00  2063.32007  2063.32007"
      ]
     },
     "execution_count": 9,
     "metadata": {},
     "output_type": "execute_result"
    }
   ],
   "source": [
    "spx_intra.head()"
   ]
  },
  {
   "cell_type": "code",
   "execution_count": 10,
   "metadata": {},
   "outputs": [],
   "source": [
    "spx_intra.sort_values(by =['TIMESTAMP'], inplace = True)"
   ]
  },
  {
   "cell_type": "code",
   "execution_count": 11,
   "metadata": {},
   "outputs": [],
   "source": [
    "spx_intra['UPRICE_MID'] = (spx_intra['UPRICE_BID'] + spx_intra['UPRICE_ASK']) / 2"
   ]
  },
  {
   "cell_type": "code",
   "execution_count": 12,
   "metadata": {},
   "outputs": [
    {
     "data": {
      "text/html": [
       "<div>\n",
       "<style scoped>\n",
       "    .dataframe tbody tr th:only-of-type {\n",
       "        vertical-align: middle;\n",
       "    }\n",
       "\n",
       "    .dataframe tbody tr th {\n",
       "        vertical-align: top;\n",
       "    }\n",
       "\n",
       "    .dataframe thead th {\n",
       "        text-align: right;\n",
       "    }\n",
       "</style>\n",
       "<table border=\"1\" class=\"dataframe\">\n",
       "  <thead>\n",
       "    <tr style=\"text-align: right;\">\n",
       "      <th></th>\n",
       "      <th>TIMESTAMP</th>\n",
       "      <th>UPRICE_BID</th>\n",
       "      <th>UPRICE_ASK</th>\n",
       "      <th>UPRICE_MID</th>\n",
       "    </tr>\n",
       "  </thead>\n",
       "  <tbody>\n",
       "    <tr>\n",
       "      <th>10859315</th>\n",
       "      <td>2016-12-30 15:20:00</td>\n",
       "      <td>2237.84009</td>\n",
       "      <td>2237.84009</td>\n",
       "      <td>2237.84009</td>\n",
       "    </tr>\n",
       "    <tr>\n",
       "      <th>10859316</th>\n",
       "      <td>2016-12-30 15:30:00</td>\n",
       "      <td>2239.12012</td>\n",
       "      <td>2239.12012</td>\n",
       "      <td>2239.12012</td>\n",
       "    </tr>\n",
       "    <tr>\n",
       "      <th>10859317</th>\n",
       "      <td>2016-12-30 15:40:00</td>\n",
       "      <td>2238.12988</td>\n",
       "      <td>2238.12988</td>\n",
       "      <td>2238.12988</td>\n",
       "    </tr>\n",
       "    <tr>\n",
       "      <th>10859318</th>\n",
       "      <td>2016-12-30 15:50:00</td>\n",
       "      <td>2235.60010</td>\n",
       "      <td>2235.60010</td>\n",
       "      <td>2235.60010</td>\n",
       "    </tr>\n",
       "    <tr>\n",
       "      <th>10859319</th>\n",
       "      <td>2016-12-30 16:00:00</td>\n",
       "      <td>2239.61011</td>\n",
       "      <td>2239.61011</td>\n",
       "      <td>2239.61011</td>\n",
       "    </tr>\n",
       "  </tbody>\n",
       "</table>\n",
       "</div>"
      ],
      "text/plain": [
       "                   TIMESTAMP  UPRICE_BID  UPRICE_ASK  UPRICE_MID\n",
       "10859315 2016-12-30 15:20:00  2237.84009  2237.84009  2237.84009\n",
       "10859316 2016-12-30 15:30:00  2239.12012  2239.12012  2239.12012\n",
       "10859317 2016-12-30 15:40:00  2238.12988  2238.12988  2238.12988\n",
       "10859318 2016-12-30 15:50:00  2235.60010  2235.60010  2235.60010\n",
       "10859319 2016-12-30 16:00:00  2239.61011  2239.61011  2239.61011"
      ]
     },
     "execution_count": 12,
     "metadata": {},
     "output_type": "execute_result"
    }
   ],
   "source": [
    "spx_intra.tail()"
   ]
  },
  {
   "cell_type": "code",
   "execution_count": 13,
   "metadata": {},
   "outputs": [],
   "source": [
    "spx_intra.set_index('TIMESTAMP', inplace=True)"
   ]
  },
  {
   "cell_type": "code",
   "execution_count": 15,
   "metadata": {},
   "outputs": [
    {
     "data": {
      "text/html": [
       "<div>\n",
       "<style scoped>\n",
       "    .dataframe tbody tr th:only-of-type {\n",
       "        vertical-align: middle;\n",
       "    }\n",
       "\n",
       "    .dataframe tbody tr th {\n",
       "        vertical-align: top;\n",
       "    }\n",
       "\n",
       "    .dataframe thead th {\n",
       "        text-align: right;\n",
       "    }\n",
       "</style>\n",
       "<table border=\"1\" class=\"dataframe\">\n",
       "  <thead>\n",
       "    <tr style=\"text-align: right;\">\n",
       "      <th></th>\n",
       "      <th>UPRICE_BID</th>\n",
       "      <th>UPRICE_ASK</th>\n",
       "      <th>UPRICE_MID</th>\n",
       "    </tr>\n",
       "    <tr>\n",
       "      <th>TIMESTAMP</th>\n",
       "      <th></th>\n",
       "      <th></th>\n",
       "      <th></th>\n",
       "    </tr>\n",
       "  </thead>\n",
       "  <tbody>\n",
       "    <tr>\n",
       "      <th>2016-12-30 15:20:00</th>\n",
       "      <td>2237.84009</td>\n",
       "      <td>2237.84009</td>\n",
       "      <td>2237.84009</td>\n",
       "    </tr>\n",
       "    <tr>\n",
       "      <th>2016-12-30 15:30:00</th>\n",
       "      <td>2239.12012</td>\n",
       "      <td>2239.12012</td>\n",
       "      <td>2239.12012</td>\n",
       "    </tr>\n",
       "    <tr>\n",
       "      <th>2016-12-30 15:40:00</th>\n",
       "      <td>2238.12988</td>\n",
       "      <td>2238.12988</td>\n",
       "      <td>2238.12988</td>\n",
       "    </tr>\n",
       "    <tr>\n",
       "      <th>2016-12-30 15:50:00</th>\n",
       "      <td>2235.60010</td>\n",
       "      <td>2235.60010</td>\n",
       "      <td>2235.60010</td>\n",
       "    </tr>\n",
       "    <tr>\n",
       "      <th>2016-12-30 16:00:00</th>\n",
       "      <td>2239.61011</td>\n",
       "      <td>2239.61011</td>\n",
       "      <td>2239.61011</td>\n",
       "    </tr>\n",
       "  </tbody>\n",
       "</table>\n",
       "</div>"
      ],
      "text/plain": [
       "                     UPRICE_BID  UPRICE_ASK  UPRICE_MID\n",
       "TIMESTAMP                                              \n",
       "2016-12-30 15:20:00  2237.84009  2237.84009  2237.84009\n",
       "2016-12-30 15:30:00  2239.12012  2239.12012  2239.12012\n",
       "2016-12-30 15:40:00  2238.12988  2238.12988  2238.12988\n",
       "2016-12-30 15:50:00  2235.60010  2235.60010  2235.60010\n",
       "2016-12-30 16:00:00  2239.61011  2239.61011  2239.61011"
      ]
     },
     "execution_count": 15,
     "metadata": {},
     "output_type": "execute_result"
    }
   ],
   "source": [
    "spx_intra.tail()"
   ]
  },
  {
   "cell_type": "markdown",
   "metadata": {},
   "source": [
    "#### Save final intraday SPX Price Returns dataset to pickle "
   ]
  },
  {
   "cell_type": "code",
   "execution_count": 14,
   "metadata": {},
   "outputs": [],
   "source": [
    "spx_intra.to_pickle(intra_filepath + r'\\Pickle\\spx_returns.pkl')"
   ]
  },
  {
   "cell_type": "code",
   "execution_count": null,
   "metadata": {},
   "outputs": [],
   "source": []
  }
 ],
 "metadata": {
  "kernelspec": {
   "display_name": "Python 3",
   "language": "python",
   "name": "python3"
  },
  "language_info": {
   "codemirror_mode": {
    "name": "ipython",
    "version": 3
   },
   "file_extension": ".py",
   "mimetype": "text/x-python",
   "name": "python",
   "nbconvert_exporter": "python",
   "pygments_lexer": "ipython3",
   "version": "3.6.3"
  }
 },
 "nbformat": 4,
 "nbformat_minor": 2
}
